{
  "nbformat": 4,
  "nbformat_minor": 0,
  "metadata": {
    "colab": {
      "name": "Actividad1.ipynb",
      "provenance": [],
      "collapsed_sections": [],
      "toc_visible": true
    },
    "kernelspec": {
      "name": "python3",
      "display_name": "Python 3"
    },
    "language_info": {
      "name": "python"
    }
  },
  "cells": [
    {
      "cell_type": "code",
      "execution_count": 1,
      "metadata": {
        "id": "3PGdj0isnP-I"
      },
      "outputs": [],
      "source": [
        "import numpy as np"
      ]
    },
    {
      "cell_type": "markdown",
      "source": [
        "# Punto numero 3 de actividad 1 "
      ],
      "metadata": {
        "id": "gL7t1w88npTn"
      }
    },
    {
      "cell_type": "markdown",
      "source": [
        "### Generar una matriz cuadrada de 4x4"
      ],
      "metadata": {
        "id": "KmkZfH_Ln1vR"
      }
    },
    {
      "cell_type": "code",
      "source": [
        "matrix = np.array([[1,2,3,4],[9,8,7,6],[6,5,4,3],[1,3,7,9]])\n",
        "print(matrix)"
      ],
      "metadata": {
        "colab": {
          "base_uri": "https://localhost:8080/"
        },
        "id": "XzonW7AdnVCe",
        "outputId": "94115539-3ad6-4a2a-d30b-5a0f9cc53854"
      },
      "execution_count": 2,
      "outputs": [
        {
          "output_type": "stream",
          "name": "stdout",
          "text": [
            "[[1 2 3 4]\n",
            " [9 8 7 6]\n",
            " [6 5 4 3]\n",
            " [1 3 7 9]]\n"
          ]
        }
      ]
    },
    {
      "cell_type": "code",
      "source": [
        "matrix.shape"
      ],
      "metadata": {
        "colab": {
          "base_uri": "https://localhost:8080/"
        },
        "id": "HgjQAFlJoQqF",
        "outputId": "ec61ab52-8208-4a49-f3b6-0fd458312a0a"
      },
      "execution_count": 3,
      "outputs": [
        {
          "output_type": "execute_result",
          "data": {
            "text/plain": [
              "(4, 4)"
            ]
          },
          "metadata": {},
          "execution_count": 3
        }
      ]
    },
    {
      "cell_type": "markdown",
      "source": [
        "### Calcula su inversa y su traspuesta.\n"
      ],
      "metadata": {
        "id": "dTVx2o29pAHT"
      }
    },
    {
      "cell_type": "code",
      "source": [
        "# Tranpuesta \n",
        "matrixTranspuesta = np.transpose(matrix)\n",
        "print(matrixTranspuesta)"
      ],
      "metadata": {
        "colab": {
          "base_uri": "https://localhost:8080/"
        },
        "id": "Tv6WfYTcoZ1k",
        "outputId": "5f0aa03e-9659-4de6-80ef-de8fc16c2865"
      },
      "execution_count": 4,
      "outputs": [
        {
          "output_type": "stream",
          "name": "stdout",
          "text": [
            "[[1 9 6 1]\n",
            " [2 8 5 3]\n",
            " [3 7 4 7]\n",
            " [4 6 3 9]]\n"
          ]
        }
      ]
    },
    {
      "cell_type": "code",
      "source": [
        "# Determinante \n",
        "determinante = np.linalg.det(matrix)\n",
        "print(determinante)\n",
        "print(np.round(determinante))\n",
        "# Nuestra matriz NO tiene inversa por que el determinante es igual de cero"
      ],
      "metadata": {
        "colab": {
          "base_uri": "https://localhost:8080/"
        },
        "id": "sP2Vu5-_xd6W",
        "outputId": "55381038-30ce-4c10-cfaa-81f763c32440"
      },
      "execution_count": 5,
      "outputs": [
        {
          "output_type": "stream",
          "name": "stdout",
          "text": [
            "-2.6645352591003795e-14\n",
            "-0.0\n"
          ]
        }
      ]
    },
    {
      "cell_type": "code",
      "source": [
        "# Inversa \n",
        "#Cambiaremos de matrix a una que su determinate sea diferente de cero \n",
        "matrix2 = np.array([[1,2,3,4],[1,7,7,6],[6,5,4,3],[4,3,6,9]])\n",
        "print(matrix2)\n",
        "print(\"Su determinante es\",np.linalg.det(matrix2))\n",
        "inversa = np.linalg.inv(matrix2)\n",
        "print(\"Su inversa es\")\n",
        "print(inversa)\n",
        "print(\"Comprobamos el resultado\")\n",
        "print(np.round(np.dot(matrix2,inversa)))\n",
        "##Si todo es correcto da como resulta una matrix identidad \n"
      ],
      "metadata": {
        "colab": {
          "base_uri": "https://localhost:8080/"
        },
        "id": "Nyrf37xFp0TX",
        "outputId": "9ad5e621-9c05-4b39-8c0c-1c5551fc7ff6"
      },
      "execution_count": 6,
      "outputs": [
        {
          "output_type": "stream",
          "name": "stdout",
          "text": [
            "[[1 2 3 4]\n",
            " [1 7 7 6]\n",
            " [6 5 4 3]\n",
            " [4 3 6 9]]\n",
            "Su determinante es 27.999999999999947\n",
            "Su inversa es\n",
            "[[-0.64285714  0.          0.10714286  0.25      ]\n",
            " [ 5.57142857 -1.          0.57142857 -2.        ]\n",
            " [-9.64285714  2.         -0.89285714  3.25      ]\n",
            " [ 4.85714286 -1.          0.35714286 -1.5       ]]\n",
            "Comprobamos el resultado\n",
            "[[ 1.  0.  0.  0.]\n",
            " [-0.  1. -0.  0.]\n",
            " [ 0.  0.  1. -0.]\n",
            " [ 0.  0.  0.  1.]]\n"
          ]
        }
      ]
    },
    {
      "cell_type": "markdown",
      "source": [
        "Producto Escalar"
      ],
      "metadata": {
        "id": "TBu1RbBS6AOF"
      }
    },
    {
      "cell_type": "code",
      "source": [
        "print(matrix*10)"
      ],
      "metadata": {
        "colab": {
          "base_uri": "https://localhost:8080/"
        },
        "id": "lOKoLu6Psy4n",
        "outputId": "6910322c-716b-471d-b1d3-d37de4ecceea"
      },
      "execution_count": 7,
      "outputs": [
        {
          "output_type": "stream",
          "name": "stdout",
          "text": [
            "[[10 20 30 40]\n",
            " [90 80 70 60]\n",
            " [60 50 40 30]\n",
            " [10 30 70 90]]\n"
          ]
        }
      ]
    },
    {
      "cell_type": "markdown",
      "source": [
        "Producto interno(Producto punto)"
      ],
      "metadata": {
        "id": "tSkliYh8Ccz7"
      }
    },
    {
      "cell_type": "code",
      "source": [
        "matrixProductoInterno = np.array([[1,2],[3,4],[5,6],[7,8]])\n",
        "print(matrixProductoInterno)\n",
        "\n",
        "print(\"Dimension\",matrixProductoInterno.shape)"
      ],
      "metadata": {
        "colab": {
          "base_uri": "https://localhost:8080/"
        },
        "id": "66zYDhqNu3kQ",
        "outputId": "423f32a5-76b8-480b-81f4-4f84d64939b4"
      },
      "execution_count": 8,
      "outputs": [
        {
          "output_type": "stream",
          "name": "stdout",
          "text": [
            "[[1 2]\n",
            " [3 4]\n",
            " [5 6]\n",
            " [7 8]]\n",
            "Dimension (4, 2)\n"
          ]
        }
      ]
    },
    {
      "cell_type": "code",
      "source": [
        "productointerno = matrixProductoInterno**2\n",
        "print(\"El prodcuto interno es en forma de matriz es:\")\n",
        "print(matrixProductoInterno**2)\n",
        "resultado = matrixProductoInterno**2\n",
        "print(\"El producto interno realmente es \",resultado.sum())\n",
        "#Notacions matematica <A,B>\n",
        "#Regla debe tener las misma dimesiones \n"
      ],
      "metadata": {
        "colab": {
          "base_uri": "https://localhost:8080/"
        },
        "id": "i-4_Xy-BDBBp",
        "outputId": "b69d2dd4-2715-40ec-d4be-8ffbb7c46c92"
      },
      "execution_count": 9,
      "outputs": [
        {
          "output_type": "stream",
          "name": "stdout",
          "text": [
            "El prodcuto interno es en forma de matriz es:\n",
            "[[ 1  4]\n",
            " [ 9 16]\n",
            " [25 36]\n",
            " [49 64]]\n",
            "El producto interno realmente es  204\n"
          ]
        }
      ]
    },
    {
      "cell_type": "markdown",
      "source": [
        "## Nota \n",
        "*El producto punto tambien conocido como  producto interno* regresan un escalar, pero cuando nos encontramos en matrices y realizamos una multiplicacion de esas mismas A * B, se realiza el producto punto(producto interno) y regresa un escalar pero esta se va fila de la matriz A por columna de la matriz B y regresa una nueva matriz esto se le conoce como **producto matricial** (algunos autores tambien lo llaman producto punto matricial), cuando nos piden el producto interno de una matriz <A,A> o entre matriceses <A,B> se realiza la operacion del producto punto pero en ves de ir fila x columna se va columna x columna(a11b11+a21b21....n) y se suma sus resultados dando como resultado un escalar esto se le conoce **producto interno entre matrices**"
      ],
      "metadata": {
        "id": "VmPmGM7-pTXI"
      }
    },
    {
      "cell_type": "markdown",
      "source": [
        "### Ejemplos"
      ],
      "metadata": {
        "id": "Iy_ukfaz8J-X"
      }
    },
    {
      "cell_type": "code",
      "source": [
        "# Multipliacion de matrices(producto punto matricial)\n",
        "A = np.array([[1,8],[3,5]])\n",
        "B = np.array([[2,5],[6,1]])\n",
        "C = np.dot(A,B)\n",
        "print(C)"
      ],
      "metadata": {
        "colab": {
          "base_uri": "https://localhost:8080/"
        },
        "id": "cMhENz3UJ6a0",
        "outputId": "ef594323-9113-4de8-8f49-3765d637464b"
      },
      "execution_count": 10,
      "outputs": [
        {
          "output_type": "stream",
          "name": "stdout",
          "text": [
            "[[50 13]\n",
            " [36 20]]\n"
          ]
        }
      ]
    },
    {
      "cell_type": "code",
      "source": [
        "#Producto interno o producto punto\n",
        "Escalar = A*B\n",
        "print(A*B)\n",
        "print(\"Escalar\",Escalar.sum())"
      ],
      "metadata": {
        "colab": {
          "base_uri": "https://localhost:8080/"
        },
        "id": "6K21pDKaPkka",
        "outputId": "4355b57d-6a42-41a2-8273-ae3b18c0b6c3"
      },
      "execution_count": 11,
      "outputs": [
        {
          "output_type": "stream",
          "name": "stdout",
          "text": [
            "[[ 2 40]\n",
            " [18  5]]\n",
            "Escalar 65\n"
          ]
        }
      ]
    },
    {
      "cell_type": "markdown",
      "source": [
        "# Actividad 1 Punto 5"
      ],
      "metadata": {
        "id": "t-dzyLDsWjRd"
      }
    },
    {
      "cell_type": "markdown",
      "source": [
        "## Ejercicio 1\n",
        "\n",
        "Resuelve las siguiente ecuacion lineal"
      ],
      "metadata": {
        "id": "3hvwcecd1oR9"
      }
    },
    {
      "cell_type": "markdown",
      "source": [
        "![image.png](data:image/png;base64,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)"
      ],
      "metadata": {
        "id": "Sbi05y1JW_iR"
      }
    },
    {
      "cell_type": "code",
      "source": [
        "  matrizLineal = np.array([[1,2,5,-4],[5,8,1,1],[5,7,-3,2],[-1,3,9,-1]])\n",
        "  print(matrizLineal)"
      ],
      "metadata": {
        "colab": {
          "base_uri": "https://localhost:8080/"
        },
        "id": "Jl4t12kQWdaU",
        "outputId": "0142f6b6-d24e-4879-e92e-9a6667a31e8f"
      },
      "execution_count": 16,
      "outputs": [
        {
          "output_type": "stream",
          "name": "stdout",
          "text": [
            "[[ 1  2  5 -4]\n",
            " [ 5  8  1  1]\n",
            " [ 5  7 -3  2]\n",
            " [-1  3  9 -1]]\n"
          ]
        }
      ]
    },
    {
      "cell_type": "code",
      "source": [
        "matrizEscalares  = np.array([[21],[-8],[14],[5]])\n",
        "print(matrizEscalares)"
      ],
      "metadata": {
        "colab": {
          "base_uri": "https://localhost:8080/"
        },
        "id": "GnwbHqCMXuJD",
        "outputId": "794f5574-06f5-4310-f3f4-12f91077ca4d"
      },
      "execution_count": 17,
      "outputs": [
        {
          "output_type": "stream",
          "name": "stdout",
          "text": [
            "[[21]\n",
            " [-8]\n",
            " [14]\n",
            " [ 5]]\n"
          ]
        }
      ]
    },
    {
      "cell_type": "code",
      "source": [
        "matrixLinealInversa =  np.linalg.inv(matrizLineal)\n",
        "print(matrixLinealInversa)"
      ],
      "metadata": {
        "colab": {
          "base_uri": "https://localhost:8080/"
        },
        "id": "9fihIW_QbWWs",
        "outputId": "58be1d65-8f8d-4f22-fb95-252b1060ca51"
      },
      "execution_count": 19,
      "outputs": [
        {
          "output_type": "stream",
          "name": "stdout",
          "text": [
            "[[-0.30701754  2.21929825 -2.11403509 -0.78070175]\n",
            " [ 0.26315789 -1.47368421  1.52631579  0.52631579]\n",
            " [-0.16666667  0.83333333 -0.83333333 -0.16666667]\n",
            " [-0.40350877  0.85964912 -0.80701754 -0.14035088]]\n"
          ]
        }
      ]
    },
    {
      "cell_type": "code",
      "source": [
        "resultadoEjercicio1 = matrixLinealInversa.dot(matrizEscalares)\n",
        "print(resultadoEjercicio1)"
      ],
      "metadata": {
        "colab": {
          "base_uri": "https://localhost:8080/"
        },
        "id": "bfHBptRl0u5P",
        "outputId": "4abc395b-4b25-408a-8c8b-3a6066781387"
      },
      "execution_count": 21,
      "outputs": [
        {
          "output_type": "stream",
          "name": "stdout",
          "text": [
            "[[-57.70175439]\n",
            " [ 41.31578947]\n",
            " [-22.66666667]\n",
            " [-27.35087719]]\n"
          ]
        }
      ]
    },
    {
      "cell_type": "markdown",
      "source": [
        "# Ejercicio 2"
      ],
      "metadata": {
        "id": "FnCLQei24h-M"
      }
    },
    {
      "cell_type": "markdown",
      "source": [
        "![image.png](data:image/png;base64,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)"
      ],
      "metadata": {
        "id": "3aerEjSc4mmd"
      }
    },
    {
      "cell_type": "code",
      "source": [
        "ejercio2Matriz = np.array([[6,0,8],[2,2,1],[4,1,0]])\n",
        "print(ejercio2Matriz)"
      ],
      "metadata": {
        "colab": {
          "base_uri": "https://localhost:8080/"
        },
        "id": "25TK9Yhw1iIt",
        "outputId": "5a6d2b09-82ba-43fc-dc8b-98381e73636c"
      },
      "execution_count": 27,
      "outputs": [
        {
          "output_type": "stream",
          "name": "stdout",
          "text": [
            "[[6 0 8]\n",
            " [2 2 1]\n",
            " [4 1 0]]\n"
          ]
        }
      ]
    },
    {
      "cell_type": "code",
      "source": [
        "ejercio2Escalares = np.array([[9],[15],[-4]])\n",
        "print(ejercio2Escalares)"
      ],
      "metadata": {
        "colab": {
          "base_uri": "https://localhost:8080/"
        },
        "id": "ilm_Fpqg5HQq",
        "outputId": "2d2e3dbc-583b-4740-ae33-d9e647b4f948"
      },
      "execution_count": 28,
      "outputs": [
        {
          "output_type": "stream",
          "name": "stdout",
          "text": [
            "[[ 9]\n",
            " [15]\n",
            " [-4]]\n"
          ]
        }
      ]
    },
    {
      "cell_type": "code",
      "source": [
        "ejercio2MatrizInversa = np.linalg.inv(ejercio2Matriz)\n",
        "print(ejercio2MatrizInversa)"
      ],
      "metadata": {
        "colab": {
          "base_uri": "https://localhost:8080/"
        },
        "id": "bTci9IC968-i",
        "outputId": "c96da325-0ec2-4bf3-94ec-8666ba5015fc"
      },
      "execution_count": 29,
      "outputs": [
        {
          "output_type": "stream",
          "name": "stdout",
          "text": [
            "[[ 0.01851852 -0.14814815  0.2962963 ]\n",
            " [-0.07407407  0.59259259 -0.18518519]\n",
            " [ 0.11111111  0.11111111 -0.22222222]]\n"
          ]
        }
      ]
    },
    {
      "cell_type": "code",
      "source": [
        "solucionEjercio2 = ejercio2MatrizInversa.dot(ejercio2Escalares)\n",
        "print(solucionEjercio2)"
      ],
      "metadata": {
        "colab": {
          "base_uri": "https://localhost:8080/"
        },
        "id": "gWqqIY747MeH",
        "outputId": "da099cc8-0817-47a9-b699-23f9555458c6"
      },
      "execution_count": 31,
      "outputs": [
        {
          "output_type": "stream",
          "name": "stdout",
          "text": [
            "[[-3.24074074]\n",
            " [ 8.96296296]\n",
            " [ 3.55555556]]\n"
          ]
        }
      ]
    },
    {
      "cell_type": "code",
      "source": [
        "print(np.linalg.solve(ejercio2Matriz,ejercio2Escalares))\n"
      ],
      "metadata": {
        "colab": {
          "base_uri": "https://localhost:8080/"
        },
        "id": "WUwHmNoR7b0Y",
        "outputId": "8ea52f38-4142-4e44-a067-91daa23878b5"
      },
      "execution_count": 32,
      "outputs": [
        {
          "output_type": "stream",
          "name": "stdout",
          "text": [
            "[[-3.24074074]\n",
            " [ 8.96296296]\n",
            " [ 3.55555556]]\n"
          ]
        }
      ]
    },
    {
      "cell_type": "code",
      "source": [
        ""
      ],
      "metadata": {
        "id": "DWmzka7A7vH7"
      },
      "execution_count": null,
      "outputs": []
    }
  ]
}