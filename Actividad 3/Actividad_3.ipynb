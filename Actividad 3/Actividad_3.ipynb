{
  "nbformat": 4,
  "nbformat_minor": 0,
  "metadata": {
    "colab": {
      "name": "Actividad 3.ipynb",
      "provenance": []
    },
    "kernelspec": {
      "name": "python3",
      "display_name": "Python 3"
    },
    "language_info": {
      "name": "python"
    }
  },
  "cells": [
    {
      "cell_type": "code",
      "execution_count": 108,
      "metadata": {
        "id": "8YoSvXa5mEps"
      },
      "outputs": [],
      "source": [
        "import sympy as sym"
      ]
    },
    {
      "cell_type": "markdown",
      "source": [
        "#Punto 1"
      ],
      "metadata": {
        "id": "dnoHVLauFEHu"
      }
    },
    {
      "cell_type": "markdown",
      "source": [
        "![image.png](data:image/png;base64,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)"
      ],
      "metadata": {
        "id": "5j_b0dt8FQ3r"
      }
    },
    {
      "cell_type": "code",
      "source": [
        "#Declaramos los simbolos correspodientes \n",
        "X,y= sym.symbols('x y')"
      ],
      "metadata": {
        "id": "cIBthPSevx1J"
      },
      "execution_count": 109,
      "outputs": []
    },
    {
      "cell_type": "code",
      "source": [
        "sym.exp(5)"
      ],
      "metadata": {
        "colab": {
          "base_uri": "https://localhost:8080/",
          "height": 39
        },
        "id": "87162wiR-_jC",
        "outputId": "0331a322-0fb5-4a2d-ec7b-1dfc34af760e"
      },
      "execution_count": 110,
      "outputs": [
        {
          "output_type": "execute_result",
          "data": {
            "text/plain": [
              "exp(5)"
            ],
            "text/latex": "$\\displaystyle e^{5}$"
          },
          "metadata": {},
          "execution_count": 110
        }
      ]
    },
    {
      "cell_type": "code",
      "source": [
        "funcion1 = 3*X + 4*sym.exp(-(4*X))\n",
        "funcion1"
      ],
      "metadata": {
        "colab": {
          "base_uri": "https://localhost:8080/",
          "height": 39
        },
        "id": "-SMsAuEA_Erp",
        "outputId": "8fe13149-548d-4538-ee5c-5b4633eca88e"
      },
      "execution_count": 111,
      "outputs": [
        {
          "output_type": "execute_result",
          "data": {
            "text/plain": [
              "3*x + 4*exp(-4*x)"
            ],
            "text/latex": "$\\displaystyle 3 x + 4 e^{- 4 x}$"
          },
          "metadata": {},
          "execution_count": 111
        }
      ]
    },
    {
      "cell_type": "code",
      "source": [
        "funcion2 = 5*X**(3*X+1)-8*X**2-3*X\n",
        "funcion2"
      ],
      "metadata": {
        "colab": {
          "base_uri": "https://localhost:8080/",
          "height": 39
        },
        "id": "aoSp0_UFIbxu",
        "outputId": "1cc39dad-1a3e-460b-a96e-1538f7a5f388"
      },
      "execution_count": 112,
      "outputs": [
        {
          "output_type": "execute_result",
          "data": {
            "text/plain": [
              "-8*x**2 - 3*x + 5*x**(3*x + 1)"
            ],
            "text/latex": "$\\displaystyle - 8 x^{2} - 3 x + 5 x^{3 x + 1}$"
          },
          "metadata": {},
          "execution_count": 112
        }
      ]
    },
    {
      "cell_type": "code",
      "source": [
        "#Comprobacion https://www.youtube.com/watch?v=bEmCMdwXy5o&ab_channel=Matem%C3%A1ticasprofeAlex\n",
        "derivadaFuncion1 = sym.diff(funcion1)\n",
        "derivadaFuncion1"
      ],
      "metadata": {
        "colab": {
          "base_uri": "https://localhost:8080/",
          "height": 39
        },
        "id": "nlhYZ8csJImK",
        "outputId": "703d7902-988a-40dd-f9f3-0f7fe7072f92"
      },
      "execution_count": 113,
      "outputs": [
        {
          "output_type": "execute_result",
          "data": {
            "text/plain": [
              "3 - 16*exp(-4*x)"
            ],
            "text/latex": "$\\displaystyle 3 - 16 e^{- 4 x}$"
          },
          "metadata": {},
          "execution_count": 113
        }
      ]
    },
    {
      "cell_type": "code",
      "source": [
        "derivadaFuncion2 = sym.diff(funcion2)\n",
        "derivadaFuncion2"
      ],
      "metadata": {
        "colab": {
          "base_uri": "https://localhost:8080/",
          "height": 58
        },
        "id": "CmNwL-fZNHdI",
        "outputId": "582879ff-824e-433c-a1fc-6f0456af6a7a"
      },
      "execution_count": 114,
      "outputs": [
        {
          "output_type": "execute_result",
          "data": {
            "text/plain": [
              "-16*x + 5*x**(3*x + 1)*(3*log(x) + (3*x + 1)/x) - 3"
            ],
            "text/latex": "$\\displaystyle - 16 x + 5 x^{3 x + 1} \\left(3 \\log{\\left(x \\right)} + \\frac{3 x + 1}{x}\\right) - 3$"
          },
          "metadata": {},
          "execution_count": 114
        }
      ]
    },
    {
      "cell_type": "markdown",
      "source": [
        "Encontra la segunda derivada "
      ],
      "metadata": {
        "id": "mt86wLdbcVdR"
      }
    },
    {
      "cell_type": "code",
      "source": [
        "funcion3 = 4*X**4+6*X**2+sym.exp(-(4*X))\n",
        "funcion3"
      ],
      "metadata": {
        "colab": {
          "base_uri": "https://localhost:8080/",
          "height": 39
        },
        "id": "GLhXYAVUQmon",
        "outputId": "b97b18fa-9ad1-4e0c-a236-ed554880432a"
      },
      "execution_count": 115,
      "outputs": [
        {
          "output_type": "execute_result",
          "data": {
            "text/plain": [
              "4*x**4 + 6*x**2 + exp(-4*x)"
            ],
            "text/latex": "$\\displaystyle 4 x^{4} + 6 x^{2} + e^{- 4 x}$"
          },
          "metadata": {},
          "execution_count": 115
        }
      ]
    },
    {
      "cell_type": "code",
      "source": [
        "funcion4 = 1/(8*X +(2*X**3))\n",
        "funcion4"
      ],
      "metadata": {
        "colab": {
          "base_uri": "https://localhost:8080/",
          "height": 52
        },
        "id": "6d_BYqglR0AX",
        "outputId": "05b40143-eed4-4cdc-dfcd-9c6b0353953f"
      },
      "execution_count": 116,
      "outputs": [
        {
          "output_type": "execute_result",
          "data": {
            "text/plain": [
              "1/(2*x**3 + 8*x)"
            ],
            "text/latex": "$\\displaystyle \\frac{1}{2 x^{3} + 8 x}$"
          },
          "metadata": {},
          "execution_count": 116
        }
      ]
    },
    {
      "cell_type": "code",
      "source": [
        "derivadaFuncioon3 = sym.diff(funcion3,X,2)\n",
        "derivadaFuncioon3"
      ],
      "metadata": {
        "colab": {
          "base_uri": "https://localhost:8080/",
          "height": 39
        },
        "id": "Fo5IlBYxjsDV",
        "outputId": "1881462d-2695-492d-d8c4-591cbad8aca7"
      },
      "execution_count": 117,
      "outputs": [
        {
          "output_type": "execute_result",
          "data": {
            "text/plain": [
              "4*(12*x**2 + 3 + 4*exp(-4*x))"
            ],
            "text/latex": "$\\displaystyle 4 \\left(12 x^{2} + 3 + 4 e^{- 4 x}\\right)$"
          },
          "metadata": {},
          "execution_count": 117
        }
      ]
    },
    {
      "cell_type": "code",
      "source": [
        "derivadaFuncioon4 = sym.diff(funcion4,X,2)\n",
        "derivadaFuncioon4"
      ],
      "metadata": {
        "colab": {
          "base_uri": "https://localhost:8080/",
          "height": 74
        },
        "id": "3PiCZ4hQcj1A",
        "outputId": "154f438b-db03-47c7-8eb1-48249d5bd0ed"
      },
      "execution_count": 118,
      "outputs": [
        {
          "output_type": "execute_result",
          "data": {
            "text/plain": [
              "(-3 + (3*x**2 + 4)**2/(x**2*(x**2 + 4)))/(x*(x**2 + 4)**2)"
            ],
            "text/latex": "$\\displaystyle \\frac{-3 + \\frac{\\left(3 x^{2} + 4\\right)^{2}}{x^{2} \\left(x^{2} + 4\\right)}}{x \\left(x^{2} + 4\\right)^{2}}$"
          },
          "metadata": {},
          "execution_count": 118
        }
      ]
    },
    {
      "cell_type": "markdown",
      "source": [
        "#Punto 2"
      ],
      "metadata": {
        "id": "6dR5JsBX-3U8"
      }
    },
    {
      "cell_type": "markdown",
      "source": [
        "![image.png](data:image/png;base64,iVBORw0KGgoAAAANSUhEUgAAA7gAAAEECAYAAAACrph8AAAAAXNSR0IArs4c6QAAAARnQU1BAACxjwv8YQUAAAAJcEhZcwAAEnQAABJ0Ad5mH3gAAJjOSURBVHhe7d0PXFR1vj/+137dC3u50trq5g0e9YNylW2VsAAV0VTENNRCM8BcyDbwasO1y3TbhmqB7xaz2wqrQXUFS2ELNf+wgYSiKCmSARUia0Dm8K1lyg02f2EUfOM3v8+ZOcDMMANnhj8ivp6Px8Ccz5yZc87nfM6f9zmfz+f8yCCAiIiIiIiI6Br3v+T/RERERERERNc0BrhEREREREQ0JjDAJSIiIiIiojGBAS4RERERERGNCQxwiYiIiIiIaExggEtERERERERjAgNcIiIiIiIiGhMY4BIREREREdGYwACXiIiIiIiIxgQGuERERERERDQmMMAlIiIiIiKiMYEBLhEREREREY0JDHCJiIiIiIhoTGCAS0RERERERGMCA1wF6nNiMGuRBsWX5AS0Ij9+Dvy21cnDQlcjcqPuwbzflqBFThqtareJeb8rA7XyMA2t6yJ/LxVCddccqApa5QQiiY1941XUUqAe9dui4nmsyRDjqZHfcxwa29pOpGJecAx2nOuUU4YXj4tjjMJzsg6xXYUHi+1KLydc00bX/nf0qUO61XnLSO9nTLieRsIoCHA70XxyF9RRyzFLFDy/u0IRvmkL8huuyJ87ylSA+y048sl5eo083K9OdCop911iPPktEQ2C8URe6fY59plOvOdg1hP9nagp2O8RXUM6Otrkd0ROUHJO1l6BdFUF5mVqEe4hpw01+Xhm8Qpejujn8lD+Oc8arzbuZ8auqx7gthRpEJa4Hx2zNyDtlQxkbf1PzPu+EClRseIEdyQ3/iuofTMJ0a9bnyC6wDc2B+8f12LZZDnJFpfpeGz3uzj1xyWYJCcR0Vhibx8xMjpOvoC0o85e+FOmrSYPmkd38S4WXXWTlmpxqjwHj81wkVOIHDDQOVmXHvmJSWh+Kg0JfsNfxkLU4vzWeI6biITwu4HTGVDdH+Pkea4epVoNNIdZg2qwuJ8Zu67+HdyJK5BbfAiZm1cgeLY/AuevQEJ2NlReTch97cgIVvftwKdnSlDLizlEZNPV3EcswLKlQHHK/6C8XU4aBh2ffYDiGu4EiWiMG+eB8K1HkblyuG7dWvL8lTi/lc9xo9UpyD2UjWjpPPfPBWiWx1Hunzi7rwxtvAFMZNdVD3AnzV4AX3d5oNu4qQi8R/w/3YQx0SyCiGhQPBC1+RkE4wDU2ypEqE1ERNcst+mIWOcPnDuHel5TJBpyo7uTKbeRqTJg6uRjOVJOi4Gc2J52Et1tAJV1AmLdaFweNm93Yf5alQedPCbaGlG8TYPIZfeYPlsUBXV2NVq65M+NzH5fjJ+vjcXiYOm3QhGuzrN9V0n+3fBFpmnOi0nC3nNX8L38cR+XqpH7XHzP+NJ8xD2Xh0qFtWCMbQXjC23cde/bsN+8w5SWM7ugXhVqnOasZbHQHnbsskbLmTxoNkVhnjTP0nKu0mBHjVyVs5/21jbXa1crKnOSECfPj7GtjLYQOlt3zRzM344LJUhXd8+ntN4yUHzB6hJsd77oxXxkq03rWM7TnvntuoL6gi2IlsuLtLy5Yrq2tDVI04yRy4qUvzEiQCqxvTx2GPP3UbmNvMgPlQiwmvu5ctxSZTm+1NZIaRmyy6H1aLattDeZraN7sPjRJORW9c5Mx5ktxvnU2Kz6q8feGPG935bg/wywjzCymJZpvaQfbrIKRru3Bb3Ip11QGdehwo6DJi+B5qkgYF8aXq5y4NK9ku1azt/FyRViIA/R0njSy7xNr7xtdJc7aVvV5Fjvp8wMkPfmHCqnUvk/nGHWb4P47ShbeW2HXiyrmM6sR3eh3s52oLRcDHReOizbgjVF62Xojh+VfTpjsrF/72a2nzdnuc+WysYW5NvbF1pvG4q2s34Mx37bJuX7IZOB9w2ObSfW5UKN9JN6NBv3ZZa/27MPFfMplQ3jsppt+0rWV+/xSTp2dS9rqDh+lqBZKosW6eI3nthlc1uwXkbj8dzOfsPWvk39ep28XZrlvxXF+TiE5ym2uP5YOse9gs7OTlS+KK2nJJTa2hY/32/cJ6sPX5H7ZIhFrkguT15unB+b20mf7dx2fvc555HG3WSrfDqxD1FgoLKndPtzqNyYs97PyMdCU170fYXnNMkjDmKa9livC3vnn7bGe05sZ/LHZDI6A9yuRlQeFRv/yrsxTU4aTu7+65H1Sgqi7xADofGmdhLiFe5l+tw57giMk9tc9LzSoAmbKAL3ICRlroW3cTyx00iMQfIZF9y3Oc04nnbNeJS/Go/YrLq+B+2vTyA97gXUTlmP1C0ZyNQsBE5kIFq137Jwt4uDZUwMNG9fwbwn5N9dPQmlm8WO+V15HDMdNdsRuToeL1/4GcKfMs1v5hPiZPp0BuLuFxv/sNxK74RujxqRYk+9+CmtmGYKfn1zI/YmRkF7RskJRKfY2Udh8abt0E1YgUQ5nxPvd8FXXzp3j6s2cznicv4Jn0dSTHmwOQht+1IRmWjVwY/D+ZuByIeScArd8/nfCPuuAJqHYrCjQR6phzjYZSajdFoijpW/J/a/K8zaELXhWObjSK71QlySmO5WEQSjTMzLf2Hv5/IosuYiDe6LSkL+d/54PNWUN8mRXmjel4TwddIBRR6xH9LJUJiUv/++FsnSfG/5TwReEmVls9kFGjPG8TdsR/Ov5Db1qY/g9gvbRRkSB+7L8kgj5Qed2LZUyEcQ1NLyb30S90l5tUHV0+7JNWAlYj2A4hPVfYMVcfDKPeeCiPAF+PeB9hFSeVgXBY1Y993bT+KyK2L6UYh8vVEeqVfnme1IPDEVyYfeRc2HaQjvr32/Gc8wNZ6eq0duynZUKlh/irfrG+9GnPhM+/BUMbAACfLyZYXJCyi1V1OvQly2Hn4bpW01A2mPekOXHY+w58r65p2CvO/mUDkV81GcGC62xwK0dffb8MoziPYWQaeU1+LEqN8tv7UCWlUqqm55BNmZj8DHTU63orRcWFc+Mjci24Kj62WYjh8OEfvCxZt2onXaWmilfNkaj3mXDyDlEfMnFdjh4HbWx7Dut+1wYFuQ2Ns3OLqdmMpFEzwjnzGOm7H5bnz1agxUu3pP0C3psfvF7ehc9Wec+lAcdzZPNyU7tL6k49PT2IGF0Ih51G70gU7MX1xmBcozVdA2323Kg9S18KgW20LsLtSbX4gRwYUm6gVUut4LtSif0j43YkIFMkVeZVr1cmvs/XiZ5b4t66kVcLmk73cf4PhxcbDnKfZcQdXpCsBjBrwnuiBw+Xp4ogTHzvS9qFZ/dDdq3VYjYtF4eIdJ8xyPEJHu87DpPCXrlfUIvNE0rpHN7Vzkd8J+6MzzW2wPmetM5WTi/f9t+i2pHxxUiPK5ynixpQ+l+xCH2C57irc/B8rNgORjoSlf5VeGGsvEqbvr/ESRX/IxcSinKVN2/nkFpc+JdSbGC4wz7fMzn7oXN1TrRDRBFgyjTofh7NZIw51zEwwHm+Ukh5wzpM2cbbhz6zl52IYvCwyPi3HSPpKHjVoMB1W2v/fV2wmGO2e+ZDgrD9se1/73e+j2GX49c77h8bfNF6zFcOyt04avfpAHjToMp5LEb4lpvt+TLv/+zEgx3x1ymsnF3Y+J9FWG7Ho5wZiHq2znYcsRw9NzTb/dszwdIs/CZhsCNxcY/m4xH8K34rNwMf5TRwzfyEn2nN0qxlMVGL6Sh3uZ1snjb7fIw8JHL4l5sDHNb08bUqX505wYcHrflPzOENgnP63YXNcmfderWIZD+wwXv5UHZBffiBbjqczy0rn8vW9LleF7Ocnoh2bTOjVfVjlf7stqkBN6meZ3tuEBUcYsfsdYrsR3XjP7jrzcfcaVNIvPxDzamoaFfn7j4yyxjYrPLNapPP7jB6wy5dsq0/Kbz19/5DywWGcOrcfubWWVIa3Sclsx/KAz7IkWn4XtNHwsJ/39LWn7edrwztdyguzjLLGOpfGst8E+27hcHsLE9mpVdv5+QJq33xmO9axgef9k8bv9M25X5ssnrT/xGw+8Yr5e5N81nzcntmtb24TElN63vH9f+ZLhPot9j4K8D3/TcFFOcrScmuaj7z5Q8nfxWaA0L3+TEwSL5ele5nAxbLWebFFeLmxwYFuwl+d9GLcLsQ6+lIcFx9fLII8f8jqxnF9T2bPYF3SzMc+G2iOGPZ9Yrb9P3jREiN+INc+vPt91ZDuzZRj32zY5th/qd98wVNtJ9zZgsxzNNiQUt8kpZhSur+7f+PVunZwikfNcpFvvh74pflqkm5c74csThj3lVuVInBMki+/fKdZDj69PGNeXzX1bDxv7awfzsftYNJjzFFvHs+9bdIZ3tkQbz1+eLunO82ZTmbA+1/qhwZAtlUOL47W9bW6ItnPjZ9Ix3nz/58hvK2e37Dmy/SktN7byzdY+yopx+azzSfE0bbFRNgVF559iXyWVYYt9paS/49F1anTdwe1qRfmLMYje54LHhrPb9qtBunKckIaGNVqkWXRqMBEha4IwaZw8aOQCn7uCxP8mNFvX9w1YiwirHv+8Z86FJ/T45hs5oasWx3L08IzZ0DcPJy5BeLj8XtZRdRi5eg/Exq2Ap8V8CG7TEf2ImJejR1A+DJeHIh62mqabLwLni/+tbeheHNtacaygBB2hz0A7hJ1E+IY9CG+ruzrev/IXf6uh+4dp2Ln8nYro1f5wldOMxnkgcKH47cPn+twNDfGT7qTZ4o/oNdMtf8fLF/PFfDR/3ZtjuhP7UY4FiIuxGlfisQJxa1zQnHOi32r3zadL7P6GT9haBMrvu5mmuRqRy60yxc0fwQvF733UMIKdxgl3RCE8wKqZwzgv3LduCaD/AB/LF6c9569EMMosr5x31eEdsY59Y5bAx3qbsNZZjSIxrs+6FQi0KjuesxeIfCrB2U/lhG4Lpw/8u/aI9ad5Ngi67BeQ3c+V4qHbrptQ+lYFsGY17rNata53zUGI2PfUNFj9SH953/QeauS8d6ycyvMRuh6xNno99Qxbjwg3PbLf7VslUaoiujfxceRiLbJy4uFr586tucGUi5HZFpxYL4qOH404ts/O/k2sk2ir/ZvDZixBxBSr9TdF7PfFv8rP/2katsWZ7czcCOy3bVK4H+phY9/g2HbSilNH7Wwn3e0+bRJl03e8/N6MQ+vLH+Hzzau+uWCa/xzjuwfW3GuxH3L3DRK/ocenn5ltX5MXIGLuRHlA5jYNvnPF/6YveraZlpOFKG5fgORkG/u2fjh7XHT+PKVX7qO91VxnhUZBkw/cl7ob2tDuPPdAyGppn3wC5eY1PM4dQbZe7K+X2jsnsMHWdj77XvhI2/l3coK8PdncHqSnh0SuNe7/ik47sQ9xWN+y59D2p7DcOEO6i5zwYiMi/mgVkwzDNBWdf7r/DJ5inLMnPzBV/e/mwHZwvRg9Ae7nJUhZtwrqj4KQeSAHKhsnMNeuTtSKk1Hp5Cp7c1DfHWvXFejOFCL31QxoNsUgMmo5woxt4Wy4w1vsSKxMmGis7nzxC3lH1PIFLop/wXfYrmP9kx/Lb2RtrV+Iv3PgM8U0bG3SrdLvVONTG7VVBicI3rfKb3uMx8+lKllVTQNUt/gCutMi0Jo5td9qgg7r6kTz+RLsfXU7tGqxLtZFYd6jefKHMqfytxHaVb0HuO5X2PPV4rMmfGpR1csf3n1WcrepuL3PwWgiJkoFwGyn2napUZSVu+EzQU6w4uEtdprtjWjuJ5NbPxfzZu83xM7Uegs1ThMHoJrddznj3hQfjXSncTO95GYAltx/LlX4NjtgTF6IsFCgtOhET/5JB9e97UHiZK1PZvf1dauxalb9i1F9lttveSoqxWcXP7PM6EBvBb/bD8/746GZ0YQdSXmWVfzMDN12fUVsE+LfPrXc5tXsFRBvagumk6ZlRmHeO1ZOTfNhd5sfd7M40RLrrkFvdXLRhKzEGGgvLIA2Mx6BSncYgygXI7MtOLFeFB0/dLjYrnz/5owOfSOK921HplYj9rExCF9kalPYLye2MwvDvt+2Q+l+SGZr3+DYdtL/sdHU7tOWqfC001RC+frqe3xy/TfTGY/rv1lNVz6GtH1nVaH4chMqC/KQmZaEODGtyGWrTH0fmNHrxPlRP/lhj3PHxcGcp/TqeUyQ9Hp9N069m4OkpZaZNWn+vQiRgsqT3b/aicqS/eiYuxIht8hJSky9ue92/q+uxqZOPduIvD3Z2x4w2Ru3iX9VnzmxD3FY37Ln8PanoNw4rL0OL/9vcf4X8zIS5trYboZ6mkrOP138EZ20At7VqQi7R+oTpRC1+sFUlR+7RkWA21a1XQR1L+DT+WkoeiMewXZ2ssq44AZpn/GD3a6UxP6/CeXy25HQdvQFxOYAj6Vs6HvnQF8CdWgowhPzcPayCzwXPoyEzclIjZWu2gyOq4u9A9nYccNQLqOxPUoowuJeQpHYYbj7PgiVSo2XNSvkESw5lr8LkJBhdoCzeFm1n5EO+6Plapw4OXEoh6esNrXTsvkSO2V5tBHx45/Ib2zxwA3/Kr8VJyuLwlfD9XQBSo3tmDtRdeIAOkLvxWIH9kUhcht6W684f8tTTZcf97nM5ZhxXohIUcO3aTs0OVIwNfy8I7vbe9l4dbfV7aY470fCRPj5ToWrOEmv/JsjYeUgy8UIbQsOrRcHDM/xoxO1r8Zg/vJYpBXr0TlhBiLi4qFJV0PpjWFHtjNbhm+/bYeD28Kg9w0yZ46NP+lz3Bn8+nKE1D52ntRR1K5zaHPzQMi6eCQkpeCxAHkEc44em66ynscESS8/L7jbOsZPWICISBeUHzhhas/aWY3SPZ0ICVto+1m+9vRb5kanvmVPomz7c6jcKHYFpc9LtX4eQcrGvnf8h3yaDpx/eoYmYs/xA8javAA4vAXRy0MR+eoA/U9ch65+gNuwC9EbyvDLpN3I3ehvVVXXGR7w9hX/TtTZvbPR/IlUAWUJ7rzdNDys9IXQpJQg4Nk0qGw8SLp23wsodVuLrEO7kabZANWaJcYdoM9ggnw3d+OV28pPbXUm0YlvrDpRcJ94s/j7HuovmIattXwm/c4C/FLJudJH+r53Ji7pjFfOh5bpQkZldWPfjlRsuGjjVqVeJ10F7NVybCd2NPgj6a1DyP19PFQxpmcz+3pZnTQ5mL+u/ypVvdHD1dPsAGfxmg7PIT5Su0+eCpz/APV2OrMxLruxcws5wQYXd5HBVQ3Q2bo4+F1Hnyo4xvFFGXK/y9YySi9xUJfH7U/Ht9Ju2h/eN5mGzSlZjz0u6PrMo0RXL40/HeY3SkydCtWh6IwovZfLkL9v4E6EesjlodnVw8Yym16+HsNwKub1IBJVXtBl/gl7m/pe0Bu67dq0rem6xuNOG8tmfE2xqtqoMO8dK6fj4XkHUP+RnW2+6wvoPhIHf18vq5NBdwQ++jKyY4D836qRXmWrZ2TbnC0XQ7Ut9M+J9aKEHGAp3b91q2q2utMjmMqYmUtHkJXdKI6Hu3Hs9RQkbFyL8PliPmcoyI/BbmdXa7/twH7IHkf35y5uYjkbbPcs3dZua27sGMz6clRXHfZqy3DDwxk4dlALzcYNiFgq5fPUPncMTcemaocfrzMUx8XhJXc2de4Iyj8X6+p4IfbKnUsNuRsnGvO1/Lyt7UGQz9sWTXH+ItlgKN7+HCg3jmguSELiYXE+mLkBvtbb+TBMU/H5ZzcXsR9c8yQyDxVhj9of9dmP42UbT5m4nl3lAPcKil/fDt3KeDwdqmAvr8h4BC5cAlf9dmQetHG1XgSc2m11cF260HZVNZ119bZBkHoy1Kaiyj8RmvttLV8rmqXowdPLWKe+R1cTyt+WDn5Ocp+BwLniRPCNwr49rV7Yj6x98nuZa8ACU9u1rELLOv2S9jrk7qqwn19mjAeP9mp8bLW/1J0oGIY75lMRsm46cHg7sm30RNlD3olX1TZYHuzbK1C0z/J7+mYpz8W6sLi40InyY/vl9zIH89c9YC5C0IjcA9UjdoXNe+4K+KIMWTk2ruqJbSBLLLv3qiD4yEm2+Ny1AK44gD2HrLajriso352Benmwm8/sFSKvbYzvkE5UnSwUJxl345fmm4wD67HH6QK8Yx3cifH3ZDb2Lc/jpiJYbKO1b1eg/OQRlHqs79turpv1PsLdH/ND7ZSHYeYTkwKVVx20ae8BVleOnd+um6yq6JnyBvsO4B2lq1Zh3jtWTr3EfIht/uhOm9t8c9FO7G33QvhcsR/qwwW+qjRoQ1uQuyHWZu+1NjlSLswMzbYwECfWixITp2PeDOX7t+4LDx1n6i17aBXHsdIDVk1t/qFHlfh32y2Wx8OOM2XYK7+3a7Db2dXabzuyH7LDse1kKgJXijJqq1y0maar2GDWl6Mu641V4z1FxG9xt6ypAvnSTJjxWRQl8qMEma87dtdqKI6Lw25aEMI96pB/ugLHisrgGbMSgXZ2ObYuKinm4o+QSKnN8XYbT8noRO2ePJS7LcHigGEIrhVQvP05UG4Uk+KE5GoEJKtttE8WhmGais8/pX2s+X523Hj4LJT6IOjEV18pv3h7Pbi6AW5XPT4+KnZW7ldw9kw1Km28euqWXyqBKvgeRGYPvENzX7QByaHjUa5djXmbtiBzXwkqxUlzbloSIh9KRflNK5C62foq/ETcLnWkcFKcPBWIaZ/cheJz8kdOETuILDVSTnvhgdCb0VxltWznpK7sJ8J3rjhhq9oCTVohyqX0k/uRsi4JNZ6DqaI8EffFPQJvfR7i1mmQe9g0zeIcsfzPtcJvpTxaN7GjS8hcC4+TqVglpt09fnlBBuKWS21t1iL72YHvWngvfBjBbuJk+9F47DD+htjY02IRrZs2LNWZvNekIGm+HrmPhiFum5x/0jRfTYL2sHyGLpYtLNYLHfs0iHl+v2mcw3lQr9sJhFnm8bSZK8TOKg/ap/JQbPytEuzYtApFbVKHX+YczN8JS5CQHISWN+OxeFMG8k+axjeWSa0amiJn263045YHxQ46CPqcWItpGudRbAPSRZfMGFuBgBm/tUie74Ly56MQ3VM+C5EeH4k9bg8aOxmxcMdaaGO8jONHJnbnoXgd3o/052Kxw+7VxVaUvy4OsocLkZkYC7U40YzQrLU8yXBgPfaYewMq42KQsq9Cno9dojyrxYlZEJ5W9S3PPkvFSdP5A0gTgZ/tToTs7SPGY9nmRARfFuVheTzSC+TpSWUxZwtU1o+YGkoiAPt1iiiLp/OQa31gdWK7ltrluqICWa+JIEDM/44iU4dN0uMoor0qkPJQDDQ5Yn9qXD5RnvZlQBOzq29nZUrz3sFy6rnK1jZfgtzEGKwynpCk4TF7z5Yb54FlqTny92MUB7kDlwsbnN4WHOPwelHEAw886cD+TZyUhUQFwfVcGqLjxTYhzYO0n4iNxUUfq+p10+7GA24Q+z2z35UeaVTUhmB5FPsGu51dpf22g/shmxzaTlwQGPOMOBZL5SK2J5+M2/1DB+Aa7sC5xaDWl4PkCyuV6Um98yw9IkVzDp7W1T69bOdHecF2aLT9lIOhOC4ON7FPXxYzHfVvZSD3tL3OpW4WwTrQ8eZO7JCWoWA/SpW0B7cgyonqZUTfZLX/kLbdTWGIzgGiM59BiIPtnE2uoDRxDvy0FQ5dgLCgdPtzpNwo0VmHTJWIE6asQNhNetM0zV7GmGSopykoPv9sKYRK7D96939ivOdfQqXbaoTNvToXI0YtuTflq0Pusl3qItzeq6c77y+PGB6fO98QkWWje3dbfmgzfFz8kiEhMswQKP9WcLjK8PSu04aL9vp1/7bBkLNZHn/hY4Y9n5iSTd2Ymz8WwVYX31Zpn7xpeECers1X9+N0fmgxvJ/1tOGBhab04OjfGfbUthkfeWHZdbntbsWNuh9JYdVl/PefHDGkJUQagqXpzQ0z/PrZNw3vi1H6PHZE9v1npw3ZCdGGEOPjEmYbApc+Zsyvvyt4pEa37z8pMKSul/NQTPPxrCrDVz841jW7vfmzScq/Xb8zxIYvNs6zNM2IhJcMx3Rm3dj3yeM/GQ5+0mFjvXYYLr79J8Ovl843jhe4NMGQ9m6zzW7+JY7m71fvvWl4ujtvpPkIjzYkbC0wnDVfbf3kS9/57SaXDRuPaPqqdp8hdaM8j8ZpPm1Ie/uc1WOp+iHnb3eeGL9frDN8b6fM9Wx33etj5nxDSKRpu7NfjloM7zzV+/vZlVa/2U3xejTbVkSZTuveps3WkW1tYj6k3xbb/mdykjU7+wijL6sMOc8+1rP93Lkw0lgWD9aaT9De4x3sG3h76DCcfcX02CZb+wfHtusOw8e7EuRxF1s+8uObBsM7W3vz37itbfydIUdsI737ZOfy3qFyKsrB2bf+1LvNi/l8oE8+m9jcZr49Z8iIFOVtbrQhw8bjhvpSUC5sUbgt2N+urdjbNzi6XqwNyfGj777TuB3bmOc+x4itIj/kY4TF/NlbXkXbmX3Dst+2ydFtYeB9g0PbSYt5Ppm2kXd69peW+dpfGVS6vuz+hp3jp81yJ+Y5u3vdSPufZ/cZzn4jPxbG1vFNWjc9+SFtXyI/SsTxyfip/TKvOB/7OR4rPk+xt/z9+fqIIUGat+h9hr/LSX00nzCkRpv2LYFL/2Q4ZTyvdXw7N3zbbDgljqsR8rbbXT5PfWa9b3Tgt6XyIcpd7yOQ7Bto/6do+1NcbmxsY1br+OIu+Vhq59XzXQfLqiVbeanw/LOjwbDnWVXv/l7s/2JTxbStVisZDD+S/sixLhHRGNCK/PjlSJmS3fPAeGWuoPi3odAgBaf+uETZnRW6DrBcmKtMm4O4/EeQW74BUncXw6YmA36PNiGpOA3hg+mT4qpxdj80vJoPxiPseRdoj6Zh2VVra0r9ulwC9aIkIPUo0pZeg3flmvYjctU5xL6bghAeSOkqGT2PCSIiupo+P4zdRx3oXIquDywXvboaUXtC/J8/bdh7RDd1UDUeN1g/eYAG4Qpq37/aHSnRQJqP7kPpcHUuNQLaPjmH+rn+uJMHUrqKGOASEQn1h3ej1kNZJ0J0/WC56NVctB3ZehcsW+g/zMH+FVSdrgB4kjykOmp2Iusorn5HSmRfVyOKc+r67VxqtPu4tgTBoUGOPdqIaIixijIRjTEOVA28VIa974/HDZdykPqqHuHbdyOBgQxd5+Wi5XAStB95IHDm3fCWOpnp/MLYQdZfDjfCY6UW2ckLhuHktQ65z9fjtsUeaD62HekHO/HrnBybj9e7NlzFKsrndiH6rTYsDrgbPjdJ+fdP6E4UInNfNTr94pHzP2vhw93cqNJyYj9O/esNaM39EzI/W4mst+IRyNoLRE7jHVwiun79uBOnkuOh2f097vtjBoNbMrnOy4W791xMaqnAnhfjEbdJvJ54CaWXvfD41t3IfW44glvJeLh+sh2qTWpkfuiB2O2Z13Bwe5XdNBWBaMQ7r2pM62/TC8iuHY/w5GwUZTO4HZXa30PKpiTkfHsv0rIY3BINFu/gEhERERER0ZjAO7hEREREREQ0JjDAJSIiIiIiojGBAS4RERERERGNCQxwiYiIiIiIaExggEtERERERERjAgNcIiIiIiIiGhMY4BIREREREdGYwACXiIiIiIiIxgQGuERERERERDQmXJcBbn1ODGYt0qD4kpwwzEZ6ejQyuF6JiIiIiEaX6zDA7URnp/x2RIz09GhkcL0SEREREY02PzII8nsaA9pq8pD6UieiXn8EvnIaERERERHR9YBtcMeYjs8+QHFNmzxERERERER0/WCAS0RERERERGPCmAxwOy6UIF0dg8XBc+B31xzMW6XBjpor8qdAS4FapGegVh7u1tYgfS8K88R3/O4KRfRz+1HbVo10aXhbnTyWcKkQKpGWXiMPm7H12/amZ5rP3umFqzNQfMGqYWdNhvhMjfxL4nfO7IJ6VagYnoNZy2KhPayXRxLkeVqcXCEG8hBt/E2r+e5qRWVOEqKX3dPzG5qcarR0yZ93a61G7nPxCF9k+g3jeObT6s8ly+/6LYpC3HN5qGyVP+9RZ8xXVYH4wDi9WHl92ckHiaL5b0V+vGm5Oy4UQhtjyq+eddXWiOJtGkTKvyHNnzrbRh5IrMcNXi7KRAma5Y/trdfu+YyT15VxmTYlIbfKOhPM8kDk247usiBNRyumY2ue2puM89Sdv1LZTj/chA754279bgOXSqAKvgeR2SKPTClERERERGPC2AtwG3Yh8qEXUHnjCiRvyUDWKymI/VULPv6s/1P5DhFIRkclIf+7ICRsNX0vfNK7eDwmDafkcYaSNL3Ih5LEb69A4ivS9P4bYd8VQPNQDHY0yCP16IRujxqRucDip7TGefv1zY3YmxgF7Rk5ELzxbsSJ39E+PFUMLECC8TfFK8zL9HmXHvnqVYjL1sNvo/QbGUh71Bu67HiEPVeGnkrNl8uguT8e2a3i91Kl30jD00tvQJXun/II9nXUbEfk6ni8fOFnCH/KNP3MJ4KA0xmIu18E6bZi5LYKpKsy8PGUNUiV1lfqetymy4PmEY3l+Ernv5t+H/6Q3YHwzKOo+fA9JPhJiSL4TYxB8hkX3Lc5zfgb2jXjUf5qPGKzrII9fSFUy2KgefsKAuXpZaVugF+bXvxKP9rrkLlOms8mTLz/v03f2/qfmAexnBtWiWC2byZ0fpIH1SM5QKgaadI8PXwzGvYlYVVateU8id9OXxcFzbvoyd/EZVfEMkUh8vVGeSTByW2AiIiIiOiaJ3UyNZacfWW+4c6ZLxne/0FO6GY2/NXbCcZxzsrDho5zhrSw2YbAzQWGv1t97+9i3MCZsw13bj0npwhfFhgeF2lpH8nDZvr8tmBvevdtqTJ8LycZ/dBsOKgS09KcMHwjJxk+ekl818a8fXvakDrXalzB1vQlpvQEw8FmOUH2feVLhvtmrjJk15uGvzokjafqM555/tnUTx4avhWfhYt5feqI2byKNClfbcyTrWVTOv8GQ4spD2c+bXjnazmpR4vh2FunDV9ZzF+H4VSSNL5ZmfmhwZAtzW+4yMdv5TQb+uZ1h+Hs1lWGO+faWCbjZ5FW8yXnQZ/xxTylSuX4d4ZjPRkm/3aYmE+refr7AWk+esdVsg0QEREREY1FY+4O7sRJ0h3MCpR/2Fsl2Wic/N+W8yewV++B2LgV8LQazzMsChHy+6HSUXUYufqpiF7tD1c5zWicBwIX+gOHz0EnJ3WLeNhq3tx8EThf/G9twzemlH40ofStCmDNatznISfJXO+agxDoUdNgui/pPvFmMU+1KD1jdaexv/wTTMtkOw/hNh3RjwQBR4+g3Pr2p415glsQwh8ViSIfPjZW01U+/z0CguA7QX7fYyJC1gRhksX8ucDnLjFvYhrNLaYUnDuC7CYPqJ6Ph6+bnKZEZzWKcvTwjNmAcOtlEtPxjVyLYJSh6LTVvIZHWY3vgjv9F4j//8Q33bem5d/2WbcCgVbz5Dl7AQJRgrOfmoad2gaIiIiIiMaAMRfgeob9NxJmtyB3QyjmxSQh92QT2my1ZTTT8pnUhnEOfKbICebG/UR+M3TaWr8QfxuhXWVqH2n+Cnu+WnzWhE8vGUeVBcH7Vvltj/H4+WTxr6qp/yqzRlfQfF7826fGLKvp+QXEI1d8VK6T5kkEjAFrkbrKC1XPr8asZWqkF9ShWcHzXk3LZCcPhUm3SlWlq/GpVdwcOM3LMsiXTZokjd8ddCqf/x5Tb4an/NZC1xXozhQi99UMaDbFIDJqOcKM7ZZ79Vse+vN1q7F9bvAdcrVwa5O9cZv4V/WZ5bwG/8JbftfL/eeTxN9q6P5hGu7+7foXoyyXX3otT0Wl+OziZ6aS4Mw2QEREREQ0Foy9NrhuUxH9ylGceiMFEbfqkf1EFOaFalBsq/2nBVe4jOgdrgVIyDC1o+z7Wo/AG+XRhpB3ZIqNacmv7ra64zwQ8mwOTh7KQMJ84J0XYxG2KAaZNQqiXCe4/NhWeNttPG4wu1upaP67/djGhQl9CdShoQhPzMPZyy7wXPgwEjYnIzXWXx7B3EiXB2VC5LbDtl5x/u6mkZzeBoiIiIiIrm1jshdlifsdS6D6fTZOFWsR4VYGjbYQ3TVQ+zAGMtXQfW4cstT5jd2eZi829713qtdJd2D75/qv48VfPVw9/RE429ZrOjxdTOMODRfc4AHousbjTpvTE68p0jz1cvXwR4QmDceKc5AwsxE7VNtR289dQKlqM/Ae6i+Yhq1Jd0WloP6XVnFolfWdV6NO1P+tAvDwhqcxZnN8/m2p3fcCSt3WIuvQbqRpNkC1Zonxuz7SnXAzpvVThlo7y2LXjRONd43Lz0vLasMlHS6Kf4um2LnD2x83d0hZ0ezq0XfZ5Zevh2WhcWgbICIiIiIaA8ZegGsdhE1egJCF4r+u1e7J/STfOfBFI3IPWPVaK+j27cRe+X0POZCpqm2w6uW2AkX7Br7T6R4wFyF2pjc0mmAZe09F8P0iQtx3AO8MdBfPOv/cp4r88xfL1oKv2uU0G1wDFoggSo/srMK+j7dpr0Purgq4Ll2IQPkmY7eOfYdRbt0FclMBsvYB3quC4GNMcGD+7WpFs06sG08veJq3Ye1qQvnblhcl3Ofea1qWV20sS39c/BES6YLmnO02eozuRO2ePJS7LcHigIGD8T7c/TE/FKh/oxCV/awHIye2ASIiIiKisWBcsiC/HxNqM0Lx30U/xk/cOvD13/XQvbcL23Y1wuOxJxE73dTrUHtDCXLLJiB8wywYb979dApu///KRBC2G6WNbvjpT6Xv1qH0lf+N//lfMzHv7DnU+63Ef8y+yfh9jJuMn4rx9//lryj/yh3/7tKOL+vKkP5MPtwW3Iq/nZ/Y+9tCn+n95HZMv/lj7MzIwptnv8ON7uPQ9oUezRc/QGleFvZ844/FU+Uo7MtK/M/bl7Fg3b34pVVcdOn915B/dobFtNy+a8TOt99B4/+djNvGtaL47P+Lu6behEm//BXaj7+Cl3adwv8Z92+44fuv0Szyp/a9A3j9xY9xU7if8TdaDqmx8tVGuLvJ81RXgj//uRAtKzYhKeQW/Ng0mb6kDrLu+g5HXnoFO05+Dtfx7uhoEfn/4QE8/5+peOcna7FzawRu/Rd5fPwD720vRMecG3Fq2yFcmXwTfpDGF+vrqd/uwt881+Kl392HyfL4Sucf+A71xXl492dm68vIDW5t7yNvbyHqrkzCz/9XG768WIEdidvx91u9ceHCuN48/pdbbC5Lc10FcjMr8dOlpmn1Wa8YB8+ZAWg/YjWfYr3u/eNmJBe5IXp7Oh726q77bMqDrxesxX3TrHqOMq73c7jz/scw59+lBBf84leTUfeXV/Dy3rNov3ECxn19SeRBEypL9+Llt64gMOR2sZQKtgHpObhLH0VuVwBW3H2T/XVKRERERHSNGXN3cD38V+LnF/KQvCkecZvUSD7YhsWpB5Ad2V+1UBf4bsxBfupa3KbbCY34bnzKPnw8LR6ZqoXGqqGWxPhxmcjaGISO42lQifHVu/UIfvFlxP5KWd1iz5VpKHolHsHfH8EfnpDmVfzG1v0467YAUbMnymM5wW8DcjYHoa0gVfxmEk62yVGx23Qk5ORAu8YD9TlJxunFPZmMnBMt+OVvlmCaaSy4T5uDgM4KpHfPU9YH8N6YjaKngmx2BmXO1S8ee95OQ6xHE3Kfl7//ai0mxohlfcN2j8STFqmRu+0efLpbYxxf9eo5eK5JQb71+Arnvz+eq/5gXGdtRammdfbaOfgkvgzV7L7rTFqW3N0piDBflqx38c1Mf/TtEsqMNJ9vHEBmjAd0e14wzacIomsmrkfm2zlI8BtE3XOPFcg8kIGEud/jnRfV8m9nYG+tK0Ki7obULZVxNKe2ASIiIiKia9+PpGcFye/Jlq5qpAfEY29sNt7fOF1OpMGrQ/pdsbiYfAiZKwcR0BMREREREcnGbCdTQ6ahDqXin1MdAxEREREREdGIYYDbny498rN2otnZjoGIiIiIiIhoxDDANWpF8XMaaF/dj+Iz1agUr/KC7dCsi0LKSQ+E//4/EWLqn4qIiIiIiIhGKQa4Ru7wnj0RLacPINXYMU88VFvL0DplAzIPZiNpIduIEhERERERjXbsZIqIiIiIiIjGBN7BJSIiIiIiojGBAS4RERERERGNCQxwiYiIiIiIaExggEtERERERERjAgNcIiIiIiIiGhMY4BIREREREdGYwACXiIiIiIiIxgQGuERERERERDQmMMAlIiIiIiKiMYEB7nWopUANv7syUCsPD486pN81B6qCVnl48EZmvodJVyNyo+7BvN+WoEVOIhPTelUj/5KcMFQulyFl0T2IzK5Dh5w0kmq3zbl2y+sQq8+JwaxFGhQ7sY5H3XZ/qRCq62HfNtLbz1XeXkdaS9UuqJbdI9a7KEtFQ1eWnHad5T8RjW0McK8FXVdQf3g7NJuiME8cDKUDovG1KAqROXXySDSqdXWiU35LI6SjE9/Ib+lqEmWfhf/aM9Lbz/W0vTbsQuyG7WieFY/MV1IQNlFOv5q4vySiMYQB7mj3eQlS1oQiMnE/6v/1bkRsTjQeEDWxj+CxUC/pmETXApfpeGz3uzj1xyWYJCfRMJu8BGnH38We2OlwlZPoanCBb2wO3j+uxbLJchKNfiO9/Yzo9K6g9s0kRL9+dS4Q1x7fCZ3bWqQ89yCCZy/BstmjIMLl/pKIxhAGuKOZvhCqqCS847oWmcVHkZ/2JFQxK4wHxIiNG6DSaJEvDkZERESkVAc+PVOC2jZ5cERdwVefdwIzveAxTk4iIqIhxQB3CHR2/l8UFBThf7a/ZvwvDQ9eK/K1qSi/aS2yX4tHMO98EBERXeM68M1VCayJiK4fDHAHqarqAyxfuRrlFe+JIYPxvzQspQ/K+ULsOO2CCPUG+LrJaQPpakVlThLiVoWa2ugGL0e0thC6dvnzgRjb+mZAHbUcs4ztfO/B4keTUPy56WP7HaGIYDxejL9t4OpebQ0lSFfHYHGwqR3xvFUa7KgaRAcbSpfZ1njPlaBZ/tie3mXuhE7KG/n7s5bFQpNTjZYueUSj3nzouFAIbYxp3PQay8969XbEZRz/UVO+z1qmRu65K8YxzNP9FsVCW9BkswOQjgtSvna30Q5FuDoDxRes6q/XZIjP1MjXi7zIVpvWQXxhT6dXLWfyzNp5S+t+C/Ktf6M7H3rKiDStXcruhMjrIFruWEVazvSTevsdmrQ3oXibBuGLpOmYykr6Yevl785DvVmnLd0dVpl3dNaJyhfFZ8FbUGmjWn/HmS1ieVZjx3k5wZFtqa3Rcj5jkrBXrL/v5Y8tjKryKiicn57fFeskXxtrKiPmZVnOg0h53VrPr719h7IyZ4ei8tG9bVjtc2pM29dAjPPXvf2JZVJtq0CzvdnrU77t5LkDFOWPk2Vl4O/Z7yjQZr583rfzLceOGXampyhfzX5PlEWpjJrWt7R/yrPYP5nmaTlSTouBnFjTsouXaT8tU1S2HN8XWkz7dCoWG78n76/kzsss5kNmKx970qTjdsGWnvyR5rX7+GHNsjxZbwv28t/GeUGU7W3N4XlSus20ViP3ufie9WEc77Be/rATta9GieOjc53YEdHYxAB3EKQ7tc88l4KnnvwvvPiH5/EfGx4z/peGpfTB3MnV1Z4QJxorMC/ARU4ZWG3mcsTl/BM+j6Qg65UMZG4OQtu+VEQmKui5t0uPfHWYGLcAbbM3IE18P+sVLR6/8wqaL8vjDJY4gGuiXkCl671Qb5F+PwUREyqQuUGFzHMKT2qtKFvmKyh9bpVxvMA4rWm8p+7FDdU6cVqkzKcFGsQWAMFPSN9Pw9OLgePb4hGbaaPHSf0+/CG7A+GZR1Hz4XtI8JPT7ej8JA+Jvz+H2x5JRsZWNe6bUI10ESTlVxVCHVcA94dEupimZv4V7E2OQfJRyxOFDhG4Rj6UhFOivCQa19t/I+y7AmgeisGOBnmkHiLQy0xG6bREHCt/T8S8K0xtgsVvLN60E63T1kIr/cbWeMy7fAApj1ieNNS/HoPw56txw6pEMU9ivNT18GlpwKcDXUQxli+xDrKb4Bn5jHEdZGy+G1+9GgPVriZ5JDPt4mRrXRQ07wLhT0nLlIHEZVeQnxiFyNcb5ZF6dZ7ZjsQTU5F86F2R52kI71PjwQWBy9fDs/0ASqusy1onqk4cQMeMKCy7w5SieFuS5jMmBpq3r2DeE2nGcbWrJ6F0cyy0Yt6tjbby6tg+Q4/dL25H56o/45Qo1zWb5eYRUlOKZaY8CNxomt+s1A3wa9P3P78Ky5xNSstHwy6xbYh9zo0rkCzvc2J/1YKPP+uz1fbRLE7WwzZth+7f1yJZmr8t/4nAS9sRuTkPOnmcHj3lWw8/OQ/SHvWGLjseYc+Vwakbdoryx9my4nwZcyhfBsvRfP36BNLjXkDtlPVIFes7U7MQOJGBaNX+nsDd3X+9sRxES9t6aLzxN6VXuJfpc6Vly5l9ocW075DX6yvrEXij6XPHteFY5uNIrvVCXJLY/4jjx2KUiX3Sf2GvfGHaRASB26JEeRLrbUL3cUIs1/0u+OrLfrYFkf/FieFW5wXPINpbj71SfkgXc+VReymcJ6Xr9nIZNPfHI7v1bsSlStMX+7OlN6BK9095BCIiGwzktLffPmT4798+Iw9ZktKlz511dutsw50P7zNclIeVOHtIjP+tPCC7+Ea04c6ZKsPBZjlB+OrtBJH2kuGsPCz5+LVIkRZpSPuoQ07py9b3TFoMB1Vifreek4cl5wxpM2cbHn+7RR4Wvjxh2FNuNiz59rQhWYx355YqOcE+W9NXtMwtRwyPi2nEHjDLBMkP8v9+mKY523CfmL/v5bRuF3c/Jj5bZciulxO682Hm04Z3vpaTetjPozvn/slwynwZviwwzm+f9fFDgyE7TKRrThi+kZMMHeI3RFqf+fuh2TQ983E/esm0LFkNcoKZ2iOGPZ9YrftP3jREWOTbOUPGXPGb1utKyscB8tKUjzbKl7RM4dKyJhgOfimnGTpE+V9luDPsJcP7Vuv27wek3/md4VjPQsl5GLbT8HGfebAugzbyT/LNCcPTFuMp3Zbk+Zwr5t2qaEll7mkpr0Z1eXV0nzHbkFDcJqfIutdfuFhOq98xZ2vbVVbmbH1Xefk4+8p843fft867gfJS3gYfENurdT5+nCXtKy3Li2ke+5aD7ytfMtxnlee2OJ0/zpYVRd+ztQ+3ly/SOrGXL1bLZaTsmKE8X7v3vX33MbbKve3pS5SWLef3hT3TVhUYvpJTjOS8TftIHjZjKx9NaTbWhW6f4dci/b7Xevfz35T8zhA4c77IW6uMtGAv/22fF/xdfBYo5evf5ATBkXlSum6/OiSNZ7k/Mhown4noesY7uIOg/+JL3ObdfdnXkpQufT4oN7rCXX6rhG/Yg/C2qs7s/St/8bcaun+Yhm3qqsM7rzfBc2MKEvyU3zF22OQFiJhr1Vuk2zT4zhX/m74Y+C6zDYqW2f1n8BTjnD35AZrNqz4p7uBjKqJX+/fpWdI77GEsgx6Vf+uuKiULCILvBPm9EuELEGy+DJNnYJ7xCv9qhJuvj3FT4btQ/K9t6rkb0VF1GLl6G/M3zgOBC0U+HD7X565KiN9U+Z2ZGUsQMcVq3U/xRaD4V/l595Xyn+Hnt4t/p99DpfmtEykf+81LPU4VVQCh6xFrXb7EMi1bJ60vM53VKMrRw2fdCgRarVvP2QvEPJXg7KdyQreF0+Ez4PoU04qZLvLkCMrNaiW0nT6CYixA2PzesqmoXHXV4piYT8+YDQj3kNO6TVyC8HD5vZnRVl4d22f4I9h3vPxedu4Isps8oHo+XnlTim6KypwNDpSPiZOksl6B8g+tqkcOkJfNp0tQLspEnCgv1vnoE7bWOI+9mlD6lijfa1bjPqty4HrXHISIPK9pUHrv3YyS/HG2rDj5vZb3y+zkiwt811jny2A5ka8BaxFhtY/xnjkXnmLcb5Q8A0dx2XJ2XzjU/BG9xmpdePlivsiv5q+7F7gVxwpK0BH6DLQrrXdU/ZHz39Z+W/AMW48INz2y37VumqRknpSvW/eJN4vfqkXpGavj7IjmMxFdaxjgDoLHzf+Oizob1SsFKV363Gku4oByugkXrdui9KerE83nS7D31e3QqmMQuS4K8x7Nkz/sR4sOF9uB4DtsB+tD6nITKgvykJmWhLh1Yh6XrTK1R3KWkmV2EQfcpBXwrk5F2D1Se7FC1OodqRLtD+9b5Lfm3Cfh5+Jfn5PxqTeLEyrlgn/hLb/r5g4XqcqajQscP/mx+KNvQ/fct7V+If42QrvK1DbJ/BX2fLX4rAmfWlT3FMtiZ+Y69I0o3rcdmVqNyMcYhC+KRa78mYkHHvhtPAIv5yHunlBEP5eH8ibbbb0s/RO6KhEYzJxq84KN64+tTp6+bjUG8PUvRvVZJr/lqagUn138zPLENtBb2Ymb5/yVCEYZjp3pnm9x8ldUBtfI1VhkflFCSblq+QIXxT97241xXVkbbeXVoX3GVHhaVf1u+UxqhzcHPlPkBAcNXOZscKB8eIb9NxJmtyB3Q6ixbXTuySa0Kdintn4utp077oaPrQtV4sTassReEXko/u1Ty20UzV4B8cblKddJ26njBswfZ8uKk9/T60RQojhfBsuJfL3Du+++d8JESHvYi18ouMiguGw5uy8calNxe59d30RMlBa456LxF9CJY6y9/a99pvy3+71xN8N7piijDXqri9NK5kn5unUNWIvUVV6oen41jP02FNTZbwdPRCRjgDsIS5cuQU1NLY4dOyGnmEjDUrr0ubO8pywQf8tQ26cNpR3tdchcF4qwuJdQJE5U3H0fhEqlxsuaFfIIA3OVguph1FykwbxFUVDvOoc2Nw+ErItHQlIKHguQR3CUA8vsGZqIPccPIGuzyNfDWxC9PBSRr9pqP2TbT/q5WuzpbpVvP/6J/GakLEBChqlNVd+XdfsuMa99lkXqpCMG85fHIq1Yj84JMxARFw9NuhrWNyFd71iLrKNHsSf1QXh+thOqVSJw+G2J5V0gO25wsHyFbDa1abX1ivO3POVy+bH1fTY7Ji9EWChQeqLC1Mbr8xPIP+2B2OVmdzwd3JYUbzejrbw6sc+w/buucOlnerYpL3P2KCofblMR/cpRnHojBRG36pH9hAjgQzUQkxzYv4nlkt8q4R1pasds8xXm6MVD5fnjbFlxuow5mC+DNbT5qoySsjWYfeHV4Oj+dyQoWrfjxLnCszk4eSgDCfOBd16MRdiiGGTWMMolIvsY4A6Ci8u/4IXfJ+HFLX/GU08/i//ZvsP4XxqW0qXPneV+zwpT9Z+sQkUHzJZjO7GjwR9Jbx1C7u/j5efl+sPXS8E1Wzd34xXa0nN9O+/pqwnN1hfCu76A7iP5vT1dddirLcMND2fg2EEtNBs3IGKpPwJnT3Xobqc5h5fZxQOBa55E5qEi7FH7oz77cbxso8fKvqzvgsqa6o1X9H1vUXb3cDi4/qtUZVQPV08pL229psNzoPOaS0eQld2IgGd349jrKUjYuBbh88V3Z3jZuXI/Hj5LN0CbcxTH0lbjhqNJ0Bb1d3fEBTeILKps6NvrpqSt3apyulwem13F+rK5TGIdezh7sjYei1auBo4ewTGxTnWnC1Fr1rmURHG5kuez8lNbtTg68Y11T8SjrLwOap8hM5W/MtReMA0r5miZM+dE+XC/YwlUv8/GqWKt2K+WQaPt7T3cFhd3kUdVDdDZOof+rsPqu6byresajzttzIvxNcWqavdAHM0fZ8uKo9+TgiTF+dLNyWPGcOTrQBwtWw7vCwd2sU9mSXfOpdo4zpL3v9WNfTvl6td4eIr9Yv1Hdr4nr0NPXy9TR4UOcXzdunr4I0KThmPFOUiY2Ygdqu2oHaUXE4jo6mOAO0gBAXfjUMEBBAfNEUM/Mv6XhqX0QXHxR6wmCDiZKk7MBr4qrG+WDoBeVlUIO1F+bL/8vh/uQQhb44Lm17cjv587G1JbGKltXk295dlNx5nD2DtQL7qX9cZq0J7eHpZtc5oqkF8lv3eQ4mWW8s48/6STkoVSe6pOfPWVkmplYh6PWQcxYjq7M1DvtgSLA4b4JMsB7gFzEYJG5B6oVnx3r49/6CGtgtusAvWOM2XYK7/vYVUOJ81fIKYvTlRa+jupm4rAUHFSuO8A3rEuX20V2JNpdWHF3R/zQ8WJ1RuFqByoXDnBNWCBCHIqUPp+GUrfaETw6oUWF1kUlyv3GQica2c+L+xH1j75vWy0lddB7TNk7nPvNV2Ie1XZhbgejpQ5a46UD+t5mizKq9SOXdfab4Drc9cCsZ86gD2HrAps1xVTPsqDJlMRfL9YDlvl21lK88fZsuLk96bNXOFAvohVNZhjxnDkqzWdVfXaQZQtZfvCftw40bgfqqptsNyXt1egaN9g7lZORcg6qe+B7ch26K6nl8h/8b2jO21+r7lop1iHXgifa6NPhwE5sG6t8hnuYnmk/iXaW/DVMBwfiGhsYIA7BKQ7tStXhuE/NvzG+H8wd27NTQrTYo9mAVoKkkztpLTbsfdwNSrPmNrMpUvPhcs2dfBgOvHIg/apPBSfMY2zY9MqFLWJIHlALgje/DKib6pAykMx0OSUiO/L09GqseOcaSzXgKV4zKsTe38bi5R9FcZxinM0iMwCHhiomvHE6Zg3A6hMT0J6gem75dLjSDTn4OlkFWXFy9xSCNVyqe2OabrG8Z5/CZVuqxE2V0lwGoQbqmIR+fx+lPdMJwwqEcAEP7UBIY50KDXUJixBQnIQWt6Mx+JNGcg/Kc2feJ0sRK5Yd5oiBSdb0+7GA24Q42uQayxfYr1Kj2ooakOwPIpJHdJDpecUdpePClE+MsQJ93REL+r/JMc38hkEi6Ay5aHY3vVfkIG4hw7ANdyqkymMx7LNiQiW2rctjzdbbyJwy9kClZLHXvXHxR/hMR4o37UdRXrLzqUkyrelibgv7hF468V8rjPLu5wkRD7XCr+V8miy0VZeB7fPkLkFISFzLTxOpmLVuqSePKg8vB/aJ3bZeP6pTHGZs0V5+ajNNLWPNC2faZ+Tni/K47oF8JHHsclvLZLnu6D8+ShEpxWa8lFsU+nxkdjj9qAIBC35PJyCaC/r/adYpn0Z0MT0kw/2KM0fZ8uKk99znb3eoXwZ1DFDGPJ87TERt0sdeJ0UwVuBtAy7UGw8ziktW87vC+0S+6WwWC907NMgpnvbPZwH9bqdQJj1PtIx3mtSkDRfj9xHwxC3TV5v0jK9mgTtYfvHCM9Vtr5XgtzEGKxKrkZAchoemyaP7CCl67alSI3FT5gd2w7vQkpmNVzX3ItgY3UGPgeXiPpigDuquYgDkxanisUOP2wGWk6Kk9HEeMRtEgel7P04pRMHiVt+ZhzTdfZ/Yk/yarif3w7NpnjEpxzBN+IsQvuQ5R0Au9ymIyEnB9o1HtDteUFMQ0wncSdK2+9GYHeHNS7TocrOgGpWJ46J4Clukwa79UFIf3U9fCxrBNrggYh06btXkJ9s+m5W7VQkZm1A4IDftU3xMt84DfP8O3FqqzRd03JV3rIBuW8/adl7sV1eiEvLgcr9PSQ/KeX/C9jzvTix334QmQ71Sjk8PFemoeiVeAR/fwR/eEKav3iot+7HWbcFiJpt1Wu1LeLEKmFXIiImnMPLUvl6MhlF7VHI+f0aq+rjNyPw/km95ePJVOR/vRBpb7+MiIGawk1egsy3M5CwUGpDZVr/adJzJjO0iP6FjQLgsQKZB8T4c7+Xx5fWmziBrHVFSNTdTlSJs+QzdwU8m5qgt+5cSnBkW3KdsQF73hInat5NyJbzbveFaSLoi8diq2dbjrbyOuh9hszVLx65u1MQ4dGE3Oel6Ynyl/Uuvpnpb+zcxybFZc4OheXDw38lfn4hD8nS55vUSD7YhsWpB5AdOVCBnYhlaQdN7VOPicBGWqatFcDKTKSJ7/YpsWb7z/qcJNP8iGXKOdGCX/5mCRyOAZTmj7Nlxeky5mC+DOqYIQx1vprxjc1Gwvw2/DVZ/GbyaXzzr/IHisrWIPaFdrnANy4TWRuD0HE8zZS3u/UIfvFlxP7KyYNkt3EeCDeutyDg3ZeMvy3N894LkxDo00+jAPl7uZp7e7+36U/I7/DH0zmDPP4pXLfu0+YgoLMC6d3HtqwP4L0xG0VPBUFhzwtEdB36kfSsIPk9EVlpKVBjcbIXcj+Mh6+cRjRasbzSVaMvRNzyVLj8/hAywxRcWCMiIhomvINLREREg9JWW4FKeMBvCoNbIiK6uhjgEhERkfPa65CdVQZ4rUCwk89EJiIiGioMcImIiEiBOux4NAnpOd0dDkmdAm1B3PJY5P5jOhK0a+Hj8DORiYiIhhYDXCIiIlLgZvgEAPWHt0Nt7HAoHsmvn4P7/YnIPZCN6GmD7AyJiIhoCLCTKSIiIiIiIhoTeAeXiIiIiIiIxgQGuERERERERDQmMMAlIiIiIiKiMYEBLhEREREREY0JDHCJiIiIiIhoTGCASzRmtCI/fg787up+ZaBW/uS6VZNhlh9zoCpolT8gIiIiorGIAS7RWHGpArrQQ6j58D3j61hyE6LjC9Eif3z9qUP6a144JudHzYfZuC15OdJr5I+JiIiIaMzhc3CJxqpLhVAtK0NIcRrCJ8tp17mWAjUW69ajZvN0OYWIiIiIxhLewSUa07xwO4NbIiIiIrpOMMClkdPVispsDcIXye0hi9gecjjV7kkFktfCVx6mVpw6WoFg75vlYSIiIiIaa1hFmfrqrIB2thp73dYi9914+I6T0welE7WvxiD6aBCyXo9H4AQ5WUrfFoNY3VocTFsBzyGZlnLNBWqs2jUV2Xs2wNdFTryaLpdAvSgJpXMTcSxjBSbJyUoZq+AmVxjfR7/+HhL8jG+vHVKnUI/myQPmgpA0yKrWtdvmIPqCc/k6IGN18FSUy4M2xWSzajQRERHRMGOAS320HdZg3mEgpLoCk7YchWb2EER+bWXQ3KNBW/IhZK6cKCcCHVUZWPVfLUg4lIKQnqB3JLWi+IlVyJr2MvZsnA5XOfXqkIL9KETn6AEnA1xzxoAuZy1yP4y/Zu7ith1Nwrzf6vHYHzcg0F1ONPoJPO+aDk+niqLUu/RypGCYgltJpx61H+rxvTxorvPzQiRryxCSIbaluaPhKgoRERHR2MUqymRFj3d2lyF4UTxi1gB788vQJn8yKPXnUAwP+E3rDW7R1Yi/aPMwcfOGqxTcSiZi2RPxcM/ehr9+LiddLQ15SNrnAm8PeXiQfDe/h9yYPGRdQ4/G6fjuivjri/mh/gicbf5yNritQ/pdy1Eq9S49XMGtxMUDvhbz2/3yQcdHZWiZ+yRiGdwSERERDTsGuGTp8woUnQtCyCxxwh66Hp5HT6D8svzZIOg+rRZ/F8B3imlY0lFVgOx/rIbq/iGK6JzltRRRoXXIPdwoJ1wFItjfodkOzwQ1or3ltOtQxw+d8ruhIN25jQVef8+i1sCIOr8f6Yc9oFINY3BNRERERD0Y4JKF+sO7URt6LxZLbR2nBSHcowy7j+pNHzpBtyfG2KFU+ItS8JiHuACpgykNii93ourEAXSEBeFO8xtbndXQBs/BrBer0SEnGbXXIX2VSH+iEM1dctpAqjLEtFZjR4M8bK69wjQdbYWYzngEL16C5pwjqFX620OqE7WZScj0TITmfjvRrYJ8qftrBvIvyemSmgxjFeW4AYK7yjSxTpbvQr08bK7j9BbMuuseaE8rDzyldsB+Tj5/t/XzamCuFwa65KFonnP/YqyWHH3V2iGLAPvV7WhZugER0+QkWfO+WFE2Y7HXqtaA1CZ81l1RSK8ZykCfiIiI6PrBAJd6ddXhnRw9QhYGwdj8cdxUBN/vgdqcEpuBhBLekTmoeVeLZeJ94LMHUPPhe+Ilhic0oqYIWObva9nu1cUfkarp6NhTiPLuutFdeuQnPo5crEV2qgMdUXl6IRB6fPqZVO3VUv2eDOzFEqRuDDJO393XH8HtZai8YPq8P8YATgTt/b4cCPA6arYjaZ8HkjT9LJuCfJnuBaQsM5uHR6Go/a2ntz+g16HZui66VIU87QCwNAWqkaxeezoVi+VlmLcqHpqcarRYXXhQNM9S72hmv9X7UlteCBgu5wux47QHYtctMG1PZjzD1iPCrQ65R3trDXTUZECVXI2A5DQk+LE6MxEREZEzGOBSj46qw9jbvgCLZ4+XUwCf+SLo0oug6ryc4IymBhyHC3x/YXZf7pIO9e0euP3W3ml18166BiEowTunpcBUurupRspnK5CZLYI1N9M4inh4w0f807VahZqXCpGZ2YTgp/6zt+3vZG/cJoLhmgsDt1edJIKnU8eP9v9KvVdZlVSRt2rVfng+pUb4ALctB8wXv3j5AkL3S1nnUp63TRV/m9BitegtRduR2RSEpzf3DdCGRycmLspA1ivya2siIny+wfFt8QhTW965VzTPffKj+zW43piVuYLSN3aiOXQDIu6Qk8y5BSE8xgPNBytQLy1XTznIQdrKq1xln4iIiOgaxgCXZFdQXnAAHaELEWze4ZOxmrIe2YesqsY6oPmTOvHdFfAzr6Z5uRU6eGGirc6lJixARKQLSotOoLJAg1jp7mbmkwh2uBnlzfCeC9Tr9GbzLgKPbVtQPkMNdZj5D5rGhZIqyi7j4T5hgJe7gjtwUvViVSqa17ysLKgZsnyxcrMXgtGIi81m1WIvlyHtxQr4PhU/AsFgNxd4zjDroGn+CqhSc3AwOQg4mYr0o2Z34kfNPNvx+WHkHAYiwu1fHPBZGgVf/U68c7q6txxEel3lnryJiIiIrm0McMnkcgXeESfkyxbL1ZN7TEXIuqno2FOGKqeaBXZC11ANBEyDt3nM910bmuW3fbkg8KF4+J7egvgX9YjI1A54d9O2ibj9DjHRptae6sIdNTtNnf4kPgjvEX7mrgW5evHeWxORqVL6eKKhyhcrk73h4wboLnXnUidqczJQfNMGJK7xktPss66ybXwOr3XVYCfb5Eo8V8Yj4Q6g9GR1b4/eg5znfknPtDWfd+PLsWrN9Ud3o9btQYQF9HOh45aViJN6Kk9UO1gOiIiIiMgeBrhk1Hx0H0rF/+Lfhlqd2Hd3EHUA+cf7tmUdmKmtraufNzzlFKNxLv2ezDfXvocGEbR0TLgX981wvj2ix63+QFWTqXprVxP++uc84GE1fm3V6Y8jhqQN7rkDSDkplu9kqgiCzL+7HCmnxefdAeK2OtP4sqHKF0s343aRTZU6uTOxpgJsyQGiNWvho+AigLv/+t5qxeKlfXgqcMdaaM3SsuLuHkQ1Z3e43Cj+tbWZ3Ykf3Dz3a9K90Papdp6C+5R2g9zViPKDenjG3AupGbBd7Y2orBLrsr0TwUsXKm9bTkRERER2/cggyO/putWEveuioPWMR1a41LbR2hVUvqrBDqhRlPOgZaA6EH0h4panYuIfj0IbatbeVrpLtmw/5h3MQYTVDTeps53IRysQkrYWzepUdKYeRdrSvm11FWnYhbCoc3isOA3zqtUI096MtJInEdynLW8dMoNjUa85hEyLqss2dF5BW7v83h4RwPdbTflyEyrrbYXA/0R5ZpKx4yitag4mTvJB4BTTsg9pvlipf301Ij96BMcyglD1xCokT9bipMbUAZejpAsAi48uEL81RI/GkR6hdH8MMuem4X2zeRrKeR5SxjJXiPA3DuAxW+1vJdIdfHUU/oBnkOq7HeqDK7Dn7UcGH5wTERERXed4B5eA82XIPQ9ErHywt/2jxWsBwpdPB84dQbnVY00G0qFrQCWmwu8XVoGYsYppI2o+sbwr3HF+F2KlznaS06BaeC/CpTanWftNHfE4w8MLvqiArqEC2dpqBGjW2whuhVa9sdMrvykKGrQORRvcCV428ll63Q1v6W7ljV4IkIa7g9uhzhcrnreI9Xu6CfWndyK52h/Jj46CQFHWXLQd2XoXRCz0t5in0TrPuo9OoNltAQLt1RIQwW3p76UOwh5EduoShISa2uLmOFVDgoiIiIjMMcC97nWi8tBONGM15vXTXtBz/koEow65h+XHmlwqgSr4HkRmSx1I2adreE/89Yf3LabhXiLoDQOOf1Tf+32pJ9m47Wjr6XTJBYHL18OzaSfyzRoA12evhl/MfuiUBHfuHrhd/NSprRnYO/NJaJbaDmA76mtR7jYHvnYeQ3tVKcyXwXC/VapCXoG0tAMISFBj2VXppKkOOx5NQmZBBSrPVItXCXITY7AquQIeMS8jYbZl+Rwd82ytFTWnxTYyf4adNt6m3q/Vx6QOwuJNvV/fshRRoZ0ofuNwP+3SiYiIiEgJBrjXu85alBaIIGlNEPrrDweTFyIsFGjOOYJaxXcNW6Gr1YuT/Wm4rc/JvgsCFq4GCspwVorR2kw9yVb5W3W2c8cSRM/oxN5XC0wn/53VyJee1Ru1VGEnUV7wmSsC7abx0KjtPWf2Co4XHIDrygW4c4AbryNOab4MlvdUBKMJOncRfN0/uJ6rjG1ynWpz+zN4ev4TpVvViNsUL15/Qv5lLzz+yiHkb7bRAdMQzvOQ6dJBdxrwnOJhc/mbD2oQK7UVtuggbDwWha+G67kM5J4ZmgsWRERERNcrtsGl4dMlgrOAeJSqclD0qI22vVLbyjUxqHnkEDJXKnvWTdthDeZlTlPeXlGeRlFoNvZstNNLbdN+RK86grCD2X3aA183GnYhPOoIQnJyoBqyzquG2bU4z0REREQ0rHgHl4bPhTpjz8whM2x1XCWMm4pfa9ZC9+JLKL0sp/VLj3d2l8E3Zoniznjaju5EZudaaGLsPYKlFcVbM9AWuxkPXK/BLa6g+PXt6HxYjdhrJlC8FueZiIiIiIYbA1waNi0XzqEZQfjlbXKCDa4BG6Bd04jE5ELTo3z683kFij5dDZXS6qjt1cjOrMCyzesRaKtjKaG5IBXJn61Fym/sBcBjX0fVTmSeXoKE31h24jSaXYvzTERERETDj1WUaeyRAuWuJuQ/FYNc75exx1b7zeudlEfjRKDYVAj1ujzclpmDBL9Rfif0WpxnIiIiIhpRvINLY0tbGTQBc+C39AXUL8pGrnnHTNSj7XgS/O6ag8VJDQh5LfuaCBSvxXkmIiIiopHFO7hEREREREQ0JvAOLhEREREREY0JDHCJiIiIiIhoTGCAS0RERERERGMCA1wiIiIiIiIaExjgEhERERER0ZjAAJdo1GtFfvwc4yNyTK8M1MqfEBERERFRLwa4RKNcS0EqdL95DzUfml7HkpsQHV+IFvlzIiIiIiIy4XNwia45dUi/aye8i9MQPllOIiIiIiIi3sElomtETYZV9Wy56jbvZhMRERGRjAEujZyuVlRmaxC+yNSWVFXUakonx9ScQC68cPv1dvfWby2S5ubhWI1pUKq6nTIlW8S9KzDJlERERERE1zkGuNTrUiFUPR0Zya/g5YhU70LlJXkcp3WiNkuFuGIPaA6a2pJmhk00pW+LwqwnCtHcZRpzJDUXqDFr1XbUdsoJo520jh7NQ/Tr8fCVkxTrasSO5XMQvU8vJyjweQlSVqmRP+j1PxQmIvw3a5H7WiFaajKw+OgCHNs8Xf6MiIiIiIgBLtng83AKsl7JQNbWRCSE3w2Xj7YjbrUaxYMJctoqsDu7CcGPrEXgBDlN6KjaDs2+qUhNXgHPcXLiCPJcmYjkW/OQ9FodOuS0UUuqorssFbe9/h4S/OQ0B3RUFSBbvwBRoR5ySj869ajMjse8+5OQ3ySnjQZ+CxF9OhWLHwVyeeeWiIiIiKwwwKU+Jv3ibgTO9kfg/BWIVqcg941EBLdXILOoUR7DCfXnUAwP+E2T7trKuhrxF20eJm7egBCzoHdkTcSyJ+Lhnr0Nf/1cThqFWgrU8JOCug+dC26BKziefwCIXI1F/eb1FVRmxmLe7NWI2w0sXjpVTh8lLulwUfo/10uUJiIiIiIiSwxwaWAe3rhN/Gtuc74er+7TavF3AXynmIYlxjuK/1gN1f1XOVTxWoqo0DrkHh5EAD+cuqvjfuhEteRunx/G7qMeiF3uD1c5ybYONItAP3hzBo4dzcDjs0fTPdI6pC8rQ0hxNqJPl+HUqKg2TURERESjCQNcGthlPZrFv2V3eJmGHaDbE2Nsyxv+ohQ85iEuQGrbq0Hx5U5UnTiAjrAg3OliGteosxra4DmY9WK1ZZXhdhHcrBLpjrTVrZJ63V2NHQ3ysLn2CtN0tBViOuMRvHgJmnOOoHYk2wHrCxEn8kZz9IqcYKarCXtjRF7F5CB7Rx6ifzO46rj1h3ejdkaUWIdygl0TEf7HbGhj/DHpKlQZb2soQbo6CvOMbcBDES61/zb2RSb1mByLi8mJCJ88HdHJQMqeOuN3iIiIiIi6McClfnXo67Aj+QWUz0+EatF4OVU578gc1LyrxTLxPvDZA8bOpWo+FMMTGlFTJIJmf1/LO4ou/ohUTUfHnkKUt8lpXXrkJz6OXKxFdqoDbXU9vRAIPT79rG8AWb8nA3uxBKkbg4zTd/f1R3B7GSovmD7vj7G6cHcnXPZeSh5dM/lm+Ih/tZ/37fSp7fhOpJ/zgipxOSb9CMh91MY0tikM8DqrkZ+jR0jUUnjKSaNPJ3R71FgctRNt96TgnSpRTs5kI7prJ+Ji/4hn71pu7DE5c6WpivukWQsQnLNzlHR+RURERESjBQNc6qM8eXlPEDVreSyOuT2JHEcCS2tNDTgOF/j+wqwq8iUd6ts9cPutfYNm76VrEIISvHNaCkw7UZupRspnK5CZHQ9fN9M4inh4GwNIXatVqHmpEJmZTQh+6j972/5Olqph61FzYeBHF01amoJTx4/2/0q9d+A7ruO84T0XaL7UYnm3urMO2dtKMCnmGfx62kSEZ5h6ne7zUtiDcNvxAyKYX40IJy5QjBSpszHVi9UISE5D0sqpcJfKmosX5i3yF+XnH7i72Gp5J4vy8GEawq+3RyURERERUb8Y4FIfPb0ovyKCjc1r4d38EiKXxCD9jI2qtAo0fyL1ULwCftPkBMnlVujghYm2OjyasAARkS4oLTqBygINYvd5ICnzSQSb9U+lzM3GALJepzcLIK+gdNsWlM9QQ218TFE307hQUkXZZTzcJwzwcjevd23PRNwutUn+m16E1r3q33gBuZdXQxM7fYD2skro8c7uMnjGrESgklm6KvT4a2YemmfEQ7PSvD12J+r/Vg243QzPG+UkIiIiIqJ+MMClPnp6UZ4dhPCYeGhzipAVfgW5T76E0u5qw4p1QtcggpSAafA2D7C+azO267XNBYEPxcP39BbEv6hHRKYW4U71QyUCyDvERJtae6oLd9TsRPphD6gSH4T3VWhjas1jShBw/gt81R1YG+8u67Es6T8Q7MjdanvOlyD33HREj1RvyLaepXzXAM/RbapA/jkg8P4gUxXq9itoEWm5ibFQF3khest/jOLgnIiIiIhGEwa4pIAIOEMWiMCjEGc/lZMUM7W1dfXztmz/Oc6l37uTzbXvoUEExx0T7sV9M5yPbjxu9QeqmkwdU3U14a9/zgMeVuPX5neTHTRkbXCFSbdOFfnQiGZjANiJ8te3oHzuk061d+6rE5WHdqI5dA3uu0VOGm6T7oW2T5XtFNzXX33ty1+gXvyrfH61Me9mrX4cqheP4JvZ8dhTnIOE2aO3ajURERERjS4McGl46XWobQcWTbHqgfkmDwSIELDzO3nYTEdNBlTJevw6LRHL9NuRbauXYYUmTZkhAmsR4Ipos+VwBtI/XQ3NRluPyvkCzR+Jfwru6g5ZG1yJ1zQsQjV0/xDLfW4n0vZNhUY9iPbO5i6XYe8eICJ8AdzlpGE3zsVmlW3XAZdHLPdBU9vi90VQu+eVFKhW+sN7xGaciIiIiMYCBrg0sK4rKC/eD7itwJ23y2kKdegaUCmCF79fWN2Fm+wNH7dG1HxiGbx2nN+FWNV+eCanQbXwXoRLbXGz9qPe2cf3eHjBFxXQNVQgW1uNAM1621V/W/XGTq/8piho6DtkbXAFdw/c7gFcvFiBv27ZBcRuxgOOP43Jpuaj+1DqsR7hAaO8fu/Em8U6akT9ZzaeszySj20iIiIiomseA1zqo+WTD1B5plq8KpCfkwHNujCo9rkgRPMIQrrvqF0qgSr4HkRmSx1I2adreE/89Yd3nyqyIugNA45/VN/7fX0h1HHb0bbmZaQZOxtyQeDy9fBs2on8qt7gpz57Nfxi9kOnJPiRA8hTWzOwd+aT0Cy1HcB21Nei3G0OfL3lhBHjAW9fkU9vZCC9dS00MUPRsZTQ1YjinDr4xiyBzyhoa9yvW5YiZqkL8rduQf55+YJHZyt0J3dBJZaBiIiIiEgpBrjUR/2bSYjbFC9eaqRsK0C9x4PQ7s5HWpijPT2JIKVWD8yfhtv6BFkuCFi4Gigow1kpdm2rRroqFVX+ichUmQV5dyxB9IxO7H21wNQpldkzXZV1EuUFn7kigGwa30/V3ys4XnAArisX4M4Rv9k5Hrf5TkVzkx4PaDYgcCg6lhI6qgqQrV+AqFBH19nVMB4hvz+IrPs7kK8OM7VhXqqC9qgLou9X9igkIiIiIiLJjwyC/J5oaHWJoDUgHqWqHBQ9aqMX365G7FgTg5pHDiFzpbJnALUd1mBe5jTsefsRZXcm5WkUhWZjz0Y7d0eb9iN61RGEHcxGxBBVD1buCkoTw5DY/gyKti5R1m53QFdQ/NtQJE/MwMmnbLU3JiIiIiIam3gHl4bPhTqUin8hM+w8ombcVPxasxa6F19C6WU5rV+mZ7o6Uu227ehOZHb2V/W3FcVbM9A2hG1fHXJ+P9IP++Ppp4YquBU+P4zdRz0Qu5zBLRERERFdXxjg0rBpuXAOzQjCL2+TE2xwDdgA7ZpGJCYXmh7l05/PK1D06Wqo7ldY7ba9GtmZFVi2eb3dqr/NBalI/mwtUn4zRG1fHdGlR/6r2+Gi2uDkc37tuOVB5H54AI/dIQ8TEREREV0nWEWZxh75mbf5T8Ug1/tl7Nl8FYLX/hgD+SuozIxFvG4tDqYN0WOBiIiIiIiuc7yDS2NLWxk0AVInRS+gflE2cs07rBoVGrHjfjF/90Qi102NIga3RERERERDhndwiYiIiIiIaEzgHVwiIiIiIiIaExjgEhERERER0ZjAAJeIiIiIiIjGBAa4RERERERENCYwwCUiIiIiIqIxgQEuERERERERjQkMcImIiIiIiGhMYIBLREREREREYwIDXCIiIiIiIhoTGOBeh1oK1PC7KwO18vDwqEP6XXOgKmiVhwdvZOb7+mbKYzXyL8kJV9mwzc/lMqQsugeR2XXokJNGUu22OSzLsvqcGMxapEGxE+t4tO0ThqO8jsr93khvP1d5ex1pLVW7oFp2j1jv4hhaNHTHUKddZ/lPRNc+BrjXgq4rqD+8HZpNUZgnDnjSQc/4WhSFyJw6eSQiUqyjE9/Ib+lq6kRnp/yWrh0jvf1cT9trwy7EbtiO5lnxyHwlBWET5fSriftLIrrGMMAd7T4vQcqaUEQm7kf9v96NiM2JxoOeJvYRPBbqJR13iMhRk5cg7fi72BM7Ha5yEl0NLvCNzcH7x7VYNllOotFvpLefEZ2eHqVaDTSHr86d09rjO6FzW4uU5x5E8OwlWDZ7FES43F8S0TWGAe5opi+EKioJ77iuRWbxUeSnPQlVzArjQS9i4waoNFrkiwMOERERDYV/4uy+MrRdlYvHV/DV52LCM73gMU5OIiIihzHAHQKdnf8XBQVF+J/trxn/S8OD14p8bSrKb1qL7NfiEcy7G0RERGNYB75pk98SEZHTGOAOUlXVB1i+cjXKK94TQwbjf2lYSh+U84XYcdoFEeoN8HWT0wbS1YrKnCTErQo1tdENXo5obSF07fLnAzG29c2AOmo5Zhnb+d6DxY8mofhz08f2OzsRwXi8GH/bwO2B2xpKkK6OweJgUzvieas02FE1iKpgSpfZ1njPlaBZ/tguhd9rqcqD5lE534zj5KHSxmKZlr+7LXWoGG8/atuqjR1yWeZfP5101WSI71p2ZNOzbqR1WLAF0XIHJVL+5p67Io9lRl6u7vFmLVMj/aTebgciLWfE8vW0AZfKxRbkX7C+xdEJnUX5CUW4epdYPvnj/jg4P2hvQvE2DcIXSdMxLWf64Sar8bvzUG/WaUt3vpnnbycqXxSfBW9BpY27Nh1ntojlWY0d5+UEpWVO0tZoOZ8xSdgr1sf38scWlP6uwjJprXf7ldeT/P1Zy2KhyalGS5c8YjdF89O77XdcKIQ2xjRueo38sUTOg0h53VrPr739irIyZ4ei8jHayqtjFOWPk2Vl4O/Z2T/ZyZdm4zq2s8+Sh3vZOp4onZ6tsmz2e6Is5mtj5eOPtL7zLNa3qfO3WOSK9+XJy42/aT3fHRcs9+Hh6gwUD8G+0JQfy5FyWgycTsVi82lfKoRKDFtsV7K++ah8ec1ZlidTGd1R033ssJf/Ns4ZomyX7Z75dPoYZWc/1VqN3Ofie7Yt43iH9fKHnah9NQp+TnZiR0TXLga4gyDdqX3muRQ89eR/4cU/PI//2PCY8b80LKUP5k6urvaEOJlYgXkBLnLKwGozlyMu55/weSQFWa9kIHNzENr2pSIysQQt8jh2demRrw4T4xagbfYGpInvZ72ixeN3XkHzZXmcwRIHaU3UC6h0vRfqLdLvpyBiQgUyN6iQeU7hiasVZct8BaXPrTKOFxinNY331L24oVonTgX6o+x70slbmNQpyK/kfEt9BLdf2I64+5NQapZ3HSIwjY5KQv53QUjYalr+8Env4vGYNJySxxmcNhzLfBzJtV6IS0pD1lY1FqMM6TH/hb3yRQoj47oWy5XdBM/IZ4zLlbH5bnz1agxUu5rkkcyI+V68aSdap62FVlq+rfGYd/kAUh6xPGmofz0G4c9X44ZVicgw5sN6+LQ04NOBLrA4Oj/t4mRrXRQ07wLhT0n5mIHEZVeQnxiFyNcb5ZF6dZ7ZjsQTU5F86F3UfJiG8D61IVwQuHw9PNsPoLSq74lq1YkD6JgRhWV3mFIUb2fSfMbEQPP2Fcx7QqwPMa529SSUbo6FVsy7teEty70+LdAgtgAIfkL6fhqeXgwc3xaP2EzLHlId2p/o9+EP2R0Izzwq8vg9JPh1p4sT82WmPAjcaJrfrNQN8GvT9z+/CsucTQrLx2gtr4ooyp/h3e/14Wi+DFbP9PTwk8tW2qPe0GXHI+y5MrE3tPL1CaTHvYDaKeuRKo4/mZqFwAmxT1bt7wncvcOk9ROPEPHe52FTuc96ZT0CbzR9Lu3DIx9KEvvrFUg0fvbfCPuuAJqHYrCjwTSOxJmy5e6/XvxeCqKl/cwd8no1m7bDFCyviQgCt0WJ8rQdugndyyXK6P0u+OrLfi7BiPwvTgy3Omd4BtHeeuyVyrZ00UsetZejx6gB1u3lMmjuj0d2692IS5WmL/ZnS29Ale6f8ghEdN0ykNPefvuQ4b9/+4w8ZElKlz531tmtsw13PrzPcFEeVuLsITH+t/KA7OIb0YY7Z6oMB5vlBOGrtxNE2kuGs/Kw5OPXIkVapCHtow45pS9b3zNpMRxUifndek4elpwzpM2cbXj87RZ5WPjyhGFPudmw5NvThmQx3p1bquQE+2xNX9EytxwxPC6mEXvALBMkP8j/7VHyvS8LjOM8bj3Ot1WGtLDZhvteazANd4j8EMOBmwsMf7ea7t/FcgVKeTBQ/nX76CWxfAmGg1/Kw4Ipb2YbHhC/8b2cZqTbZ/i1SO+ZD8E0ro11/UODITtczIfVbxtqjxj2fGI17idvGiLE7/bmzTlDxlwb61Fa1gHy2bH56RDbxirDnWEvGd63Wu9/PyD9zu8Mx76RE+Q8vDNsp+HjPvNgnb9iWmL93Kk5Yej5uuSbE4anLcZTup3J8zlXzLtV0ZDK1dNSXo1kWRa6y8h9Yh1ZlBHh4u7HxGerDNn1coKgbDnlbX/m04Z3vpaTunWvv3CxnFa/Y87Wdq2szNn6rtLyMRrLq21O589w7vds7J/s5su3Ylwb+xWby2Wk7Hhi+n7f7ev7ypcM91mU5e4y2nfebJV7W9MykvfhfbafH5pNv9+z73C+bPXMq6rA8JWcYiQfZ9I+kofN9M1Hx5b3m5LfiePPfLG8VhlpwYH1LZiOaWI6f5MTBNP4jhyjBl63Xx2SxrM8vzEaMJ+JaKzjHdxB0H/xJW7z9pKHLEnp0ueDcqMr3OW3SviGPQhvq+rM3r/yF3+rofuHadimrjq883oTPDemIMFP+R1jh01egIi5Vj1Cuk2D71zxv+mLge8y26Bomd1/Bk8xztmTH6DZvHrTQJ14KPie7sR+lGM1Ipd7yCkyN38ELwSaP2owLdf5E9ir90Bs3Ap4Wk3XMywKEfL7wfFH9BqrXi69fDFfzFrz190PedDjVFEFELoesdbretxULFsn5Z2VGUsQMcVq3Cm+CBT/Kj/vvlL+M/z8dvHv9HuoNL91Ii1rv/ns4Px0VqMoRw+fdSsQaLXePWcvEPNUgrOfygndFk6Hz0DrGmJaMdOBw0dQbnbXve30ERRjAcLm95ZbRWWuqxbHxHx6xmxAuFXRwMQlCA+X35sZ1rLcYyqiV/v36QnVO+xhLBProvJv3VX7HNyfBATBd4L8vtu5I8hu8oDq+XjlzSy6KSpzNiguH6O4vCqhJH+Gcb/XVytOHbWTL27TEWFrvzIoTSh9S0xvzWrcZ7V9ud41ByFiPdU0WN1vDliLCKt58545F55i3G8UPAOno+owcvU2tp9xHghcKJbv8DnojAnOlq0hpmh5W3GsoAQdoc9Au9J6R9UfOf9trW/BM2w9Itz0yH7XutmSkmOU8nXrPvFm8Vu1KD3Tu98yGsl8JqJRiQHuIHjc/O+4qLNd9UpKlz53mos4aJxuwkXzE4yBdHWi+XwJ9r66HVp1DCLXRWHeo3nyh/1o0eFiOxB8h+1gfUhdbkJlQR4y05IQt07M47JVpjZHzlKyzC7ioJq0At7VqQi7ZzlU2wpRq1dQJVrB99ouSVUMD0A129T+x/wV96b4SKxD6dDb8pnUJmkOfKZI37Iy7ifym8Gaitv7nKNMxERv8a/nAsI/oasCfGZOtXnxxPXHfU9WJB36RhTv245MrUbkcQzCF5naqfXywAO/jUfg5TzE3SO1Lc5DeZONdlV9ODg/X7caq9fVvxjVJ7/9lqeiUnx28TPLE9tAb2Unbp7zVyIYZTh2pnu+xclfURlcI1djkXnwpqTMtXyBi+KfvW3qJz+W35gbzrLcwx/et8hvzblPws/FP4vg0ZH9ydSbxYmzpX7LvAIDlzkbFJeP0VtelRowf4Zxv9fXF9CJ/bij+xXnXRFlU/zbp5bbfpq9AuJNbWh1XxjH7HGHd58yigkTIe0eL34x8Dpoa5V+rxHaVVbTE6+w56vFZ0341Fg93NmyNcQULW//680+U/7b/d64m0UwLcpog97qwrWSY5TydesqgvjUVV6oen61qb13QR2aHdkdEtGYxQB3EJYuXYKamlocO3ZCTjGRhqV06XNneU9ZIP6WodasXU+/2uuQuS4UYXEvoUicjLj7PgiVSo2XNSvkEQbmKgXVw6i5SIN5i6Kg3nUObW4eCFkXj4SkFDwWII/gKAeW2TM0EXuOH0DWZpGvh7cgenkoIl+11UbIkqLvTVktt5ey9RInivJoIofhMkquLN+geF1LnXTEYP7yWKQV69E5YQYi4uKhSVfD+iak6x1rkXX0KPakPgjPz3ZCtSoU835bYnkXyA7l82MSstnUptXWK87f8pTL5ccKn9w4eSHCQoHSExWmNl6fn0D+aQ/ELje7Y+PgdqZ4mxqBstztJ/2UQU93eX4d3Z/82N5FGmfKvPIyZ4+S8jFay+vAlOfPsO73bHA0XwbLO7K7nayNV9hwXLBdgIQMG9Myvnrbyw6mbF0NI73elFC0bseJ84hnc3DyUAYS5gPvvBiLsEUxyKxhlEt0vWOAOwguLv+CF36fhBe3/BlPPf0s/mf7DuN/aVhKlz53lvs9K0xVfLIKFR0UW47txI4GfyS9dQi5v4+Xn5frD18vBSdPbu7Gq7Cl55R0eNKEZuuL3V1fQPeR/N6erjrs1ZbhhoczcOygFpqNGxCx1B+Bs6f2vcqskMPL7OKBwDVPIvNQEfao/VGf/ThettErZR/9fM/F3QO4INbXXdKy2Hp5ma5wG0/yq6Ez70ijW+c3dk8cq5qt7kII0p0x57ngBjHLlQ3S3bW+2tqtKopfOoKs7EYEPLsbx15PQcLGtQifL5Zrhrxc1saNh8/SDdDmHMWxtNW44WgStEX93R1xcH7kstrsKtaJzfwW69/D2ZO18Vi0cjVw9AiOXQJ0pwtRa9a5lERxmZPns/JTW+uqE99YdTYzYmW55y6TlaZ6491E31tMt1cGtT+Ruf7rePG3DLVi+3CIo2XOnKPl41osr47mzzDs92xxcXMgX3o4eTyR14OuazzutJGnxtcUqfwNHVN51sPV08a0jK/p8DRflQ6XrYFd7JNZYo500t1jZ8nlubqxb6dc/RoPT7FfrP/Izvfkdejp64VJcpJyjq9bVw9/RGjScKw4BwkzG7FDtR21o/RiAhGNDAa4gxQQcDcOFRxAcNAcMfQj439pWEofFBd/xGqCgJOpUP1+4Cu/+mbpIOcFT4seYjtRfmy//L4f7kEIW+OC5te3I9+qKYs5qb2LFKTV1FteHe04cxh7B+p59LLeWA3a09vDsv1NUwXyq+T3DlK8zFLemeefdOKxUGr/1omvvuqn6piC7/nMXiEC9APYc6ifjBMm+c6BLxqRe6C6zwmgbt9O7JXf9zKdQHScqRcHejlJ0tWE0gMV8oAzpiIwVJyF7TuAd6xnua0CezKtLnL8Qw9p9dwmBz7dOs6U9Z1n8/kUJs1fYOyNVNfS30mdg/Pj7o/5oeLE6o1CVA5U5pzgGrAAEW4VKH2/DKVvNCJ49UKLCzCKy5z7DATOtTOfF/Yja5/8XjbsZbmH2N6OWQfdYjq7M1DvtgSLA0wnjoPan8jc595rukj3qrKLdD0cKXPWHCkf12p5VZo/zpYVp74n8mWlA/kiDOp4IqYXfL9YflvTGyLWFxfdA+aK8mF7H96HU2WrHzdONO6HqmobLKfdXoGifYO5WzkVIeukvge2I9uhu55eIv/F947utPm95iJxTGv3QvjcqXKKIxxYt1b5DHexPFJ76PYWfDUMxwciunaMSxbk9+SkcePGYdq0qfD3v8v4XxoeCm5TF2Lxz5rw5mu7sPPNv6LuUhvavpX23XUoLzyGkoIcvPjprYi8+yZM6GrFX4rewtkLbvjpTzvw9d/rUJyagPf/lz8uXGjCnfc/hjlyk+D2hhLklk1A+IZZMJ2/jsOtdweg/cgreGnXKfyfcf+GG77/Gs3iN8r/8grOTLgXd4kRf/zvN+CHY3/FX96uwCX3yXBru4Ta0gxo9rsh5P/5GH/7+Ur8x+ybjL8ozsLw3vZCfL1gLe6b5iYW5l/Fec5b2PvOebRPmoRxX1+C7r1deCpTj1tv+xQXxs1D9H3TIMa0y3q+FS/zV4VQPZSF+hvcjdOVlqs448/I/+cKPPHMAtxq70a7ku/9/A7M+L4M2zJ2oez/uOLf/k2aDz2a6yqwN+fP+NvPVuIuaR5+OgW3/39lyN21G6WNvfNb+sr/xv/8r5mYd/Yc6v3M828C/t31Y+zd8xYKzv0YN0/8AV9f/AB7f/8sWqbdi7+d/w4L1t2LX8oXsvuu027fob44D++iN38ne3uiLv8v+Mu+93vXxYcH8Pxv38O/h03G2XPjen/7RqAlrxh5H30Kt59OQEeLHrXFWqgqxyHwwqfQ9cxzHdIXP4MC/EQuO00oz30FOz6+Gf/x9HpMt+6AyIxD8wMX/OJXk1EnyuXLe8+i/cYJ8rppQmXpXrz81hUEhtwulyOrMmjBzmfjPPDzrmKk76/BV5/7Iep3K/ALs9q3yrczNxGAdKH0L2K5jpvlXel2PJf9I9w99xzONswYubIsmMrILfjFv+xAbrUb/t2lHV8ap/M4kku6EPyMWK93mu4BKl9OuXyJct5bdmX/cgsC7/oOR14S5eDk53Ad727MA2nbyM2sxE+X+hmXvU/ZVVzmbJV7peVjNJZX25zOn+Hc7/XZfsbBc4oj+TLI44kw6Ze/Qvtx62OWyIv3DuD1Fz/GTeGm8tVvGf22Ee+8eQqw2A+Mw5d1eSgtacWPp0zED2crUD/hDtw26XZMv/lj7MzIwptnv8ON7uPQ9oUoz2K/XJqXhT3f+GPxVOk3nC9btvbXRuMm46fi+LH/L39F+Vfupm23rgzpz+TDbcGt4ngw0WwbcGx5b/ylPyY37MJLL+3Fh9/fKIpXm9gviPJZuAN/bfXFvCnSeH3z/wYfW98zHdOe3HEeAclZeHZub50CR45RStdtyyE1Vr7aCHc3eV3UleDPfy5Ey4pNSAq5BT+GVJ1/He797Qf4f5Yuxi/kskdEYx/v4I5qLvBeo8WpYnHQD5uBlpN50CbGI25TErTZ+3FKB/jc8jPjmK6z/xN7klfD/fx2aDbFIz7lCL6JzIL2Icur/Ha5TUdCTg60azyg2/OCmIaYTuJOlLbfjcDuTmlcpkOVnQHVrE4c06rFOBrs1gch/dX18DGvmmWTByLSpe9eQX6y6btZtVORmLUBgQN+1zbFy3zjNMzz78SprdJ0TctVecsG5L79JIJ7ziBsUPQ9F/iqsk1trep3GucjbpMaiTnv4qsp67Gs5wK2GG9jDvJT1+I2nWm8+JR9+HhaPDJVC21WLZwUpjUun3f3+FIV7417oFlmsyKicpOXIPPtDCQslNosmdZFmvSMzgwton9htTJc/JGwKxERE87hZansPZmMovYo5Px+jVXV8psReP+k3rLzZCryv16ItLdfRsRATeEcmR+JxwpkHhDjz/1eHl9aNxnYW+uKkKi7nagSZ8ln7gp4NjVBb925lODIduY6YwP2vJWCaO8mZMt5t/vCNCRkxmOx1bMth70s9/BCXFoOVO7vIflJ8f1NL2DP90FI2H4QmWa9qA56fyJz9YtH7u4URHg0Ifd5aXrxUGe9i29m+pu1TbeiuMzZoah8XMPlVWn+DOt+zwZH82VQxxPB7JhVn5NkmleRFzknWvDL3yzBNHk0x4lgUaNFxO21yHxClP1Xm+AqL7fnyjQUvRKP4O+P4A/iM2ma6q37cdZtAaJmd/e0PoiyZZc4fsRlImtjEDqOp0ElTXe3HsEvvozYXynJrH6M80B42kFkbQ4C3n3J+NvSPO+9MAmBPv0ca+Tv5Wru7f3epj8hv8MfT+dY7k8cpnDduk+bg4DOCqR3r4usD+C9MRtFTwVZ1hQjouvOj6RnBcnviehq6KpGekA89sZm4/2N0+VEoqHVUqDG4mQv5H4YD185jWgkNB+MR9jzLtAeTcMyqyfFERERDTXewSW62hrqUCr+LZoyHL1+EhFdTVdQ+3414DED3gxuiYhoBDDAJbqauvTIz9qJZrMOfoiIxoqOmp3IOgp4rwqCj5xGREQ0nFhFmWhEtKL4uS2o8bgbfjO9IN3I6PzHByjanYfiBqktUyaSFvL2Bg0fVlGmYXVuF6LfasPigLvhc5PULvSf0J0oROa+anT6xSPnf9Yqa1tLREQ0SAxwiUZEJ+qLXkL27g9Qeb7J9OzACV4InLsC0b9ZiWAv3r2l4cUAl4bVpQpkZu5GeXUt6i9Jj45xwaRpQbgv6mFEh03HpKF5uAAREdGAGOASERERERHRmMA2uERERERERDQmMMAlIiIiIiKiMYEBLhEREREREY0JDHCJiIiIiIhoTGCAS0RERERERGMCe1EmGjNakR+/HCmn5UGjtWPvsTA1GfB7NE8eAIKTDyFzJZ8hTEREREQMcInGECnATQWeTUP4ZDlpDKrdlgFs7g7a65B+Vyzw+ntI8DMmEBEREdF1jFWUicaML6CzuHs7Nvn2BLeS6VgcA+S+WycPExEREdH1jAEuEV3zgr1vlt8RERER0fWMAS6NnK5WVGZrEL5oDvzumgNVUaspnYZQBVKWmfLX7y418i/JyWPVpUJk5axFHNvgEhEREZHAAJf66qyAVgqQgjNQ2yWnDVonarNUiCv2gObge6j58D1khklBiUjfFoVZTxSiecimpVxzgRqzVm1HbaecMKI60Xw6D5pNUZhnDEjnYNayWGhyqtHiVF5MR4LIVylvpdexZIhgdywGuVK7WzmIfx5IdrYTrfO7EHZXLPZ+Lg/b0KGvQO5z8T0XZfyClyP6uTxUjvULB0RERETXKAa41Efb8ULsnb8AIdiPoqohivzaKrA7uwnBj6xF4AQ5Teio2g7NvqlITV4Bz3Fy4gjyXJmI5FvzkPRaHTrktJHThtqiD3DDwvVIeyUDWa+k4emlP0H5tniEqUvQIo/lrEli2ZLmVqD0/bF2p9wskH9WBLgi8FQVOLqMnag8tBPNoWtw3y1ykg1tHx1Bpds9iEuV1k8GMp+6Fz85nYG41WoUM8glIiIiGnXYizJZ0WNvzGqcWn0AcbooROufwak/LoG7/KnTqjLgt6EMqt0H8Ng0Oa2rETvWxOBk1AHkrvGQE6+Cpv2IXnUEYW9nI6KfYGek6PbEIvzFTmgO5iDCS050Uu22OcjyHuOP0blUCNWyJsQ5cif3cgnUi17ApFeOQjPbRU5UyFhe0tD51G7siRzkCiIiIiKiIcU7uGTp8woUnQtCyCwP+Iauh+fREyi/LH82CLpPq8XfBfCdYhqWdFQVIPsfq6G6/yoGtxKvpYgKrUPu4UY54ery9pHCtEY0DzrfW/HpBfktWWg+ug+lHusRHuBgcCvx8oH0RKL6S1dMw0REREQ0ajDAJQv1h3ejNvReLJaeozotCOEeZdh9VG/60Am6PTHGtovhL0rBYx7iAqS2jBoUX+5E1YkD6AgLwp3mMUZnNbTBczDrxWrLKsPtdUhfJdIdaasr3TW+azV2NMjD5torTNPRVojpjEfw4iVozjkyhG2Ondf2pZTfS3Dn7aZhIyX58kEG0mvkdKGlIBUppwfugKkyTayT5btQLw+b6zi9BbPuugfa08qrqrcUqOEXX+h4FWtF6ysPf9pm/kigVuQ/nwokr1V+97arEcU5dfCNWQIfZ6rFX9ajWfxbdgfv3hIRERGNNgxwqVdXHd7J0SNkYZCpSvK4qQi+3wO1OSU2gx8lvCNzUPOuFsvE+8BnD8gdIInhCY2oKRJBgr8vXE2jmrj4I1I1HR17ClHeJqd16ZGf+DhysRbZqQ601fX0QiD0+PSzvnfa6vdkYK8IIlM3Bhmn7+7rj+D2MlQquONpDOC6Ozmy93ImwOtshe7kdjz+fDVCfr8BIeb1whXmS+6jvfOw+OgCHFNQbdfT2x/Q69Dc/bvdRCD4l7QDwNIUqOY6cafTUYrW172YciHWLK+XozTUsSrYxpoD+gWICnWw5kBXJ1qaKpCZ8AIqQ0WeLBovf0BEREREowUDXOrRUXUYe9sXYPHs3hN3n/kicNKLoOq8nOCMpgYchwt8f2EWUFzSob7dA7ff2jdI8F66BiEowTunpUCnE7WZaqR8tgKZ2SJYczONo4iHN3zEP12rVah5qRCZmU0Ifuo/EdLd4dVkb9wmgquaCwN3VjRJBHynjh/t/5V6LybJ4/evFfnxcrA2eznCf69H+BtFSAvrG3wNmC9+8T09KBtfGSsUzYPnbVPF3ya0WC16S9F2ZDYF4enNCwbfBlsJRetrIsIzzJZRvBxrX3wFx/NF0B65GovMOjvrT88FjYB7sHhVKpqX5+DYH5dclU7RiIiIiKh/DHBJdgXlBQfQEboQweYn/sZqynpkH7KqGuuA5k+kHopXwK+7cynJ5Vbo4IWJtoKMCQsQEemC0qITqCzQIHafB5Iyn0Sww/0k3QzvuUC9Tm8271dQum0LymeooTY+pqibaVwoqaLsMh7uEwZ4uSu94+mOwDhTD71ZWxORsOifSF8Visi0ir6PChqyfLFysxeC0YiLzWbVkC+XIe3FCvg+FY9wqbr6iHBkfTnp88PYfdQDscv9LWsO9MPdf71p/byShiQR7LdmRmF+VAbK+RhnIiIiolGHAS6ZXK7AO4eBZYvl6sk9piJk3VR07CmDc08M6oSuoRoImAZv85jvuzZjO0bbXBD4UDx8T29B/It6RGRqRZAtf+SQibj9DjHRptae6sIdNTuRftgDqsQH4T0q7sC5wHOGPwJni9f8FYjWZODY6w+i4001kousI6ihyhcrk73h4wboLnXnUidqczJQfNMGJK4ZuJ2pdZXtxckVwOlULDZLU1Zle/jXl7GN+YwoLLtDTlDA1WO6af3MDkJ4zJPIOpSNiI48qJKdqIZORERERMOKAS4ZGXuVFf+LfxtqEaxIL1MHUQeQf9yZXmNNbW1d/bzhKacYjXPp9w5ac+17aBCBVseEe3HfDOfbf3rc6g9UNZk6pupqwl//nAc8rMavze8mO2jY2uDKXP1WIzoAKD/+QZ/fGKp8sXQzbhfZVKmTOxNrKsCWHIhge62iTph673CaXtqHpwJ3rIXWLC0r7m5F1ZyHY3316KxGvtTGPGqpZVl0lNt0RKwT83m6DFW8i0tEREQ0qjDAJaEJ5W/XAaHxFoFK70uLx2YApbsP93PX1Q69DrXtwKIpVncCb/JAgAjfOr+Th8101GRAlazHr9MSsUy/HdlHnQmsTSZNmSGCGREwiUix5XAG0j9dDc1GW9VTv0DzR+KfgoBuaNvg9sPN8iLAUOaLpYnw9vUQxeALsUZaUbw1Aw1r1Hhc4SN0eu9wml4BvxBLfqMXAszSAmd4KKoSrHx9Oa7t+AHsxWpEDFnnUOPhMlTXGIiIiIhoSDDAJeB8GXLPAxErH7QIVHpfCxC+fDpw7gjKP5e/o1CHrgGVmAq/X1gFFcZqsY2o+cQySOs4vwuxqv3wTE6DauG9CJfanGbtR72zj+/x8IIvKqBrqEC2thoBmvUIttVRVave2OmV3xQF7TyHtA1uXx01B5BbBYTM9++56znk+WLF8xaxfk83of70TiRX+yP5UVPv0iNO6fpymB7v7C6DZ8xKBA42KG2vw943qoHQuQgckd63iIiIiEgpBrjXvU5UHtqJZqzGvH7u2HnOX4lg1CH3sFRdWbhUAlXwPYjMljqQsk/X8J746w/vW0zDvUTQGwYc/6i+9/v6QqjjtqNtzctIWyk1LnVB4PL18GzaiXyzBsD12avhF7MfOiXBnbsHbhc/dWprBvbOfBKapbYD2I76WpS7zYGvt5wwEmp2Ifo5MV+Hq1F5RnqVYK82HosfzUNLaAoSQuWLAgrzZTDcb5WqkFcgLe0AAhLUWDZiHUtZUbi+HHa+BLnnpiN6qdRjtFJ12BGThPR9JfL6qUbxvi2IWx6L3MsLoN28ZGR6lyYiIiIixRjgXu86a1FaIIKkNUHot0bq5IUICwWac46gVvFdw1boavXA/Gm4rU/VXxcELFwNFJThrBSjtVUjXZWKKv9EZKqm9949vGMJomd0Yu+rBabq0WbtKJV1OuQFn7ki0G4aD43a3jN0r+B4wQG4rlyAO0eyyqmXPxajEXtejEfcJun1ArI/+Rlit+7GO6nyY2iU5stgeU9FMJqgc1dDfb8URDvP2CZXYZvbvpSsL0fJF3FC1+C+Phda+uOFwEVA/e4/yesnHsmvN2BiTBry39Zi2eCyiYiIiIiGwY8MgvyeaGh1ieAsIB6lqhwUPWrjzllXI3asiUHNI4cUP8u07bAG8zKnYc/bjyjqAKl7GkWh2diz0SxANNe0H9GrjiDsYDYiBu40eGxq2IXwqCMIycmBasg6r3KCkvXlqMslUC96AZNeOQrN7Ku4bEREREQ07HgHl4bPhTpjz8whM+xUCx03Fb/WrIXuxZdQellO65epHaVvzBJlwa3QdnQnMjvXQhNjL1gydarUFrsZD1yvwS2uoPj17eh8WI3YqxncCgOvL8cZewj3WI9whZ1mEREREdG1iwEuDZuWC+fQjCD88jY5wQbXgA3QrmlEYnKh6dEw/fm8AkWfroZKaRXa9mpkZ1Zg2eb1CLTTUVFzQSqSP1uLlN8MXUB1remoEkHl6SVI+M3Q9FbsNAXryxmea7JRc0jhHX8iIiIiuqaxijKNPVKg3NWE/KdikOv9MvZsvn6DV7ukPBIBX0dTIdTr8nBbZg4S/K7SHU6uLyIiIiIaIryDS2NLWxk0AXPgt/QF1C/KRq55x0zUo+14EvzumoPFSQ0IeS376gW3XF9ERERENIR4B5eIiIiIiIjGBN7BJSIiIiIiojGBAS4RERERERGNCQxwiYiIiIiIaExggEtERERERERjAgNcIiIiIiIiGhMY4BJd72oy4BdfiBZ5cPDqkH7XHONjiIyvIf1tMrpUCJV5Hm+rkz8gIiIiur4xwCW6bsmB6KN58vAQqTkBvP4eaj40vXKnpGIxA7Ah1Ir855sQJ+dvzYeHkHQhFqqCVvlzIiIiousXA1yi65IIkuJjcTH5EGpeXyunDRG/eCT4ye8F33vE7+ecQK08TIM1EeEZ8fCVh4zDv1mL8qMVvFNORERE1z0GuETXJSlIeg+ZKyfKw8Nsrhc85LdERERERMOFAS6NjNZq7HhiOWZJVWKfKOGdJqUulyFl0T2IzK5Dh5x0bWlF/mt5iP7NCkySU2jo1b6bB0zxZh4TERHRdY8BLvWy7rhGegUvR6R6FyovyeM4o6sRO2LjkflZEBK2ZkAb+jP5A5PmAjVmrcpAbbucMJLa65C+6h6oikZp+8WOTnwjv72W1G7rLkOpwLPvWVRZVkwqN8vnIHqfXk7oR/d6LFAw7nBq16M8W4PIZfeYln9RFOK0hahvkz93QEdNBsKD1SgeYNtrEdtPdM5a5G6eLqcQERERXb9+ZBDk93S9kwLcZaloeTgFCXNFENr5BeqrqnGsqAS1nUHQHkjDssnyuI44tx2zYvIQ8fq7fQMdvZjm8jz47d6Nx6bJaSOsQ8xf5MZGxDm7fKOYFPwsTq6Qh4Dg5EN9qyVLvSi/5oVjGcNxl1Vq67scKUh0+Pc7zmzB/E2tSD6uxbIJcqJNnahMi0J8azyOpS6Au5w68lpR/MRyJDcEIWLjagTf5ILOf7yHrBfzUHuTCEDfiIevmzyqIp2ofTUGsQ3rUbR1ic28ky4kGIPbD83b5BIRERFdv3gHl/qY9Iu7ETjbH4HzVyBanSJOzBMR3F6BzKJGeQzHtH2pRwf84X2znNDjCkozt6AqUo1fX6XgVuI6Yz3UYdVIzqm+RqsB2zdpZVpPb8bSa8Ta3PaQ2voeQhJSkVsjJylyBcfzDwCRq7Go3+BWaMiD9s2fIWHj1QxuTSaGZePYoTQkrAwybkPBK+OR+9oGeDflIeuYo7UEXOAbE48Hql9A9plOOa2bdOFABLfIFuuVwS0RERFRNwa4NDAPb9wm/jW3WZ9kK9Px3RX5nZXPDyPn8FQkRPnDVU66OlwQfP96TNpzAMcvy0l0dYmysfuoB2KXD1Q2OlH59k7oIzfggVvkpKtmIgJDp8N9nDzYbZo/5ol/5bovTMOOcAtCeMwk7M0vg3kt59pty1Eaegg1rJZMREREZIEBLg3ssh7N4t+yO7xMw0rJbXpNVWQrkLLM1C6z+3mdutOFqL3jXgRaBCZ67I0R48XsN06zR5ce+U/cAz9H2urqCxEnpqc5aiPA7mrqmY6uSwzfIQIJjzIUnRzhtrhdrajMSULcqtCeNs/Rz5WYLbvpWbWWzzg1S7tUjR3qKMzr/q5WfFdanmEiVRueddc90FrdUTS2FxXpUhvY2m1iHcnpkpaCVGMV5WgH2uHWH96N2hlRoszJCfZ0VqN0TycemOtrMxBuOZMHzSY5f8Rr3ioNdtRYloe2hhKkq2OwONg0zqxlMVBvK4GuTznrhO5wBtRRcmdpd4UiXL0LtQrb17q6yG8kVRni+6uxo0EeNtdeAa2Yl1naCmONAp/5K+B59AiOdbfFFdtVVs5axI343XgiIiKi0Y8BLvWrQ1+HHckvoHx+IlSLxsupCt14N+JeyYD24aliYCqiUzOQJYbj/KWKpK2oP9MIz0W+8DaO3M0DD8Sthuu53SjuOfnvRG2mGinV/kjKdKAd4+Sb4SP+1X7et+OhtuM7kX7OC6rEB+FtvOM2FYGhLig/c87iTpltpgDTGJD280ofsEruFZQ+twpxOf9EYJzWmDeZT92LG6p1IncG1vlJHlSP5AChaqQZ8/lmNOxLwqq04atq7RrwIBJmdGJvQUVvPukLoVblATEvI22lBzy8mxBtlg+Ljy5wrP2tCFrzc/QIiVoKTznJroZz+CuWINDXPHqUiDKzLQqLN22HbsIKJIr8kfI38X4XfPVlb+40F2lwX1QS8r/zx+Ny+UyO9EKzyMfwdZYXU+pfj0H489W4YVUiMqTfS10Pn5YGfDrQBZfzIgiHCx6YKW0HMk8vBEKPTz/re/Glfk8G9oplSt0YZArap/gjxK0ClbXm4+ZZ5HH3a+AyR0RERDTGSZ1MERl9WWB4fOZsw51WrwhNgeHjb+VxnPDV2wnidxIMB7+UE4zOGdLEbz9d0iYPm/mhwZAdNttwX1aDcfDv4vuBcxMMez7pMA4r12I4qBLLkHra8L2cYtQhpi39/tZzFunG+Zz7P4az8nB/vv+6zfDNAK/vf5BHtqfliDG/Yw80ywkyi++Z8unxt1vkYYkp7U6RJwctvtphOJU6X+T17wzHvpGThsE3xU+LaTxteOdrMfCtmJfw2YYH/nja8NVAy6uQ8ffn/snwvoLVbVxnYTsNH8vD3b4p+Z0hcOZ8kW9WeWtOLu8PWJUDo2bx2dzeMijleYYYvnNLlTwsk5a5v+WW8ydwc4Hh7zbWa8RunTwsk+fJcn2bynHgK+fkYSIiIiKyh3dwqQ+fh1OMd7KyXklD0ua18G5+CZFLYpB+xk5bWme0teAr8e/nP7dxV3jcVCyLmY7mnCMor8qAKlmPiEwtIqZY36UbyETcPkX8+5se5vdw6994AbmXV0MTO92iWuukW72AdmXtjF0njIf7AC9X67aY1tx/Bk834OzJDyyrFQ/0vW7hUQj3kN8bueBO/wXi/z/xjROPpVHKfdFqRLiVoeh4NfITH8feWxORqQ7CJKXz3S893tldBs+YlQhUsLpbWpoA74lWd4dbcaygBB2hz0C70iKDLOhO7Ec5FiBOlLU+1Zs9ViBujYsogyfk6tY/w89vF/9Ov4dK87yVltnecl+qgHZdLPa6PoLs1BXwtBjvZnjPFWVRJ3XA1u0KSrdtQfkMNdRh5tWPTeW4w7km8ERERETXFQa41EdPL8qzpQ5u4qHNKUJW+BXkPvkSSocqcGpv67cqsGfYekRgP9T/tR+eyWlI8HM0uDXxmBIEnP8CX3UHkJcKkZmpx7Kk/0CwQ49sGQYu/ohOWgHv6lSE3bMcqm2FqNUrj2KCf2FZuVvi/nMp1KuG7h+m4WEh5jtSNR3l6Wr84bMHbQRvg3C+BLnnpiN6qVl13n50ttl67u0X0J0GfGZO7bdX5bZLjcAdd8PHTi/NHt7+opw2otlYX9wDD/w2HoGX8xB3Tyiin8tDeZP9Cz7Nh1MRuVqDs3PTUPTGBhvV6kXQeoco002taJFTOmp2Iv2wh1m1eSIiIiJyFANcUsAFgSELxMl+Ic5+KicN1o9tdQnUq6PxA1S2d6KjPQhh8+3fhRvIpFunwhUiSDF20NOJ8te3oHzuk463J7YwVG1wRSAfmog9xw8ga7PI38NbEL08FJGv1o3uxxV16VFzRgSHYv1MWnavg8927U8nKg/tRHPoGtyntEdkF/sXPm7o5zNnuN6xFllHj2JP6oPw/GwnVKtCMe+3Vp16dV1B5asxWPW8DsF/Pog9/dzZ9rhVBNBVTabvdzXhr3/OAx6+uo/MIiIiIrrWMcClq2Oih/HRQx3f2rhjaey0aD88f6+FyqMMmfuce/6ukdc0LJLvaHac24m0fVOhUdu+49jS3AS4KQmKpuPx40dxaoDX4zPk0Qfi4oHANU8i81CRCIj8UZ/9OF4etZ0FyR1+fbYWaclL0PzqThQP1aOVLpdh7x4gIlz582w9PEWQ+HWHVW0AF9zgAVRWN/ZbS8B98lTg/AeotzP/el21mMAMqQZ0r3Hj4bN0A7Q5R3EsbTVuOJoEbVFvl2D1ObGIOzoNqW9lQxXQfy/Hk6bMgCdEgNsiyt7hDKR/uhqajbYei9SKZp1VL8xEREREZBMDXBpY1xWUF+8Xwd8K3Cm1QxwSN+OX84HyBhFUmtOXIUWViuY1LyMtbIHcFvdNlDobRLl74HYR7Fy8WIG/btkFxG7GA3aedqT/TAQ086dZ9eps25C0wTXeuTO9NZKCp4ULECiCyK++GsL2zkOmE/WvP47YfR5IytyAkKUrjG1xsw4O4gKEmeaj+1DqsR7hAcojuUneU+F6/hwuWkSyUxGybjpweDuya+xX+faeuwK+EPOfY+OOub4QWfs64b0qyNgTt5H5uhImzV+AEPFf1yIHuJdLkJ3ZhPAnnkSIkkoHHl5i+hXQNVQgW1uNAM16O9Xmv8CnomgumuLgY7qIiIiIrkMMcKmPlk8+QOWZavGqQH5OBjTrwqDa54IQzSMI6b61dqkEquB7EJntbHXaifCZPRXN79b2PvO1vQ7pKg3ekTotUpk6/vEMXYOQ9hLkHDVraykCCbX0LNbTStqresDbVwQhb2QgvXUtNLY6FDJqwsfi93wHaLc5pFoKoVquRnpBhZzfJdjx/EuodFuNsLmDqUI9PJoLNIjJvGLs8MvYuZWLP8JjPKB7vQCVg+0AqasRxSLQ9I1ZAh9H2p9Om4EHRJBa+TfLGfBek4Kk+XrkPhqGuG2FKO8uz68mQXtYDkhveRDa5CDoc2KxeFMG8k9K41SL+UhC5EOpqPIX5TCmuy2wKJuhsdDklMjrqgJ7tdLjfKYjepE8zicNKBXBtXt7rTyO9asOzeazKV98ObVV/M7MJ6FZaueOb1M9ytunw89n9JUJIiIiotGGAS71Uf9mEuI2xYuXGinbClDvIQKB3flIC1NyW0o54x20c0dQ/rkY6NIbe+TNxVrLTosmLEBEpAtqt+X1BFE9d/pmK7nTNx63+YpAukmPBzQbEGivvej5MuSen46w2UO7jP26cRrm+XeKAEdtyu/Enai8ZQNy337y6neAZaXN2Jt1NQKsOvzyWRoF3/YDyHzbVmdPynVUFSBbvwBRoQ7mvwiyQyKBv56stbzQMs4D4WkHkbU5CHj3Jaik/H0yFXsvTEKgT+8lDM+VaSjKUeM+VCD9CanMxyP17U4EPpWNojTzquw3I/D+SdDtecG0rsRv5X+9EGlvv4wI+cZqyxdSbYRG5CaafqfvS6zfr03jmnjBZy6gaxpvt9q8pP7obtTPuBfBStslExEREV3HfiQ9K0h+TzTCrqA0MQzpk1/Gwc327qxa6WrEjvtj8LHqKNKWKrmjZZpGYvszKNq6xOpxMt06Ua4NhRpanNQEKZsPGkJXUPzbUCRPzMDJp2y1QR1Awy6ER51DdHEawifLadcCqSyviUFRaDb2bLRT/tsroF2iAf54FJq5bIRLRERENBDewaWraDxCVE/CO+cF/KVBThqA8U7f5dWIUNoL8vn9SD/sj6efshfcyp1PFfkj+VEGt1fF54ex+6gHYpc7EdxKpq2F5uEm/GFbWb+dSo02bUd3IrOzv2rznajNycBf/Z9BLINbIiIiIkUY4NLV5bECmmQPZGsyUNsup9nVibMnCzFt81oEKjnfl6o9v7odLqoNpjajtrTX4eWkPHhqErHsWrr7N5bc8iByPzyAx+6Qhx3mgsCNKYioT4KmYHBVpUdMezWyMyuwbPN6u9XmO2q2I+lNDyRr7F+cISIiIiJLrKJMY4+xt9srqMyMRbxuLQ5atKUkuorkZ97mPxWDXO+XsUdp1XwiIiIiUoR3cGmMkdrozoHfPZHIdVNbdRREdBW1lUETIMrm0hdQvygbuXJP4UREREQ0dHgHl4iIiIiIiMYE3sElIiIiIiKiMYEBLhEREREREY0JDHCJiIiIiIhoTGCAS0RERERERGMCA1wiIiIiIiIaExjgEhERERER0ZjAAJeIiIiIiIjGBAa4RERERERENCYwwCUiIiIiIqIxgQEuERERERERjQkMcImIiIiIiGhMYIBLREREREREYwIDXCIiIiIiIhoTGOASERERERHRGAD8/0PI3oemNx2hAAAAAElFTkSuQmCC)"
      ],
      "metadata": {
        "id": "0jgwFQcB-6Kc"
      }
    },
    {
      "cell_type": "code",
      "source": [
        "funcionParcial1 = 4*X**2*y + 5*y**2 - 7*X\n",
        "funcionParcial1"
      ],
      "metadata": {
        "colab": {
          "base_uri": "https://localhost:8080/",
          "height": 39
        },
        "id": "qNczJ35y8AL1",
        "outputId": "72fc1491-6b81-411a-967b-763a9dd16b9b"
      },
      "execution_count": 119,
      "outputs": [
        {
          "output_type": "execute_result",
          "data": {
            "text/plain": [
              "4*x**2*y - 7*x + 5*y**2"
            ],
            "text/latex": "$\\displaystyle 4 x^{2} y - 7 x + 5 y^{2}$"
          },
          "metadata": {},
          "execution_count": 119
        }
      ]
    },
    {
      "cell_type": "code",
      "source": [
        "funcionParcial2 = y**2/(1-sym.exp(X))\n",
        "funcionParcial2"
      ],
      "metadata": {
        "colab": {
          "base_uri": "https://localhost:8080/",
          "height": 55
        },
        "id": "zN04qPosAn84",
        "outputId": "69d7361e-3569-44a1-bd11-5f6ddcc48f44"
      },
      "execution_count": 120,
      "outputs": [
        {
          "output_type": "execute_result",
          "data": {
            "text/plain": [
              "y**2/(1 - exp(x))"
            ],
            "text/latex": "$\\displaystyle \\frac{y^{2}}{1 - e^{x}}$"
          },
          "metadata": {},
          "execution_count": 120
        }
      ]
    },
    {
      "cell_type": "code",
      "source": [
        "#Primero derivada respecto X\n",
        "sym.diff(funcionParcial1,X,1)"
      ],
      "metadata": {
        "colab": {
          "base_uri": "https://localhost:8080/",
          "height": 39
        },
        "id": "nBKlDKjnCUeR",
        "outputId": "0b4fdb28-3ecc-4d92-dabd-7531b25531cc"
      },
      "execution_count": 121,
      "outputs": [
        {
          "output_type": "execute_result",
          "data": {
            "text/plain": [
              "8*x*y - 7"
            ],
            "text/latex": "$\\displaystyle 8 x y - 7$"
          },
          "metadata": {},
          "execution_count": 121
        }
      ]
    },
    {
      "cell_type": "code",
      "source": [
        "#Primera derivada respecto y\n",
        "sym.diff(funcionParcial1,y,1)"
      ],
      "metadata": {
        "colab": {
          "base_uri": "https://localhost:8080/",
          "height": 39
        },
        "id": "zomZ4mHTCfbz",
        "outputId": "b704f8bb-ef7f-4722-8a50-7987c1fc9d3e"
      },
      "execution_count": 122,
      "outputs": [
        {
          "output_type": "execute_result",
          "data": {
            "text/plain": [
              "4*x**2 + 10*y"
            ],
            "text/latex": "$\\displaystyle 4 x^{2} + 10 y$"
          },
          "metadata": {},
          "execution_count": 122
        }
      ]
    },
    {
      "cell_type": "code",
      "source": [
        "#primera derivada respecto x \n",
        "sym.diff(funcionParcial2,X,1)"
      ],
      "metadata": {
        "colab": {
          "base_uri": "https://localhost:8080/",
          "height": 61
        },
        "id": "HNPC3DG4ClJi",
        "outputId": "ecf3035e-e3b3-41bb-92d6-185c5260c31b"
      },
      "execution_count": 123,
      "outputs": [
        {
          "output_type": "execute_result",
          "data": {
            "text/plain": [
              "y**2*exp(x)/(1 - exp(x))**2"
            ],
            "text/latex": "$\\displaystyle \\frac{y^{2} e^{x}}{\\left(1 - e^{x}\\right)^{2}}$"
          },
          "metadata": {},
          "execution_count": 123
        }
      ]
    },
    {
      "cell_type": "code",
      "source": [
        "#Primera derivada respecto a y\n",
        "sym.diff(funcionParcial2,y,1)"
      ],
      "metadata": {
        "colab": {
          "base_uri": "https://localhost:8080/",
          "height": 52
        },
        "id": "6EDLxTE3CnwX",
        "outputId": "aaede439-cfea-4be9-e89b-000406063dab"
      },
      "execution_count": 124,
      "outputs": [
        {
          "output_type": "execute_result",
          "data": {
            "text/plain": [
              "2*y/(1 - exp(x))"
            ],
            "text/latex": "$\\displaystyle \\frac{2 y}{1 - e^{x}}$"
          },
          "metadata": {},
          "execution_count": 124
        }
      ]
    },
    {
      "cell_type": "markdown",
      "source": [
        "Calcula la segunda derivada"
      ],
      "metadata": {
        "id": "dJX_0QLyDRaB"
      }
    },
    {
      "cell_type": "code",
      "source": [
        "funcionA = 3*X**5*y+y**3/(3)\n",
        "funcionA"
      ],
      "metadata": {
        "colab": {
          "base_uri": "https://localhost:8080/",
          "height": 54
        },
        "id": "Aokv_SlGCqgM",
        "outputId": "22ac5983-c906-46d4-b215-dc4d4a171c54"
      },
      "execution_count": 125,
      "outputs": [
        {
          "output_type": "execute_result",
          "data": {
            "text/plain": [
              "3*x**5*y + y**3/3"
            ],
            "text/latex": "$\\displaystyle 3 x^{5} y + \\frac{y^{3}}{3}$"
          },
          "metadata": {},
          "execution_count": 125
        }
      ]
    },
    {
      "cell_type": "markdown",
      "source": [
        "![image.png](data:image/png;base64,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)"
      ],
      "metadata": {
        "id": "XdMGAuW_VYOA"
      }
    },
    {
      "cell_type": "markdown",
      "source": [
        "![image.png](data:image/png;base64,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)"
      ],
      "metadata": {
        "id": "LNz9oDsfWQqA"
      }
    },
    {
      "cell_type": "code",
      "source": [
        "sym.asin(1)"
      ],
      "metadata": {
        "colab": {
          "base_uri": "https://localhost:8080/",
          "height": 47
        },
        "id": "xDGjNVPRV8gB",
        "outputId": "77dbd7cb-d25b-452a-8834-03ae57cf95b4"
      },
      "execution_count": 126,
      "outputs": [
        {
          "output_type": "execute_result",
          "data": {
            "text/plain": [
              "pi/2"
            ],
            "text/latex": "$\\displaystyle \\frac{\\pi}{2}$"
          },
          "metadata": {},
          "execution_count": 126
        }
      ]
    },
    {
      "cell_type": "code",
      "source": [
        "funcionB = sym.asin(X**3)/(sym.cos(2*y)**2)\n",
        "funcionB"
      ],
      "metadata": {
        "colab": {
          "base_uri": "https://localhost:8080/",
          "height": 60
        },
        "id": "6I2B1vRZEgGC",
        "outputId": "af20a0c6-2c8e-429c-8ddf-141772915ea0"
      },
      "execution_count": 127,
      "outputs": [
        {
          "output_type": "execute_result",
          "data": {
            "text/plain": [
              "asin(x**3)/cos(2*y)**2"
            ],
            "text/latex": "$\\displaystyle \\frac{\\operatorname{asin}{\\left(x^{3} \\right)}}{\\cos^{2}{\\left(2 y \\right)}}$"
          },
          "metadata": {},
          "execution_count": 127
        }
      ]
    },
    {
      "cell_type": "code",
      "source": [
        "#Segunda deriva a base de x\n",
        "sym.diff(funcionA,X,2)"
      ],
      "metadata": {
        "colab": {
          "base_uri": "https://localhost:8080/",
          "height": 39
        },
        "id": "PBofZg7ME-CB",
        "outputId": "587b3ac2-3595-45fd-9485-089d9282ad52"
      },
      "execution_count": 128,
      "outputs": [
        {
          "output_type": "execute_result",
          "data": {
            "text/plain": [
              "60*x**3*y"
            ],
            "text/latex": "$\\displaystyle 60 x^{3} y$"
          },
          "metadata": {},
          "execution_count": 128
        }
      ]
    },
    {
      "cell_type": "code",
      "source": [
        "#Segunda deriva a base y\n",
        "sym.diff(funcionA,y,2)"
      ],
      "metadata": {
        "colab": {
          "base_uri": "https://localhost:8080/",
          "height": 39
        },
        "id": "Lq8x6u7nVoo6",
        "outputId": "f9f81b14-1d09-4989-fc0c-9e82b468efd3"
      },
      "execution_count": 129,
      "outputs": [
        {
          "output_type": "execute_result",
          "data": {
            "text/plain": [
              "2*y"
            ],
            "text/latex": "$\\displaystyle 2 y$"
          },
          "metadata": {},
          "execution_count": 129
        }
      ]
    },
    {
      "cell_type": "code",
      "source": [
        "#Segunda deriva a base de x\n",
        "sym.diff(funcionB,X,2)"
      ],
      "metadata": {
        "colab": {
          "base_uri": "https://localhost:8080/",
          "height": 72
        },
        "id": "tFtT_qpGVy8K",
        "outputId": "187998ac-1751-40d8-a2fa-46518126b36b"
      },
      "execution_count": 130,
      "outputs": [
        {
          "output_type": "execute_result",
          "data": {
            "text/plain": [
              "-3*x*(3*x**6/(x**6 - 1) - 2)/(sqrt(1 - x**6)*cos(2*y)**2)"
            ],
            "text/latex": "$\\displaystyle - \\frac{3 x \\left(\\frac{3 x^{6}}{x^{6} - 1} - 2\\right)}{\\sqrt{1 - x^{6}} \\cos^{2}{\\left(2 y \\right)}}$"
          },
          "metadata": {},
          "execution_count": 130
        }
      ]
    },
    {
      "cell_type": "code",
      "source": [
        "#Segunda deriva a base de y\n",
        "sym.diff(funcionB,y,2)"
      ],
      "metadata": {
        "colab": {
          "base_uri": "https://localhost:8080/",
          "height": 70
        },
        "id": "yP5lttzNV1xb",
        "outputId": "c26ad811-227e-4d0a-d4d9-aed8fe71e056"
      },
      "execution_count": 131,
      "outputs": [
        {
          "output_type": "execute_result",
          "data": {
            "text/plain": [
              "8*(3*sin(2*y)**2/cos(2*y)**2 + 1)*asin(x**3)/cos(2*y)**2"
            ],
            "text/latex": "$\\displaystyle \\frac{8 \\left(\\frac{3 \\sin^{2}{\\left(2 y \\right)}}{\\cos^{2}{\\left(2 y \\right)}} + 1\\right) \\operatorname{asin}{\\left(x^{3} \\right)}}{\\cos^{2}{\\left(2 y \\right)}}$"
          },
          "metadata": {},
          "execution_count": 131
        }
      ]
    },
    {
      "cell_type": "markdown",
      "source": [
        "#Punto 3"
      ],
      "metadata": {
        "id": "BCGgbD2tWko9"
      }
    },
    {
      "cell_type": "markdown",
      "source": [
        "Investiga sobre diferentes implementaciones del algoritmo de propagación inversa y construye un ejemplo en Python donde se compruebe su funcionamiento"
      ],
      "metadata": {
        "id": "Sjp8TujHWm2Q"
      }
    },
    {
      "cell_type": "markdown",
      "source": [
        "https://www.youtube.com/watch?v=A7t0_I9z1IQ&ab_channel=CursoLaboral"
      ],
      "metadata": {
        "id": "0ccScgaQ2eaM"
      }
    },
    {
      "cell_type": "code",
      "source": [
        ""
      ],
      "metadata": {
        "id": "oBl0lhyTWj_g"
      },
      "execution_count": 131,
      "outputs": []
    },
    {
      "cell_type": "code",
      "metadata": {
        "id": "xM0km3ye2EhT"
      },
      "source": [
        "import numpy\n",
        "import matplotlib.pyplot"
      ],
      "execution_count": 132,
      "outputs": []
    },
    {
      "cell_type": "code",
      "metadata": {
        "id": "NwF0LDJE2Wka"
      },
      "source": [
        "def sigmoid(sop):\n",
        "    return 1.0/(1+numpy.exp(-1*sop))\n",
        "\n",
        "def error(predicted, target):\n",
        "    return numpy.power(predicted-target, 2)\n",
        "\n",
        "def error_predicted_deriv(predicted, target):\n",
        "    return 2*(predicted-target)\n",
        "\n",
        "def sigmoid_sop_deriv(sop):\n",
        "    return sigmoid(sop)*(1.0-sigmoid(sop))\n",
        "\n",
        "def sop_w_deriv(x):\n",
        "    return x\n",
        "\n",
        "def update_w(w, grad, learning_rate):\n",
        "    return w - learning_rate*grad"
      ],
      "execution_count": 133,
      "outputs": []
    },
    {
      "cell_type": "code",
      "metadata": {
        "colab": {
          "base_uri": "https://localhost:8080/"
        },
        "id": "SH1Q_bFi3NGp",
        "outputId": "dd8905bc-cf40-40fd-aad0-2a0d3cd897f3"
      },
      "source": [
        "x1=0.1\n",
        "x2=0.4\n",
        "\n",
        "valor_objetivo = 0.7\n",
        "razon_de_aprendizaje = 0.01\n",
        "\n",
        "w1=numpy.random.rand()\n",
        "w2=numpy.random.rand()\n",
        "\n",
        "print(\"Valor de los pesos W1 y W2 :\", w1, w2)\n",
        "\n",
        "predicted_output = []\n",
        "network_error = []"
      ],
      "execution_count": 134,
      "outputs": [
        {
          "output_type": "stream",
          "name": "stdout",
          "text": [
            "Valor de los pesos W1 y W2 : 0.21428561423521875 0.13627519201710037\n"
          ]
        }
      ]
    },
    {
      "cell_type": "code",
      "metadata": {
        "id": "3u9KXFat35Oa",
        "outputId": "6f2da8f6-f54b-452a-8f45-49df3fcb5e09",
        "colab": {
          "base_uri": "https://localhost:8080/"
        }
      },
      "source": [
        "old_err = 0\n",
        "for k in range(10000):\n",
        "  \n",
        "    # Paso hacia adelante\n",
        "    y = w1*x1 + w2*x2\n",
        "    predicted = sigmoid(y)\n",
        "    err = error(predicted, valor_objetivo)\n",
        "    \n",
        "    predicted_output.append(predicted)\n",
        "    network_error.append(err)\n",
        "\n",
        "    # Paso hacia atrás\n",
        "    g1 = error_predicted_deriv(predicted, valor_objetivo)\n",
        "\n",
        "    g2 = sigmoid_sop_deriv(y)\n",
        "    \n",
        "    g3w1 = sop_w_deriv(x1)\n",
        "    g3w2 = sop_w_deriv(x2)\n",
        "    \n",
        "    gradw1 = g3w1*g2*g1\n",
        "    gradw2 = g3w2*g2*g1\n",
        "\n",
        "    w1 = update_w(w1, gradw1, razon_de_aprendizaje)\n",
        "    w2 = update_w(w2, gradw2, razon_de_aprendizaje)\n",
        "\n",
        "print(predicted)"
      ],
      "execution_count": 135,
      "outputs": [
        {
          "output_type": "stream",
          "name": "stdout",
          "text": [
            "0.6717608651393208\n"
          ]
        }
      ]
    },
    {
      "cell_type": "code",
      "metadata": {
        "id": "qPmXOWi14m_6",
        "outputId": "54562733-b388-46cf-b772-51287d715a90",
        "colab": {
          "base_uri": "https://localhost:8080/"
        }
      },
      "source": [
        "print(\"Valor de los pesos W1 y W2 :\", w1, w2)"
      ],
      "execution_count": 136,
      "outputs": [
        {
          "output_type": "stream",
          "name": "stdout",
          "text": [
            "Valor de los pesos W1 y W2 : 0.590898874106818 1.6427282315035094\n"
          ]
        }
      ]
    }
  ]
}