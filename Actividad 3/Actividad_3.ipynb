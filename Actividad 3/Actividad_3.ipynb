{
  "nbformat": 4,
  "nbformat_minor": 0,
  "metadata": {
    "colab": {
      "name": "Actividad 3.ipynb",
      "provenance": [],
      "collapsed_sections": [
        "BCGgbD2tWko9"
      ]
    },
    "kernelspec": {
      "name": "python3",
      "display_name": "Python 3"
    },
    "language_info": {
      "name": "python"
    }
  },
  "cells": [
    {
      "cell_type": "code",
      "execution_count": null,
      "metadata": {
        "id": "8YoSvXa5mEps"
      },
      "outputs": [],
      "source": [
        "import sympy as sym"
      ]
    },
    {
      "cell_type": "markdown",
      "source": [
        "#Punto 1"
      ],
      "metadata": {
        "id": "dnoHVLauFEHu"
      }
    },
    {
      "cell_type": "markdown",
      "source": [
        "![image.png](data:image/png;base64,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)"
      ],
      "metadata": {
        "id": "5j_b0dt8FQ3r"
      }
    },
    {
      "cell_type": "code",
      "source": [
        "#Declaramos los simbolos correspodientes \n",
        "X,y= sym.symbols('x y')"
      ],
      "metadata": {
        "id": "cIBthPSevx1J"
      },
      "execution_count": null,
      "outputs": []
    },
    {
      "cell_type": "code",
      "source": [
        "sym.exp(5)"
      ],
      "metadata": {
        "colab": {
          "base_uri": "https://localhost:8080/",
          "height": 39
        },
        "id": "87162wiR-_jC",
        "outputId": "09d23605-4e96-4f4c-e0d0-9c4cb013477d"
      },
      "execution_count": null,
      "outputs": [
        {
          "output_type": "execute_result",
          "data": {
            "text/plain": [
              "exp(5)"
            ],
            "text/latex": "$\\displaystyle e^{5}$"
          },
          "metadata": {},
          "execution_count": 5
        }
      ]
    },
    {
      "cell_type": "code",
      "source": [
        "funcion1 = 3*X + 4*sym.exp(-(4*X))\n",
        "funcion1"
      ],
      "metadata": {
        "colab": {
          "base_uri": "https://localhost:8080/",
          "height": 39
        },
        "id": "-SMsAuEA_Erp",
        "outputId": "bdf7f396-457e-4600-8a5a-799b95f65355"
      },
      "execution_count": null,
      "outputs": [
        {
          "output_type": "execute_result",
          "data": {
            "text/plain": [
              "3*x + 4*exp(-4*x)"
            ],
            "text/latex": "$\\displaystyle 3 x + 4 e^{- 4 x}$"
          },
          "metadata": {},
          "execution_count": 6
        }
      ]
    },
    {
      "cell_type": "code",
      "source": [
        "funcion2 = 5*X**(3*X+1)-8*X**2-3*X\n",
        "funcion2"
      ],
      "metadata": {
        "colab": {
          "base_uri": "https://localhost:8080/",
          "height": 39
        },
        "id": "aoSp0_UFIbxu",
        "outputId": "0ce57fbb-1107-4623-bb47-7f0044145b87"
      },
      "execution_count": null,
      "outputs": [
        {
          "output_type": "execute_result",
          "data": {
            "text/plain": [
              "-8*x**2 - 3*x + 5*x**(3*x + 1)"
            ],
            "text/latex": "$\\displaystyle - 8 x^{2} - 3 x + 5 x^{3 x + 1}$"
          },
          "metadata": {},
          "execution_count": 7
        }
      ]
    },
    {
      "cell_type": "code",
      "source": [
        "#Comprobacion https://www.youtube.com/watch?v=bEmCMdwXy5o&ab_channel=Matem%C3%A1ticasprofeAlex\n",
        "derivadaFuncion1 = sym.diff(funcion1)\n",
        "derivadaFuncion1"
      ],
      "metadata": {
        "colab": {
          "base_uri": "https://localhost:8080/",
          "height": 39
        },
        "id": "nlhYZ8csJImK",
        "outputId": "3da0a293-dae4-4969-e377-6d7fd41a9bea"
      },
      "execution_count": null,
      "outputs": [
        {
          "output_type": "execute_result",
          "data": {
            "text/plain": [
              "3 - 16*exp(-4*x)"
            ],
            "text/latex": "$\\displaystyle 3 - 16 e^{- 4 x}$"
          },
          "metadata": {},
          "execution_count": 8
        }
      ]
    },
    {
      "cell_type": "code",
      "source": [
        "derivadaFuncion2 = sym.diff(funcion2)\n",
        "derivadaFuncion2"
      ],
      "metadata": {
        "colab": {
          "base_uri": "https://localhost:8080/",
          "height": 58
        },
        "id": "CmNwL-fZNHdI",
        "outputId": "f6323f84-e038-4bce-8884-495b4b8a2004"
      },
      "execution_count": null,
      "outputs": [
        {
          "output_type": "execute_result",
          "data": {
            "text/plain": [
              "-16*x + 5*x**(3*x + 1)*(3*log(x) + (3*x + 1)/x) - 3"
            ],
            "text/latex": "$\\displaystyle - 16 x + 5 x^{3 x + 1} \\left(3 \\log{\\left(x \\right)} + \\frac{3 x + 1}{x}\\right) - 3$"
          },
          "metadata": {},
          "execution_count": 9
        }
      ]
    },
    {
      "cell_type": "markdown",
      "source": [
        "Encontra la segunda derivada "
      ],
      "metadata": {
        "id": "mt86wLdbcVdR"
      }
    },
    {
      "cell_type": "code",
      "source": [
        "funcion3 = 4*X**4+6*X**2+sym.exp(-(4*X))\n",
        "funcion3"
      ],
      "metadata": {
        "colab": {
          "base_uri": "https://localhost:8080/",
          "height": 39
        },
        "id": "GLhXYAVUQmon",
        "outputId": "5b16c730-505d-49e8-8096-ce8d8687f7bf"
      },
      "execution_count": null,
      "outputs": [
        {
          "output_type": "execute_result",
          "data": {
            "text/plain": [
              "4*x**4 + 6*x**2 + exp(-4*x)"
            ],
            "text/latex": "$\\displaystyle 4 x^{4} + 6 x^{2} + e^{- 4 x}$"
          },
          "metadata": {},
          "execution_count": 10
        }
      ]
    },
    {
      "cell_type": "code",
      "source": [
        "funcion4 = 1/(8*X +(2*X**3))\n",
        "funcion4"
      ],
      "metadata": {
        "colab": {
          "base_uri": "https://localhost:8080/",
          "height": 52
        },
        "id": "6d_BYqglR0AX",
        "outputId": "3f890ef3-5710-4717-e868-3ab830eaf100"
      },
      "execution_count": null,
      "outputs": [
        {
          "output_type": "execute_result",
          "data": {
            "text/plain": [
              "1/(2*x**3 + 8*x)"
            ],
            "text/latex": "$\\displaystyle \\frac{1}{2 x^{3} + 8 x}$"
          },
          "metadata": {},
          "execution_count": 11
        }
      ]
    },
    {
      "cell_type": "code",
      "source": [
        "derivadaFuncioon3 = sym.diff(funcion3,X,2)\n",
        "derivadaFuncioon3"
      ],
      "metadata": {
        "colab": {
          "base_uri": "https://localhost:8080/",
          "height": 39
        },
        "id": "Fo5IlBYxjsDV",
        "outputId": "2e4240a1-34f3-48b7-ba87-ce2f5861477b"
      },
      "execution_count": null,
      "outputs": [
        {
          "output_type": "execute_result",
          "data": {
            "text/plain": [
              "4*(12*x**2 + 3 + 4*exp(-4*x))"
            ],
            "text/latex": "$\\displaystyle 4 \\left(12 x^{2} + 3 + 4 e^{- 4 x}\\right)$"
          },
          "metadata": {},
          "execution_count": 12
        }
      ]
    },
    {
      "cell_type": "code",
      "source": [
        "derivadaFuncioon4 = sym.diff(funcion4,X,2)\n",
        "derivadaFuncioon4"
      ],
      "metadata": {
        "colab": {
          "base_uri": "https://localhost:8080/",
          "height": 74
        },
        "id": "3PiCZ4hQcj1A",
        "outputId": "d2764433-2302-495c-abc3-be6d8c078678"
      },
      "execution_count": null,
      "outputs": [
        {
          "output_type": "execute_result",
          "data": {
            "text/plain": [
              "(-3 + (3*x**2 + 4)**2/(x**2*(x**2 + 4)))/(x*(x**2 + 4)**2)"
            ],
            "text/latex": "$\\displaystyle \\frac{-3 + \\frac{\\left(3 x^{2} + 4\\right)^{2}}{x^{2} \\left(x^{2} + 4\\right)}}{x \\left(x^{2} + 4\\right)^{2}}$"
          },
          "metadata": {},
          "execution_count": 13
        }
      ]
    },
    {
      "cell_type": "markdown",
      "source": [
        "#Punto 2"
      ],
      "metadata": {
        "id": "6dR5JsBX-3U8"
      }
    },
    {
      "cell_type": "markdown",
      "source": [
        "![image.png](data:image/png;base64,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)"
      ],
      "metadata": {
        "id": "0jgwFQcB-6Kc"
      }
    },
    {
      "cell_type": "code",
      "source": [
        "funcionParcial1 = 4*X**2*y + 5*y**2 - 7*X\n",
        "funcionParcial1"
      ],
      "metadata": {
        "colab": {
          "base_uri": "https://localhost:8080/",
          "height": 39
        },
        "id": "qNczJ35y8AL1",
        "outputId": "1d8f9714-e4ad-4b61-ee6d-59211d8afed2"
      },
      "execution_count": null,
      "outputs": [
        {
          "output_type": "execute_result",
          "data": {
            "text/plain": [
              "4*x**2*y - 7*x + 5*y**2"
            ],
            "text/latex": "$\\displaystyle 4 x^{2} y - 7 x + 5 y^{2}$"
          },
          "metadata": {},
          "execution_count": 14
        }
      ]
    },
    {
      "cell_type": "code",
      "source": [
        "funcionParcial2 = y**2/(1-sym.exp(X))\n",
        "funcionParcial2"
      ],
      "metadata": {
        "colab": {
          "base_uri": "https://localhost:8080/",
          "height": 55
        },
        "id": "zN04qPosAn84",
        "outputId": "2f34d49a-d199-4d28-9c38-1b5841764634"
      },
      "execution_count": null,
      "outputs": [
        {
          "output_type": "execute_result",
          "data": {
            "text/plain": [
              "y**2/(1 - exp(x))"
            ],
            "text/latex": "$\\displaystyle \\frac{y^{2}}{1 - e^{x}}$"
          },
          "metadata": {},
          "execution_count": 15
        }
      ]
    },
    {
      "cell_type": "code",
      "source": [
        "#Primero derivada respecto X\n",
        "sym.diff(funcionParcial1,X,1)"
      ],
      "metadata": {
        "colab": {
          "base_uri": "https://localhost:8080/",
          "height": 39
        },
        "id": "nBKlDKjnCUeR",
        "outputId": "3bc46ff6-830a-4960-a968-51509d9a1ccd"
      },
      "execution_count": null,
      "outputs": [
        {
          "output_type": "execute_result",
          "data": {
            "text/plain": [
              "8*x*y - 7"
            ],
            "text/latex": "$\\displaystyle 8 x y - 7$"
          },
          "metadata": {},
          "execution_count": 16
        }
      ]
    },
    {
      "cell_type": "code",
      "source": [
        "#Primera derivada respecto y\n",
        "sym.diff(funcionParcial1,y,1)"
      ],
      "metadata": {
        "colab": {
          "base_uri": "https://localhost:8080/",
          "height": 39
        },
        "id": "zomZ4mHTCfbz",
        "outputId": "1d98db8e-cfc3-4db1-971f-0781e194421f"
      },
      "execution_count": null,
      "outputs": [
        {
          "output_type": "execute_result",
          "data": {
            "text/plain": [
              "4*x**2 + 10*y"
            ],
            "text/latex": "$\\displaystyle 4 x^{2} + 10 y$"
          },
          "metadata": {},
          "execution_count": 17
        }
      ]
    },
    {
      "cell_type": "code",
      "source": [
        "#primera derivada respecto x \n",
        "sym.diff(funcionParcial2,X,1)"
      ],
      "metadata": {
        "colab": {
          "base_uri": "https://localhost:8080/",
          "height": 61
        },
        "id": "HNPC3DG4ClJi",
        "outputId": "57d56450-bc54-4f92-e8d8-9cd897d63f6c"
      },
      "execution_count": null,
      "outputs": [
        {
          "output_type": "execute_result",
          "data": {
            "text/plain": [
              "y**2*exp(x)/(1 - exp(x))**2"
            ],
            "text/latex": "$\\displaystyle \\frac{y^{2} e^{x}}{\\left(1 - e^{x}\\right)^{2}}$"
          },
          "metadata": {},
          "execution_count": 18
        }
      ]
    },
    {
      "cell_type": "code",
      "source": [
        "#Primera derivada respecto a y\n",
        "sym.diff(funcionParcial2,y,1)"
      ],
      "metadata": {
        "colab": {
          "base_uri": "https://localhost:8080/",
          "height": 52
        },
        "id": "6EDLxTE3CnwX",
        "outputId": "9b3301b5-9060-4f7f-f1bd-7039eb891844"
      },
      "execution_count": null,
      "outputs": [
        {
          "output_type": "execute_result",
          "data": {
            "text/plain": [
              "2*y/(1 - exp(x))"
            ],
            "text/latex": "$\\displaystyle \\frac{2 y}{1 - e^{x}}$"
          },
          "metadata": {},
          "execution_count": 19
        }
      ]
    },
    {
      "cell_type": "markdown",
      "source": [
        "Calcula la segunda derivada"
      ],
      "metadata": {
        "id": "dJX_0QLyDRaB"
      }
    },
    {
      "cell_type": "code",
      "source": [
        "funcionA = 3*X**5*y+y**3/(3)\n",
        "funcionA"
      ],
      "metadata": {
        "colab": {
          "base_uri": "https://localhost:8080/",
          "height": 54
        },
        "id": "Aokv_SlGCqgM",
        "outputId": "eacb7860-dd3b-41e7-fa50-ad7e2645d1a1"
      },
      "execution_count": null,
      "outputs": [
        {
          "output_type": "execute_result",
          "data": {
            "text/plain": [
              "3*x**5*y + y**3/3"
            ],
            "text/latex": "$\\displaystyle 3 x^{5} y + \\frac{y^{3}}{3}$"
          },
          "metadata": {},
          "execution_count": 20
        }
      ]
    },
    {
      "cell_type": "markdown",
      "source": [
        "![image.png](data:image/png;base64,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)"
      ],
      "metadata": {
        "id": "XdMGAuW_VYOA"
      }
    },
    {
      "cell_type": "markdown",
      "source": [
        "![image.png](data:image/png;base64,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)"
      ],
      "metadata": {
        "id": "LNz9oDsfWQqA"
      }
    },
    {
      "cell_type": "code",
      "source": [
        "sym.asin(1)"
      ],
      "metadata": {
        "colab": {
          "base_uri": "https://localhost:8080/",
          "height": 47
        },
        "id": "xDGjNVPRV8gB",
        "outputId": "e054cc91-844a-4b2f-b8e6-5cc4d7540379"
      },
      "execution_count": null,
      "outputs": [
        {
          "output_type": "execute_result",
          "data": {
            "text/plain": [
              "pi/2"
            ],
            "text/latex": "$\\displaystyle \\frac{\\pi}{2}$"
          },
          "metadata": {},
          "execution_count": 21
        }
      ]
    },
    {
      "cell_type": "code",
      "source": [
        "funcionB = sym.asin(X**3)/(sym.cos(2*y)**2)\n",
        "funcionB"
      ],
      "metadata": {
        "colab": {
          "base_uri": "https://localhost:8080/",
          "height": 60
        },
        "id": "6I2B1vRZEgGC",
        "outputId": "440f2311-16f4-4af5-d5e7-1a4a49ab6714"
      },
      "execution_count": null,
      "outputs": [
        {
          "output_type": "execute_result",
          "data": {
            "text/plain": [
              "asin(x**3)/cos(2*y)**2"
            ],
            "text/latex": "$\\displaystyle \\frac{\\operatorname{asin}{\\left(x^{3} \\right)}}{\\cos^{2}{\\left(2 y \\right)}}$"
          },
          "metadata": {},
          "execution_count": 22
        }
      ]
    },
    {
      "cell_type": "code",
      "source": [
        "#Segunda deriva a base de x\n",
        "sym.diff(funcionA,X,2)"
      ],
      "metadata": {
        "colab": {
          "base_uri": "https://localhost:8080/",
          "height": 39
        },
        "id": "PBofZg7ME-CB",
        "outputId": "46e16a31-be73-419b-9e53-1f9f903c7e11"
      },
      "execution_count": null,
      "outputs": [
        {
          "output_type": "execute_result",
          "data": {
            "text/plain": [
              "60*x**3*y"
            ],
            "text/latex": "$\\displaystyle 60 x^{3} y$"
          },
          "metadata": {},
          "execution_count": 23
        }
      ]
    },
    {
      "cell_type": "code",
      "source": [
        "#Segunda deriva a base y\n",
        "sym.diff(funcionA,y,2)"
      ],
      "metadata": {
        "colab": {
          "base_uri": "https://localhost:8080/",
          "height": 39
        },
        "id": "Lq8x6u7nVoo6",
        "outputId": "2f47bfb3-3fe6-46c8-ffe7-b9708a81a459"
      },
      "execution_count": null,
      "outputs": [
        {
          "output_type": "execute_result",
          "data": {
            "text/plain": [
              "2*y"
            ],
            "text/latex": "$\\displaystyle 2 y$"
          },
          "metadata": {},
          "execution_count": 24
        }
      ]
    },
    {
      "cell_type": "code",
      "source": [
        "#Segunda deriva a base de x\n",
        "sym.diff(funcionB,X,2)"
      ],
      "metadata": {
        "colab": {
          "base_uri": "https://localhost:8080/",
          "height": 72
        },
        "id": "tFtT_qpGVy8K",
        "outputId": "4c1a8f4f-09b8-41e2-d4f9-d869d9f7943d"
      },
      "execution_count": null,
      "outputs": [
        {
          "output_type": "execute_result",
          "data": {
            "text/plain": [
              "-3*x*(3*x**6/(x**6 - 1) - 2)/(sqrt(1 - x**6)*cos(2*y)**2)"
            ],
            "text/latex": "$\\displaystyle - \\frac{3 x \\left(\\frac{3 x^{6}}{x^{6} - 1} - 2\\right)}{\\sqrt{1 - x^{6}} \\cos^{2}{\\left(2 y \\right)}}$"
          },
          "metadata": {},
          "execution_count": 25
        }
      ]
    },
    {
      "cell_type": "code",
      "source": [
        "#Segunda deriva a base de y\n",
        "sym.diff(funcionB,y,2)"
      ],
      "metadata": {
        "colab": {
          "base_uri": "https://localhost:8080/",
          "height": 70
        },
        "id": "yP5lttzNV1xb",
        "outputId": "585e7b24-06ce-48d2-9d18-01f3bfaac3e6"
      },
      "execution_count": null,
      "outputs": [
        {
          "output_type": "execute_result",
          "data": {
            "text/plain": [
              "8*(3*sin(2*y)**2/cos(2*y)**2 + 1)*asin(x**3)/cos(2*y)**2"
            ],
            "text/latex": "$\\displaystyle \\frac{8 \\left(\\frac{3 \\sin^{2}{\\left(2 y \\right)}}{\\cos^{2}{\\left(2 y \\right)}} + 1\\right) \\operatorname{asin}{\\left(x^{3} \\right)}}{\\cos^{2}{\\left(2 y \\right)}}$"
          },
          "metadata": {},
          "execution_count": 26
        }
      ]
    },
    {
      "cell_type": "markdown",
      "source": [
        "#Punto 3"
      ],
      "metadata": {
        "id": "BCGgbD2tWko9"
      }
    },
    {
      "cell_type": "markdown",
      "source": [
        "Investiga sobre diferentes implementaciones del algoritmo de propagación inversa y construye un ejemplo en Python donde se compruebe su funcionamiento"
      ],
      "metadata": {
        "id": "Sjp8TujHWm2Q"
      }
    },
    {
      "cell_type": "markdown",
      "source": [
        "https://www.youtube.com/watch?v=A7t0_I9z1IQ&ab_channel=CursoLaboral"
      ],
      "metadata": {
        "id": "0ccScgaQ2eaM"
      }
    },
    {
      "cell_type": "code",
      "source": [
        ""
      ],
      "metadata": {
        "id": "oBl0lhyTWj_g"
      },
      "execution_count": null,
      "outputs": []
    },
    {
      "cell_type": "code",
      "metadata": {
        "id": "xM0km3ye2EhT"
      },
      "source": [
        "import numpy\n",
        "import matplotlib.pyplot"
      ],
      "execution_count": null,
      "outputs": []
    },
    {
      "cell_type": "code",
      "metadata": {
        "id": "NwF0LDJE2Wka"
      },
      "source": [
        "def sigmoid(sop):\n",
        "    return 1.0/(1+numpy.exp(-1*sop))\n",
        "\n",
        "def error(predicted, target):\n",
        "    return numpy.power(predicted-target, 2)\n",
        "\n",
        "def error_predicted_deriv(predicted, target):\n",
        "    return 2*(predicted-target)\n",
        "\n",
        "def sigmoid_sop_deriv(sop):\n",
        "    return sigmoid(sop)*(1.0-sigmoid(sop))\n",
        "\n",
        "def sop_w_deriv(x):\n",
        "    return x\n",
        "\n",
        "def update_w(w, grad, learning_rate):\n",
        "    return w - learning_rate*grad"
      ],
      "execution_count": null,
      "outputs": []
    },
    {
      "cell_type": "code",
      "metadata": {
        "colab": {
          "base_uri": "https://localhost:8080/"
        },
        "id": "SH1Q_bFi3NGp",
        "outputId": "40b7715f-fd75-49bd-ebf7-696827e06222"
      },
      "source": [
        "x1=0.1\n",
        "x2=0.4\n",
        "\n",
        "valor_objetivo = 0.7\n",
        "razon_de_aprendizaje = 0.01\n",
        "\n",
        "w1=numpy.random.rand()\n",
        "w2=numpy.random.rand()\n",
        "\n",
        "print(\"Valor de los pesos W1 y W2 :\", w1, w2)\n",
        "\n",
        "predicted_output = []\n",
        "network_error = []"
      ],
      "execution_count": null,
      "outputs": [
        {
          "output_type": "stream",
          "name": "stdout",
          "text": [
            "Valor de los pesos W1 y W2 : 0.11276746627134615 0.6776662760802781\n"
          ]
        }
      ]
    },
    {
      "cell_type": "code",
      "metadata": {
        "id": "3u9KXFat35Oa",
        "outputId": "b4eda70e-aa71-425a-eb87-7ed227683138",
        "colab": {
          "base_uri": "https://localhost:8080/"
        }
      },
      "source": [
        "old_err = 0\n",
        "for k in range(10000):\n",
        "  \n",
        "    # Paso hacia adelante\n",
        "    y = w1*x1 + w2*x2\n",
        "    predicted = sigmoid(y)\n",
        "    err = error(predicted, valor_objetivo)\n",
        "    \n",
        "    predicted_output.append(predicted)\n",
        "    network_error.append(err)\n",
        "\n",
        "    # Paso hacia atrás\n",
        "    g1 = error_predicted_deriv(predicted, valor_objetivo)\n",
        "\n",
        "    g2 = sigmoid_sop_deriv(y)\n",
        "    \n",
        "    g3w1 = sop_w_deriv(x1)\n",
        "    g3w2 = sop_w_deriv(x2)\n",
        "    \n",
        "    gradw1 = g3w1*g2*g1\n",
        "    gradw2 = g3w2*g2*g1\n",
        "\n",
        "    w1 = update_w(w1, gradw1, razon_de_aprendizaje)\n",
        "    w2 = update_w(w2, gradw2, razon_de_aprendizaje)\n",
        "\n",
        "print(predicted)"
      ],
      "execution_count": null,
      "outputs": [
        {
          "output_type": "stream",
          "name": "stdout",
          "text": [
            "0.6782344767696243\n"
          ]
        }
      ]
    },
    {
      "cell_type": "code",
      "metadata": {
        "id": "qPmXOWi14m_6",
        "outputId": "3977043b-536c-4946-831e-1867ac440b10",
        "colab": {
          "base_uri": "https://localhost:8080/"
        }
      },
      "source": [
        "print(\"Valor de los pesos W1 y W2 :\", w1, w2)"
      ],
      "execution_count": null,
      "outputs": [
        {
          "output_type": "stream",
          "name": "stdout",
          "text": [
            "Valor de los pesos W1 y W2 : 0.3853220929100203 1.767884782634973\n"
          ]
        }
      ]
    },
    {
      "cell_type": "markdown",
      "source": [
        "# Actividad 3 Parte 2\n"
      ],
      "metadata": {
        "id": "Q_q45kkO7ymc"
      }
    },
    {
      "cell_type": "markdown",
      "source": [
        "![image.png](data:image/png;base64,iVBORw0KGgoAAAANSUhEUgAAAuoAAADwCAYAAABWtUFyAAAgAElEQVR4nOydv08bWff/389Xn/8AN5tmSZHdBjmOGxjXxEQCubVkK8grBSVLinUBHWG9fqhipLgJSsRKa/kRSJRYIAVCbS8NAsfNJgWkYYsMf8N8i/nhe+/cmbkzHoMh5yWtNtgzd84995xzz8w9d/wfwzAMEARBEARBEAQxUvy/mxaAIAiCIAiCIAg3lKgTBEEQBEEQxAhCiTpBEARBEARBjCCUqBMEQRAEQRDECEKJOkEQBEEQBEGMIJSoEwRBEARBEMQIQok6QRAEQRAEQYwglKgTBEEQBEEQxAhCiTpBEARBEARBjCCUqBMEQRAEQRDECEKJOkEQBEEQBEGMILc0Ub9C66WGxdaV+ae+j8W0hlr3ZqXqY8qXWu/5HtVd15B6uQ/9mqQKjb6PxXQZrREQsLserE8pI2cbxOjRQy3NxJMbR4hvo8wIxYg4GPmYfNMMa7y7daTSdcjDtNp8OjhD8rs75iPE9RM6UddbZQpkxPXSrWP+fAVHSxM3LQlxB+muL+C8soeN3NhNi0IQhEj3f1gFxX8HfR+L0psa64Ymbf8nOcZ6cOUcI7v56daZNugh1yhwS5+oCyRmsXHSwXLypgWxGUPubQenTGCR3eAklzo4fTuLxPULeEOYTy7DOf4VWu8vUP0jop5GzjaIQYj9QYG+j3fnK6hSkn5z+D5NvV7CxGR6aHUd9FArDRD/7xJ2Ap1dQ9v15RVaL+ewen8TpycdnJ500CzsYJ61T30fi9k13G90rGM2Udxe4FcQunWkSheoHlrHNPLYKtFqwE1zNxJ14k6T+aOO3HcfpYnhMIXqd3WzTBC3iQksn1D8N29YdlBsmMmzi+7/sNrJo8k8HEwubaLYWcNf1h1wt7GGdmGTeWg1geVGHu3K/6yb5Cu03u8gU3nV13eyjGbhGKuNYZcdEX4MIVEXl18kT1DF5ZegpxLC8YutfyXf83d93XUPGZynN+bT3X6b7ro0vVXm2nAtE3n2g611M/89XTkGOmuYZo5j667lNdjumrnoMqnpNrgOkNebrH2pjN06UukFbAHYKjFjYo9d15aDfbLWQy09h+ms3ZZwZ++Mu89YSusDA2xUWPpz91E8P+iJg6Cz9Z4w3j3UJG3IbELUbeDqhNgXrr3gsQzsCyd3sO/bfeL7ITxNldqwtx85Pm339eU+dCWdXqH1+xxWXfbipZO+P3LxRUFvnvEoAF89BbYbYKehfV+Up4zWpewg9Xa76xpSpR0AO5hn++gZF0T7E3Ri24Igg6peXD4X1halMnrELUnMC/LvcHbk799KvqhAFNvmz/G4ZqAd+cWbADuRtO/KK+AeD5X6dSUfCR17J7ActDKsPcA94ZyZAnB+0Zc589MP/DnJaRRxgQsdgP43PnQm8STDry7e+2kSOP9KK0c3iRGSb7u/GQ8X94xv0m8/Ga8fTRkPa5+YE/aMXx9NGb/u6twxr8/sA3Rjt+bVXv/8/vGGcVabMh6ybX7bM3599Jux+81DxrM3/fPP3hgPH00ZDx+9MZwmXTLa12COMXRjd3GKadevH+axbHsyvZ3VGF2dvRGu5/5sMJkkCHpz2rNlcn0vtm/JxPTLLeMn47VjD+7zbd27bEoyJvbYOefb57LXO3tjPGRl9ugDZ6OMfXzb/Y0/X9InbtwMw/i2+4Y7nse8nssWOBk+Ga+Fa8qvI9iQxDc4ZH33GQtxLOXtiX2x+67i+xLfFW0uwIal8cf2afbaSjp1++lZTeJfwvGcDUrG18W3PeO1y47dsvXpX8c3JgW062unQb4v68bub27ffjQV4G/B7Upjn0dcEH3NZbO2LSwKNqPov/x3EWwxTNxy9c3fv33nNReqsdrPFyWI4xvatiVjJovjgXYUFMcD7EQlr+DipfwcESUfiRJ7WRRyBRNeZ6Ldu/okbcPnc+LaiPWJut76E1uasOkjMYtqZRLtg7/NOzL9K84xiZ+dW78x5Ja8l57dyzVAcmkPVc1bjsvPx8D9H/ttJsvCnegkqodlOB+5ZNzHu23hGIwh98cKMp2PaOvh+xFIchpF7OCAue3vHu4AhWlThiHI1G2sAewyF8aQe54Hto+kTzj01p/YEseixF5fJuMElhU2ARWf83La485t8EuW0SwAW4f8k5Vig7le8imq2jE+tOVPPqQ26thHD39VjlFs8EutyaVNZmyucHHOP5lI5MqeS7P29dga6ESujmbBQxGe9PBXBXytZmIWLyT6cLj8gjbGMe6c0B+LwLGUIBsTu+9Kvm/D6UOwuch+NYlqafDNZskl3r8yM5KnScLy8S+yPrIkZrHM2fE0ijjGP9Inbfx1WF3zdhjUrr+dhvX9vm8Ivn24ggxzVPh2/RHjguhryWwe6HwBr8pJzk8SuWfR/DeCLYaKW1zfgv07eF5jRFf1bz9fVCGsbdtzhNDPDaGcI8iO/ON4sJ2o5RXC3JWYwhONf0LNo+YjUWJvIFb+MM+sOuit/2K1wxySzQPbC8yqwxVav8vq3YlR4//ibOzy8zEyM69cgSyReYxMxXSSRGIWLwprmM9qWC1schsu3ZhBtfg83AScLK0gk11AansS1UNZfRubvFgyjo87jpy4/IK29hhVV0em8ERbM4NQMkw/VDAn/OnDHpaTEwB6ONieRPXQajd2mUzdtrfnkKqI30lq4GBNFNvHSG2L30ziiZ+MgbCTYV822bgns3ng/VfomLDsTDzXHy8bBWBNzHm8cE1+5hLiu4srIGlOGKulOaQqeTRP2KAc8nph0L/iHMfYympYFb/zSvqTT1HV5jCf3kFGeKtJ4Fi68PdFJd+3P2STDZFQ8YHF7dNR6a5rmGf1oj3mvnctH6tgbeRiJ8ViwCnu6/yAnzXgg2WH/u362Wl43/f2DZYI7foi9229VTbLTjzb9rOFEP4b2hYHiFsK/h08r/VR9m8/X1QljG0rzRHBdqQSV73tJExe0UPNKtm0ycx4XVDFR6LEXhUmsHyyCaQXnHYzlT00C3N4Z8eRZBmnDSBV0qz+TKJ6uIli9k/TFoMeHBA3RqyJuirJpQ5Ol8xdyqk0gFgSXYbELDZOZs16xayGVQQHtijE3Q8zqTlCd2kCye4RtrTHOAopc1iZio1wb0QREz6O78XRk2WcnpTNiSCtAQhO2OMh7HXMtw/lrFr/VIUfP9+xvEGGHh+8sBOOwiZOT+yVhzKmDwZr1kz8J1E97GAjAdiT/6AEthtgp2F9X5VhteskTdoKjk7qZpLWrSNVCtlMCP+9XlsMvnEIM69dh38Py7YBfzvyf+Ifj53YiX6x0cFpErDfrPIhXDNShjM2Vh278/cVWi+B+1l+def0pNz/W9/HIsYxkwCAB8jgIy50IMnYlH5xAWiPEeJ5GBEzsZa+3PtJvgSstz+i7droYL3CsBG81OZe2v8X/3Skh/Ikyzg92fMthbDhykzuPZAvQ1mbLfinPOr9CCQxhSeauUTbPdxBZmaq/8QgdpnGMH7fp2xCgtf49g/wkDE03rJ1D3cGegrk24fEj7gvlB+Z9HCwDdwf5wNrIlc3X3ElPaeP+3rmEx0ecblYOMZTNhXMAH7ElGgEjqULf3sJ5/tq1xvcrwJ0KmDKGvf7mk3bEcupIsFt9lJv122n4X3fRGJ/l1+YJ6lR21Wke4Qt5NGM6S09qv6rbosDxK0w/q0wr4X37yhEtG3JHKFfXDB/BduRb/8U7cQ/r7hC++AYmcpeyJvOIB+5rrGB8yaYGR/5zRIgK+9J/Ij7krIlc/Viit6MdYPEmqgncs9Q7KxhWtg1v1o57tfj6fuoKf/yl12XtsDtJO+u80tRIt31oJ3rwvtFu3XMbwPFrDVBJ2bxonCM1SzbjlXPVXhmBqVQ/eBLa7wx+7t1WMfBdh4v2DvuIcjkrlnzbyOReYxMZ41/SwZ6qNnjLZWR+d5auveu8WNkK60gI3nH6/z2YLXIUhvt1i0dmOVH4ntju+vm05lf7Kcq6+rvTjZrD3mdibWDdmnN1vt+u57HlHjb1lt17zfOOP1yEziWXn0RxsS+vpLvqxBgw2p+BKjpNKBtS/7BcNt8UPyyaVfm3PWk2mNkEirt+ttpWN936qVLgm+XdgZrFzBv8O03T/jhOs59/WBC+G8EW4wet4L9O3heY2SL4N/hiWDb1h6i1d/593uLfhZkR75xPNBOVPIK82ah/bn/Jpig+KHqI8MZmyu0WsLbiko7fL28vo8W01+9Vcb8NvtKR3v+Y+Tv1jEv5iLEtROt9KWzhun0GveRuUzlrpMy66A63B33eYWtPQtY7nPVVQHFxh6q535LUDuYT/edw73MlEfz+Rdr2ZOVn7nsUgdNaK52Tpl2wvWjXy8MbQVHb2c9jptGsbRgbjYRv4pdJrduzXM8ZEvMYuMQWMyy1zCXX/1kLDbs6MbWh1o693rUKr1WHs2T+oAlJjIbzaN5Yl02V8cRyphma0ULmzh9y0yy57z9+y71S/ph1w7OM4cllzZRTC847cqPcesWhU2c5rx7u8WOrWV3CQ+5xLFU6Qu0FRzlALle3b6vgq8NS/zIq3kVnfInlNEsMPrVVtCsTKI9UOmLueH7A6OzYsP8oZEgMpVN/PxeQ8p2H66/Cu362WlY34fM/vJoHq7gPPuROSh8u1wtuF/MSsyiWvnI+GYezUYeW2FLX0L4b2hbHCBuBft30LzGEMW/QxPFtseQe7sHvJzrj4G2gqNGHtPsOAbakV8cV7AThbzCjh/9mu9NcxXDp3dKPjKssTlYENpzx94PJWZe01ZwdCJu1rbmPyc3uq6yTsKP/xiGYdy0ENeKVatGxkfcJN11DfO4ptprgiAIgiBuJfTLpARBEARBEAQxglCiThAEQRAEQRAjCCXqBEEQBEEQBDGCfH816gRBEARBEARxC6An6gRBEARBEAQxglCiThAEQRAEQRAjCCXqBEEQBEEQBDGCUKJOEARBEARBECMIJeoEQRAEQRAEMYJQok4QBEEQBEEQIwgl6gRBEARBEAQxglCirkK3jlS6ju5Ny+FwhdZLDYutq+u9rL6PxbSG2ugogqO7riG13ounnbSG1Mt96IFHC2Oh72MxXUYr+MRrxpQzDv3YdNdVdRSC69RfXH7drZv2MpLjHp24/Mkbme+MbnwZHH8f1Fvl+P0pNgacc65rbLv10fTD2PsffzwHrsPngwQY0fG7Yf7vpgUgiFFCb5Uxf76Co5NZJG5aGGL00fexWLpA9bCDHBkMERV9H6uVcTQp7hC3AL1VxnRlHM2TMpI3Lcx3wHeXqOutMqYPHuPoLQVEf3qopReARgfLticmZrFxMnujUg2by8/HwP1nd9A2xpB720EuxhaTSx2cxtjereTyC9oYx4sbMRiJj95mRiy+xD9XePtgt7GG+43O3U16rmtsk2WcnrAfjIiPxN7/+OO5Mvo+VitA9dBO0mPUsWv8grhC6+UcPszsYSM3NuDFRxcqfSEIgiCIG+MK90p35GaLuPPo7Y9oF57RCuI1EjpRd2qYnLpMSW2mXWfaNeuy2DpQvVVmznPXbDn1wbLvdbs96z+2lsqpbe2hxhzTr6kza7qmK8dAZw3TXA0yf4533apX2/K+8d/3a/y4PqrUJAr9Xmz9KznIqlnz0a1Lf17X7taRSi9gC8BWiWlLrB92/hauLalxE3XjPkaUP6hOTRgzj7o63p782jTbm98GsL3AjZ//uAYTdL6vzXP0bYhvU7BXu/ba9tGX+9A9a+n9bVomv61rsZ5RKTaE6q8tgI/fO/11f2/KHa4GPYxs3XUNqdIOgB3MO3ruoebVZ0FuX9u0x1DouyOPl4+qtC0lbn8yCeU7XvGly+rAGk9uzCVj7GszQbF40LlCPMbuk6zO23wiOJ0NmBPXe/4+z50g33sRXAMvyB2lXl70RbsNcWylMcq/Db1VdtulV7vOv719JHhOElCa7+wx7jnHSOfOIP92ULQl5blYNdfx4grtg2MUsxNMPzx07JtveOhJZrtevqzvYzE9h9UO0K7MCfFl0H6OGEZIzmpTxsNHU8bD2ifns2+7vxkPH/1m7H6zP9gzfn00ZTxc3DO+Med+2/2N/8w67vWZx/dnb5zvzGOZaxi6sbvIyGFf89Eb44w5n5NLdg3DML7tvuGOOatNueR4KLZtXe/XXd364JPxmtGJ2DdHXu6zT8Zrrg0Jrnb6Y8BdWxgTqXyiPDVeDzzi8YZ7DBydszp2y2LKy+jO1gWj47OaaFP8mMhkY/Vm2qDkuqxOJPYg4jpHcVwdWVx26n++r8276NsQ23eXfm175fohkzPYX9xj1++PqCvV2PCatXfxmlIbC/J7ub7Na7OyC5y9cfm0r2wqbRifjNeSc6S68rNNewwZ23D3R+KjKm27GJY/Deg7rnmkb/+uz1zX8bEZxVgcaa5wxV32HKG/SnFbFu8lfeaQ2YV47eBz+L4FnS/xdXaOEcdEGqP82/i2+5u7z9J2FX0kYE5yd1BlvrNtS/ALr/77+XcYW1Kci4Ps1z3/yXQgxlQvHUv0G6QnSUxW8WXRLgP99JYRrfRFW8HR0oTzZyL3ClXtGB/a/NOS4nO2tq+HvypA9Q/ms8QsXhSArUPzDsmsD/6x/32y7CwHdhtrQOUVs9wyhtzzPLB9xN0pFRvM5obkU6lcIolcmVvGSWbzQOcLLrmjJpmaLFP2amUS7YO/rbvECSwzOkFiCk804PxCuHZhk1ninMAvXBtuuo01tLlzgOTSHqpa/2+99Se2hDFxyad/xTkm8fM9+4Ax5Jbiqb0sNuqM/iaw3GDGRd/Hu21BdxhD7o8VZDof0baeDlycA5mffuiLL4wJi93fKlOTlsjV0SywB+3j3XYeTVYnivbAoziuEc/3s3lPCptcPV5yaRNF7OCAe2QwiWppwnWqiK+/SMdO6I9IUGxIzGKZrSVMTqOIY/xzCSmBfm/ViI+z9mddP5Gr4zTMZqeQskVG2TYnuXiZyD2TjHPUtplThuZPg/oOwOvAGnvZZ8w8oDpXhI3FQPBcYcfrDU6X8limFLdtuPHx6I+D2Rd7XjUv9jc+dPJ44VHHq7f+xJY4z5TYGB1ED39VjoW5IGiOEWNUlDYioDQneeM739kolYb4+3cYW1KVTS3X8eHyC9raA9wLPhLJJV6/mZlJ4Pwrb9cBelL2ZYGB+zliRNtMyiYWAIAxjN8H2p//BWAbFZsUwkoUj7GV1bAqtmdNCMnSCjLZBaS2J1E9ZA3OTOTa23NIVcST88y/hWuGwNzFfOzRLgAuGTBJjI87g29+ZW6q2GKOyczw57DJaDBmv4vP/ROuy8/HyMy8cgWzROYxMhVLvsQsXhTWMJ/VsFrYxKlfshUKic7vPUAGH3GhA8nLL2hrj1F1CTeFJ9qamQQlTOdbLc0hVckH7iT36i9/0Be0sYN2esf1lTgmwQSPa9TzvW3eG7cN/YCfNeDDxRWQtP3Pba9uAvzFa+z8UIkN+j4Ws2toM0cVpY0p+H3yKaraHObTO8hUYthQpCzbACjbpsoYRm2bOWWo/jSo78jw04vqXBE2FvfxnivU4rWNUty2P3T5lT9mG0foLk0giX5d8YaPLNg+Rmpb/GYST1QuqH/FOfJ4EarOXhjHSG1EQGlO8jo5YL6zzlOzrWA7VrWlMLIF5zrx0V23yklttMfc9/56UvdlGdfZz2FzzW99CUjC7J3R3TpSWQ2r4JOX4lB2blsTibaCo5O66Z/dOlKlcK3YRlFsdHCaBJzdyHGLOwDJpQ5Ol0y5UmkAsSbsA5Is4/SkbOoxrSHQVlTQVgZ+Y8Og4xp4foDN3zXMwD2J6mEHGwnAeWOAD/5+b7/9oIda2gzoURP2KLJFJgbbvPa2Q7Z7kzFxlOeKa8FKOg+6ZSSTV2gfANU//GN9LDe6xAhzjfZrP/AobOL0xLQ78y1K4ZsK78u3yE8ViemtLz0cbKO/wUBG4kfcD1q2tUmWcXqyxyyrmk/luKW8uOgeYQt5NCNMbN3DHaAwjaS1wSJT2RvKzn13v//FP53+X/d+ki/Z6u2PkmUqM7E5lS3XxYR53cfIJGDe0cuWE/W/8aHjfgJglivISjl43P01774dvK4bikHHNcT5LpsPgaXLJ5mYJ9lYdMjGBuvfDdUbkTB+P4Hlkw6OFMoXfOVUls0PsVxmGLbpQcS24/en4cZEb25yrgh37XBxOyzmKuXWYc+MD7DicUhZlAkzvw/Shlg6cfmFW/1SIuScFAQ338VGPHbMyTZArhPtukJZV2gi6uAa+3ldREvUtxe4nevd9QVsIY8Z34A8gZkCsFXid9/qrbqzE7q77r0zN5nNA9sLrrfA1EK+gYMtVwFgLQ1d4MJx2h5qJffyLrCDeWFn+ryTgLDL+3a//ovVjqSZUNj1WAvCGx34peRE7hmKnTVMC2/BWa0c9/cJhNaVWU4RXE96jNUsM27WdTMzU+Z1E7N4URCOwRVav68xr3i6Qmtd/Q0DZu3kGlaZ/rj0nZjCE+0Yq7/z7frZmJtBxzX4/HDymLQrc4w9WLqMfaKAx9j1UPN7O4JvbHDblGjLIoF+3617vpkl3Ftfwssmx4pz7/t2NxzblMscpe3h+NOwYmIwNzlXJEsryAg+wM5xXPsqcXsQktMobh+h1f4I2PHYg0TmscsGAn2dw6qLL7FvAgoX14PasGX8yxlXr7maReYjKnOSFwHzXYyEsSUl2ZRzHR/uPUDGVevt1rHLdyxZwhLsy+44E0s/R4xopS+FTbz4bJVPAFAtU0guddCEhnm2zrGwiVPnrf073HfcUlyyjNMGkCppzOSZRzPsjwgwNa32Um618hHTTu18Hs1GHluuZZI8ms+/WGUZJuySTHJpE8X0glPjl6lsmk9Hw0knkdfd72JjD9Vzdgl5AssnmwBzfXPzK/9riecVttYraMzYunGrr9InDZOoNh7gXVpznmyIS6iycc9U9nDKLrOer2E6veb86bvclZjFxiGwmO33J1PZQ7Mwh3lW/rd7wMs5rt1MZc+zTlPGoOMafL6PzXuQqWzi5/caUnbSM8QyCtnYFRs+2ZZvbDA3bH1gxq3Y2ERx26e8RMHvt9jvGF2EezoYQTYvka0xt+1uWLYp9dFkhLaH5E9Di4lB3ORcIdEltBUcSX+ZRi1uR2cCM4UFzFfyaJ4ErLbJ5LbK8FRJ5Oo4QpnRj2kfYX6Ux7eNhKV/Z1zzaB6u4Dz70adFmY8ozklSgue72AhlSwqyJVRzHT+ZfsR92CVV9ocyHZfRLDD61VbQrEyiHbb0RcGX+/u87P7G0M8R4z+GYRhhTuiua5jHCNU2EzeHvo/F7Ec8ucM11aPFaP8KG8UGghgtyCdjZJTnu2uUbag21a0j9f4B/XK8AP0yKUEQBEHcORT2jhFESMySnD8VfkQtPPrFRfyN3gEoUScIgiCIO4b9nvZfrnUzL3HnScyiWoFQ4x8H1nv049ifcce45tczEgRBEAQxNJzfAjBreSnpIeImkaszewsHhPntikxlDxt0Y+kidI06QRAEQRAEQRDDh0pfCIIgCIIgCGIEoUSdIAiCIAiCIEYQStQJgiAIgiAIYgShRJ0gCIIgCIIgRhBK1AmCIAiCIAhiBKFEnSAIgiAIgiBGEErUCYIgCIIgCGIEudZEvbuuIfVyH7H98my3jlS6HPNP2V6h9VLDYusqzkaviR5q6Zhk79aRSsf9y2Mjhr6PRZn9RLUrfR+LaQ21UVGaV/9uC6Omz9uMaAu33TauC6neRtQmRdlCxfAY5w4At3seJeKiu64htd67aTFuPfRE3Rcz2EQyNCtoppj/hh209Naf2CpsYiM3NtTr3G16qJUuUD2sI0c/6XejdBtrQGUPy/RLdQQxVLrrCziv7NHcQdwZ9FaZy7/keZx5g+p5TLfOtCHe9F7fzej/Df0KDMmlDk5jbbCM05M4GxQZQ+7tJv5JL6CW7agnDN06UqULVA872LCTPX0ftfaw5DTbX62Mo3kyMcSLjAJXaL2cw4eZ4UwqeutPnFdeYTkoSe/WkSoBzZMyHLNIzGLjZDZ2mb5LunXMn6/gaIkSBxcy2yOuh1H28aiy6ft4d76CKvkacYe4xGMcndRhTuU91NILSGETp0t2jmR+dl7Zw2luzPl78Sc7t7Af2nWQS5irA/Pr0875euu/WL2/aZ07XOiJeiAT+KUyia336iU73cMdZCqv+CeyiVksD3VAp1CliXtwMq/oqdIokCzj9O0saFGDIIbNFKrka8QdI5ljbdrM43D+1cnj9Naf2NJWUHXm+wksN/JoV/5nPjnvHmGr8MzJ45KlFWSc83v4qzKO5tL1PBgNnag7NUfckoBQ62jX9XXt8g9zyUCsV7L/5pcoJDV13LWYOnexBs/5m1/OcC1NiGUpAXXzicxjZDof0Q5Rz9k++Dswse+ua946lMi52OoJSy091OzzEmOOUfJ67i/PcNcLvVdAWCLyWAby7Y9P3/yXnKzv9X0spuew2gHalTlhbIPkE5fCymhdumVazf6XkVvep+66hlRpB8AO5tlrSet+xTaYGtIgOwxpp4H9k+lJxQ6ijJVUJrVlQvEcrh5Y1ccl7UiXPr1iS0TZuXZdujVl5se/jJYe3BenWS/bG1ReRx4vfdlxpOfYs7RO2+mTYPeC7u0YZcekvqw+/uJxbv98/lxZ/4NirkqMCOXjXth2bNsfYyuB84KXzXruO/Czryu0fp/DKvtZyLgjO2ex9a/koJCxR9QRcw43Th5+5jkX2O0KMrvGLKI/8OMXZAvudvrn8P1wt+OvT6X8ynOsmdxC0mbw+WrorbI7Lot2rDpeobhC++AYmZkp/gb13gNkcIGLgE501xeAxjU+GDVCclabMh4+mjIe1j45n33b/c14+Og3Y/eb/cGe8eujKePh4p7xTTyXOc9u69dd3fpEN3YXA9o2dGO3ZrV79sZ4+OiNceY0+MaUjf3MkqV/DcM4qzHfu65p/s0eb3tX3+YAACAASURBVBifjNePpozXZ4Yi5vGcHAKiLkzZ3Tpkr+nW1yfjNacbWdtW/7i2TPn4PooC8rr9tvuGu85ZjR9fsT/i8Rzf9oxfxTFlx8D1/Sfjte/4BMtn2hE7HvYYiTrv/+3bJ9H2vOR+5B5nexz87VC0OcbuJSj1T2LHop7cDQ8yVuy/DalNS/vByiOeo+zjov9ZcrtswiO2RJCd4+yNRK+C/u046Yphbp92te2KLQHyiuMU9LdHXAyUzemTvx/YsYzXp8RfPMdWZhPiZ7+5Y4JPzI0SI1RldmHLzJ6nLKOHzYqyKfmKO576xyUJynNVyNjj0pE9Hu7PWPmD5gKnXb/5Iao/fNszXrPjHujP7nZMWWSfuW3TT5/B+ZXfHKOSWwTbisueBb7t/ub+3suOfefzAFw26pXTMZ9L8oFfd3VTHj9/GALRSl+0FRwxj/wTuVeoasf40OafYBSfKyyncUsPY8g9zwPbR9ZdXw9/VY5RbLAb+8aQW/JrdxLVQ75uuFqZ5J5wJ5fYO6ExZGb4JRE3P+BnDTi/UH1CNYHlkw6aBfdTLwBmTeB2nl82ST7ldNhtrKFd2OTq4pNLe6hqiiKIcG2Zy0AqT/1tErkyV8qTzOaBzheYD5yucHEOZH76wfN4FnOT4Ct+TNlxv/yCNsYx7nw/geWAJSZ/+Ww7Ysd9AsuHK8h4thiuTzLspbUjbpzLzjj42qH+FeeYxM/3+t97271a/+zNxpxNlVZ8V4sGGyth3BJTeOLrRz38VQGqfzD9TMziRQHYOmSfugT4uL6Pd9vCMRhD7g+2r0GxJazs0eHGTYgD6gwmb+A42zBLwX7wejWXlF1taSv4hbFFqb9I4rcpB2PHyadmXHR9xugxMOZGiREhZXYxiWqJOU9ZxnjnQ5Gw86PKXBUl9piw+rDKFySfsf3xnwtsJrk4k8g9QxE7OLCfikf1B7HENTmNIo7xj3R1sw9bKmvKIvusL5+yPv3yq1BzjJzwuVRU/MdLDrPikP2CFych9hkC5p6PxjhWs2Yb8+crqOb+NevWSxP8SsWQ32wTbTPp/R+FwRzD+H2g/flfALZRsAYQpi0G/SvOkceLUOsLbNJgkhgfdxyVLQ+Z32YO0h77tGn2LyzJpQ5Ol6xrpXdQbFiGcvkFbeygnd5xnZOZAewksfg8vvonNuGMit4qY7pyzHySt/5vBoDV0hxSlXzAJjezb+3tOaQq4ndWe8mnqGpzmE/vIBPiTQSe8kWyozB9knP5+RiZmVe+gc/TDhOzeFFYw3xWw2qB3QAjQbF/l5+Pge1jpLbFbybxRHpGHGNlbtDZYj4xbdyrH8fYympYFb8rsH8E+PjlF7S1x6iKik9M4Ym2Zk2aKjoLIXtkFOOkElHlVRhnuz2lOCLp070HyOAjLnQgaY+LEPu9/CWReYxMhY/fMnxlC4q5kWLEoDILdjwUGdXmQxH1+VFtrgofe3zQHiDIZbznKhu3XvoM6A/6Phaza2DfHVEMkFfG/XHveU9Zn375VZg5xodwuVRU/MbLC/OB6TIAO2mf11ZwFGY/RrKM05Oy82d3XcN5ZQ/Ll3WkDuzNquYLLmrdkDcCIbjWt76MBLYTFTZxemLv3i1j+mB4l0wudXD0UxnT7/fxi20kvgYzau+etRIAbaW/i9p684SDZdB6q4zptAbAP7l1blqkjCH3toMceqilzWDpn7AryBeFkH0KhYIdmjd6ZhBIpQEMEExtwtz42EQdK3uyLDY6OE0Czht7fK8Wo44HIJrsN0cc8vqP8x3AL+aOyvvkb1rGIc6PUWJPeOKbC6L4g5m0TjJvfDPlGQZx6HOgOeYGcqnomKtj59mPaOuzyCXMKokPF1dAktGhtcrwRHYnyLyJrLu+g+LzjuWn5kqCq60YiemtLz0cbAPFbMw7YBM/4n7g8kYw3cMdoDCNJAC9/RFtcakyEPMOexDYpxi490Bpcyq/3A8A/+KfjniUuKw2uKwuukfYQh5NhTvRRK6O05NNn2Upc3XC3TcZ5h3xUdAyspJ8Enkuv0DljZnBfZJz7ydvudXt0EyET2WlAxzB/fOTx+va0cfK2qwT5j3oA/g76+Oe/qX/jQ8d62mv77UiyC5DXG7XvyJu1zQZVN4w4xwN094fI+MTQLzs0zw3+CmqL0oxN3yMiFXmIBmHMB+KRJsfg+eq8LEnIiHmKm+i+oOVBzWG/xsc8erTa47xzy2i2ooLsVRGcV4eDLYKRLi2NE5Zr2r842bejhQtUd9e4HaOd9cXsIU8ZmJ/GmO9GrFU5t/Ese63s3gH8+zO424d88xNBJcwA9b7x48l7bCYQcdeijJrk7x/8a27LnkjynsmOCam8EQ7xurv4i5t+zy7lmyB29ls6pllAjMFcK+O1Fv/xaormR8Q107oHmoldnk2aEx4kll336Dvo2bbVLfus6Nb4mBB8tl1ziV2XMQ+iAT0SWF3eCL3DMXOGqbZ+jWrb4F2yOojCMX+mW8vWuPf8IAeaj71ddHHyj1OwbZp2XOJ9x+9VRfePuDv46Y+jrGaZdu5Quv3NbSdmlK/2KIiu/ytCA7JaRSxg3fs20x+X4tnAnLZXhRdC+IGjXMoBN1btu16w4KA1F+sc5X2O/kRFHMjxYiYZQ6cF+KfD10ihJ4f1eaqKLEnEoFzlRrR/MG9l809Z8dDLPr07U9wbhEtl+Kx+/GXo+do4+XC1Tcr/jJJeLK0ggw3xua1ZX5r/iBYf8/AvZ/YV3abe0f8SpUGJVrpS2ETLz5bSyUAhrlcncjVcYQyppm61UxlDznPM/JoPv9ilSqYcEtYyTKaBbNmHACgraBZmUTbb7nGbzlEyk6/fUbmU3ZTx9s94OUcptNr3DEb9h/JMk4bQKqkOY5ebOyhes4vZyeXNlFMLzjtZCp7aBbmMK8qqgqJWVQrH5kxyKPZyGOLXU48X+P64rtsKOmbaUP9H+vYYr8TloOTpRVksgtIbdvLf8HyJZc6aIIZd+TRtJbCPPHrE1vf52n/E1g+2QTSC0wtYR7NEwAItsPzClsj6e9jSv1LzGLjEFjMsu1OonpY99bBAGOVsGzT7numsmlujPO+mqQfMJdjOYcP8HGPdngf9I8tgbJ3j7ClPcaRZyZmbqBMlWxdT6J6uIliNoZlcJntRdA1h8I4qzOJauMB3qU158ZEbZle5i+Tzg+ODEZwzI0UI2KVOVjG2OdDkSjzo8pcFSX2REFlrlIhkj+YG9Y/MH0sNjZR3B5C6UtM+vSbYwJziyi2IulHtfIR046eVXxOpd0fgYqwx0As63F0qCFlfSTzDb1Vdv34XiJXR/OzxulmY4hlg/8xDMMIc0J3XcM8Bq+VHQpD+sU+s+7qcbhNCENhuL/KSRAjz4j8KqfeKmMV9ONYLvR9LGY/4snh8Jf/CYIgvgfol0kDsV6JNejSaxxYNbZPMpQcEMRNcvkZ5IcEQRDE0KFE3ZcrtF4uuN5Xei1068IvyPVQy7I1tgRB3BTJJXpiTBAEQQyf7+/1jKGwXz13A9x7AJQCaqwIgiAIgiCIO0voGnWCIAiCIAiCIIYPlb4QBEEQBEEQxAhCiTpBEARBEARBjCCUqBMEQRAEQRDECEKJOkEQBEEQBEGMIJSoEwRBEARBEMQIQok6QRAEQRAEQYwglKgTBEEQBEEQxAgST6Ku72MxXUZLj6W1odNd15B6uY9bIu4NcYXWSw2ptIbUeu+mhZHyfY+jOT78r9dGQN/HYtoc51o3HslGgm4dqXQdw+xSd533jbtuj779u9E5ICZfUKC7bsXEoY2zFXdVY263jlSQ3uMam4g+JfpJeK5vfG8NVtz2itl6qzzkWERjcp3QL5MSUrrrc1i9v4nTt/RLqHeXHmrZNdxvdLCRvGlZiNvLFVq/m3aUS9y0LMNDb5Uxf76Co5NZ3OFuErcdfR+rlXE0yU7vDN9lop5c6uD0poUYaa5wcQ5kZn6Ir8luHakS0DwpI66ckMZxQPSvOMcknty7iYtfofVyDh9m9rCRG7sJAWJnpOzxOv2t+z/zpv6O3+xdfj4G7j+LMfnpoZZeABodLDu6G0PubQc51SaSZZyexCYQcVtIzGLjZFb6Vbdh3jTfcXf8rvguE3WCIAgiHvR7T3G6dDdutgjidnOFe6UOlulR+p0iUo263iqbdXppzayPu5Qd1UPNOUaxpo+pl5XXRgttrveE+jezbkqs2xLrtaS1pes9qwaP6ZdLYKZu26uul2tDoTZPPJ7Tk9Bfl0z9OjGndlJR19zxbD/0fSym57DaAdqVOcl3/n3jbYMZo9IOgB3MpzWuzlE83l3z5q1zWe2j7PpufdfRFfriGsegvoYcZ17fwjiqyhRAsC6FY7NraOMYq1l7TNT8R3Yt7hynJpa3X0ceiY2xsvq27QGvX3kdbeh2RRsI8CtZLFps9Tj7Na/J68Uth3/stK/D96ff5+v2t+ns3OD+xulcEntD1keH8QWvc/oymuMxvw1ge0FoL3iek8akbh2p9AK2AGyV2Osxtb8qupDoRWV+VtGPik+5cc/RMqL4eFj5XX2x56IQ46eaG3jOp0B/HLu2D9i6FOd3mY49cgCpbZirlNNZL71GzxfEWLjY+tdbzz564g+uS65t9pfPOXzmku8FIyTfdn8zHj56Y5w5n3wyXj+aMh4++s3Y/cZ/9rp/kHFWmzIeLu4Z3wwPvu0Zv3Jt6Mbu4pTxsPaJa/PXXV2QhT3GPIe9rnMcc+2zGnuO9fcj/jOzbXef2GNMmRmZXH34ZLxmjxe77LqGbuzWLDnFtg3DMM7eGA85vVo64j5z68l94T3jtatdt+65NgLHx9ajYBv292dvhO+E75k+i33hdH72xvlePo7sNSwZWbuzdMh+5rLpoL6GHGdRTpe+VWRyIY5RkC4lePQzyH/Ev13Xsv7m5FexMZW2Jbhii+T60dqV2JJob55/277Z77MTr1yfueOpX+y041Vfd27ZbpW/ccjtwuVDvueE9wUV+3DLoDpWHjFRcj7fF5kuhM+EcVaenwP0o+JTblTm6Ci+OPj42j7DH6Pua765QdB8autOyH++7b5hxsRb57w+rXNkc1BQfjJAviC1D+G8wHlO5OyNJCcUxkRpLrn7hHyi3sNflWMUG2zd4wSWD1eQYY7SW39iq7DJ1N0BydIKMp2PaHvcYXUba0DlFbMZaQy553lg+whdu01tBVWmnjWRq6NZCNcDT7QVHC31N04mcq9Q1Y7xoX3V75NwDBKzqFYm0T7427wrvPyCNsYx7vRhAstLXpsxbV3W+T4vmRtAuo01tAubfP1usoxmAdg6FJ5ScLqewC+sTDISs1jm2p1GEcf4R7oyYhI0PtD38W57EtVDwTY8+y/5PjGFJxpwfuGj82SZsysH6fXHkPtDZneTqP7R32iTyD1DETs4sJ8cBvU1zDjr+3i3nUeT68NTzrZUZArGX5fx0cNfFXCyIjGLFxK75OKEtM/R23awx104Z6ORH6xdAMkl3pYyM5PA+ddQb1LIMHZkjqnss/44K8dOLhYK9unJaPobj9kXPn71cLA9iWpJdWN7WF+IZh+BYxUpJrKYNsfpQv8bHzqTeJKRlRqpzc+B+lHyKTdqc3Q0XfNEjHXaCn5hxiqMr/nlBqrzafE5v7kzkStzm6+T2TzQ+QL7NFkOIJ7D9SUoP7EJmS/YcnB6WtpDVWMFUJ3nohF+LrlbhKtR17/iHHm8CNilcPn5GNg+Rmpb/GYST6RnmJsX29tzSFXE7/JOm5mZV8PbxXz/R6HtMYzfB9qf/wUw5nn9ROYxMhXTuRLJp6hqc5hP7yBTCdgk56tLUx/F5+6AnszmgfdfoWPCkSXzU4RNn/o+FrNraDMfFT0PDh4fXH5BW3uMaugBMjdUbTGfZGasJsOMudf1E1N4oq2ZQdP5jk2yRRT6GmacL7+gjR200zuur+x+BsukircuY0P/inMcYyurYVX8jpuQJ/Fz2E2qym0zqNhdlHYtuutWyYON9tj/BAXuj3vbi3LsdMUrVUbN3yQkp1Hs/Im2PmsmJd0jbGmPcRSqwyF8IaJ9BI5V5JjYJ5F7hmKlrwu9/RHtwjNsyNpUnJ9NfPQTUW4l+xnAF3kixDrBZ6L7Gp8bAFCYT+XxUG+VMV05Zj6xb4a8cwAZSvmJ9Vm4fEFRDuV5LgoR5pI7xtA2kwYmMBKK3O53ntvximd7x34PtbSZ6EXRw7Axk49JVA87VsC33j4QgN/4RMEOUsVGx3pjhPUmkPguERn/voYcZ20FR2+H+6qs69VlPta3iVxP2yHbtSfewiZOT8xJSm+VMX0Qu2AuhhUzRtnfeCYwUzjGu/YVcrkxdA93UHzeUfafaP2MZne+Y+WzQqkOqwugfXCM4vP6QC3evB0M5uNxyh+Hr0WbT60bDW0FRyd107atNzXdWq5hnvteibCZVLJkefmFu5O891NA6YUL8w41aOnL3aZ5tyciLoFdfj52HxRIDwfbQDFrTtJefdLbH9HWHoC/4ZvA8kkHR35LSokfcd9n+ddLH93DnQGepgFOv7iSmyAUxufeA9/SJjdXaB8cI1PZ80yIQ9mR1/WtpWL1O3I1WzRRGOfQeolCsC7D4Os/vnY7IFHbluhXv7gYqF3Tr4Wl5GsgfOxUZVT9TU6ytAIc/A0dPRxs5zGjbNcRfCGi3QXqKybfT2atUiD9b3zoBOkiaH5W1E+QT3kQOEcPHD/ii3XRfY3NDaLMpzBXiZBH0zOxDTMPhc1PwuOW41/802EFiGjrTKkPAGvFhRAJl6jbtWQldndyD7USv9yRyDxGprOGVW5nbg81nzdjJLN5YHvBtVu6ZrVh1o7xbeqt/2KVNRa7pq/yv7583Tq/dO3F9gK3k7i7voAt9INiIvcMxc4aptk+6PtYrRz3a8+69RC7183asK0SuzP6Cq11cxd0srSCjCCT2ZcwtZoyfsDPQj2f2Vd/gsbHtI1jrGYF27D1de8BMrjAhdNXdvnQak4YT6nOvXQsvb75QyztwrNQQTSwr2HGOTGFJ9oxVn8X3yYQ569mButStZ1g/5nAjCsGAHqrHvKXD90yR2rbqlfk9Gv55SDtJsbH+UnE1eZwiBI7pdwif5OSmMITfES7dYStwnSIp69RfCGaTQeOVVBMlMRiKcmnqOIj/mp8BCpPvXWhND8r6EfJpyRiKs3Rg8aPuGJdCF/zzQ2izadu/3TnUbIcwEtPSvlJJOz9L/x86OpjlHkuOY0idvDO6Z8VPyLLencJXfqSXOqgCQ3zTi1SHs3DFZxnP/YPSsxi4xBYzLJ1vpOoHvos2SXLOG0AqZLGGEAeTful/pI2M5U9NAtzmGeaSeReoXow15evsImjykXwknVhEy8+zyGVZq8tbMo52QTSC0xNm7ncxU5KW6z8AUtBiVwdRyhjmqnXy1T2zB+7kOowj+ZJfcCyAHPD1wem3WJjE8XtgKW6oPGBzDbMEhJY/XlRWMN8VsOqrdulTRQZfWYqm+YmEedsmc7zaHr8wIfs+pnKHk7DLm0q9FV9nMeQe7sHvJzDdHqNk2sjnFT+IgfqUg0V/5HpGYVNnCr/SovVTmkFmawps70EHb5tiX61FRw18phmlpFDt5sso1lgjtdW0KxMoj3s0pcosdOjnVvjb1LGkJkBpisXqB6GezARxRci2bTCWPnGRCsJWi2Z53uX25m6WK0A1UN/3arMz8H6UfMpFX3I5uhB40dcsU7Z13xzg4jzaWIW1cpHZu7Po9nIY6vEH+OST1vBUQ5wLwOo5SeRkMyHxcYequdz/jaDoHluAsuNPFIlu3+TqB5uopgNLsP93viPYRjGTQsxCN11DfPYxOkAS9RxtEEQBEHEh7kn4DHVvRI3BuUGxCgQ6QePCIIgCGJ4WLXIM1OUpBME8V1DiTpBEAQxWnT/h9VOHi9G7I1ZBEEQ1w0l6gRBEMSIYP1UeOlC+KEggiCI75NbX6NOEARBEARBEHcReqJOEARBEARBECMIJeoEQRAEQRAEMYJQok4QBEEQBEEQIwgl6gRBEARBEAQxglCiThAEQRAEQRAjCCXqBEEQBEEQBDGCUKJOEARBEARBECPISCfq3XUNqZf70G9akGugu64htd67aTFuL/o+FtMaal2vA67QeqlhsXU14IXMdlJpxfHS97GYLqNlG3G3jlS6Dk8xRxGxD3FxA7oQ/Wz4MSYuu7sBBhyf64rfozpPxC5Xt45U7H54i+2TIL4T/u+mBSBGnG4dqdKO/DttBUdvZ5HwOo79Hj3U0gvYsr4qNjpYZn52UG+VMX3wmDl+NOmuz2H1/iZO307ctCgEQRAEQdxxRjpRTy51cHrTQnzvJMs4PSkLH5pJN54LSTWXmPN01xdwXtnDaW7MSurrmDmxfiJc38dqZRzNkwGS9MQsNk5mo56tyBUuzoHMzA9Dvs7wuC03RNcFxZjhcV26Fa8zKjYee/+TZZyexNkgQRC3gZEufSFGE731J7a0FfzCPhG/uPA5o4eD7Txe5MbMP5NPUdUucGEt4XYba7jfsJJ2giAIgiAIAkDERF1vlc0aXes/d11wDzXm+9R6T6gN7aEmqbWT1o86f/dr6fjry2oohesr1vX59suu1+zWze+d2kPxWio1nW79yOiuh+hDty6phzSv0+9HX4dc26HqKHv4q3KMovg0HQDu/xj+CVa3jnlscmUwQcenZLqLUkdt1bUr6UHfx2J6DqsdoF2Z4+yDHye/OnmPLkU439c2pP0yx366cgx01jAt9FdNBqY+X2a3YfTpiYrvCnJw8obzRzbGiP7v7qdC24IOFlv/ui8aRU/iOazuHdvn5VOpOw6O5UF4j4U8fvec48W45G4j7Dzhb+NR5gWnbS7uCOd5zA1e81dQ7HXZod2GsGdASTZJe1SPThC3DCMk33Z/Mx4u7hnfnA/2jF8fTRmvz+wPPhmvH00Zv+7q/DmPpoyHtU/MMb8Zu98MjrMae4z4t27sLk4ZD4W2z2pTxsNHbwzn8pY87DHG2RvjISdjhH5ZbbDymee94fpxVpvi23Ghoh+3Lszru3XGfe+6rnmtfr/7OvQbLz9cemLlfcT8xx1jXte5hiPrJ+M1O3aBF98zfuV08Ml4bevI9Z2IIINhGGc19tqWboTxDWrD+LZnvHbZGiOHKNfZG5e9+p4vwd82JGNe64+FdPyU+jAlyGVeh7fZkPqU6CLYd93XNc7eON8H+aN/jOERdRXo665Y2PeLgezOZdvCOc74MO0q2JFazPPzT/+xkMdvUSa/NqLME942HmVecOKa2L7Lp91j6DV/+cVe13zGxjhhPJRkY89n9CDOCarxnyCI6yfkE/Ue/qoA1T+Yp6mJWbwoAFuH9lMpsyyiapc5AEjk6mgW4rmxQGETG0zbyaVNFLGDA/spTmMNbeEYJMtoMjJG6ZfJJKolfhNhIldGjnmMnMzmgc4XXHpcSUk/+j7ebefRXGKulXyKqnaMD+0YnoYU2CfYE/ilMon2wd8KTz+v0D6QP01PLnVwemL/t4cq1jDtPC0aQ+7tJu5bT6JTpQtU/5jF5foCzitPkeSeFvo8Ab38gjbGMe5cfALLS9E3dSaX2HKbMWRmJoHzr+GeAidmsczZ2jSKOMY/XgYw6PlBtqF/xTkm8fM9+8sx5JYCanUVZSg26oytT2C5kQe2j5zxGlSfKr5r+88R1/+yY89h/dFbmDqmhZgQ1LYtP7s6lFzaQ1Xjmw6rp25jDai8Yq49htxzXvcAUGTLxwLjhWrM8yZoLKQUnnE6jNRGBKLNCxaCfIncK4lu3XODFL/Yq+/j3fYkqoesfQTEuEDZhPMTU3iiAecX9FSdIG4L4TaT6l9xjmNsZTWsit9Ziebl52NkZl4NbRNP5idxI98P+FkDPlxcAUng4hwoPncHtmQ2D7z/Ch0TbtkU+mXCJonM6a2yudzqkPeUX0k/l1/Qxg7aaffbVjIzfieq4dahIt3/YbWTR/Nt0IFmYv5PegF/dWetiWkCyycdLDtt1ZE6X8HR0r+opT/iyWEHGwlLl+s9nMomp+RTVLU5zKd3kKns8ZNuRLrrGua3mQ+0x+Eb0fexmF1Dm/moOKzzg2wjMYsXhTXMZzWsFjbleowkA5v8W9x7gAw+4kIHkpZBR9fnlZLvqvhPGH+U00OtZNpYTriQd9ve8stQ15PZbnt7DqmK+B3bL8n4+KEc87yJEuvF2DPs+cJEzbY8ZXCV9I1h/D7Q/vwvADsGyecGEd/Ye/kFbe0xqmGUoSQb/8YtIJ55hCCI6yHCW1/yaJ7cxY1/UfplBUBtBUcndeY1hTGI4/MGlZuie7gDFDZjGPseaqULVA/LSHTr2Co8w6nV0UTmMTIHXhPnGHJvO8ihh1raTFwiJ+x2YlrYxOmJOYGbb4sI14yZcE2iat1oOG/EGeb5AbaRXOrgdOkKrZdzSKUBBCTsg/YBQGz6HIx4/LG7voCtwqb5hqKY246qJ/F1pvFwV2M5YWPfWBYbHZwmAbNWfg4fblowgiCUCVf6kvgR95kyEy/cZRTmEw0ecWlddowC+t/40JnEk8wY7KcJsqXM7uGO92ZHxX65Gz3CFvJohkyoA/Vz7wEynY9oh92JJy7x618RRaVyejjYBopZ1Se0YglGH/NVja9cTyvVMZ/OHymX7EjEa39EW1xyD42lE64kZMjnK9uGeVNz2nCXSAwsg4Wpw8fIJOLQp5rv3vvJZ8wj+iPfRh3zYmlRiLbd8v+Lfzr9v8LryVsvAxE15jH4jkVsbcQxT0ScFzwJGQtViRr3OVjZzFLFTGVvCDd5BEFcFyFr1CcwUwC2Snwdsd6qOzvNk6UVZDprWGV2luut/2K1I2nnfX/Hu/sYOe3KHP+2gN/XnGTBuf72Ar+zvVs3nxh61hAG90vKvQfIoP+aQXvJ3A8l/SSm8EQ7xurv/BsBuus+9dvJaRSxg3dOu5ZufKUJgZWozEgD/hVa66ysJEoqQQAAIABJREFU7nHpt1PH/DlTo3/vATLbfzp67jbW0PaaOLv1CG+lkJMYH+dvbPR9rHIlDSqYZVdsvWd3nV9ijv38INvQ91HzeauDq9/KMhxjNcvYn6WvzMwUErJ2I+hTxXcTuWcodtYwzb71xLaLCP7Ioe9jsbTD13rbBLZt140vcDYq6jKKnpJZd7tB4xxMxJjH4DsWivi3EW2ecNt41HnBQjjPHFOvWDgAiVm8KAh+hh5qfr+A7CsbWwZjEqQ/8w0xt+yXkwnijhO69CW51EETGubZGtnCJk5z1r8Ts9g4BBaz/ZrKTGUPzcIc5rl2NlFML2A6veZ5jIxMZRM/v9eQsoONWAYgub65xFv3XeIN7JeMxCyqlY+Yduo882g28tjyWw5X0s8Ycm/3gJdzjn7s4zY8GzY396VKdruTqB5uopgNWcLggX5xAWiP4VkGe77GySott9D3sWiXvNifJWax0fiClK1DbQVHPr/6uVXS+onPIOVByTKaBWa8tRU0K5NohyrVGEPujxV8YMay2NhEcVtV51HOD7aN84po++ImQ7PO39afmgyTqDYe4F1ac27+uLKjOPSp5LsTWD7ZBNILSG2zxwBABH906N/YtlkbAyxbVmg7WcZpA0gx5xcbe6ieM6UGUfQkadfs82A/8BUp5nH4jUU8bUSaJyQ2nog4LwAACpt48dkqI3POG07JkGxMig2fzDpANlt/tm4zlU1zs+kQZCcIYjj8xzAM4zou1F3XMI8Qm9tcWLV1M/FsIiQIgiAIPwaft4bHKMtGEER80C+TEgRBEARBEMQIQok6QRAEQRAEQYwglKgTBEEQBEEQxAhybTXqBEEQBEEQBEGoQ0/UCYIgCIIgCGIEoUSdIAiCIAiCIEYQStQJgiAIgiAIYgShRJ0gCIIgCIIgRhBK1AmCIAiCIAhiBKFEnSAIgiAIgiBGEErUCYIgCIIgCGIEoUSdIAiCIAiCIEYQStQJgiAIgiAIYgShRJ0gCIIgCIIgRhBK1AmCIAiCIAhiBKFEnSAIgiAIgiBGEErUCYIgCIIgCGIEoUSdIAiCIAiCIEYQStQJgiAIgiAIYgShRJ0gCIIgCIIgRhBK1AmCIAiCIAhiBKFEnSAIgiAIgiBGEErUCYIgCIIgCGIEoUSdIAiCIAiCIEYQStQJgiAIgiAIYgShRJ0gCIIgCIIgRhBK1AmCIAiCIAhiBKFEnSAIgiAIgiBGEErUCYIgCIIgCGIEoUSdIAiCIAiCIEYQStQJgiAIgiAIYgShRJ0gCIIgCIIgRhBK1AmCIAiCIAhiBKFEnSAIgiAIgiBGEErUCYIgCIIgCGIEublEvVtHKl1HN6729H0spsto6VEbuELrpYbF1lVcEsXPwH20UNG9vo/FtIZal/2buXa3jlSgLDHpNKKtdNc1pNZ7g12bGAwlOyFuBNHHiegE6DLOWBRbW1HmgWuku64h9XIfdzd0XFPOEVfeICLaT9w5HeHwf9FP7aGWXsAW91kezZMykgMKRRAEQRB3gm4d8+crOHo7cdOSEARxC4mUqOutMqYrQPWwg9NE//PuehkXOpBMeJ9L3BISs9g4mfX+PlnG6cn1iUPcUshOYsB8KIJGB8txPgUJ8nFCHU9dXqH1/gLVP8q4ldPiDdpIcqmD0xu58veH3ipj+uAxjt7O3k47veOET9S7dUxXxqVPzpNLdXqaThAEQRAWmT/qSFD2QxBERELWqF+h9X4HmcpThYS8h1paQ8r5T6F2qVtnjmfq07p1Sa2a2b5f7Vx3XePaC11nZ9XnueTxlb+OrtB3vgbNrkvrofVSlEvUmVdd2ZVzbiotq1dU1b2PnEF1bbJ6NEFfi61/XafprTI3JrL6PH7cVGvehD571HCK11exCZc8Qt/1Vtl9PZn+RHvyrTM1x1iUT2+VOTu061X5fqnoTNCXxLZj6bdnHaOfj/T7H9p/XTbYE+pAe6hJ7FpW98v3P6DG0+l3zP3q1pGySgy3SuzxQf3wqn9l4mZoG/WOXeFibYgYyNllv09B9u4rj22D9nxjX0Ml3nvNUdJ42UMtPYfprJcN9fvDyatYl+2nA+WY5MgZZh5QGSP32KrEfhbeJ9V1FRS3PMffda58vOTfK8y5CvNj1LgXPdcxrzddOQY6a5j21Uf4HMp3vrVtq2vrxWPeUp4z3NeTxvT1ntOvkd6TyGKE4due8euj34zdbwqH7r7hjjurTRkPF/cM56OzN8bDR2+MM+f434yHXNu6sVuzjj97w59rGIZhfDJeP5oyXjsNCLJ92zNe7+qMAG+E9kV0Y3dxyviVOees1pfP/v5h7ZN3p8/eGA8fTXH9MuVi27XaEWVxHddvj++jeK6pB1YuNd0HyCnRJ/e3MH72+a/7CjOvy/Xpk/Ga1Z/XOaysTp/ZsRAxdcDqzrQnUS+/Sdt+7d2wkjzfdn9z20WQ/gLtyfxelE3sg1vHCnYq+o6kn7H1W7QTJR9x27TUP0RUbVASB85q/PXEvwPjh8xOXedE7JdkvFT64bJ38bPQNuodu6LEWvcxQXZpnyfGabc9+cpj26Bgu0Hx3neOkuoyIJ4z/el/5o5lIio+r+6bIecB5TGSjG1A7Jf202V7/rpSmj88x9/f58Xv2Xk2cM5Vjk3R4p6vvSvkbbJYoeZHol6F+cFPB/bYuHI7AaU5QxIHbJuRzJd+djeKRHjryzjGFZbxErkycsxxyWwe6HzBpfToHv6qHKPYqDPnjCG3NEC9VGIWy7kxRoBpFHGMf+QCSEkuseU9Y8jMTALnXwOedkyiesicl5hFtTKJ9sHf/HmFZ5x+uo01tAub2OBkLqNZALYO+btCXk8TWG7kge0j525UTfeKcipiy8/W0CaX9lDV2KMmsLzEbKhKTOGJBpxfWHe1+j7ebU+i+gcz7olZbDTyvtfWW39iS1tBldFdIldHs8Ae1cNfFbjafiHRb7/haPLI6DbWgMor3r6f8+MWGa7vwe3qrT+xJY5VaQWZzke0dcTabzn+tmeP5xFnK8H2qWaDCuj7eLedR5O9fvIpqtoxPrT9n8AUG0y/hHOi9isqiczj/pgCAK7QPjhGZmZKGleVbVSIXZFjrdBOoF065/FxMrm0iSJ2cOAEQBV5JlEt8Zs7/eN9uDkqTDwH1+cJ/KJiDyF93ptw84D6GAk2EhT7VfHTVai4JYx/oM9f4eIcyPz0Q78LzDwbNOeqxKbI8SGGXCf+dtXn2+JzlTwvwE7tsT/kfTj3h8Q2tRX8cstqtCNsJr1Q3jBqbjo9Zj7xmOj1rzhHHi/iVp6+j8XsGtrMR8WQTXTXNcxvMx9ojwPOcN/IJMbHHae1v2Id3g4CxefutwIks3ng/VfomLDOncTP94SD7j1ABh+5cQnWvZqcanjL78b9tqDMjPWPyy9oa49RDXl3dvn5GJmZV/4y619xjmNsZTWsit8VZCdEl8eNqZ/29hxSFfG7GJLf+z+GGq/Lz8fA9jFS2+I3k3gCxNhvL/xtDx7jmcg8RqbiZZ9hbDCAyy9oYwft9I7rK8dWpUh8k202Ur8GIDGLF4U1vGtfIZcbA/S/8aGTx4u3Y5KD1W2Uj10WEWKt2E6gXXpe/wf8rAEfLq6A5JiiPPIHTp7xPtQcFSaee+gziJA+7024eSD6GAG+sV8RX12FiltCvwN93rwZWi3NIVWRv93Oe85Vi00DxYcYcp1Y21Web/1jZp8AO/Ua+8QUnmhr5s2F/V1svnN9hEvUEz/ivn1H5dtTyyG1FRyd1M1Du3WkStEFDYsZcCdRPexgI9GXSRnbQAubOD0xHczcGT0UcWPk5nXvhR3Iio0OTpOAWR83hw/XJsHNvj60GPdbOwYgU9njn/axDPok5i6grdyJNyAks3m03/8NPTcLtD+iXXiGDZ/jo9jowLGWwdcuhynPrY3310+UMbr52K9AkM8nyzg9KZt9SWvozyc3O+fG6X/xtkuv646LkKUvE5gpAFvvgzZVHmELeTRVJ7rEj7jPLl3KEEs39K849zy4h4NtsUQkHHr7I9riMlREuoc7QGHax2DHMH5fXoLRPdwJvAM0ZX2MTALhdR9KTn/c8v+Lfzr2v61l98qefyIgLlMB0C8uAq/tXho0n2I4qNjYIPKIJVGXX5inEN7jG4S4NHz5+djjSHXu/aSwtB5Lv9Vhbc9LPtPOH8DvAYy/DdqIy7eCrdx74F4ujYFB+iUnoB+AuVzd+Yi2bvpfMesVz6La6OCx1kbJLmXof+NDZxJPMmOR5QmM96Hix2DxPDYi+qbfPBBtjBRjfxxEnD/C+HwiV8fpCVNupTjnBsWmaPEhPv+Ltd2o820IODv1Gj8rNqg9tR9dQteoJ5f2UMUapqU77a1d0PceIGOVyJj0UCu5l5T6mLVmWyV2F/UVWuvWDUFyGkXs4J2zQ/cKrd/XfIKOuRTKJjnddfHHmfzhluIBQN/HakUlSdrBPLsTvVvH/DZ8JkiTZGkFme0Ffhdyt27e0XK1lMdYzTK6t+Ry6k6VdR9NTjl2jeQCt6ub17k5ebU/93e6663/YpVNoqyawNXfGbkU9G7WSK5hldGdq237JrMkvh2h7v02D0V5zFrgNfzFvrlC0Hky69YP9H3UPHedmzWy7cr/uLcVzLuWnMNjy7vKXbuHmr1DPsZ+y/G3vUTuGYqdNUyzO/at63vXM6rYICB72OCylcQUnoj9B9BdH+xX96L1C5DFM6V+WMf9UgE+NP6HD/CvzQxvo3LZwsZam0C7tGhX5hgZrbnAflARUZ7geB8wRwmox/PhoO6b4eYB1THiUYj9cRBx/gCg4PPeYx0856rFpmjxIR7/c9n/wO1GmG99CbDTxCxeFITcyI4Nrv0St48INepjyL3tIOMs/zAUNq0fQJpFtfIR0059Uh7NRh5bPktBiVwdRygz55hLbDkA9obJVMmun5xE9XATxazXMoy5ieBDtl9vWWxsorgdYtkmWUazoGHerlnTVtCsTKIduBSaR/P5F043SsvJiVlsHAKLWbZGNI/mifhu+klUGw/wLq05NyrcUmRCVfcR5fQiWcZpA0iVNMeZi409VM/7y5vJpU0U0wtOfWOmsmlu1nEaGUPu7R7wcg7T6TXzI20FR408pv2WESW6y1T20CzMYZ4VcamDJpgxBUybzXk1rCiPrXOn73k0D1dwnv3oqx9zfL1/TCSRe4XqwVxf3sImjioXgy/HS21tEtXDuvXvGPstJcj2JrB8sgkwtmLK1/EPuAo2CPTt0O6b21Yk/beO8ysbCSZiv7j62L6ugvthksg8BiprQGXP/0luBBuNJdY6ggbZpUmmsomf32tI2YkeV7IQUR6FeO8/R6n0RRbPh4Syb4acBxTHSCQ49sdBxPnD61wIPn++xn3X15PCnKsUm6LEh5j8L/kUVc2aayx/GrTd8POtH8F2KrteprKH0wFL6UaB/xiGYdy0EHcGqy6N6rLuON/rOMfR72vXnVULOzN47TNx09BYEhH4XuP1XYHGL3zpC0EQBEEQxG1g0L1XBHHTUKJOEARBEMQt5wqtl+5faL2ufQEEMSwi1KgTBEEQBEGMEmMYv7/D10Rb9fO3fTMh8X1DNeoEQRAEQRAEMYJQ6QtBEARBEARBjCCUqBMEQRAEQRDECEKJOkEQBEEQBEGMIJSoEwRBEARBEMQIQok6QRAEQRAEQYwglKgTBEEQBEEQxAhCiTpBEARBEARBjCCjl6jr+1hMl9HS/Q66QuulhsXW1XVJNdJ01zWk1ns3LYaJvo/FtIZaN/jQ0cG0pzh12F3XkHq5D18zDouSb9wQoywbQYRGnGPijxE3Raj5oltHKt3/tc+hxDWCCItgl0Pnhue30UvUCYKIBb1VpkmVIIg+3Trmz1dwtDRx05LcWe5q3NVbZaTSXg9I6eHpMKFEnQDQQy2up+CJWWycdLCcVD/l5gPbGHJvOziNcfJKLnVw+nYW9MvVI0pcT2Su+8nOrSTG+HJjxB8jgOuOfVdovb9A9Y/ocYni2ihzPX7Wrvw3xifLlOCrQIk6QRAEQXwHZP6oI0dZNhEVbQXVwjFWf797KwajTOhE3alv69aRSmvWf0Ltjl3P0zXrlbknTtx5fvVuVk2gfZxCTV13XfOUyZabPca8i+Ov47qz0+0+eMgb9L2IeDzbL6cOyrwz9pQpiDAydetIpRewBWCrZB7v3JEHtCPqdLF1Ja/l8uyzqfvpyjHQWcO0cA1+PIOeFPTvzO0lupRoe14yi3f1yuMg2CgjI18HqiZb+D6HxOWXjAycXwpyOU+Nw9olfzxvP7ZOepwOzf7y57l14NduX/deuu6ua0iVdgDsYF74jj/Hv4+e7XTrEp8Letrl1kf/WP/+umKqbXeOHfvFUvM7US7Zk15RN/w5oi9YMcAnvoTRNTBADA+UHa4Ytdj6VzjA/eTPX/7+8ZxPOzr1j32+84Sngvzm1h5q6TlMZz3mbFbHQfFJkIXXgx1fxPa9Y6Uvsc+XavYeFEPCoLfK7vET58mgGOtVI22f5zePwz834tsIzmEyS5sodtawqpKX+Nmkvo/F9BxWO0C7MucaO1+ZHYLHXvRTqS8p56Xida9pNdUIyVltynj4aMp4WPvkfPZt9zfj4aPfjN1v9gd7xq+PpoyHi3vGN+Zc13FOe2+MM0M4lzvuk/Gau6Zu7C5OGb/u6nw7jEzG2RuuDVvu12fs97LPRPkY2azr9q9jyuWcb+jGbo3vM8e3PeNXrn2hPafvzDUlMomIffeXWYbYD7V2XDqV9TGoz4ZlF4KtGN/2jNfM+AbrwWr3kcQuGH1KZRbtSWkcRJs0j7Hb5cdETbbAPrt06Y9Lry6/7Mvl+szlS3I/5XXm1g+r57Oa7Nr9c8z4IPuMtcOgdvtj3Ne1V5/Ydq222WOsPop+wSFr5+yN2549fKyPWx9K/ZXp3RVPgmOpKJdoO162JLd3w/i2+8bXFqLoOmoMD5Jddm0vG+r/HSR/37f6n5l6YGOAV+wLipki7rmVmYtEX2V05+dHsjjoHme5fwbGSplMrk4NY75Us3elGOIltsx3xPPEvgXGWHfO48jpmY/IjjHcOrKvHdA3rl8uPbvlU8r3lPrlI7PfnORzPdf4KOWl9jHqthAX0UpfNH4zSiL3ClXtGB/a/N1M8Tlby9bDX5VjFBv80ltyaRNF7OBAuC3hj5vAciMPbB/J7170fbzbzqPJ1g8mn7plKmz2a6eTT1HVZJ/x5ySXyuiXW48hMzMJnH8177b0rzjHJH6+1/8+t+Rdv9dtrAGVV0y/xpB77u5XscFcU9aPAHxlDoFSO9oKfvGpR1fts4vELJZzY4ww0yjiGP9cBghd2MQGc57UvgJktvEbB731J7YEP0Cy7F+bHyRb1D6HYpKpUbXGQvaZa3wmUT1k9JGYRbUyifbB31K70lt/Yov1LQDJ0goynY9oMydkGNtI5J6hKP2sryPVdqGtoOroUtHmMIFldjwTU3iiAecX11g/WXjGxcfA/l5+QRvjGGdjpVBHHSqWSunhrwr42ubELF4UgK3DHoArXJwDmZ9+cM5I5MoBJRYRdR06hgfJbsaotqjjpT2z7UHl59qdwC8+PmMTPmbK5tb+XGT3b4OLLWU0GR2Yc+ikS08bjbyPpPZ12XliAsuHK8gwR0ljZUD8CKOHQedLTyLFkEHwi7Hm9Xl99XCwPYlqyWffhGpuhIB2RJJlNH1LYMLle5Fl9puTbJs+5POY3B/sfBFWziu0Xs5hFde7Ifv/Ip11/0chGR3D+H2g/flfALZhswksrKQ2jxeuRGYCMwXg3cUVkPQ4FwDuPUAGH3GhA0lxArj8gjZ20E7vuETNzPh3hZ1cvOiua5jfZj7QHpv/T8ziRWEN81kNq4XNgI1G5mTW3p5DqiJ+xwZDSd8j4Clz3O24bIFFtc8e6PtYzK6hzXxUDDjFPZ4/4GcN+MDal6/MNv7jcPn5GJmZV6E2VSnJFqHPg8MmeurHJMbHgc4XXAIuPVx+Pga2j5HaFr7AJJ4EXOn++Jjnd8rtKo2xjB5q1hKyTVAMiRPRRgL7m3yKqjaH+fQOMpU9PhmzjgsVS2XoX3GOY2xlNayK3xUAO4lZLc0hVcmjecJOjH7Eo2vfGB4ouxmjis+jTLrB8qvMLzwRYqbn3NpvT9a/ZDYPvP8KHRNIXH5BW3uMahin8b1uH69Ymcg8RqYijx/XPV9KiRxDohIQY5PTKHb+RFufNZPK7hG2tMc48hNSOTdSmQN4kkubKKYXsNqawkZO+DJUvhefzJy+vGw6MYUn2pr1ACycnB9+n0MbKzi65g3V0RL1UUQbgvLspKmwidMTM9DprTKmD/qHJJc6OF0y77JSaQABCXuxEe6NKMOQ+VrbQbQ+mzcIk6gedrCRAOxJ8S5z1/osTxxHt129VcZ05f+3d8c8bWRrGMef/QxxszR3UyTbIAu5IZ7iVo5BArm1ZGuRrxQURBqKpHPYWZYOCpob7corLfIKJFoLpGCobmHHjYUsN5sUsA3bmM/ALcY2Mx7b47E9ZGD/P4kCGMbvDONzXs95z5masvtVXUSlzt2Tj1N/JX+GH6+1GkmqXYM8ZwZ1fjwS8OiGLuob1jmMxT23v99zPSyW8e68Bh1/4P3EA8F5sJvVQqamXyo3SqWeqFE+UvZ11TvnCSI3asfzbj+tudzPKhnvp7vrwGKeRE3S/MCbU0Ga0qovTZ0eStnkkLsSkX/pad+hBOtvh91Fk6RW5UyV+EsZ/c7OzDP30PcUWK85yhBHe+muoUPK1qhDd6gxIKPHfB/7GfeY29fT/hRWKGh90sfqvBaN6SYuM8+9h7A9OWKb4jHfk0b5SMok+iZAUzk/97hf6UaV05oM83g6iUG7Me9q/aXLMXYz+vHO6l29qvMRSiv6taW9JRvXn2t33wxsu90iqT1d1L2Gt6d8rocGNFrs7jbqb/1ZHbR1kPGP0WYOPcbB+2uUj5x3jfv0oa2rK48X7/O6118cI4KDrmHrOnym/jfEg+0vh17vE7r+XHPfje8tGe05R4P0trHRXF46/aSWmjo9TGvB6/oLKDfq6pbAfJKe2n4+Sb43QcyO8zVoP+1+9/sZv3HOa/GnPRUzR1q55yV5x0vUD1d7Zueu6kBeF41Vn3eQ612NZVUHrprhmjaTthPROtGmWZOx8KL/p5jICy3G3fVSjd3JTqZ9GMUeh2zf7/hYkSWaTEuHq84Z5z734cUz5r6sEgx74zXeftxGOWbXa/WJx7rGvFXMZdtr3aj04/bgD3gTiKReKVvdVsI+g7yxN3Qlg+Gx+T/m+31K4JFW7K/V2NPKkA/nEeOlDNfKAE3tTPhkx6ntd+aZDF3pqntA9vI9S6v0szYHJmuD9qP23IIj/WJ/quWP2yN1zL08j9fjmvNuS625JxXzD8fKXI5yt/Yw8EHO2Z62SnvttvxGpd1h12HvtT3muR6LV+yd2uPVnlUyhr33phe/u+0bp5/o17fe/U+iubyMnj7b+h/b6pLbNcCOPtSrze/U+jvObVM7OWfJQt+2sr1v5zw2p2D6y1Gu90m4b1p23sO/21dxyrnLOkZqYyMvtKgzVUrnOnDdJHH3IUHlRnbRziowPW3GaPme+700eswe5yuypLVMT/vXaYu7c4H85KWd463ee7I+XulLpqC1z+1SD0mew6JtkdSezrWhhL1eMFPQxX97O/t5be0/0y+xeLdz8x7+PZbeLCsR2+7+1DCP9cHHYblEN1TMxLXSqZWK51U051WxlX9cmvYauhGGh/eluVzc1gmkVawvTRKl75jd7DWmneHGcfbTPx7PY7bV2XaGvFI/5fUxeXdus/sFZQ+9y0AMs6Dvf41rrtNpBjnsVy9IsVVb/XBaxfq4sT0Z+5jvR1rF11/aZQ2WocPSkSV9KEvrSfv7Y15b5b3JwpjWfu3zSzrv23bNZef/aZgFawKT3/10h4Q7Mc5rq1xQNjnG/3KE4z2wv7dc17t3WxpJvdfW6fLdez1T0Ll55SrxK8rWHrS3u+jUpl5uO9pe57XRp30Z51yPyTP2Pm1Udv9YW5eDS1nGulb67sjd9kXG6Cf69a2GeayUNOAaSqtY33NOsuvtQ+N5ne+nlcgNCd91btMqlvO6TJ7ZturXVlolfkNHDwPqL0e53n1r7LWXau3TLkaWtGWeKdE9jn7nqP1zzzb2iYwFKWFeaavcmzf168cDyo0crPbuwPUBbbR8L5rLy0ha10anbRotZu/z1e+9b5jHunC0f6Pmpfb9Wu3DSuzoXsqzvrm9vb318weN3bhW5DVxEv9YrROtJ79obeQJZdPSrhFdCKZ+eTJhjm0EjT3N5eRjkiBCoXWi9eSZFssPp5wKjwDXnX8+2lhrrtjLENZwIyg8mRTTNWLtHQDg8Rk6nwwTas+PGFQGjEeJRB1TdKPSr0cyzB+48woAj1xj1/2Uy4RH7Tkm0PhDm9W01h7iyCzG9niWZ8RXZFtPOFNw1H8BAB6nmedqz8+4w5KKQej0sdb8FE7vP4vvGnUAAAAAwaP0BQAAAAghEnUAAAAghEjUAQAAgBAiUQcAAABCiEQdAAAACCESdQAAACCESNQBAACAEJpOot460Xqs5wllYRHm2AAAAIABwvNk0taJ1pPbqjh+aD2FK8WziAEAAPAPE7LSl3ltlau6qFtf56a0mfRxN7yxp7nYnhqBxggAAAAEL2SJulMk9V5b8Zo+Vm6+digAAADAvRorUW+VNjQXi7e/NlS67rdVUzvdbeKae3Mi/2XiT/TdU6ny+e+Bd8tbpQ3NvTnR/3bjmssdSTrSSizeZ1tnPOul3uT/RqU3tnhjce003L9fL92osTvpcQEAAADD+U7UW6UNJczvVKx3SlRe6c9cb215UzuxVWn/royl+HRbCd9J7Y2uLiXj+bdSNKGsjnTakzxXTmsyFl7o32+ruthPS0q3Y9tQtLtdTZvJcy10Yt5Pq2L+bCve9OusAAAC7ElEQVSpaWontqzNp4VuvBflvC5z7oS+Yi7rNNk5roKy1W1tupJ+AAAAYDI+E/Wmfjdryu7bk+BZvSvnZdi2apV+00GmoHd3Gymay8uonqniI1Nv7C5rs5rWWuqJpFn9x5zXQblpe6FP+tj9/XCOmKM/OEpqWqXfdBDP6/zt7N0fRJa0Zc6rcvrJ+eHCcVxWTK5tAAAAgAn5W/Wl9ZculdZadPhm159r0mFNc4e9v5nX4tC/rGkzGddm59t4Xuf1JXUWfYkYL2WY52q8nVVUUqtypkrmlT54Bj6v72eGx2ssvFfv4jLW633RtdT9nfH8W89XAwAAACYV2PKMhnmsDyPc6XbyWI4x8kKL8W2dNjYUjd6ocipt/TQ7YGMAAADg4RpjMmlvnbik6y+OGvWZ50GVgzxR6nXaKn9pfdJHvZQxhTXWB8XbqpypEn+mITfjAQAAgED4S9QjS1rLSAc5+4oqTe3kjpybGS9luCZZNrWz29TEogllD89VqpxJCy+c5Sozz2ToSlc+PyFEUq+UrW4rYY+vdaJNs6bs6yVXScxArROtu1aLAQAAAPzzXfoSfVtVUXGtxDrJeVrFcl6XybO7jSJL+lCW1pPLmjM7P7TKWiY3q4XMqlbMtIr1ntKayJLWMttaSca1qbSKjpVfhu/zXb0gxVZtdfXWw5d4KioAAAC+hm9ub29vv3YQfjV241pRQRdvqU8HAADA4xTqJ5P219TpoZRNkqQDAADg8Qps1ZegdNc8H62mBQAAAHiQHk6i3jrRenJbFaVVrPuY4AkAAAA8QA+yRh0AAAB47B5gjToAAADw+JGoAwAAACFEog4AAACEEIk6AAAAEEIk6gAAAEAIkagDAAAAIUSiDgAAAIQQiToAAAAQQiTqAAAAQAiRqAMAAAAhRKIOAAAAhBCJOgAAABBCJOoAAABACJGoAwAAACFEog4AAACEEIk6AAAAEEIk6gAAAEAIkagDAAAAIUSiDgAAAITQ/wH9z6Dhq+PMZwAAAABJRU5ErkJggg==)\n"
      ],
      "metadata": {
        "id": "KEoKc9I7Gxmj"
      }
    },
    {
      "cell_type": "code",
      "source": [
        "#p = \"probalidad\"\n",
        "pFuenteAlimentacion = 0.30\n",
        "pCircuitoPrincipal = 0.70 \n",
        "#--------------------------------------\n",
        "pConReparacionFuenteAlimentacion = 0.20\n",
        "pSinReparacionFuenteAlimentacion = 0.80\n",
        "#--------------------------------------\n",
        "pConReparacionCircuitoPrincipal  = 0.75\n",
        "pSinReparacionCircuitoPrincipal  = 0.25\n"
      ],
      "metadata": {
        "id": "21ohfd4h70gL"
      },
      "execution_count": null,
      "outputs": []
    },
    {
      "cell_type": "code",
      "source": [
        "# f = fuente \n",
        "# c = circuito \n",
        "# s = solucion \n",
        "# ns = no tiene solucion "
      ],
      "metadata": {
        "id": "owfIKQCdUGX4"
      },
      "execution_count": null,
      "outputs": []
    },
    {
      "cell_type": "markdown",
      "source": [
        "![image.png](data:image/png;base64,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)"
      ],
      "metadata": {
        "id": "miyMUInLT_zZ"
      }
    },
    {
      "cell_type": "markdown",
      "source": [
        "![image.png](data:image/png;base64,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)"
      ],
      "metadata": {
        "id": "pRlpe-ufNJ7y"
      }
    },
    {
      "cell_type": "code",
      "source": [
        "noTieneReparacion =  (pCircuitoPrincipal * pSinReparacionCircuitoPrincipal) + (pFuenteAlimentacion * pSinReparacionFuenteAlimentacion)\n",
        "print(noTieneReparacion)"
      ],
      "metadata": {
        "colab": {
          "base_uri": "https://localhost:8080/"
        },
        "id": "SyEAGA2gM-or",
        "outputId": "df378f2b-bff8-4fb0-a40b-496d783c9516"
      },
      "execution_count": null,
      "outputs": [
        {
          "output_type": "stream",
          "name": "stdout",
          "text": [
            "0.415\n"
          ]
        }
      ]
    },
    {
      "cell_type": "code",
      "source": [
        "#Cual es la probabilidad que un equipo que no tiene solucion sea por falla de circuito principal \n",
        "# p(pCircuitoPrincipal/noTieneReparacion)\n",
        "print(\"p(pCircuitoPrincipal/noTieneReparacion) es \",((pSinReparacionCircuitoPrincipal * pCircuitoPrincipal)/ noTieneReparacion)*100)"
      ],
      "metadata": {
        "colab": {
          "base_uri": "https://localhost:8080/"
        },
        "id": "GQJnLx3PUtM1",
        "outputId": "53bd50e9-d30c-41a7-a63c-91bdce818cd6"
      },
      "execution_count": null,
      "outputs": [
        {
          "output_type": "stream",
          "name": "stdout",
          "text": [
            "p(pCircuitoPrincipal/noTieneReparacion) es  42.16867469879518\n"
          ]
        }
      ]
    },
    {
      "cell_type": "code",
      "source": [
        "import pandas as pd\n",
        "import matplotlib.pyplot as plt\n",
        "import numpy as np\n",
        "from scipy.stats import norm\n",
        "\n"
      ],
      "metadata": {
        "id": "I0wSho3UWBKU"
      },
      "execution_count": 181,
      "outputs": []
    },
    {
      "cell_type": "code",
      "source": [
        "import io\n",
        "df = pd.read_csv(io.BytesIO(uploaded['forestfires.csv']))"
      ],
      "metadata": {
        "id": "QTL70bdThBeN"
      },
      "execution_count": 43,
      "outputs": []
    },
    {
      "cell_type": "code",
      "source": [
        "df.head()"
      ],
      "metadata": {
        "colab": {
          "base_uri": "https://localhost:8080/",
          "height": 206
        },
        "id": "SnisTSm6iCMN",
        "outputId": "c8911120-361c-4359-aa50-031a390d334d"
      },
      "execution_count": 83,
      "outputs": [
        {
          "output_type": "execute_result",
          "data": {
            "text/plain": [
              "   X  Y month  day  FFMC   DMC     DC  ISI  temp  RH  wind  rain  area\n",
              "0  7  5   mar  fri  86.2  26.2   94.3  5.1   8.2  51   6.7   0.0   0.0\n",
              "1  7  4   oct  tue  90.6  35.4  669.1  6.7  18.0  33   0.9   0.0   0.0\n",
              "2  7  4   oct  sat  90.6  43.7  686.9  6.7  14.6  33   1.3   0.0   0.0\n",
              "3  8  6   mar  fri  91.7  33.3   77.5  9.0   8.3  97   4.0   0.2   0.0\n",
              "4  8  6   mar  sun  89.3  51.3  102.2  9.6  11.4  99   1.8   0.0   0.0"
            ],
            "text/html": [
              "\n",
              "  <div id=\"df-58965631-dfeb-4c86-827a-ae1f91c0ba1c\">\n",
              "    <div class=\"colab-df-container\">\n",
              "      <div>\n",
              "<style scoped>\n",
              "    .dataframe tbody tr th:only-of-type {\n",
              "        vertical-align: middle;\n",
              "    }\n",
              "\n",
              "    .dataframe tbody tr th {\n",
              "        vertical-align: top;\n",
              "    }\n",
              "\n",
              "    .dataframe thead th {\n",
              "        text-align: right;\n",
              "    }\n",
              "</style>\n",
              "<table border=\"1\" class=\"dataframe\">\n",
              "  <thead>\n",
              "    <tr style=\"text-align: right;\">\n",
              "      <th></th>\n",
              "      <th>X</th>\n",
              "      <th>Y</th>\n",
              "      <th>month</th>\n",
              "      <th>day</th>\n",
              "      <th>FFMC</th>\n",
              "      <th>DMC</th>\n",
              "      <th>DC</th>\n",
              "      <th>ISI</th>\n",
              "      <th>temp</th>\n",
              "      <th>RH</th>\n",
              "      <th>wind</th>\n",
              "      <th>rain</th>\n",
              "      <th>area</th>\n",
              "    </tr>\n",
              "  </thead>\n",
              "  <tbody>\n",
              "    <tr>\n",
              "      <th>0</th>\n",
              "      <td>7</td>\n",
              "      <td>5</td>\n",
              "      <td>mar</td>\n",
              "      <td>fri</td>\n",
              "      <td>86.2</td>\n",
              "      <td>26.2</td>\n",
              "      <td>94.3</td>\n",
              "      <td>5.1</td>\n",
              "      <td>8.2</td>\n",
              "      <td>51</td>\n",
              "      <td>6.7</td>\n",
              "      <td>0.0</td>\n",
              "      <td>0.0</td>\n",
              "    </tr>\n",
              "    <tr>\n",
              "      <th>1</th>\n",
              "      <td>7</td>\n",
              "      <td>4</td>\n",
              "      <td>oct</td>\n",
              "      <td>tue</td>\n",
              "      <td>90.6</td>\n",
              "      <td>35.4</td>\n",
              "      <td>669.1</td>\n",
              "      <td>6.7</td>\n",
              "      <td>18.0</td>\n",
              "      <td>33</td>\n",
              "      <td>0.9</td>\n",
              "      <td>0.0</td>\n",
              "      <td>0.0</td>\n",
              "    </tr>\n",
              "    <tr>\n",
              "      <th>2</th>\n",
              "      <td>7</td>\n",
              "      <td>4</td>\n",
              "      <td>oct</td>\n",
              "      <td>sat</td>\n",
              "      <td>90.6</td>\n",
              "      <td>43.7</td>\n",
              "      <td>686.9</td>\n",
              "      <td>6.7</td>\n",
              "      <td>14.6</td>\n",
              "      <td>33</td>\n",
              "      <td>1.3</td>\n",
              "      <td>0.0</td>\n",
              "      <td>0.0</td>\n",
              "    </tr>\n",
              "    <tr>\n",
              "      <th>3</th>\n",
              "      <td>8</td>\n",
              "      <td>6</td>\n",
              "      <td>mar</td>\n",
              "      <td>fri</td>\n",
              "      <td>91.7</td>\n",
              "      <td>33.3</td>\n",
              "      <td>77.5</td>\n",
              "      <td>9.0</td>\n",
              "      <td>8.3</td>\n",
              "      <td>97</td>\n",
              "      <td>4.0</td>\n",
              "      <td>0.2</td>\n",
              "      <td>0.0</td>\n",
              "    </tr>\n",
              "    <tr>\n",
              "      <th>4</th>\n",
              "      <td>8</td>\n",
              "      <td>6</td>\n",
              "      <td>mar</td>\n",
              "      <td>sun</td>\n",
              "      <td>89.3</td>\n",
              "      <td>51.3</td>\n",
              "      <td>102.2</td>\n",
              "      <td>9.6</td>\n",
              "      <td>11.4</td>\n",
              "      <td>99</td>\n",
              "      <td>1.8</td>\n",
              "      <td>0.0</td>\n",
              "      <td>0.0</td>\n",
              "    </tr>\n",
              "  </tbody>\n",
              "</table>\n",
              "</div>\n",
              "      <button class=\"colab-df-convert\" onclick=\"convertToInteractive('df-58965631-dfeb-4c86-827a-ae1f91c0ba1c')\"\n",
              "              title=\"Convert this dataframe to an interactive table.\"\n",
              "              style=\"display:none;\">\n",
              "        \n",
              "  <svg xmlns=\"http://www.w3.org/2000/svg\" height=\"24px\"viewBox=\"0 0 24 24\"\n",
              "       width=\"24px\">\n",
              "    <path d=\"M0 0h24v24H0V0z\" fill=\"none\"/>\n",
              "    <path d=\"M18.56 5.44l.94 2.06.94-2.06 2.06-.94-2.06-.94-.94-2.06-.94 2.06-2.06.94zm-11 1L8.5 8.5l.94-2.06 2.06-.94-2.06-.94L8.5 2.5l-.94 2.06-2.06.94zm10 10l.94 2.06.94-2.06 2.06-.94-2.06-.94-.94-2.06-.94 2.06-2.06.94z\"/><path d=\"M17.41 7.96l-1.37-1.37c-.4-.4-.92-.59-1.43-.59-.52 0-1.04.2-1.43.59L10.3 9.45l-7.72 7.72c-.78.78-.78 2.05 0 2.83L4 21.41c.39.39.9.59 1.41.59.51 0 1.02-.2 1.41-.59l7.78-7.78 2.81-2.81c.8-.78.8-2.07 0-2.86zM5.41 20L4 18.59l7.72-7.72 1.47 1.35L5.41 20z\"/>\n",
              "  </svg>\n",
              "      </button>\n",
              "      \n",
              "  <style>\n",
              "    .colab-df-container {\n",
              "      display:flex;\n",
              "      flex-wrap:wrap;\n",
              "      gap: 12px;\n",
              "    }\n",
              "\n",
              "    .colab-df-convert {\n",
              "      background-color: #E8F0FE;\n",
              "      border: none;\n",
              "      border-radius: 50%;\n",
              "      cursor: pointer;\n",
              "      display: none;\n",
              "      fill: #1967D2;\n",
              "      height: 32px;\n",
              "      padding: 0 0 0 0;\n",
              "      width: 32px;\n",
              "    }\n",
              "\n",
              "    .colab-df-convert:hover {\n",
              "      background-color: #E2EBFA;\n",
              "      box-shadow: 0px 1px 2px rgba(60, 64, 67, 0.3), 0px 1px 3px 1px rgba(60, 64, 67, 0.15);\n",
              "      fill: #174EA6;\n",
              "    }\n",
              "\n",
              "    [theme=dark] .colab-df-convert {\n",
              "      background-color: #3B4455;\n",
              "      fill: #D2E3FC;\n",
              "    }\n",
              "\n",
              "    [theme=dark] .colab-df-convert:hover {\n",
              "      background-color: #434B5C;\n",
              "      box-shadow: 0px 1px 3px 1px rgba(0, 0, 0, 0.15);\n",
              "      filter: drop-shadow(0px 1px 2px rgba(0, 0, 0, 0.3));\n",
              "      fill: #FFFFFF;\n",
              "    }\n",
              "  </style>\n",
              "\n",
              "      <script>\n",
              "        const buttonEl =\n",
              "          document.querySelector('#df-58965631-dfeb-4c86-827a-ae1f91c0ba1c button.colab-df-convert');\n",
              "        buttonEl.style.display =\n",
              "          google.colab.kernel.accessAllowed ? 'block' : 'none';\n",
              "\n",
              "        async function convertToInteractive(key) {\n",
              "          const element = document.querySelector('#df-58965631-dfeb-4c86-827a-ae1f91c0ba1c');\n",
              "          const dataTable =\n",
              "            await google.colab.kernel.invokeFunction('convertToInteractive',\n",
              "                                                     [key], {});\n",
              "          if (!dataTable) return;\n",
              "\n",
              "          const docLinkHtml = 'Like what you see? Visit the ' +\n",
              "            '<a target=\"_blank\" href=https://colab.research.google.com/notebooks/data_table.ipynb>data table notebook</a>'\n",
              "            + ' to learn more about interactive tables.';\n",
              "          element.innerHTML = '';\n",
              "          dataTable['output_type'] = 'display_data';\n",
              "          await google.colab.output.renderOutput(dataTable, element);\n",
              "          const docLink = document.createElement('div');\n",
              "          docLink.innerHTML = docLinkHtml;\n",
              "          element.appendChild(docLink);\n",
              "        }\n",
              "      </script>\n",
              "    </div>\n",
              "  </div>\n",
              "  "
            ]
          },
          "metadata": {},
          "execution_count": 83
        }
      ]
    },
    {
      "cell_type": "code",
      "source": [
        "#Total de filas y columnas \n",
        "df.shape"
      ],
      "metadata": {
        "colab": {
          "base_uri": "https://localhost:8080/"
        },
        "id": "i-xfxpoXi-_L",
        "outputId": "7ae29e13-37a4-4cc4-d538-960e6f973c7a"
      },
      "execution_count": 53,
      "outputs": [
        {
          "output_type": "execute_result",
          "data": {
            "text/plain": [
              "(517, 13)"
            ]
          },
          "metadata": {},
          "execution_count": 53
        }
      ]
    },
    {
      "cell_type": "code",
      "source": [
        "nombreColumnas=df.columns.values\n",
        "nombreColumnas"
      ],
      "metadata": {
        "colab": {
          "base_uri": "https://localhost:8080/"
        },
        "id": "yBt4WdxOj8AC",
        "outputId": "0167124f-d595-4fdd-c8da-39842de8e786"
      },
      "execution_count": 121,
      "outputs": [
        {
          "output_type": "execute_result",
          "data": {
            "text/plain": [
              "array(['X', 'Y', 'month', 'day', 'FFMC', 'DMC', 'DC', 'ISI', 'temp', 'RH',\n",
              "       'wind', 'rain', 'area'], dtype=object)"
            ]
          },
          "metadata": {},
          "execution_count": 121
        }
      ]
    },
    {
      "cell_type": "code",
      "source": [
        "#Todos son numericos \n",
        "df.dtypes"
      ],
      "metadata": {
        "colab": {
          "base_uri": "https://localhost:8080/"
        },
        "id": "5m6VoPFjkPaM",
        "outputId": "1dcda462-8136-4359-bb4d-9f66688caff6"
      },
      "execution_count": 122,
      "outputs": [
        {
          "output_type": "execute_result",
          "data": {
            "text/plain": [
              "X          int64\n",
              "Y          int64\n",
              "month     object\n",
              "day       object\n",
              "FFMC     float64\n",
              "DMC      float64\n",
              "DC       float64\n",
              "ISI      float64\n",
              "temp     float64\n",
              "RH         int64\n",
              "wind     float64\n",
              "rain     float64\n",
              "area     float64\n",
              "dtype: object"
            ]
          },
          "metadata": {},
          "execution_count": 122
        }
      ]
    },
    {
      "cell_type": "code",
      "source": [
        "#Nos dice el promedio desviacion estandar y mas datos \n",
        "df.describe()"
      ],
      "metadata": {
        "colab": {
          "base_uri": "https://localhost:8080/",
          "height": 300
        },
        "id": "j5AuDxc9jzxL",
        "outputId": "e7a5029f-0d14-4890-e452-ab1094c61e2d"
      },
      "execution_count": 123,
      "outputs": [
        {
          "output_type": "execute_result",
          "data": {
            "text/plain": [
              "                X           Y        FFMC         DMC          DC         ISI  \\\n",
              "count  517.000000  517.000000  517.000000  517.000000  517.000000  517.000000   \n",
              "mean     4.669246    4.299807   90.644681  110.872340  547.940039    9.021663   \n",
              "std      2.313778    1.229900    5.520111   64.046482  248.066192    4.559477   \n",
              "min      1.000000    2.000000   18.700000    1.100000    7.900000    0.000000   \n",
              "25%      3.000000    4.000000   90.200000   68.600000  437.700000    6.500000   \n",
              "50%      4.000000    4.000000   91.600000  108.300000  664.200000    8.400000   \n",
              "75%      7.000000    5.000000   92.900000  142.400000  713.900000   10.800000   \n",
              "max      9.000000    9.000000   96.200000  291.300000  860.600000   56.100000   \n",
              "\n",
              "             temp          RH        wind        rain         area  \n",
              "count  517.000000  517.000000  517.000000  517.000000   517.000000  \n",
              "mean    18.889168   44.288201    4.017602    0.021663    12.847292  \n",
              "std      5.806625   16.317469    1.791653    0.295959    63.655818  \n",
              "min      2.200000   15.000000    0.400000    0.000000     0.000000  \n",
              "25%     15.500000   33.000000    2.700000    0.000000     0.000000  \n",
              "50%     19.300000   42.000000    4.000000    0.000000     0.520000  \n",
              "75%     22.800000   53.000000    4.900000    0.000000     6.570000  \n",
              "max     33.300000  100.000000    9.400000    6.400000  1090.840000  "
            ],
            "text/html": [
              "\n",
              "  <div id=\"df-ba3a781c-b0e5-47e1-a421-54d05a0b4d68\">\n",
              "    <div class=\"colab-df-container\">\n",
              "      <div>\n",
              "<style scoped>\n",
              "    .dataframe tbody tr th:only-of-type {\n",
              "        vertical-align: middle;\n",
              "    }\n",
              "\n",
              "    .dataframe tbody tr th {\n",
              "        vertical-align: top;\n",
              "    }\n",
              "\n",
              "    .dataframe thead th {\n",
              "        text-align: right;\n",
              "    }\n",
              "</style>\n",
              "<table border=\"1\" class=\"dataframe\">\n",
              "  <thead>\n",
              "    <tr style=\"text-align: right;\">\n",
              "      <th></th>\n",
              "      <th>X</th>\n",
              "      <th>Y</th>\n",
              "      <th>FFMC</th>\n",
              "      <th>DMC</th>\n",
              "      <th>DC</th>\n",
              "      <th>ISI</th>\n",
              "      <th>temp</th>\n",
              "      <th>RH</th>\n",
              "      <th>wind</th>\n",
              "      <th>rain</th>\n",
              "      <th>area</th>\n",
              "    </tr>\n",
              "  </thead>\n",
              "  <tbody>\n",
              "    <tr>\n",
              "      <th>count</th>\n",
              "      <td>517.000000</td>\n",
              "      <td>517.000000</td>\n",
              "      <td>517.000000</td>\n",
              "      <td>517.000000</td>\n",
              "      <td>517.000000</td>\n",
              "      <td>517.000000</td>\n",
              "      <td>517.000000</td>\n",
              "      <td>517.000000</td>\n",
              "      <td>517.000000</td>\n",
              "      <td>517.000000</td>\n",
              "      <td>517.000000</td>\n",
              "    </tr>\n",
              "    <tr>\n",
              "      <th>mean</th>\n",
              "      <td>4.669246</td>\n",
              "      <td>4.299807</td>\n",
              "      <td>90.644681</td>\n",
              "      <td>110.872340</td>\n",
              "      <td>547.940039</td>\n",
              "      <td>9.021663</td>\n",
              "      <td>18.889168</td>\n",
              "      <td>44.288201</td>\n",
              "      <td>4.017602</td>\n",
              "      <td>0.021663</td>\n",
              "      <td>12.847292</td>\n",
              "    </tr>\n",
              "    <tr>\n",
              "      <th>std</th>\n",
              "      <td>2.313778</td>\n",
              "      <td>1.229900</td>\n",
              "      <td>5.520111</td>\n",
              "      <td>64.046482</td>\n",
              "      <td>248.066192</td>\n",
              "      <td>4.559477</td>\n",
              "      <td>5.806625</td>\n",
              "      <td>16.317469</td>\n",
              "      <td>1.791653</td>\n",
              "      <td>0.295959</td>\n",
              "      <td>63.655818</td>\n",
              "    </tr>\n",
              "    <tr>\n",
              "      <th>min</th>\n",
              "      <td>1.000000</td>\n",
              "      <td>2.000000</td>\n",
              "      <td>18.700000</td>\n",
              "      <td>1.100000</td>\n",
              "      <td>7.900000</td>\n",
              "      <td>0.000000</td>\n",
              "      <td>2.200000</td>\n",
              "      <td>15.000000</td>\n",
              "      <td>0.400000</td>\n",
              "      <td>0.000000</td>\n",
              "      <td>0.000000</td>\n",
              "    </tr>\n",
              "    <tr>\n",
              "      <th>25%</th>\n",
              "      <td>3.000000</td>\n",
              "      <td>4.000000</td>\n",
              "      <td>90.200000</td>\n",
              "      <td>68.600000</td>\n",
              "      <td>437.700000</td>\n",
              "      <td>6.500000</td>\n",
              "      <td>15.500000</td>\n",
              "      <td>33.000000</td>\n",
              "      <td>2.700000</td>\n",
              "      <td>0.000000</td>\n",
              "      <td>0.000000</td>\n",
              "    </tr>\n",
              "    <tr>\n",
              "      <th>50%</th>\n",
              "      <td>4.000000</td>\n",
              "      <td>4.000000</td>\n",
              "      <td>91.600000</td>\n",
              "      <td>108.300000</td>\n",
              "      <td>664.200000</td>\n",
              "      <td>8.400000</td>\n",
              "      <td>19.300000</td>\n",
              "      <td>42.000000</td>\n",
              "      <td>4.000000</td>\n",
              "      <td>0.000000</td>\n",
              "      <td>0.520000</td>\n",
              "    </tr>\n",
              "    <tr>\n",
              "      <th>75%</th>\n",
              "      <td>7.000000</td>\n",
              "      <td>5.000000</td>\n",
              "      <td>92.900000</td>\n",
              "      <td>142.400000</td>\n",
              "      <td>713.900000</td>\n",
              "      <td>10.800000</td>\n",
              "      <td>22.800000</td>\n",
              "      <td>53.000000</td>\n",
              "      <td>4.900000</td>\n",
              "      <td>0.000000</td>\n",
              "      <td>6.570000</td>\n",
              "    </tr>\n",
              "    <tr>\n",
              "      <th>max</th>\n",
              "      <td>9.000000</td>\n",
              "      <td>9.000000</td>\n",
              "      <td>96.200000</td>\n",
              "      <td>291.300000</td>\n",
              "      <td>860.600000</td>\n",
              "      <td>56.100000</td>\n",
              "      <td>33.300000</td>\n",
              "      <td>100.000000</td>\n",
              "      <td>9.400000</td>\n",
              "      <td>6.400000</td>\n",
              "      <td>1090.840000</td>\n",
              "    </tr>\n",
              "  </tbody>\n",
              "</table>\n",
              "</div>\n",
              "      <button class=\"colab-df-convert\" onclick=\"convertToInteractive('df-ba3a781c-b0e5-47e1-a421-54d05a0b4d68')\"\n",
              "              title=\"Convert this dataframe to an interactive table.\"\n",
              "              style=\"display:none;\">\n",
              "        \n",
              "  <svg xmlns=\"http://www.w3.org/2000/svg\" height=\"24px\"viewBox=\"0 0 24 24\"\n",
              "       width=\"24px\">\n",
              "    <path d=\"M0 0h24v24H0V0z\" fill=\"none\"/>\n",
              "    <path d=\"M18.56 5.44l.94 2.06.94-2.06 2.06-.94-2.06-.94-.94-2.06-.94 2.06-2.06.94zm-11 1L8.5 8.5l.94-2.06 2.06-.94-2.06-.94L8.5 2.5l-.94 2.06-2.06.94zm10 10l.94 2.06.94-2.06 2.06-.94-2.06-.94-.94-2.06-.94 2.06-2.06.94z\"/><path d=\"M17.41 7.96l-1.37-1.37c-.4-.4-.92-.59-1.43-.59-.52 0-1.04.2-1.43.59L10.3 9.45l-7.72 7.72c-.78.78-.78 2.05 0 2.83L4 21.41c.39.39.9.59 1.41.59.51 0 1.02-.2 1.41-.59l7.78-7.78 2.81-2.81c.8-.78.8-2.07 0-2.86zM5.41 20L4 18.59l7.72-7.72 1.47 1.35L5.41 20z\"/>\n",
              "  </svg>\n",
              "      </button>\n",
              "      \n",
              "  <style>\n",
              "    .colab-df-container {\n",
              "      display:flex;\n",
              "      flex-wrap:wrap;\n",
              "      gap: 12px;\n",
              "    }\n",
              "\n",
              "    .colab-df-convert {\n",
              "      background-color: #E8F0FE;\n",
              "      border: none;\n",
              "      border-radius: 50%;\n",
              "      cursor: pointer;\n",
              "      display: none;\n",
              "      fill: #1967D2;\n",
              "      height: 32px;\n",
              "      padding: 0 0 0 0;\n",
              "      width: 32px;\n",
              "    }\n",
              "\n",
              "    .colab-df-convert:hover {\n",
              "      background-color: #E2EBFA;\n",
              "      box-shadow: 0px 1px 2px rgba(60, 64, 67, 0.3), 0px 1px 3px 1px rgba(60, 64, 67, 0.15);\n",
              "      fill: #174EA6;\n",
              "    }\n",
              "\n",
              "    [theme=dark] .colab-df-convert {\n",
              "      background-color: #3B4455;\n",
              "      fill: #D2E3FC;\n",
              "    }\n",
              "\n",
              "    [theme=dark] .colab-df-convert:hover {\n",
              "      background-color: #434B5C;\n",
              "      box-shadow: 0px 1px 3px 1px rgba(0, 0, 0, 0.15);\n",
              "      filter: drop-shadow(0px 1px 2px rgba(0, 0, 0, 0.3));\n",
              "      fill: #FFFFFF;\n",
              "    }\n",
              "  </style>\n",
              "\n",
              "      <script>\n",
              "        const buttonEl =\n",
              "          document.querySelector('#df-ba3a781c-b0e5-47e1-a421-54d05a0b4d68 button.colab-df-convert');\n",
              "        buttonEl.style.display =\n",
              "          google.colab.kernel.accessAllowed ? 'block' : 'none';\n",
              "\n",
              "        async function convertToInteractive(key) {\n",
              "          const element = document.querySelector('#df-ba3a781c-b0e5-47e1-a421-54d05a0b4d68');\n",
              "          const dataTable =\n",
              "            await google.colab.kernel.invokeFunction('convertToInteractive',\n",
              "                                                     [key], {});\n",
              "          if (!dataTable) return;\n",
              "\n",
              "          const docLinkHtml = 'Like what you see? Visit the ' +\n",
              "            '<a target=\"_blank\" href=https://colab.research.google.com/notebooks/data_table.ipynb>data table notebook</a>'\n",
              "            + ' to learn more about interactive tables.';\n",
              "          element.innerHTML = '';\n",
              "          dataTable['output_type'] = 'display_data';\n",
              "          await google.colab.output.renderOutput(dataTable, element);\n",
              "          const docLink = document.createElement('div');\n",
              "          docLink.innerHTML = docLinkHtml;\n",
              "          element.appendChild(docLink);\n",
              "        }\n",
              "      </script>\n",
              "    </div>\n",
              "  </div>\n",
              "  "
            ]
          },
          "metadata": {},
          "execution_count": 123
        }
      ]
    },
    {
      "cell_type": "code",
      "source": [
        "# def obtenerHistograma(array,dataFrame):\n",
        "#   for nombre in array:\n",
        "#     plt.hist(dataFrame[nombre],None,density=True)\n",
        "#     plt.ylabel(\"Frecuencia\")\n",
        "#     plt.xlabel(nombre)\n",
        "#     plt.title(\"Histograma\")\n",
        "#     # plt.plot(datos,1/(sigma * np.sqr(2*np.pi))*np.exp(-(bins-mu)))\n",
        "#     print(\"\\n\")\n",
        "#     plt.show()\n"
      ],
      "metadata": {
        "id": "HRAeS4Hjj1-7"
      },
      "execution_count": 118,
      "outputs": []
    },
    {
      "cell_type": "code",
      "source": [
        "dataFrame2 = df[\"temp\"]"
      ],
      "metadata": {
        "id": "3LRomBWIpxck"
      },
      "execution_count": 128,
      "outputs": []
    },
    {
      "cell_type": "code",
      "source": [
        "dataFrame2"
      ],
      "metadata": {
        "colab": {
          "base_uri": "https://localhost:8080/"
        },
        "id": "HNPmOyHGy_8S",
        "outputId": "66964ce1-7f39-4051-e530-504ee784eb00"
      },
      "execution_count": 129,
      "outputs": [
        {
          "output_type": "execute_result",
          "data": {
            "text/plain": [
              "0       8.2\n",
              "1      18.0\n",
              "2      14.6\n",
              "3       8.3\n",
              "4      11.4\n",
              "       ... \n",
              "512    27.8\n",
              "513    21.9\n",
              "514    21.2\n",
              "515    25.6\n",
              "516    11.8\n",
              "Name: temp, Length: 517, dtype: float64"
            ]
          },
          "metadata": {},
          "execution_count": 129
        }
      ]
    },
    {
      "cell_type": "code",
      "source": [
        "plt.hist(dataFrame2)\n",
        "plt.show()"
      ],
      "metadata": {
        "colab": {
          "base_uri": "https://localhost:8080/",
          "height": 265
        },
        "id": "wsqTqDtc8KKr",
        "outputId": "25f5e88b-c0ef-4ab2-d4e1-459d50207e53"
      },
      "execution_count": 162,
      "outputs": [
        {
          "output_type": "display_data",
          "data": {
            "text/plain": [
              "<Figure size 432x288 with 1 Axes>"
            ],
            "image/png": "[encoded data removed]"
          },
          "metadata": {
            "needs_background": "light"
          }
        }
      ]
    },
    {
      "cell_type": "code",
      "source": [
        "promedio = np.mean(dataFrame2)\n",
        "mediana = np.median(dataFrame2)\n",
        "sigma = dataFrame2.std()\n",
        "print(\"Promedio\",promedio)\n",
        "print(\"mediana\",mediana)\n",
        "print(\"Desviacion estandar\",sigma)"
      ],
      "metadata": {
        "colab": {
          "base_uri": "https://localhost:8080/"
        },
        "id": "Nr7EZjUgzBjK",
        "outputId": "2bd31d27-007f-4f84-d005-9619449ed13f"
      },
      "execution_count": 171,
      "outputs": [
        {
          "output_type": "stream",
          "name": "stdout",
          "text": [
            "Promedio 18.88916827852998\n",
            "mediana 19.3\n",
            "Desviacion estandar 5.806625349573503\n"
          ]
        }
      ]
    },
    {
      "cell_type": "code",
      "source": [
        "frecuencias,datos,ignored = plt.hist(dataFrame2,30,density=True)\n",
        "# print(datos)\n",
        "dist = norm(loc=promedio, scale=sigma)\n",
        "# plt.plot(datos,1/(sigma*np.sqrt(2*np.pi))*np.exp(-(mediana-promedio)**2/(2*sigma**2)),linewidth=2,color='r')\n",
        "plt.plot(datos,dist.pdf(datos))\n",
        "plt.show()\n",
        "#https://es.stackoverflow.com/questions/214978/distribuci%C3%B3n-normal-densidad-de-probabilidad"
      ],
      "metadata": {
        "colab": {
          "base_uri": "https://localhost:8080/",
          "height": 265
        },
        "id": "8QLadLEy1a9L",
        "outputId": "602bf1a0-29a7-4402-efab-7e2cb7f08136"
      },
      "execution_count": 188,
      "outputs": [
        {
          "output_type": "display_data",
          "data": {
            "text/plain": [
              "<Figure size 432x288 with 1 Axes>"
            ],
            "image/png": "[encoded data removed]"
          },
          "metadata": {
            "needs_background": "light"
          }
        }
      ]
    },
    {
      "cell_type": "code",
      "source": [
        ""
      ],
      "metadata": {
        "id": "B5yLcE4U2LK7"
      },
      "execution_count": null,
      "outputs": []
    }
  ]
}