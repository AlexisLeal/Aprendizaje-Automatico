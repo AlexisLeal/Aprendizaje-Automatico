{
  "nbformat": 4,
  "nbformat_minor": 0,
  "metadata": {
    "colab": {
      "name": "Actividad5.ipynb",
      "provenance": [],
      "collapsed_sections": []
    },
    "kernelspec": {
      "name": "python3",
      "display_name": "Python 3"
    },
    "language_info": {
      "name": "python"
    }
  },
  "cells": [
    {
      "cell_type": "markdown",
      "source": [
        "#Punto 1"
      ],
      "metadata": {
        "id": "H-yp3diURpQu"
      }
    },
    {
      "cell_type": "code",
      "execution_count": 61,
      "metadata": {
        "id": "nPG40-VGRlP1"
      },
      "outputs": [],
      "source": [
        "from sklearn.datasets import make_regression,make_circles,make_blobs,make_moons\n",
        "from matplotlib import pyplot\n",
        "import pandas as pd\n",
        "from sklearn.model_selection import train_test_split\n",
        "from sklearn.linear_model import LinearRegression\n",
        "import seaborn as sns\n",
        "import numpy as np\n"
      ]
    },
    {
      "cell_type": "markdown",
      "source": [
        "#Punto 1 "
      ],
      "metadata": {
        "id": "FYk3PIPpTJp1"
      }
    },
    {
      "cell_type": "markdown",
      "source": [
        "A) Conjunto de datos de tres características linealmente relacionados.(Primer ejemplo)\n"
      ],
      "metadata": {
        "id": "9kFW06xvTNOA"
      }
    },
    {
      "cell_type": "code",
      "source": [
        "#Hace una regresion lineal \n",
        "X1, y1 = make_regression(n_samples=50, n_features=3, noise=2.5)"
      ],
      "metadata": {
        "id": "eVZTpV7hbeSA"
      },
      "execution_count": 2,
      "outputs": []
    },
    {
      "cell_type": "code",
      "source": [
        "#Variable indepediente\n",
        "print(y1)"
      ],
      "metadata": {
        "colab": {
          "base_uri": "https://localhost:8080/"
        },
        "id": "ho4AIklkbptu",
        "outputId": "092842a6-9f2b-472f-a22e-c85649e21fb0"
      },
      "execution_count": 3,
      "outputs": [
        {
          "output_type": "stream",
          "name": "stdout",
          "text": [
            "[  86.16557896  -80.8237628   110.28729398    3.03289315  -73.93464107\n",
            "   38.65922704  -64.75229712  -14.07809956  168.46753558   37.83222742\n",
            "  -26.3937858   -84.61632677  115.22159361  116.03352072   35.90490288\n",
            " -125.96097579   -6.67347974  -37.04233618  -87.94572566  -76.61930975\n",
            "   19.86808154 -234.85446123   20.65430561  -77.19008771   69.64594597\n",
            " -121.02690293   35.67515444  -15.9498115   -50.05245077   -1.08205123\n",
            "    9.03852422  -69.74905882   24.75529236  160.42436588   24.25262304\n",
            " -118.89757141  -46.92321676  -13.23148035  -63.48568751  -10.25302803\n",
            "   20.15342558  -43.79647889  -38.69615927  117.05931984   69.68881233\n",
            "  -17.29412796  -64.34649486   53.6316957    57.31803987   99.91689459]\n"
          ]
        }
      ]
    },
    {
      "cell_type": "code",
      "source": [
        "#Variables Depedientes\n",
        "# print(X1[:,0])\n",
        "print(X1)"
      ],
      "metadata": {
        "colab": {
          "base_uri": "https://localhost:8080/"
        },
        "id": "PR0CveRWb8t-",
        "outputId": "17cb7099-52b5-43b2-dcf1-a6a6552469fe"
      },
      "execution_count": 4,
      "outputs": [
        {
          "output_type": "stream",
          "name": "stdout",
          "text": [
            "[[ 1.02004461  0.04203159  1.85240717]\n",
            " [-0.2194775  -0.77388976 -0.50652825]\n",
            " [ 0.46385349  1.0117328   0.1944802 ]\n",
            " [-0.27100146  0.15926702  0.5430687 ]\n",
            " [-0.42206016 -0.72869666  0.45169149]\n",
            " [-0.04567962  0.67888677 -1.01520221]\n",
            " [-0.38651463 -0.6458888   0.75803071]\n",
            " [ 0.31146431 -0.36264747 -0.37812273]\n",
            " [ 1.47260665  1.22260016 -1.48746585]\n",
            " [-0.32099868  1.02730569 -2.43821812]\n",
            " [-1.14080224  0.31805279  0.99290238]\n",
            " [ 0.26529652 -1.26832775  0.09174902]\n",
            " [ 0.13283934  1.04761005  1.87045442]\n",
            " [ 0.50668645  1.21324333 -0.72829839]\n",
            " [-0.46490932  0.93682136 -0.71653499]\n",
            " [-0.46215337 -1.34000681  0.74063468]\n",
            " [ 1.2878979  -0.96969088 -0.65161833]\n",
            " [ 0.0754222  -0.67260536  1.3312094 ]\n",
            " [-0.49353949 -0.70110312  0.01493821]\n",
            " [-0.42399337 -0.76948068  0.76154256]\n",
            " [-0.2727726   0.37543799  0.42043553]\n",
            " [-2.28597061 -1.09849845 -0.6349367 ]\n",
            " [ 0.20946676  0.17593475 -0.70125213]\n",
            " [-0.10938602 -0.85622953 -0.54088344]\n",
            " [ 0.68412826  0.42765339 -0.5297333 ]\n",
            " [-1.38258354 -0.45640251 -0.22274436]\n",
            " [ 0.44600287 -0.2945735   2.26004311]\n",
            " [-0.62374048  0.6035564  -2.09157369]\n",
            " [-0.28424927 -0.38193624 -0.26057877]\n",
            " [-0.67420267  0.45458624  0.35218395]\n",
            " [ 0.54846487 -0.35380535  0.4905236 ]\n",
            " [ 0.82915505 -1.51564649  0.04977292]\n",
            " [-0.54226092  0.5651061   1.13909342]\n",
            " [ 1.43553586  1.12665246 -1.38188313]\n",
            " [-0.37799118  0.67304122 -0.54940699]\n",
            " [-0.56544744 -1.13761651  0.26034414]\n",
            " [-0.21497733 -0.4358781   0.32721236]\n",
            " [ 0.10074301 -0.39812601  1.01130498]\n",
            " [ 1.74599139 -2.05971653 -0.12820881]\n",
            " [-2.03282652  1.45607545 -0.0928453 ]\n",
            " [-0.24907867  0.4262013   0.13773403]\n",
            " [ 0.26667036 -0.66519393 -0.58524602]\n",
            " [ 0.05533626 -0.23016757 -1.8088994 ]\n",
            " [ 1.7979163  -0.21273335  1.83581724]\n",
            " [-0.02920257  0.8024956   0.74325125]\n",
            " [ 0.77240596 -0.73193278 -0.35620614]\n",
            " [ 0.5374447  -1.1723193  -0.30615092]\n",
            " [ 1.38541062 -0.5243989   0.63698937]\n",
            " [ 1.18068383 -0.18946194 -0.04675747]\n",
            " [ 0.62658524  0.8828831  -0.85642479]]\n"
          ]
        }
      ]
    },
    {
      "cell_type": "code",
      "source": [
        "x_train,x_test,y_train,y_test=train_test_split(X1,y1,test_size=0.2,random_state=0)\n"
      ],
      "metadata": {
        "id": "vBwd0JEQTRMe"
      },
      "execution_count": 5,
      "outputs": []
    },
    {
      "cell_type": "code",
      "source": [
        "linreg=LinearRegression()\n",
        "linreg.fit(x_train,y_train)"
      ],
      "metadata": {
        "colab": {
          "base_uri": "https://localhost:8080/"
        },
        "id": "kbWo8PVsTymh",
        "outputId": "8400d930-61a1-492d-d7fb-95b784fef072"
      },
      "execution_count": 6,
      "outputs": [
        {
          "output_type": "execute_result",
          "data": {
            "text/plain": [
              "LinearRegression()"
            ]
          },
          "metadata": {},
          "execution_count": 6
        }
      ]
    },
    {
      "cell_type": "code",
      "source": [
        "y_pred=linreg.predict(x_test)\n",
        "y_pred"
      ],
      "metadata": {
        "colab": {
          "base_uri": "https://localhost:8080/"
        },
        "id": "o5emAnMkUInO",
        "outputId": "46d57070-9192-4af5-ae70-59e0c7fdcc5d"
      },
      "execution_count": 7,
      "outputs": [
        {
          "output_type": "execute_result",
          "data": {
            "text/plain": [
              "array([-50.65590658, -83.19265368, -32.3380937 , -43.38891149,\n",
              "       111.13928892, -15.221708  , -58.19214371, -68.87960338,\n",
              "        18.47888957, -78.0223524 ])"
            ]
          },
          "metadata": {},
          "execution_count": 7
        }
      ]
    },
    {
      "cell_type": "code",
      "source": [
        "pyplot.scatter(y_test,y_pred);\n",
        "pyplot.xlabel('Actual');\n",
        "pyplot.ylabel('Predicted');"
      ],
      "metadata": {
        "colab": {
          "base_uri": "https://localhost:8080/",
          "height": 279
        },
        "id": "INoBJe8hWRS-",
        "outputId": "20430883-eaba-4aed-998f-7a32a324b1ca"
      },
      "execution_count": 8,
      "outputs": [
        {
          "output_type": "display_data",
          "data": {
            "text/plain": [
              "<Figure size 432x288 with 1 Axes>"
            ],
            "image/png": "[encoded data removed]"
          },
          "metadata": {
            "needs_background": "light"
          }
        }
      ]
    },
    {
      "cell_type": "code",
      "source": [
        "sns.regplot(x=y_test,y=y_pred,ci=None,color ='red');"
      ],
      "metadata": {
        "colab": {
          "base_uri": "https://localhost:8080/",
          "height": 265
        },
        "id": "B2N9Dc9WWw1S",
        "outputId": "4749ed07-8426-42bd-fbb6-ed7948bb8820"
      },
      "execution_count": 9,
      "outputs": [
        {
          "output_type": "display_data",
          "data": {
            "text/plain": [
              "<Figure size 432x288 with 1 Axes>"
            ],
            "image/png": "[encoded data removed]"
          },
          "metadata": {
            "needs_background": "light"
          }
        }
      ]
    },
    {
      "cell_type": "markdown",
      "source": [
        "A) Conjunto de datos de tres características linealmente relacionados.(Segundo ejemplo)\n"
      ],
      "metadata": {
        "id": "a3s1aw3HXYs9"
      }
    },
    {
      "cell_type": "code",
      "source": [
        "X2, y2 = make_blobs(n_samples=50, centers=3, n_features=3,cluster_std=0.5 )\n",
        "#NO SE PUEDE GRAFICAR EN 2D POR QUE TIENES TRES CARACTERISTICAS \n",
        "# scatter plot, dots colored by class value\n",
        "# df = DataFrame(dict(x=X2[:,0], y=X2[:,1], label=y2))\n",
        "# colors = {0:'red', 1:'blue', 2:'green'}\n",
        "# fig, ax = pyplot.subplots()\n",
        "# grouped = df.groupby('label')\n",
        "# for key, group in grouped:\n",
        "#     group.plot(ax=ax, kind='scatter', x='x', y='y', label=key, color=colors[key])\n",
        "# pyplot.show()"
      ],
      "metadata": {
        "id": "boSjEQ-qaAmD"
      },
      "execution_count": 52,
      "outputs": []
    },
    {
      "cell_type": "markdown",
      "source": [
        "B) Conjunto de datos de cuatro características, relacionados de forma completa, no lineal.\n"
      ],
      "metadata": {
        "id": "M8MP6A9lXJXy"
      }
    },
    {
      "cell_type": "code",
      "source": [
        "Xb, yb = make_blobs(n_samples=50, centers=2, n_features=4,cluster_std=10)\n",
        "print(Xb)"
      ],
      "metadata": {
        "colab": {
          "base_uri": "https://localhost:8080/"
        },
        "id": "2HKtqwuht4Ak",
        "outputId": "0d87b0a2-6c98-4fcc-aafc-d144d1c93fa5"
      },
      "execution_count": 11,
      "outputs": [
        {
          "output_type": "stream",
          "name": "stdout",
          "text": [
            "[[ -6.36568129   3.38295472  -5.52644217   8.03319749]\n",
            " [ 11.31701112  -5.22925663 -12.77240257   4.14295846]\n",
            " [  5.43861212   2.3705364   -5.93018333  -0.13828896]\n",
            " [ 15.22581392  -1.15536846 -11.77112538   6.06581894]\n",
            " [ 10.28343454  -1.12133705  -4.19876198   1.83842589]\n",
            " [ -4.05727506 -20.05362917  -4.97050431  10.99241707]\n",
            " [ -1.05618975  15.83218342   1.45504196  10.75337964]\n",
            " [  4.28779455  -9.76169456  -8.45422427   3.76691492]\n",
            " [  8.47749808   0.90984685   0.49872673   8.9063421 ]\n",
            " [  6.21808744 -12.37482865 -20.6626375   -2.30909626]\n",
            " [ -1.75353271   3.9144468   -7.28683362  14.96313682]\n",
            " [  6.12273335  -1.62526374   1.75194311  -3.29596703]\n",
            " [-15.37466515  14.85144615 -20.73136855   5.32930477]\n",
            " [ 14.66864399  -6.03090185 -18.14130836 -10.31551737]\n",
            " [ -5.21509756  -4.40449737  -3.20116857   3.3168548 ]\n",
            " [  3.82883161 -18.76876214  -0.27459958  20.84229436]\n",
            " [ -1.46387247   4.03719643 -19.39839995  15.495733  ]\n",
            " [ 11.67634074   3.01584963 -19.67772435  10.7446014 ]\n",
            " [ 22.58524222  -0.43304714   0.13555363   5.5584869 ]\n",
            " [-10.69489014 -30.25834012 -27.26189184 -22.62190929]\n",
            " [ -2.31865843  -0.07367423  -7.61233992  19.09522426]\n",
            " [  4.14584471  -7.65269195   0.71797653  16.16377795]\n",
            " [ 11.5302593  -16.65349248  -6.77040627  18.91531662]\n",
            " [-15.339613    -4.19966745  -9.97512878  -1.88289866]\n",
            " [  7.5827012    0.04976373 -10.56000861 -16.98851437]\n",
            " [ 24.88922809   3.53764465  -7.05744167  11.64408367]\n",
            " [ 10.92572462 -12.94723476 -13.05178113  -0.25128354]\n",
            " [ -7.70205277 -11.97697713   7.68825723  -3.41320237]\n",
            " [  9.9268441   -1.35592016 -12.0923781    1.66984043]\n",
            " [-10.1064838   -4.93994394 -14.36208672  -5.42348944]\n",
            " [-18.64165306  11.76562552   4.73087116   6.63036452]\n",
            " [ -5.32038415  -5.62642129 -12.74677306  13.9555001 ]\n",
            " [  4.78243058 -19.14206483  -2.63793414   5.14066844]\n",
            " [  0.87202599   3.66189449   1.21881967  20.48429713]\n",
            " [ 31.87928228   5.06653595  -3.02175032  22.72058225]\n",
            " [  0.78596022 -25.11242076 -13.80209537   3.42652772]\n",
            " [ 17.44123107  -0.8156128   -6.59965951   3.30498424]\n",
            " [ 22.5070326   10.59741165 -11.1129225   -5.54941601]\n",
            " [ -7.02325375   4.19668387  10.57112735   9.83490138]\n",
            " [-17.69580184   2.7087884  -12.02223179 -19.5802947 ]\n",
            " [ -0.94423412   2.23552797  -9.65889081  -1.24854282]\n",
            " [  7.78306853   7.02250843   3.51670298   1.19825972]\n",
            " [ 15.39636945 -27.67188997   1.59139661  10.83105673]\n",
            " [  2.75634206 -10.70647121   6.20929162  11.73116148]\n",
            " [-13.30334763   3.61937866 -13.9011395   14.54319612]\n",
            " [ -3.16796662   6.59316792  10.27449801   2.13147282]\n",
            " [  7.8371783    4.38734415 -18.92307984  -7.25125476]\n",
            " [ -9.06849457 -25.41862922  -0.93109699   4.67610652]\n",
            " [  0.72568658 -18.80893899 -24.5168456    8.34985429]\n",
            " [ -4.3902101   -4.98641552 -13.9829186    9.28127305]]\n"
          ]
        }
      ]
    },
    {
      "cell_type": "markdown",
      "source": [
        "c) Conjunto de datos que, de manera prevista, puedan expresar una relación lineal.\n"
      ],
      "metadata": {
        "id": "XfRGL3ghuuNm"
      }
    },
    {
      "cell_type": "code",
      "source": [
        "Xc, yc = make_blobs(n_samples=50, centers=2, n_features=5,cluster_std=0.5)\n",
        "# scatter plot, dots colored by class value\n",
        "df = pd.DataFrame(dict(x=Xc[:,0], y=Xc[:,1], label=yc))\n",
        "colors = {0:'red', 1:'blue'}\n",
        "fig, ax = pyplot.subplots()\n",
        "grouped = df.groupby('label')\n",
        "for key, group in grouped:\n",
        "    group.plot(ax=ax, kind='scatter', x='x', y='y', label=key, color=colors[key])\n",
        "pyplot.show()"
      ],
      "metadata": {
        "colab": {
          "base_uri": "https://localhost:8080/",
          "height": 279
        },
        "id": "76Ayvv8-upXI",
        "outputId": "18b3afcc-8d94-41be-9532-db09bfc8ff34"
      },
      "execution_count": 12,
      "outputs": [
        {
          "output_type": "display_data",
          "data": {
            "text/plain": [
              "<Figure size 432x288 with 1 Axes>"
            ],
            "image/png": "[encoded data removed]"
          },
          "metadata": {
            "needs_background": "light"
          }
        }
      ]
    },
    {
      "cell_type": "code",
      "source": [
        "pyplot.scatter(y_test,y_pred);\n",
        "pyplot.xlabel('Actual');\n",
        "pyplot.ylabel('Predicted');"
      ],
      "metadata": {
        "colab": {
          "base_uri": "https://localhost:8080/",
          "height": 279
        },
        "id": "Sq-67zYtwxza",
        "outputId": "688fff73-8b19-4098-8761-6cced763e32e"
      },
      "execution_count": 13,
      "outputs": [
        {
          "output_type": "display_data",
          "data": {
            "text/plain": [
              "<Figure size 432x288 with 1 Axes>"
            ],
            "image/png": "[encoded data removed]"
          },
          "metadata": {
            "needs_background": "light"
          }
        }
      ]
    },
    {
      "cell_type": "markdown",
      "source": [
        "#Punto 2"
      ],
      "metadata": {
        "id": "IvyJhSMjXcNe"
      }
    },
    {
      "cell_type": "code",
      "source": [
        "from pandas import DataFrame"
      ],
      "metadata": {
        "id": "v5UYZKnFhRJB"
      },
      "execution_count": 14,
      "outputs": []
    },
    {
      "cell_type": "code",
      "source": [
        "df = pd.DataFrame()"
      ],
      "metadata": {
        "id": "Xiowcl_Yp6CB"
      },
      "execution_count": 15,
      "outputs": []
    },
    {
      "cell_type": "code",
      "source": [
        "df[\"x1\"]=X1[:,0]\n",
        "df[\"x2\"]=X1[:,1]\n",
        "df[\"x3\"]=X1[:,2]\n",
        "df[\"y\"]=y1"
      ],
      "metadata": {
        "id": "zSwcE1VTp7k1"
      },
      "execution_count": 16,
      "outputs": []
    },
    {
      "cell_type": "code",
      "source": [
        "df.head()"
      ],
      "metadata": {
        "colab": {
          "base_uri": "https://localhost:8080/",
          "height": 206
        },
        "id": "FUuNH89Sq_lm",
        "outputId": "63b48af3-b278-40d5-e1d0-f33d1c0bdfac"
      },
      "execution_count": 17,
      "outputs": [
        {
          "output_type": "execute_result",
          "data": {
            "text/plain": [
              "         x1        x2        x3           y\n",
              "0  1.020045  0.042032  1.852407   86.165579\n",
              "1 -0.219477 -0.773890 -0.506528  -80.823763\n",
              "2  0.463853  1.011733  0.194480  110.287294\n",
              "3 -0.271001  0.159267  0.543069    3.032893\n",
              "4 -0.422060 -0.728697  0.451691  -73.934641"
            ],
            "text/html": [
              "\n",
              "  <div id=\"df-89321cea-520a-426a-8233-b80118dbd7c7\">\n",
              "    <div class=\"colab-df-container\">\n",
              "      <div>\n",
              "<style scoped>\n",
              "    .dataframe tbody tr th:only-of-type {\n",
              "        vertical-align: middle;\n",
              "    }\n",
              "\n",
              "    .dataframe tbody tr th {\n",
              "        vertical-align: top;\n",
              "    }\n",
              "\n",
              "    .dataframe thead th {\n",
              "        text-align: right;\n",
              "    }\n",
              "</style>\n",
              "<table border=\"1\" class=\"dataframe\">\n",
              "  <thead>\n",
              "    <tr style=\"text-align: right;\">\n",
              "      <th></th>\n",
              "      <th>x1</th>\n",
              "      <th>x2</th>\n",
              "      <th>x3</th>\n",
              "      <th>y</th>\n",
              "    </tr>\n",
              "  </thead>\n",
              "  <tbody>\n",
              "    <tr>\n",
              "      <th>0</th>\n",
              "      <td>1.020045</td>\n",
              "      <td>0.042032</td>\n",
              "      <td>1.852407</td>\n",
              "      <td>86.165579</td>\n",
              "    </tr>\n",
              "    <tr>\n",
              "      <th>1</th>\n",
              "      <td>-0.219477</td>\n",
              "      <td>-0.773890</td>\n",
              "      <td>-0.506528</td>\n",
              "      <td>-80.823763</td>\n",
              "    </tr>\n",
              "    <tr>\n",
              "      <th>2</th>\n",
              "      <td>0.463853</td>\n",
              "      <td>1.011733</td>\n",
              "      <td>0.194480</td>\n",
              "      <td>110.287294</td>\n",
              "    </tr>\n",
              "    <tr>\n",
              "      <th>3</th>\n",
              "      <td>-0.271001</td>\n",
              "      <td>0.159267</td>\n",
              "      <td>0.543069</td>\n",
              "      <td>3.032893</td>\n",
              "    </tr>\n",
              "    <tr>\n",
              "      <th>4</th>\n",
              "      <td>-0.422060</td>\n",
              "      <td>-0.728697</td>\n",
              "      <td>0.451691</td>\n",
              "      <td>-73.934641</td>\n",
              "    </tr>\n",
              "  </tbody>\n",
              "</table>\n",
              "</div>\n",
              "      <button class=\"colab-df-convert\" onclick=\"convertToInteractive('df-89321cea-520a-426a-8233-b80118dbd7c7')\"\n",
              "              title=\"Convert this dataframe to an interactive table.\"\n",
              "              style=\"display:none;\">\n",
              "        \n",
              "  <svg xmlns=\"http://www.w3.org/2000/svg\" height=\"24px\"viewBox=\"0 0 24 24\"\n",
              "       width=\"24px\">\n",
              "    <path d=\"M0 0h24v24H0V0z\" fill=\"none\"/>\n",
              "    <path d=\"M18.56 5.44l.94 2.06.94-2.06 2.06-.94-2.06-.94-.94-2.06-.94 2.06-2.06.94zm-11 1L8.5 8.5l.94-2.06 2.06-.94-2.06-.94L8.5 2.5l-.94 2.06-2.06.94zm10 10l.94 2.06.94-2.06 2.06-.94-2.06-.94-.94-2.06-.94 2.06-2.06.94z\"/><path d=\"M17.41 7.96l-1.37-1.37c-.4-.4-.92-.59-1.43-.59-.52 0-1.04.2-1.43.59L10.3 9.45l-7.72 7.72c-.78.78-.78 2.05 0 2.83L4 21.41c.39.39.9.59 1.41.59.51 0 1.02-.2 1.41-.59l7.78-7.78 2.81-2.81c.8-.78.8-2.07 0-2.86zM5.41 20L4 18.59l7.72-7.72 1.47 1.35L5.41 20z\"/>\n",
              "  </svg>\n",
              "      </button>\n",
              "      \n",
              "  <style>\n",
              "    .colab-df-container {\n",
              "      display:flex;\n",
              "      flex-wrap:wrap;\n",
              "      gap: 12px;\n",
              "    }\n",
              "\n",
              "    .colab-df-convert {\n",
              "      background-color: #E8F0FE;\n",
              "      border: none;\n",
              "      border-radius: 50%;\n",
              "      cursor: pointer;\n",
              "      display: none;\n",
              "      fill: #1967D2;\n",
              "      height: 32px;\n",
              "      padding: 0 0 0 0;\n",
              "      width: 32px;\n",
              "    }\n",
              "\n",
              "    .colab-df-convert:hover {\n",
              "      background-color: #E2EBFA;\n",
              "      box-shadow: 0px 1px 2px rgba(60, 64, 67, 0.3), 0px 1px 3px 1px rgba(60, 64, 67, 0.15);\n",
              "      fill: #174EA6;\n",
              "    }\n",
              "\n",
              "    [theme=dark] .colab-df-convert {\n",
              "      background-color: #3B4455;\n",
              "      fill: #D2E3FC;\n",
              "    }\n",
              "\n",
              "    [theme=dark] .colab-df-convert:hover {\n",
              "      background-color: #434B5C;\n",
              "      box-shadow: 0px 1px 3px 1px rgba(0, 0, 0, 0.15);\n",
              "      filter: drop-shadow(0px 1px 2px rgba(0, 0, 0, 0.3));\n",
              "      fill: #FFFFFF;\n",
              "    }\n",
              "  </style>\n",
              "\n",
              "      <script>\n",
              "        const buttonEl =\n",
              "          document.querySelector('#df-89321cea-520a-426a-8233-b80118dbd7c7 button.colab-df-convert');\n",
              "        buttonEl.style.display =\n",
              "          google.colab.kernel.accessAllowed ? 'block' : 'none';\n",
              "\n",
              "        async function convertToInteractive(key) {\n",
              "          const element = document.querySelector('#df-89321cea-520a-426a-8233-b80118dbd7c7');\n",
              "          const dataTable =\n",
              "            await google.colab.kernel.invokeFunction('convertToInteractive',\n",
              "                                                     [key], {});\n",
              "          if (!dataTable) return;\n",
              "\n",
              "          const docLinkHtml = 'Like what you see? Visit the ' +\n",
              "            '<a target=\"_blank\" href=https://colab.research.google.com/notebooks/data_table.ipynb>data table notebook</a>'\n",
              "            + ' to learn more about interactive tables.';\n",
              "          element.innerHTML = '';\n",
              "          dataTable['output_type'] = 'display_data';\n",
              "          await google.colab.output.renderOutput(dataTable, element);\n",
              "          const docLink = document.createElement('div');\n",
              "          docLink.innerHTML = docLinkHtml;\n",
              "          element.appendChild(docLink);\n",
              "        }\n",
              "      </script>\n",
              "    </div>\n",
              "  </div>\n",
              "  "
            ]
          },
          "metadata": {},
          "execution_count": 17
        }
      ]
    },
    {
      "cell_type": "code",
      "source": [
        "df.shape"
      ],
      "metadata": {
        "colab": {
          "base_uri": "https://localhost:8080/"
        },
        "id": "ZSp865QYrsyK",
        "outputId": "4b25d95d-8c38-4dd3-edb0-797d0033aa6f"
      },
      "execution_count": 18,
      "outputs": [
        {
          "output_type": "execute_result",
          "data": {
            "text/plain": [
              "(50, 4)"
            ]
          },
          "metadata": {},
          "execution_count": 18
        }
      ]
    },
    {
      "cell_type": "code",
      "source": [
        "Xlda = df[['x1','x2','x3']]\n",
        "Xlda"
      ],
      "metadata": {
        "colab": {
          "base_uri": "https://localhost:8080/",
          "height": 1000
        },
        "id": "XzoqS00Is794",
        "outputId": "b4356d40-e05a-4936-a03c-dc32cbad0b9f"
      },
      "execution_count": 19,
      "outputs": [
        {
          "output_type": "execute_result",
          "data": {
            "text/plain": [
              "          x1        x2        x3\n",
              "0   1.020045  0.042032  1.852407\n",
              "1  -0.219477 -0.773890 -0.506528\n",
              "2   0.463853  1.011733  0.194480\n",
              "3  -0.271001  0.159267  0.543069\n",
              "4  -0.422060 -0.728697  0.451691\n",
              "5  -0.045680  0.678887 -1.015202\n",
              "6  -0.386515 -0.645889  0.758031\n",
              "7   0.311464 -0.362647 -0.378123\n",
              "8   1.472607  1.222600 -1.487466\n",
              "9  -0.320999  1.027306 -2.438218\n",
              "10 -1.140802  0.318053  0.992902\n",
              "11  0.265297 -1.268328  0.091749\n",
              "12  0.132839  1.047610  1.870454\n",
              "13  0.506686  1.213243 -0.728298\n",
              "14 -0.464909  0.936821 -0.716535\n",
              "15 -0.462153 -1.340007  0.740635\n",
              "16  1.287898 -0.969691 -0.651618\n",
              "17  0.075422 -0.672605  1.331209\n",
              "18 -0.493539 -0.701103  0.014938\n",
              "19 -0.423993 -0.769481  0.761543\n",
              "20 -0.272773  0.375438  0.420436\n",
              "21 -2.285971 -1.098498 -0.634937\n",
              "22  0.209467  0.175935 -0.701252\n",
              "23 -0.109386 -0.856230 -0.540883\n",
              "24  0.684128  0.427653 -0.529733\n",
              "25 -1.382584 -0.456403 -0.222744\n",
              "26  0.446003 -0.294574  2.260043\n",
              "27 -0.623740  0.603556 -2.091574\n",
              "28 -0.284249 -0.381936 -0.260579\n",
              "29 -0.674203  0.454586  0.352184\n",
              "30  0.548465 -0.353805  0.490524\n",
              "31  0.829155 -1.515646  0.049773\n",
              "32 -0.542261  0.565106  1.139093\n",
              "33  1.435536  1.126652 -1.381883\n",
              "34 -0.377991  0.673041 -0.549407\n",
              "35 -0.565447 -1.137617  0.260344\n",
              "36 -0.214977 -0.435878  0.327212\n",
              "37  0.100743 -0.398126  1.011305\n",
              "38  1.745991 -2.059717 -0.128209\n",
              "39 -2.032827  1.456075 -0.092845\n",
              "40 -0.249079  0.426201  0.137734\n",
              "41  0.266670 -0.665194 -0.585246\n",
              "42  0.055336 -0.230168 -1.808899\n",
              "43  1.797916 -0.212733  1.835817\n",
              "44 -0.029203  0.802496  0.743251\n",
              "45  0.772406 -0.731933 -0.356206\n",
              "46  0.537445 -1.172319 -0.306151\n",
              "47  1.385411 -0.524399  0.636989\n",
              "48  1.180684 -0.189462 -0.046757\n",
              "49  0.626585  0.882883 -0.856425"
            ],
            "text/html": [
              "\n",
              "  <div id=\"df-aff66af9-bcfb-4e76-a891-c79c424716a2\">\n",
              "    <div class=\"colab-df-container\">\n",
              "      <div>\n",
              "<style scoped>\n",
              "    .dataframe tbody tr th:only-of-type {\n",
              "        vertical-align: middle;\n",
              "    }\n",
              "\n",
              "    .dataframe tbody tr th {\n",
              "        vertical-align: top;\n",
              "    }\n",
              "\n",
              "    .dataframe thead th {\n",
              "        text-align: right;\n",
              "    }\n",
              "</style>\n",
              "<table border=\"1\" class=\"dataframe\">\n",
              "  <thead>\n",
              "    <tr style=\"text-align: right;\">\n",
              "      <th></th>\n",
              "      <th>x1</th>\n",
              "      <th>x2</th>\n",
              "      <th>x3</th>\n",
              "    </tr>\n",
              "  </thead>\n",
              "  <tbody>\n",
              "    <tr>\n",
              "      <th>0</th>\n",
              "      <td>1.020045</td>\n",
              "      <td>0.042032</td>\n",
              "      <td>1.852407</td>\n",
              "    </tr>\n",
              "    <tr>\n",
              "      <th>1</th>\n",
              "      <td>-0.219477</td>\n",
              "      <td>-0.773890</td>\n",
              "      <td>-0.506528</td>\n",
              "    </tr>\n",
              "    <tr>\n",
              "      <th>2</th>\n",
              "      <td>0.463853</td>\n",
              "      <td>1.011733</td>\n",
              "      <td>0.194480</td>\n",
              "    </tr>\n",
              "    <tr>\n",
              "      <th>3</th>\n",
              "      <td>-0.271001</td>\n",
              "      <td>0.159267</td>\n",
              "      <td>0.543069</td>\n",
              "    </tr>\n",
              "    <tr>\n",
              "      <th>4</th>\n",
              "      <td>-0.422060</td>\n",
              "      <td>-0.728697</td>\n",
              "      <td>0.451691</td>\n",
              "    </tr>\n",
              "    <tr>\n",
              "      <th>5</th>\n",
              "      <td>-0.045680</td>\n",
              "      <td>0.678887</td>\n",
              "      <td>-1.015202</td>\n",
              "    </tr>\n",
              "    <tr>\n",
              "      <th>6</th>\n",
              "      <td>-0.386515</td>\n",
              "      <td>-0.645889</td>\n",
              "      <td>0.758031</td>\n",
              "    </tr>\n",
              "    <tr>\n",
              "      <th>7</th>\n",
              "      <td>0.311464</td>\n",
              "      <td>-0.362647</td>\n",
              "      <td>-0.378123</td>\n",
              "    </tr>\n",
              "    <tr>\n",
              "      <th>8</th>\n",
              "      <td>1.472607</td>\n",
              "      <td>1.222600</td>\n",
              "      <td>-1.487466</td>\n",
              "    </tr>\n",
              "    <tr>\n",
              "      <th>9</th>\n",
              "      <td>-0.320999</td>\n",
              "      <td>1.027306</td>\n",
              "      <td>-2.438218</td>\n",
              "    </tr>\n",
              "    <tr>\n",
              "      <th>10</th>\n",
              "      <td>-1.140802</td>\n",
              "      <td>0.318053</td>\n",
              "      <td>0.992902</td>\n",
              "    </tr>\n",
              "    <tr>\n",
              "      <th>11</th>\n",
              "      <td>0.265297</td>\n",
              "      <td>-1.268328</td>\n",
              "      <td>0.091749</td>\n",
              "    </tr>\n",
              "    <tr>\n",
              "      <th>12</th>\n",
              "      <td>0.132839</td>\n",
              "      <td>1.047610</td>\n",
              "      <td>1.870454</td>\n",
              "    </tr>\n",
              "    <tr>\n",
              "      <th>13</th>\n",
              "      <td>0.506686</td>\n",
              "      <td>1.213243</td>\n",
              "      <td>-0.728298</td>\n",
              "    </tr>\n",
              "    <tr>\n",
              "      <th>14</th>\n",
              "      <td>-0.464909</td>\n",
              "      <td>0.936821</td>\n",
              "      <td>-0.716535</td>\n",
              "    </tr>\n",
              "    <tr>\n",
              "      <th>15</th>\n",
              "      <td>-0.462153</td>\n",
              "      <td>-1.340007</td>\n",
              "      <td>0.740635</td>\n",
              "    </tr>\n",
              "    <tr>\n",
              "      <th>16</th>\n",
              "      <td>1.287898</td>\n",
              "      <td>-0.969691</td>\n",
              "      <td>-0.651618</td>\n",
              "    </tr>\n",
              "    <tr>\n",
              "      <th>17</th>\n",
              "      <td>0.075422</td>\n",
              "      <td>-0.672605</td>\n",
              "      <td>1.331209</td>\n",
              "    </tr>\n",
              "    <tr>\n",
              "      <th>18</th>\n",
              "      <td>-0.493539</td>\n",
              "      <td>-0.701103</td>\n",
              "      <td>0.014938</td>\n",
              "    </tr>\n",
              "    <tr>\n",
              "      <th>19</th>\n",
              "      <td>-0.423993</td>\n",
              "      <td>-0.769481</td>\n",
              "      <td>0.761543</td>\n",
              "    </tr>\n",
              "    <tr>\n",
              "      <th>20</th>\n",
              "      <td>-0.272773</td>\n",
              "      <td>0.375438</td>\n",
              "      <td>0.420436</td>\n",
              "    </tr>\n",
              "    <tr>\n",
              "      <th>21</th>\n",
              "      <td>-2.285971</td>\n",
              "      <td>-1.098498</td>\n",
              "      <td>-0.634937</td>\n",
              "    </tr>\n",
              "    <tr>\n",
              "      <th>22</th>\n",
              "      <td>0.209467</td>\n",
              "      <td>0.175935</td>\n",
              "      <td>-0.701252</td>\n",
              "    </tr>\n",
              "    <tr>\n",
              "      <th>23</th>\n",
              "      <td>-0.109386</td>\n",
              "      <td>-0.856230</td>\n",
              "      <td>-0.540883</td>\n",
              "    </tr>\n",
              "    <tr>\n",
              "      <th>24</th>\n",
              "      <td>0.684128</td>\n",
              "      <td>0.427653</td>\n",
              "      <td>-0.529733</td>\n",
              "    </tr>\n",
              "    <tr>\n",
              "      <th>25</th>\n",
              "      <td>-1.382584</td>\n",
              "      <td>-0.456403</td>\n",
              "      <td>-0.222744</td>\n",
              "    </tr>\n",
              "    <tr>\n",
              "      <th>26</th>\n",
              "      <td>0.446003</td>\n",
              "      <td>-0.294574</td>\n",
              "      <td>2.260043</td>\n",
              "    </tr>\n",
              "    <tr>\n",
              "      <th>27</th>\n",
              "      <td>-0.623740</td>\n",
              "      <td>0.603556</td>\n",
              "      <td>-2.091574</td>\n",
              "    </tr>\n",
              "    <tr>\n",
              "      <th>28</th>\n",
              "      <td>-0.284249</td>\n",
              "      <td>-0.381936</td>\n",
              "      <td>-0.260579</td>\n",
              "    </tr>\n",
              "    <tr>\n",
              "      <th>29</th>\n",
              "      <td>-0.674203</td>\n",
              "      <td>0.454586</td>\n",
              "      <td>0.352184</td>\n",
              "    </tr>\n",
              "    <tr>\n",
              "      <th>30</th>\n",
              "      <td>0.548465</td>\n",
              "      <td>-0.353805</td>\n",
              "      <td>0.490524</td>\n",
              "    </tr>\n",
              "    <tr>\n",
              "      <th>31</th>\n",
              "      <td>0.829155</td>\n",
              "      <td>-1.515646</td>\n",
              "      <td>0.049773</td>\n",
              "    </tr>\n",
              "    <tr>\n",
              "      <th>32</th>\n",
              "      <td>-0.542261</td>\n",
              "      <td>0.565106</td>\n",
              "      <td>1.139093</td>\n",
              "    </tr>\n",
              "    <tr>\n",
              "      <th>33</th>\n",
              "      <td>1.435536</td>\n",
              "      <td>1.126652</td>\n",
              "      <td>-1.381883</td>\n",
              "    </tr>\n",
              "    <tr>\n",
              "      <th>34</th>\n",
              "      <td>-0.377991</td>\n",
              "      <td>0.673041</td>\n",
              "      <td>-0.549407</td>\n",
              "    </tr>\n",
              "    <tr>\n",
              "      <th>35</th>\n",
              "      <td>-0.565447</td>\n",
              "      <td>-1.137617</td>\n",
              "      <td>0.260344</td>\n",
              "    </tr>\n",
              "    <tr>\n",
              "      <th>36</th>\n",
              "      <td>-0.214977</td>\n",
              "      <td>-0.435878</td>\n",
              "      <td>0.327212</td>\n",
              "    </tr>\n",
              "    <tr>\n",
              "      <th>37</th>\n",
              "      <td>0.100743</td>\n",
              "      <td>-0.398126</td>\n",
              "      <td>1.011305</td>\n",
              "    </tr>\n",
              "    <tr>\n",
              "      <th>38</th>\n",
              "      <td>1.745991</td>\n",
              "      <td>-2.059717</td>\n",
              "      <td>-0.128209</td>\n",
              "    </tr>\n",
              "    <tr>\n",
              "      <th>39</th>\n",
              "      <td>-2.032827</td>\n",
              "      <td>1.456075</td>\n",
              "      <td>-0.092845</td>\n",
              "    </tr>\n",
              "    <tr>\n",
              "      <th>40</th>\n",
              "      <td>-0.249079</td>\n",
              "      <td>0.426201</td>\n",
              "      <td>0.137734</td>\n",
              "    </tr>\n",
              "    <tr>\n",
              "      <th>41</th>\n",
              "      <td>0.266670</td>\n",
              "      <td>-0.665194</td>\n",
              "      <td>-0.585246</td>\n",
              "    </tr>\n",
              "    <tr>\n",
              "      <th>42</th>\n",
              "      <td>0.055336</td>\n",
              "      <td>-0.230168</td>\n",
              "      <td>-1.808899</td>\n",
              "    </tr>\n",
              "    <tr>\n",
              "      <th>43</th>\n",
              "      <td>1.797916</td>\n",
              "      <td>-0.212733</td>\n",
              "      <td>1.835817</td>\n",
              "    </tr>\n",
              "    <tr>\n",
              "      <th>44</th>\n",
              "      <td>-0.029203</td>\n",
              "      <td>0.802496</td>\n",
              "      <td>0.743251</td>\n",
              "    </tr>\n",
              "    <tr>\n",
              "      <th>45</th>\n",
              "      <td>0.772406</td>\n",
              "      <td>-0.731933</td>\n",
              "      <td>-0.356206</td>\n",
              "    </tr>\n",
              "    <tr>\n",
              "      <th>46</th>\n",
              "      <td>0.537445</td>\n",
              "      <td>-1.172319</td>\n",
              "      <td>-0.306151</td>\n",
              "    </tr>\n",
              "    <tr>\n",
              "      <th>47</th>\n",
              "      <td>1.385411</td>\n",
              "      <td>-0.524399</td>\n",
              "      <td>0.636989</td>\n",
              "    </tr>\n",
              "    <tr>\n",
              "      <th>48</th>\n",
              "      <td>1.180684</td>\n",
              "      <td>-0.189462</td>\n",
              "      <td>-0.046757</td>\n",
              "    </tr>\n",
              "    <tr>\n",
              "      <th>49</th>\n",
              "      <td>0.626585</td>\n",
              "      <td>0.882883</td>\n",
              "      <td>-0.856425</td>\n",
              "    </tr>\n",
              "  </tbody>\n",
              "</table>\n",
              "</div>\n",
              "      <button class=\"colab-df-convert\" onclick=\"convertToInteractive('df-aff66af9-bcfb-4e76-a891-c79c424716a2')\"\n",
              "              title=\"Convert this dataframe to an interactive table.\"\n",
              "              style=\"display:none;\">\n",
              "        \n",
              "  <svg xmlns=\"http://www.w3.org/2000/svg\" height=\"24px\"viewBox=\"0 0 24 24\"\n",
              "       width=\"24px\">\n",
              "    <path d=\"M0 0h24v24H0V0z\" fill=\"none\"/>\n",
              "    <path d=\"M18.56 5.44l.94 2.06.94-2.06 2.06-.94-2.06-.94-.94-2.06-.94 2.06-2.06.94zm-11 1L8.5 8.5l.94-2.06 2.06-.94-2.06-.94L8.5 2.5l-.94 2.06-2.06.94zm10 10l.94 2.06.94-2.06 2.06-.94-2.06-.94-.94-2.06-.94 2.06-2.06.94z\"/><path d=\"M17.41 7.96l-1.37-1.37c-.4-.4-.92-.59-1.43-.59-.52 0-1.04.2-1.43.59L10.3 9.45l-7.72 7.72c-.78.78-.78 2.05 0 2.83L4 21.41c.39.39.9.59 1.41.59.51 0 1.02-.2 1.41-.59l7.78-7.78 2.81-2.81c.8-.78.8-2.07 0-2.86zM5.41 20L4 18.59l7.72-7.72 1.47 1.35L5.41 20z\"/>\n",
              "  </svg>\n",
              "      </button>\n",
              "      \n",
              "  <style>\n",
              "    .colab-df-container {\n",
              "      display:flex;\n",
              "      flex-wrap:wrap;\n",
              "      gap: 12px;\n",
              "    }\n",
              "\n",
              "    .colab-df-convert {\n",
              "      background-color: #E8F0FE;\n",
              "      border: none;\n",
              "      border-radius: 50%;\n",
              "      cursor: pointer;\n",
              "      display: none;\n",
              "      fill: #1967D2;\n",
              "      height: 32px;\n",
              "      padding: 0 0 0 0;\n",
              "      width: 32px;\n",
              "    }\n",
              "\n",
              "    .colab-df-convert:hover {\n",
              "      background-color: #E2EBFA;\n",
              "      box-shadow: 0px 1px 2px rgba(60, 64, 67, 0.3), 0px 1px 3px 1px rgba(60, 64, 67, 0.15);\n",
              "      fill: #174EA6;\n",
              "    }\n",
              "\n",
              "    [theme=dark] .colab-df-convert {\n",
              "      background-color: #3B4455;\n",
              "      fill: #D2E3FC;\n",
              "    }\n",
              "\n",
              "    [theme=dark] .colab-df-convert:hover {\n",
              "      background-color: #434B5C;\n",
              "      box-shadow: 0px 1px 3px 1px rgba(0, 0, 0, 0.15);\n",
              "      filter: drop-shadow(0px 1px 2px rgba(0, 0, 0, 0.3));\n",
              "      fill: #FFFFFF;\n",
              "    }\n",
              "  </style>\n",
              "\n",
              "      <script>\n",
              "        const buttonEl =\n",
              "          document.querySelector('#df-aff66af9-bcfb-4e76-a891-c79c424716a2 button.colab-df-convert');\n",
              "        buttonEl.style.display =\n",
              "          google.colab.kernel.accessAllowed ? 'block' : 'none';\n",
              "\n",
              "        async function convertToInteractive(key) {\n",
              "          const element = document.querySelector('#df-aff66af9-bcfb-4e76-a891-c79c424716a2');\n",
              "          const dataTable =\n",
              "            await google.colab.kernel.invokeFunction('convertToInteractive',\n",
              "                                                     [key], {});\n",
              "          if (!dataTable) return;\n",
              "\n",
              "          const docLinkHtml = 'Like what you see? Visit the ' +\n",
              "            '<a target=\"_blank\" href=https://colab.research.google.com/notebooks/data_table.ipynb>data table notebook</a>'\n",
              "            + ' to learn more about interactive tables.';\n",
              "          element.innerHTML = '';\n",
              "          dataTable['output_type'] = 'display_data';\n",
              "          await google.colab.output.renderOutput(dataTable, element);\n",
              "          const docLink = document.createElement('div');\n",
              "          docLink.innerHTML = docLinkHtml;\n",
              "          element.appendChild(docLink);\n",
              "        }\n",
              "      </script>\n",
              "    </div>\n",
              "  </div>\n",
              "  "
            ]
          },
          "metadata": {},
          "execution_count": 19
        }
      ]
    },
    {
      "cell_type": "code",
      "source": [
        "ylda = df[['y']]\n",
        "ylda"
      ],
      "metadata": {
        "colab": {
          "base_uri": "https://localhost:8080/",
          "height": 1000
        },
        "id": "lfiM7KeOtf9j",
        "outputId": "71b9df96-455d-4bff-9b21-fd409933cd18"
      },
      "execution_count": 20,
      "outputs": [
        {
          "output_type": "execute_result",
          "data": {
            "text/plain": [
              "             y\n",
              "0    86.165579\n",
              "1   -80.823763\n",
              "2   110.287294\n",
              "3     3.032893\n",
              "4   -73.934641\n",
              "5    38.659227\n",
              "6   -64.752297\n",
              "7   -14.078100\n",
              "8   168.467536\n",
              "9    37.832227\n",
              "10  -26.393786\n",
              "11  -84.616327\n",
              "12  115.221594\n",
              "13  116.033521\n",
              "14   35.904903\n",
              "15 -125.960976\n",
              "16   -6.673480\n",
              "17  -37.042336\n",
              "18  -87.945726\n",
              "19  -76.619310\n",
              "20   19.868082\n",
              "21 -234.854461\n",
              "22   20.654306\n",
              "23  -77.190088\n",
              "24   69.645946\n",
              "25 -121.026903\n",
              "26   35.675154\n",
              "27  -15.949811\n",
              "28  -50.052451\n",
              "29   -1.082051\n",
              "30    9.038524\n",
              "31  -69.749059\n",
              "32   24.755292\n",
              "33  160.424366\n",
              "34   24.252623\n",
              "35 -118.897571\n",
              "36  -46.923217\n",
              "37  -13.231480\n",
              "38  -63.485688\n",
              "39  -10.253028\n",
              "40   20.153426\n",
              "41  -43.796479\n",
              "42  -38.696159\n",
              "43  117.059320\n",
              "44   69.688812\n",
              "45  -17.294128\n",
              "46  -64.346495\n",
              "47   53.631696\n",
              "48   57.318040\n",
              "49   99.916895"
            ],
            "text/html": [
              "\n",
              "  <div id=\"df-8f4be516-d353-4390-855f-6ee1fe3d5e1d\">\n",
              "    <div class=\"colab-df-container\">\n",
              "      <div>\n",
              "<style scoped>\n",
              "    .dataframe tbody tr th:only-of-type {\n",
              "        vertical-align: middle;\n",
              "    }\n",
              "\n",
              "    .dataframe tbody tr th {\n",
              "        vertical-align: top;\n",
              "    }\n",
              "\n",
              "    .dataframe thead th {\n",
              "        text-align: right;\n",
              "    }\n",
              "</style>\n",
              "<table border=\"1\" class=\"dataframe\">\n",
              "  <thead>\n",
              "    <tr style=\"text-align: right;\">\n",
              "      <th></th>\n",
              "      <th>y</th>\n",
              "    </tr>\n",
              "  </thead>\n",
              "  <tbody>\n",
              "    <tr>\n",
              "      <th>0</th>\n",
              "      <td>86.165579</td>\n",
              "    </tr>\n",
              "    <tr>\n",
              "      <th>1</th>\n",
              "      <td>-80.823763</td>\n",
              "    </tr>\n",
              "    <tr>\n",
              "      <th>2</th>\n",
              "      <td>110.287294</td>\n",
              "    </tr>\n",
              "    <tr>\n",
              "      <th>3</th>\n",
              "      <td>3.032893</td>\n",
              "    </tr>\n",
              "    <tr>\n",
              "      <th>4</th>\n",
              "      <td>-73.934641</td>\n",
              "    </tr>\n",
              "    <tr>\n",
              "      <th>5</th>\n",
              "      <td>38.659227</td>\n",
              "    </tr>\n",
              "    <tr>\n",
              "      <th>6</th>\n",
              "      <td>-64.752297</td>\n",
              "    </tr>\n",
              "    <tr>\n",
              "      <th>7</th>\n",
              "      <td>-14.078100</td>\n",
              "    </tr>\n",
              "    <tr>\n",
              "      <th>8</th>\n",
              "      <td>168.467536</td>\n",
              "    </tr>\n",
              "    <tr>\n",
              "      <th>9</th>\n",
              "      <td>37.832227</td>\n",
              "    </tr>\n",
              "    <tr>\n",
              "      <th>10</th>\n",
              "      <td>-26.393786</td>\n",
              "    </tr>\n",
              "    <tr>\n",
              "      <th>11</th>\n",
              "      <td>-84.616327</td>\n",
              "    </tr>\n",
              "    <tr>\n",
              "      <th>12</th>\n",
              "      <td>115.221594</td>\n",
              "    </tr>\n",
              "    <tr>\n",
              "      <th>13</th>\n",
              "      <td>116.033521</td>\n",
              "    </tr>\n",
              "    <tr>\n",
              "      <th>14</th>\n",
              "      <td>35.904903</td>\n",
              "    </tr>\n",
              "    <tr>\n",
              "      <th>15</th>\n",
              "      <td>-125.960976</td>\n",
              "    </tr>\n",
              "    <tr>\n",
              "      <th>16</th>\n",
              "      <td>-6.673480</td>\n",
              "    </tr>\n",
              "    <tr>\n",
              "      <th>17</th>\n",
              "      <td>-37.042336</td>\n",
              "    </tr>\n",
              "    <tr>\n",
              "      <th>18</th>\n",
              "      <td>-87.945726</td>\n",
              "    </tr>\n",
              "    <tr>\n",
              "      <th>19</th>\n",
              "      <td>-76.619310</td>\n",
              "    </tr>\n",
              "    <tr>\n",
              "      <th>20</th>\n",
              "      <td>19.868082</td>\n",
              "    </tr>\n",
              "    <tr>\n",
              "      <th>21</th>\n",
              "      <td>-234.854461</td>\n",
              "    </tr>\n",
              "    <tr>\n",
              "      <th>22</th>\n",
              "      <td>20.654306</td>\n",
              "    </tr>\n",
              "    <tr>\n",
              "      <th>23</th>\n",
              "      <td>-77.190088</td>\n",
              "    </tr>\n",
              "    <tr>\n",
              "      <th>24</th>\n",
              "      <td>69.645946</td>\n",
              "    </tr>\n",
              "    <tr>\n",
              "      <th>25</th>\n",
              "      <td>-121.026903</td>\n",
              "    </tr>\n",
              "    <tr>\n",
              "      <th>26</th>\n",
              "      <td>35.675154</td>\n",
              "    </tr>\n",
              "    <tr>\n",
              "      <th>27</th>\n",
              "      <td>-15.949811</td>\n",
              "    </tr>\n",
              "    <tr>\n",
              "      <th>28</th>\n",
              "      <td>-50.052451</td>\n",
              "    </tr>\n",
              "    <tr>\n",
              "      <th>29</th>\n",
              "      <td>-1.082051</td>\n",
              "    </tr>\n",
              "    <tr>\n",
              "      <th>30</th>\n",
              "      <td>9.038524</td>\n",
              "    </tr>\n",
              "    <tr>\n",
              "      <th>31</th>\n",
              "      <td>-69.749059</td>\n",
              "    </tr>\n",
              "    <tr>\n",
              "      <th>32</th>\n",
              "      <td>24.755292</td>\n",
              "    </tr>\n",
              "    <tr>\n",
              "      <th>33</th>\n",
              "      <td>160.424366</td>\n",
              "    </tr>\n",
              "    <tr>\n",
              "      <th>34</th>\n",
              "      <td>24.252623</td>\n",
              "    </tr>\n",
              "    <tr>\n",
              "      <th>35</th>\n",
              "      <td>-118.897571</td>\n",
              "    </tr>\n",
              "    <tr>\n",
              "      <th>36</th>\n",
              "      <td>-46.923217</td>\n",
              "    </tr>\n",
              "    <tr>\n",
              "      <th>37</th>\n",
              "      <td>-13.231480</td>\n",
              "    </tr>\n",
              "    <tr>\n",
              "      <th>38</th>\n",
              "      <td>-63.485688</td>\n",
              "    </tr>\n",
              "    <tr>\n",
              "      <th>39</th>\n",
              "      <td>-10.253028</td>\n",
              "    </tr>\n",
              "    <tr>\n",
              "      <th>40</th>\n",
              "      <td>20.153426</td>\n",
              "    </tr>\n",
              "    <tr>\n",
              "      <th>41</th>\n",
              "      <td>-43.796479</td>\n",
              "    </tr>\n",
              "    <tr>\n",
              "      <th>42</th>\n",
              "      <td>-38.696159</td>\n",
              "    </tr>\n",
              "    <tr>\n",
              "      <th>43</th>\n",
              "      <td>117.059320</td>\n",
              "    </tr>\n",
              "    <tr>\n",
              "      <th>44</th>\n",
              "      <td>69.688812</td>\n",
              "    </tr>\n",
              "    <tr>\n",
              "      <th>45</th>\n",
              "      <td>-17.294128</td>\n",
              "    </tr>\n",
              "    <tr>\n",
              "      <th>46</th>\n",
              "      <td>-64.346495</td>\n",
              "    </tr>\n",
              "    <tr>\n",
              "      <th>47</th>\n",
              "      <td>53.631696</td>\n",
              "    </tr>\n",
              "    <tr>\n",
              "      <th>48</th>\n",
              "      <td>57.318040</td>\n",
              "    </tr>\n",
              "    <tr>\n",
              "      <th>49</th>\n",
              "      <td>99.916895</td>\n",
              "    </tr>\n",
              "  </tbody>\n",
              "</table>\n",
              "</div>\n",
              "      <button class=\"colab-df-convert\" onclick=\"convertToInteractive('df-8f4be516-d353-4390-855f-6ee1fe3d5e1d')\"\n",
              "              title=\"Convert this dataframe to an interactive table.\"\n",
              "              style=\"display:none;\">\n",
              "        \n",
              "  <svg xmlns=\"http://www.w3.org/2000/svg\" height=\"24px\"viewBox=\"0 0 24 24\"\n",
              "       width=\"24px\">\n",
              "    <path d=\"M0 0h24v24H0V0z\" fill=\"none\"/>\n",
              "    <path d=\"M18.56 5.44l.94 2.06.94-2.06 2.06-.94-2.06-.94-.94-2.06-.94 2.06-2.06.94zm-11 1L8.5 8.5l.94-2.06 2.06-.94-2.06-.94L8.5 2.5l-.94 2.06-2.06.94zm10 10l.94 2.06.94-2.06 2.06-.94-2.06-.94-.94-2.06-.94 2.06-2.06.94z\"/><path d=\"M17.41 7.96l-1.37-1.37c-.4-.4-.92-.59-1.43-.59-.52 0-1.04.2-1.43.59L10.3 9.45l-7.72 7.72c-.78.78-.78 2.05 0 2.83L4 21.41c.39.39.9.59 1.41.59.51 0 1.02-.2 1.41-.59l7.78-7.78 2.81-2.81c.8-.78.8-2.07 0-2.86zM5.41 20L4 18.59l7.72-7.72 1.47 1.35L5.41 20z\"/>\n",
              "  </svg>\n",
              "      </button>\n",
              "      \n",
              "  <style>\n",
              "    .colab-df-container {\n",
              "      display:flex;\n",
              "      flex-wrap:wrap;\n",
              "      gap: 12px;\n",
              "    }\n",
              "\n",
              "    .colab-df-convert {\n",
              "      background-color: #E8F0FE;\n",
              "      border: none;\n",
              "      border-radius: 50%;\n",
              "      cursor: pointer;\n",
              "      display: none;\n",
              "      fill: #1967D2;\n",
              "      height: 32px;\n",
              "      padding: 0 0 0 0;\n",
              "      width: 32px;\n",
              "    }\n",
              "\n",
              "    .colab-df-convert:hover {\n",
              "      background-color: #E2EBFA;\n",
              "      box-shadow: 0px 1px 2px rgba(60, 64, 67, 0.3), 0px 1px 3px 1px rgba(60, 64, 67, 0.15);\n",
              "      fill: #174EA6;\n",
              "    }\n",
              "\n",
              "    [theme=dark] .colab-df-convert {\n",
              "      background-color: #3B4455;\n",
              "      fill: #D2E3FC;\n",
              "    }\n",
              "\n",
              "    [theme=dark] .colab-df-convert:hover {\n",
              "      background-color: #434B5C;\n",
              "      box-shadow: 0px 1px 3px 1px rgba(0, 0, 0, 0.15);\n",
              "      filter: drop-shadow(0px 1px 2px rgba(0, 0, 0, 0.3));\n",
              "      fill: #FFFFFF;\n",
              "    }\n",
              "  </style>\n",
              "\n",
              "      <script>\n",
              "        const buttonEl =\n",
              "          document.querySelector('#df-8f4be516-d353-4390-855f-6ee1fe3d5e1d button.colab-df-convert');\n",
              "        buttonEl.style.display =\n",
              "          google.colab.kernel.accessAllowed ? 'block' : 'none';\n",
              "\n",
              "        async function convertToInteractive(key) {\n",
              "          const element = document.querySelector('#df-8f4be516-d353-4390-855f-6ee1fe3d5e1d');\n",
              "          const dataTable =\n",
              "            await google.colab.kernel.invokeFunction('convertToInteractive',\n",
              "                                                     [key], {});\n",
              "          if (!dataTable) return;\n",
              "\n",
              "          const docLinkHtml = 'Like what you see? Visit the ' +\n",
              "            '<a target=\"_blank\" href=https://colab.research.google.com/notebooks/data_table.ipynb>data table notebook</a>'\n",
              "            + ' to learn more about interactive tables.';\n",
              "          element.innerHTML = '';\n",
              "          dataTable['output_type'] = 'display_data';\n",
              "          await google.colab.output.renderOutput(dataTable, element);\n",
              "          const docLink = document.createElement('div');\n",
              "          docLink.innerHTML = docLinkHtml;\n",
              "          element.appendChild(docLink);\n",
              "        }\n",
              "      </script>\n",
              "    </div>\n",
              "  </div>\n",
              "  "
            ]
          },
          "metadata": {},
          "execution_count": 20
        }
      ]
    },
    {
      "cell_type": "code",
      "source": [
        "X_train, X_test, y_train, y_test = train_test_split(Xlda, ylda,test_size=0.2, random_state=0)"
      ],
      "metadata": {
        "id": "SqNnSgYRvE8C"
      },
      "execution_count": 21,
      "outputs": []
    },
    {
      "cell_type": "code",
      "source": [
        "from sklearn.preprocessing import StandardScaler\n",
        "\n",
        "sc = StandardScaler()\n",
        "X_train = sc.fit_transform(X_train)\n",
        "X_test = sc.transform(X_test)"
      ],
      "metadata": {
        "id": "o2vJBjQ9wM1F"
      },
      "execution_count": 22,
      "outputs": []
    },
    {
      "cell_type": "code",
      "source": [
        "#ESTO MARCAR UN ERROR \n",
        "#https://stackoverflow.com/questions/52848670/raise-valueerrorunknown-label-type-s-reprys-valueerror-unknown-label\n",
        "#https://statologos.com/linear-discriminant-analysis-in-python/#:~:text=El%20an%C3%A1lisis%20discriminante%20lineal%20es,en%20dos%20o%20m%C3%A1s%20clases.\n",
        "# https://statologos.com/analisis-discriminante-lineal-2/\n",
        "from sklearn.discriminant_analysis import LinearDiscriminantAnalysis as LDA\n",
        "lda = LDA(n_components=3)\n",
        "X_train = lda.fit_transform(X_train, y_train)\n",
        "X_test = lda.transform(X_test)"
      ],
      "metadata": {
        "colab": {
          "base_uri": "https://localhost:8080/",
          "height": 573
        },
        "id": "qq6vCNpTwX8S",
        "outputId": "ac443721-31ae-49e7-d1c1-59e3e745893f"
      },
      "execution_count": 23,
      "outputs": [
        {
          "output_type": "stream",
          "name": "stderr",
          "text": [
            "/usr/local/lib/python3.7/dist-packages/sklearn/utils/validation.py:993: DataConversionWarning: A column-vector y was passed when a 1d array was expected. Please change the shape of y to (n_samples, ), for example using ravel().\n",
            "  y = column_or_1d(y, warn=True)\n"
          ]
        },
        {
          "output_type": "error",
          "ename": "ValueError",
          "evalue": "ignored",
          "traceback": [
            "\u001b[0;31m---------------------------------------------------------------------------\u001b[0m",
            "\u001b[0;31mValueError\u001b[0m                                Traceback (most recent call last)",
            "\u001b[0;32m<ipython-input-23-8bdd2d94944b>\u001b[0m in \u001b[0;36m<module>\u001b[0;34m()\u001b[0m\n\u001b[1;32m      5\u001b[0m \u001b[0;32mfrom\u001b[0m \u001b[0msklearn\u001b[0m\u001b[0;34m.\u001b[0m\u001b[0mdiscriminant_analysis\u001b[0m \u001b[0;32mimport\u001b[0m \u001b[0mLinearDiscriminantAnalysis\u001b[0m \u001b[0;32mas\u001b[0m \u001b[0mLDA\u001b[0m\u001b[0;34m\u001b[0m\u001b[0;34m\u001b[0m\u001b[0m\n\u001b[1;32m      6\u001b[0m \u001b[0mlda\u001b[0m \u001b[0;34m=\u001b[0m \u001b[0mLDA\u001b[0m\u001b[0;34m(\u001b[0m\u001b[0mn_components\u001b[0m\u001b[0;34m=\u001b[0m\u001b[0;36m3\u001b[0m\u001b[0;34m)\u001b[0m\u001b[0;34m\u001b[0m\u001b[0;34m\u001b[0m\u001b[0m\n\u001b[0;32m----> 7\u001b[0;31m \u001b[0mX_train\u001b[0m \u001b[0;34m=\u001b[0m \u001b[0mlda\u001b[0m\u001b[0;34m.\u001b[0m\u001b[0mfit_transform\u001b[0m\u001b[0;34m(\u001b[0m\u001b[0mX_train\u001b[0m\u001b[0;34m,\u001b[0m \u001b[0my_train\u001b[0m\u001b[0;34m)\u001b[0m\u001b[0;34m\u001b[0m\u001b[0;34m\u001b[0m\u001b[0m\n\u001b[0m\u001b[1;32m      8\u001b[0m \u001b[0mX_test\u001b[0m \u001b[0;34m=\u001b[0m \u001b[0mlda\u001b[0m\u001b[0;34m.\u001b[0m\u001b[0mtransform\u001b[0m\u001b[0;34m(\u001b[0m\u001b[0mX_test\u001b[0m\u001b[0;34m)\u001b[0m\u001b[0;34m\u001b[0m\u001b[0;34m\u001b[0m\u001b[0m\n",
            "\u001b[0;32m/usr/local/lib/python3.7/dist-packages/sklearn/base.py\u001b[0m in \u001b[0;36mfit_transform\u001b[0;34m(self, X, y, **fit_params)\u001b[0m\n\u001b[1;32m    853\u001b[0m         \u001b[0;32melse\u001b[0m\u001b[0;34m:\u001b[0m\u001b[0;34m\u001b[0m\u001b[0;34m\u001b[0m\u001b[0m\n\u001b[1;32m    854\u001b[0m             \u001b[0;31m# fit method of arity 2 (supervised transformation)\u001b[0m\u001b[0;34m\u001b[0m\u001b[0;34m\u001b[0m\u001b[0;34m\u001b[0m\u001b[0m\n\u001b[0;32m--> 855\u001b[0;31m             \u001b[0;32mreturn\u001b[0m \u001b[0mself\u001b[0m\u001b[0;34m.\u001b[0m\u001b[0mfit\u001b[0m\u001b[0;34m(\u001b[0m\u001b[0mX\u001b[0m\u001b[0;34m,\u001b[0m \u001b[0my\u001b[0m\u001b[0;34m,\u001b[0m \u001b[0;34m**\u001b[0m\u001b[0mfit_params\u001b[0m\u001b[0;34m)\u001b[0m\u001b[0;34m.\u001b[0m\u001b[0mtransform\u001b[0m\u001b[0;34m(\u001b[0m\u001b[0mX\u001b[0m\u001b[0;34m)\u001b[0m\u001b[0;34m\u001b[0m\u001b[0;34m\u001b[0m\u001b[0m\n\u001b[0m\u001b[1;32m    856\u001b[0m \u001b[0;34m\u001b[0m\u001b[0m\n\u001b[1;32m    857\u001b[0m \u001b[0;34m\u001b[0m\u001b[0m\n",
            "\u001b[0;32m/usr/local/lib/python3.7/dist-packages/sklearn/discriminant_analysis.py\u001b[0m in \u001b[0;36mfit\u001b[0;34m(self, X, y)\u001b[0m\n\u001b[1;32m    545\u001b[0m             \u001b[0mX\u001b[0m\u001b[0;34m,\u001b[0m \u001b[0my\u001b[0m\u001b[0;34m,\u001b[0m \u001b[0mensure_min_samples\u001b[0m\u001b[0;34m=\u001b[0m\u001b[0;36m2\u001b[0m\u001b[0;34m,\u001b[0m \u001b[0mestimator\u001b[0m\u001b[0;34m=\u001b[0m\u001b[0mself\u001b[0m\u001b[0;34m,\u001b[0m \u001b[0mdtype\u001b[0m\u001b[0;34m=\u001b[0m\u001b[0;34m[\u001b[0m\u001b[0mnp\u001b[0m\u001b[0;34m.\u001b[0m\u001b[0mfloat64\u001b[0m\u001b[0;34m,\u001b[0m \u001b[0mnp\u001b[0m\u001b[0;34m.\u001b[0m\u001b[0mfloat32\u001b[0m\u001b[0;34m]\u001b[0m\u001b[0;34m\u001b[0m\u001b[0;34m\u001b[0m\u001b[0m\n\u001b[1;32m    546\u001b[0m         )\n\u001b[0;32m--> 547\u001b[0;31m         \u001b[0mself\u001b[0m\u001b[0;34m.\u001b[0m\u001b[0mclasses_\u001b[0m \u001b[0;34m=\u001b[0m \u001b[0munique_labels\u001b[0m\u001b[0;34m(\u001b[0m\u001b[0my\u001b[0m\u001b[0;34m)\u001b[0m\u001b[0;34m\u001b[0m\u001b[0;34m\u001b[0m\u001b[0m\n\u001b[0m\u001b[1;32m    548\u001b[0m         \u001b[0mn_samples\u001b[0m\u001b[0;34m,\u001b[0m \u001b[0m_\u001b[0m \u001b[0;34m=\u001b[0m \u001b[0mX\u001b[0m\u001b[0;34m.\u001b[0m\u001b[0mshape\u001b[0m\u001b[0;34m\u001b[0m\u001b[0;34m\u001b[0m\u001b[0m\n\u001b[1;32m    549\u001b[0m         \u001b[0mn_classes\u001b[0m \u001b[0;34m=\u001b[0m \u001b[0mlen\u001b[0m\u001b[0;34m(\u001b[0m\u001b[0mself\u001b[0m\u001b[0;34m.\u001b[0m\u001b[0mclasses_\u001b[0m\u001b[0;34m)\u001b[0m\u001b[0;34m\u001b[0m\u001b[0;34m\u001b[0m\u001b[0m\n",
            "\u001b[0;32m/usr/local/lib/python3.7/dist-packages/sklearn/utils/multiclass.py\u001b[0m in \u001b[0;36munique_labels\u001b[0;34m(*ys)\u001b[0m\n\u001b[1;32m     99\u001b[0m     \u001b[0m_unique_labels\u001b[0m \u001b[0;34m=\u001b[0m \u001b[0m_FN_UNIQUE_LABELS\u001b[0m\u001b[0;34m.\u001b[0m\u001b[0mget\u001b[0m\u001b[0;34m(\u001b[0m\u001b[0mlabel_type\u001b[0m\u001b[0;34m,\u001b[0m \u001b[0;32mNone\u001b[0m\u001b[0;34m)\u001b[0m\u001b[0;34m\u001b[0m\u001b[0;34m\u001b[0m\u001b[0m\n\u001b[1;32m    100\u001b[0m     \u001b[0;32mif\u001b[0m \u001b[0;32mnot\u001b[0m \u001b[0m_unique_labels\u001b[0m\u001b[0;34m:\u001b[0m\u001b[0;34m\u001b[0m\u001b[0;34m\u001b[0m\u001b[0m\n\u001b[0;32m--> 101\u001b[0;31m         \u001b[0;32mraise\u001b[0m \u001b[0mValueError\u001b[0m\u001b[0;34m(\u001b[0m\u001b[0;34m\"Unknown label type: %s\"\u001b[0m \u001b[0;34m%\u001b[0m \u001b[0mrepr\u001b[0m\u001b[0;34m(\u001b[0m\u001b[0mys\u001b[0m\u001b[0;34m)\u001b[0m\u001b[0;34m)\u001b[0m\u001b[0;34m\u001b[0m\u001b[0;34m\u001b[0m\u001b[0m\n\u001b[0m\u001b[1;32m    102\u001b[0m \u001b[0;34m\u001b[0m\u001b[0m\n\u001b[1;32m    103\u001b[0m     \u001b[0mys_labels\u001b[0m \u001b[0;34m=\u001b[0m \u001b[0mset\u001b[0m\u001b[0;34m(\u001b[0m\u001b[0mchain\u001b[0m\u001b[0;34m.\u001b[0m\u001b[0mfrom_iterable\u001b[0m\u001b[0;34m(\u001b[0m\u001b[0m_unique_labels\u001b[0m\u001b[0;34m(\u001b[0m\u001b[0my\u001b[0m\u001b[0;34m)\u001b[0m \u001b[0;32mfor\u001b[0m \u001b[0my\u001b[0m \u001b[0;32min\u001b[0m \u001b[0mys\u001b[0m\u001b[0;34m)\u001b[0m\u001b[0;34m)\u001b[0m\u001b[0;34m\u001b[0m\u001b[0;34m\u001b[0m\u001b[0m\n",
            "\u001b[0;31mValueError\u001b[0m: Unknown label type: (array([ 160.42436588, -118.89757141,   35.67515444,   24.25262304,\n        -87.94572566,  -14.07809956,   35.90490288,  -17.29412796,\n         57.31803987,   -1.08205123, -125.96097579,    9.03852422,\n         24.75529236,   -6.67347974,  -38.69615927,   19.86808154,\n        117.05931984,  168.46753558,  116.03352072, -121.02690293,\n         38.65922704,  -37.04233618,   20.15342558,   99.91689459,\n        -80.8237628 ,  115.22159361,  -13.23148035,   69.64594597,\n        -64.75229712,  -77.19008771,  -46.92321676, -234.85446123,\n        -76.61930975,   37.83222742,  -10.25302803,  -64.34649486,\n          3.03289315,   86.16557896,   53.6316957 ,   69.68881233]),)"
          ]
        }
      ]
    },
    {
      "cell_type": "code",
      "source": [
        "df2 = pd.DataFrame()\n",
        "df2[\"x1\"]=X2[:,0]\n",
        "df2[\"x2\"]=X2[:,1]\n",
        "df2[\"x3\"]=X2[:,2]\n",
        "df2[\"y\"]= y2\n",
        "df2.head()\n"
      ],
      "metadata": {
        "colab": {
          "base_uri": "https://localhost:8080/",
          "height": 206
        },
        "id": "TSEbXMhf0kXE",
        "outputId": "1ee05717-9926-4f82-8639-c8dc48f44e7b"
      },
      "execution_count": 53,
      "outputs": [
        {
          "output_type": "execute_result",
          "data": {
            "text/plain": [
              "         x1        x2        x3  y\n",
              "0 -6.927572 -0.190175 -1.085459  0\n",
              "1 -7.291681  1.011803 -0.489531  0\n",
              "2  2.304991 -3.998952 -6.985275  2\n",
              "3  2.815322 -4.196436 -7.451142  2\n",
              "4  2.122281 -4.805565 -6.209021  2"
            ],
            "text/html": [
              "\n",
              "  <div id=\"df-657ad717-59fe-4027-b3e2-4ad7f21e250e\">\n",
              "    <div class=\"colab-df-container\">\n",
              "      <div>\n",
              "<style scoped>\n",
              "    .dataframe tbody tr th:only-of-type {\n",
              "        vertical-align: middle;\n",
              "    }\n",
              "\n",
              "    .dataframe tbody tr th {\n",
              "        vertical-align: top;\n",
              "    }\n",
              "\n",
              "    .dataframe thead th {\n",
              "        text-align: right;\n",
              "    }\n",
              "</style>\n",
              "<table border=\"1\" class=\"dataframe\">\n",
              "  <thead>\n",
              "    <tr style=\"text-align: right;\">\n",
              "      <th></th>\n",
              "      <th>x1</th>\n",
              "      <th>x2</th>\n",
              "      <th>x3</th>\n",
              "      <th>y</th>\n",
              "    </tr>\n",
              "  </thead>\n",
              "  <tbody>\n",
              "    <tr>\n",
              "      <th>0</th>\n",
              "      <td>-6.927572</td>\n",
              "      <td>-0.190175</td>\n",
              "      <td>-1.085459</td>\n",
              "      <td>0</td>\n",
              "    </tr>\n",
              "    <tr>\n",
              "      <th>1</th>\n",
              "      <td>-7.291681</td>\n",
              "      <td>1.011803</td>\n",
              "      <td>-0.489531</td>\n",
              "      <td>0</td>\n",
              "    </tr>\n",
              "    <tr>\n",
              "      <th>2</th>\n",
              "      <td>2.304991</td>\n",
              "      <td>-3.998952</td>\n",
              "      <td>-6.985275</td>\n",
              "      <td>2</td>\n",
              "    </tr>\n",
              "    <tr>\n",
              "      <th>3</th>\n",
              "      <td>2.815322</td>\n",
              "      <td>-4.196436</td>\n",
              "      <td>-7.451142</td>\n",
              "      <td>2</td>\n",
              "    </tr>\n",
              "    <tr>\n",
              "      <th>4</th>\n",
              "      <td>2.122281</td>\n",
              "      <td>-4.805565</td>\n",
              "      <td>-6.209021</td>\n",
              "      <td>2</td>\n",
              "    </tr>\n",
              "  </tbody>\n",
              "</table>\n",
              "</div>\n",
              "      <button class=\"colab-df-convert\" onclick=\"convertToInteractive('df-657ad717-59fe-4027-b3e2-4ad7f21e250e')\"\n",
              "              title=\"Convert this dataframe to an interactive table.\"\n",
              "              style=\"display:none;\">\n",
              "        \n",
              "  <svg xmlns=\"http://www.w3.org/2000/svg\" height=\"24px\"viewBox=\"0 0 24 24\"\n",
              "       width=\"24px\">\n",
              "    <path d=\"M0 0h24v24H0V0z\" fill=\"none\"/>\n",
              "    <path d=\"M18.56 5.44l.94 2.06.94-2.06 2.06-.94-2.06-.94-.94-2.06-.94 2.06-2.06.94zm-11 1L8.5 8.5l.94-2.06 2.06-.94-2.06-.94L8.5 2.5l-.94 2.06-2.06.94zm10 10l.94 2.06.94-2.06 2.06-.94-2.06-.94-.94-2.06-.94 2.06-2.06.94z\"/><path d=\"M17.41 7.96l-1.37-1.37c-.4-.4-.92-.59-1.43-.59-.52 0-1.04.2-1.43.59L10.3 9.45l-7.72 7.72c-.78.78-.78 2.05 0 2.83L4 21.41c.39.39.9.59 1.41.59.51 0 1.02-.2 1.41-.59l7.78-7.78 2.81-2.81c.8-.78.8-2.07 0-2.86zM5.41 20L4 18.59l7.72-7.72 1.47 1.35L5.41 20z\"/>\n",
              "  </svg>\n",
              "      </button>\n",
              "      \n",
              "  <style>\n",
              "    .colab-df-container {\n",
              "      display:flex;\n",
              "      flex-wrap:wrap;\n",
              "      gap: 12px;\n",
              "    }\n",
              "\n",
              "    .colab-df-convert {\n",
              "      background-color: #E8F0FE;\n",
              "      border: none;\n",
              "      border-radius: 50%;\n",
              "      cursor: pointer;\n",
              "      display: none;\n",
              "      fill: #1967D2;\n",
              "      height: 32px;\n",
              "      padding: 0 0 0 0;\n",
              "      width: 32px;\n",
              "    }\n",
              "\n",
              "    .colab-df-convert:hover {\n",
              "      background-color: #E2EBFA;\n",
              "      box-shadow: 0px 1px 2px rgba(60, 64, 67, 0.3), 0px 1px 3px 1px rgba(60, 64, 67, 0.15);\n",
              "      fill: #174EA6;\n",
              "    }\n",
              "\n",
              "    [theme=dark] .colab-df-convert {\n",
              "      background-color: #3B4455;\n",
              "      fill: #D2E3FC;\n",
              "    }\n",
              "\n",
              "    [theme=dark] .colab-df-convert:hover {\n",
              "      background-color: #434B5C;\n",
              "      box-shadow: 0px 1px 3px 1px rgba(0, 0, 0, 0.15);\n",
              "      filter: drop-shadow(0px 1px 2px rgba(0, 0, 0, 0.3));\n",
              "      fill: #FFFFFF;\n",
              "    }\n",
              "  </style>\n",
              "\n",
              "      <script>\n",
              "        const buttonEl =\n",
              "          document.querySelector('#df-657ad717-59fe-4027-b3e2-4ad7f21e250e button.colab-df-convert');\n",
              "        buttonEl.style.display =\n",
              "          google.colab.kernel.accessAllowed ? 'block' : 'none';\n",
              "\n",
              "        async function convertToInteractive(key) {\n",
              "          const element = document.querySelector('#df-657ad717-59fe-4027-b3e2-4ad7f21e250e');\n",
              "          const dataTable =\n",
              "            await google.colab.kernel.invokeFunction('convertToInteractive',\n",
              "                                                     [key], {});\n",
              "          if (!dataTable) return;\n",
              "\n",
              "          const docLinkHtml = 'Like what you see? Visit the ' +\n",
              "            '<a target=\"_blank\" href=https://colab.research.google.com/notebooks/data_table.ipynb>data table notebook</a>'\n",
              "            + ' to learn more about interactive tables.';\n",
              "          element.innerHTML = '';\n",
              "          dataTable['output_type'] = 'display_data';\n",
              "          await google.colab.output.renderOutput(dataTable, element);\n",
              "          const docLink = document.createElement('div');\n",
              "          docLink.innerHTML = docLinkHtml;\n",
              "          element.appendChild(docLink);\n",
              "        }\n",
              "      </script>\n",
              "    </div>\n",
              "  </div>\n",
              "  "
            ]
          },
          "metadata": {},
          "execution_count": 53
        }
      ]
    },
    {
      "cell_type": "code",
      "source": [
        "X = df2[['x1','x2','x3']]\n",
        "y = df2[['y']]\n",
        "X_train, X_test, y_train, y_test = train_test_split(X,y,test_size=0.2, random_state=0)"
      ],
      "metadata": {
        "id": "bFWXXnqb3A1I"
      },
      "execution_count": 54,
      "outputs": []
    },
    {
      "cell_type": "code",
      "source": [
        "sc = StandardScaler()\n",
        "X_train = sc.fit_transform(X_train)\n",
        "X_test = sc.transform(X_test)"
      ],
      "metadata": {
        "id": "akl-qY1w32Eu"
      },
      "execution_count": 55,
      "outputs": []
    },
    {
      "cell_type": "code",
      "source": [
        "lda = LDA(n_components=2)\n",
        "X_train = lda.fit_transform(X_train, y_train.values.ravel())\n",
        "X_test = lda.transform(X_test)\n"
      ],
      "metadata": {
        "id": "dd9R7n4x5z9t"
      },
      "execution_count": 56,
      "outputs": []
    },
    {
      "cell_type": "code",
      "source": [
        "#https://hands-on.cloud/implementation-of-linear-discriminant-analysis-lda-using-python/\n",
        "pyplot.scatter(\n",
        "    X_train[:,0],\n",
        "    X_train[:,1],\n",
        "    c=y_test,\n",
        "    cmap='rainbow',\n",
        "    alpha=0.7,\n",
        "    edgecolors='b'\n",
        ")"
      ],
      "metadata": {
        "colab": {
          "base_uri": "https://localhost:8080/",
          "height": 282
        },
        "id": "9oF7hEcoagJX",
        "outputId": "a313717f-2f7a-45f0-cd4b-625f55e999b8"
      },
      "execution_count": 57,
      "outputs": [
        {
          "output_type": "execute_result",
          "data": {
            "text/plain": [
              "<matplotlib.collections.PathCollection at 0x7f67c0dc9d50>"
            ]
          },
          "metadata": {},
          "execution_count": 57
        },
        {
          "output_type": "display_data",
          "data": {
            "text/plain": [
              "<Figure size 432x288 with 1 Axes>"
            ],
            "image/png": "[encoded data removed]"
          },
          "metadata": {
            "needs_background": "light"
          }
        }
      ]
    },
    {
      "cell_type": "markdown",
      "source": [
        "# Punto 3"
      ],
      "metadata": {
        "id": "jjz5ac6meumb"
      }
    },
    {
      "cell_type": "markdown",
      "source": [
        "Utilizando la librería Scikit-learn, investiga cómo se implementan las métricas del error cuadrático medio y del coeficiente de determinación  para evaluar la calidad de un modelo de aprendizaje supervisado."
      ],
      "metadata": {
        "id": "laPbpSNyexpy"
      }
    },
    {
      "cell_type": "code",
      "source": [
        "from sklearn.metrics import mean_squared_error\n",
        "# https://www.iartificial.net/error-cuadratico-medio-para-regresion/\n",
        "\n",
        "y_true = [3, -0.5, 2, 7]\n",
        "y_pred = [2.5, 0.0, 2, 8]\n",
        "mse = mean_squared_error(y_true, y_pred)\n",
        "rmse = np.sqrt(mse)\n",
        "print(\"Error cuadratico medio\",mse)\n",
        "print('Raíz del Error Cuadrático Medio (RMSE) = ',+ rmse)"
      ],
      "metadata": {
        "colab": {
          "base_uri": "https://localhost:8080/"
        },
        "id": "TWgAv8jqmder",
        "outputId": "10954701-8cd9-47cb-fd2c-dfd69e18a97b"
      },
      "execution_count": 63,
      "outputs": [
        {
          "output_type": "stream",
          "name": "stdout",
          "text": [
            "Error cuadratico medio 0.375\n",
            "Raíz del Error Cuadrático Medio (RMSE) =  0.6123724356957945\n"
          ]
        }
      ]
    },
    {
      "cell_type": "code",
      "source": [
        ""
      ],
      "metadata": {
        "id": "Q7AmnGrXjFB4"
      },
      "execution_count": null,
      "outputs": []
    }
  ]
}