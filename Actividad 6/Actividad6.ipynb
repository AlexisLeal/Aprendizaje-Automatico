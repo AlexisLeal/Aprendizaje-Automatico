{
  "nbformat": 4,
  "nbformat_minor": 0,
  "metadata": {
    "colab": {
      "name": "Actividad6.ipynb",
      "provenance": [],
      "collapsed_sections": []
    },
    "kernelspec": {
      "name": "python3",
      "display_name": "Python 3"
    },
    "language_info": {
      "name": "python"
    }
  },
  "cells": [
    {
      "cell_type": "markdown",
      "source": [
        "#Punto 1\n",
        "La regresión logística es uno de los métodos de aprendizaje automático que se utiliza para resolver problemas de clasificación binaria de una manera muy eficiente. Identifica una situación real (centro laboral, negocio, hogar) de la cual puedas adquirir una cantidad considerable de datos y que represente una problemática de clasificación binaria, por ejemplo: (0/1), (si/no), (continuar/detener), entre otras. Elabora un programa en Python donde, a partir del análisis previo del comportamiento de los datos, puedas elaborar un modelo capaz de predecir el resultado adecuado para nuevas condiciones que se pudieran presentar."
      ],
      "metadata": {
        "id": "VB-l_KTjdQwB"
      }
    },
    {
      "cell_type": "code",
      "execution_count": 3,
      "metadata": {
        "id": "QMPVF3liBs69"
      },
      "outputs": [],
      "source": [
        "import numpy as np\n",
        "import matplotlib.pyplot as plt\n",
        "import pandas as pd"
      ]
    },
    {
      "cell_type": "code",
      "source": [
        "df = pd.read_csv('Rewards.csv')"
      ],
      "metadata": {
        "id": "Gxv1mXX4c_6q"
      },
      "execution_count": 4,
      "outputs": []
    },
    {
      "cell_type": "code",
      "source": [
        "df.shape"
      ],
      "metadata": {
        "colab": {
          "base_uri": "https://localhost:8080/"
        },
        "id": "ARV39gy-dFAZ",
        "outputId": "02bc5add-21bb-42ba-8c70-fd0d614e7c4a"
      },
      "execution_count": 5,
      "outputs": [
        {
          "output_type": "execute_result",
          "data": {
            "text/plain": [
              "(150, 8)"
            ]
          },
          "metadata": {},
          "execution_count": 5
        }
      ]
    },
    {
      "cell_type": "code",
      "source": [
        "df.head(5)"
      ],
      "metadata": {
        "colab": {
          "base_uri": "https://localhost:8080/",
          "height": 206
        },
        "id": "pm4CW0g1ehQK",
        "outputId": "9d940c26-a4ae-4d56-8a8d-00af7d5cada7"
      },
      "execution_count": 6,
      "outputs": [
        {
          "output_type": "execute_result",
          "data": {
            "text/plain": [
              "   Gender  Age Membership Loyalty Points Discount Gift Earlybird  \\\n",
              "0    Male   45    Premium    501 to 1000      Yes  Yes       Yes   \n",
              "1  Female   41     Normal      Below 500       No   No        No   \n",
              "2  Female   25    Premium     Above 1000      Yes  Yes       Yes   \n",
              "3    Male   38    Premium    501 to 1000      Yes  Yes       Yes   \n",
              "4    Male   32     Normal     Above 1000      Yes  Yes        No   \n",
              "\n",
              "               Reward  \n",
              "0            Cashback  \n",
              "1              Coupon  \n",
              "2  Coupon or Cashback  \n",
              "3            Cashback  \n",
              "4  Coupon or Cashback  "
            ],
            "text/html": [
              "\n",
              "  <div id=\"df-f3c47e52-0d4f-411e-9e92-a573c023f4d1\">\n",
              "    <div class=\"colab-df-container\">\n",
              "      <div>\n",
              "<style scoped>\n",
              "    .dataframe tbody tr th:only-of-type {\n",
              "        vertical-align: middle;\n",
              "    }\n",
              "\n",
              "    .dataframe tbody tr th {\n",
              "        vertical-align: top;\n",
              "    }\n",
              "\n",
              "    .dataframe thead th {\n",
              "        text-align: right;\n",
              "    }\n",
              "</style>\n",
              "<table border=\"1\" class=\"dataframe\">\n",
              "  <thead>\n",
              "    <tr style=\"text-align: right;\">\n",
              "      <th></th>\n",
              "      <th>Gender</th>\n",
              "      <th>Age</th>\n",
              "      <th>Membership</th>\n",
              "      <th>Loyalty Points</th>\n",
              "      <th>Discount</th>\n",
              "      <th>Gift</th>\n",
              "      <th>Earlybird</th>\n",
              "      <th>Reward</th>\n",
              "    </tr>\n",
              "  </thead>\n",
              "  <tbody>\n",
              "    <tr>\n",
              "      <th>0</th>\n",
              "      <td>Male</td>\n",
              "      <td>45</td>\n",
              "      <td>Premium</td>\n",
              "      <td>501 to 1000</td>\n",
              "      <td>Yes</td>\n",
              "      <td>Yes</td>\n",
              "      <td>Yes</td>\n",
              "      <td>Cashback</td>\n",
              "    </tr>\n",
              "    <tr>\n",
              "      <th>1</th>\n",
              "      <td>Female</td>\n",
              "      <td>41</td>\n",
              "      <td>Normal</td>\n",
              "      <td>Below 500</td>\n",
              "      <td>No</td>\n",
              "      <td>No</td>\n",
              "      <td>No</td>\n",
              "      <td>Coupon</td>\n",
              "    </tr>\n",
              "    <tr>\n",
              "      <th>2</th>\n",
              "      <td>Female</td>\n",
              "      <td>25</td>\n",
              "      <td>Premium</td>\n",
              "      <td>Above 1000</td>\n",
              "      <td>Yes</td>\n",
              "      <td>Yes</td>\n",
              "      <td>Yes</td>\n",
              "      <td>Coupon or Cashback</td>\n",
              "    </tr>\n",
              "    <tr>\n",
              "      <th>3</th>\n",
              "      <td>Male</td>\n",
              "      <td>38</td>\n",
              "      <td>Premium</td>\n",
              "      <td>501 to 1000</td>\n",
              "      <td>Yes</td>\n",
              "      <td>Yes</td>\n",
              "      <td>Yes</td>\n",
              "      <td>Cashback</td>\n",
              "    </tr>\n",
              "    <tr>\n",
              "      <th>4</th>\n",
              "      <td>Male</td>\n",
              "      <td>32</td>\n",
              "      <td>Normal</td>\n",
              "      <td>Above 1000</td>\n",
              "      <td>Yes</td>\n",
              "      <td>Yes</td>\n",
              "      <td>No</td>\n",
              "      <td>Coupon or Cashback</td>\n",
              "    </tr>\n",
              "  </tbody>\n",
              "</table>\n",
              "</div>\n",
              "      <button class=\"colab-df-convert\" onclick=\"convertToInteractive('df-f3c47e52-0d4f-411e-9e92-a573c023f4d1')\"\n",
              "              title=\"Convert this dataframe to an interactive table.\"\n",
              "              style=\"display:none;\">\n",
              "        \n",
              "  <svg xmlns=\"http://www.w3.org/2000/svg\" height=\"24px\"viewBox=\"0 0 24 24\"\n",
              "       width=\"24px\">\n",
              "    <path d=\"M0 0h24v24H0V0z\" fill=\"none\"/>\n",
              "    <path d=\"M18.56 5.44l.94 2.06.94-2.06 2.06-.94-2.06-.94-.94-2.06-.94 2.06-2.06.94zm-11 1L8.5 8.5l.94-2.06 2.06-.94-2.06-.94L8.5 2.5l-.94 2.06-2.06.94zm10 10l.94 2.06.94-2.06 2.06-.94-2.06-.94-.94-2.06-.94 2.06-2.06.94z\"/><path d=\"M17.41 7.96l-1.37-1.37c-.4-.4-.92-.59-1.43-.59-.52 0-1.04.2-1.43.59L10.3 9.45l-7.72 7.72c-.78.78-.78 2.05 0 2.83L4 21.41c.39.39.9.59 1.41.59.51 0 1.02-.2 1.41-.59l7.78-7.78 2.81-2.81c.8-.78.8-2.07 0-2.86zM5.41 20L4 18.59l7.72-7.72 1.47 1.35L5.41 20z\"/>\n",
              "  </svg>\n",
              "      </button>\n",
              "      \n",
              "  <style>\n",
              "    .colab-df-container {\n",
              "      display:flex;\n",
              "      flex-wrap:wrap;\n",
              "      gap: 12px;\n",
              "    }\n",
              "\n",
              "    .colab-df-convert {\n",
              "      background-color: #E8F0FE;\n",
              "      border: none;\n",
              "      border-radius: 50%;\n",
              "      cursor: pointer;\n",
              "      display: none;\n",
              "      fill: #1967D2;\n",
              "      height: 32px;\n",
              "      padding: 0 0 0 0;\n",
              "      width: 32px;\n",
              "    }\n",
              "\n",
              "    .colab-df-convert:hover {\n",
              "      background-color: #E2EBFA;\n",
              "      box-shadow: 0px 1px 2px rgba(60, 64, 67, 0.3), 0px 1px 3px 1px rgba(60, 64, 67, 0.15);\n",
              "      fill: #174EA6;\n",
              "    }\n",
              "\n",
              "    [theme=dark] .colab-df-convert {\n",
              "      background-color: #3B4455;\n",
              "      fill: #D2E3FC;\n",
              "    }\n",
              "\n",
              "    [theme=dark] .colab-df-convert:hover {\n",
              "      background-color: #434B5C;\n",
              "      box-shadow: 0px 1px 3px 1px rgba(0, 0, 0, 0.15);\n",
              "      filter: drop-shadow(0px 1px 2px rgba(0, 0, 0, 0.3));\n",
              "      fill: #FFFFFF;\n",
              "    }\n",
              "  </style>\n",
              "\n",
              "      <script>\n",
              "        const buttonEl =\n",
              "          document.querySelector('#df-f3c47e52-0d4f-411e-9e92-a573c023f4d1 button.colab-df-convert');\n",
              "        buttonEl.style.display =\n",
              "          google.colab.kernel.accessAllowed ? 'block' : 'none';\n",
              "\n",
              "        async function convertToInteractive(key) {\n",
              "          const element = document.querySelector('#df-f3c47e52-0d4f-411e-9e92-a573c023f4d1');\n",
              "          const dataTable =\n",
              "            await google.colab.kernel.invokeFunction('convertToInteractive',\n",
              "                                                     [key], {});\n",
              "          if (!dataTable) return;\n",
              "\n",
              "          const docLinkHtml = 'Like what you see? Visit the ' +\n",
              "            '<a target=\"_blank\" href=https://colab.research.google.com/notebooks/data_table.ipynb>data table notebook</a>'\n",
              "            + ' to learn more about interactive tables.';\n",
              "          element.innerHTML = '';\n",
              "          dataTable['output_type'] = 'display_data';\n",
              "          await google.colab.output.renderOutput(dataTable, element);\n",
              "          const docLink = document.createElement('div');\n",
              "          docLink.innerHTML = docLinkHtml;\n",
              "          element.appendChild(docLink);\n",
              "        }\n",
              "      </script>\n",
              "    </div>\n",
              "  </div>\n",
              "  "
            ]
          },
          "metadata": {},
          "execution_count": 6
        }
      ]
    },
    {
      "cell_type": "code",
      "source": [
        "X = pd.DataFrame(df,columns=['Gender','Age','Membership','Loyalty Points','Discount','Gift','Earlybird'])\n",
        "y = pd.DataFrame(df,columns=['Reward'])"
      ],
      "metadata": {
        "id": "9zJZ_QN_fVjq"
      },
      "execution_count": 7,
      "outputs": []
    },
    {
      "cell_type": "code",
      "source": [
        "X.rename(columns={'Loyalty Points':'Loyalty_Points'},inplace=True)"
      ],
      "metadata": {
        "id": "ep8jkTWlAS1K"
      },
      "execution_count": 8,
      "outputs": []
    },
    {
      "cell_type": "code",
      "source": [
        "X.head()"
      ],
      "metadata": {
        "colab": {
          "base_uri": "https://localhost:8080/",
          "height": 206
        },
        "id": "4oeTSX-yBFJZ",
        "outputId": "09b4d8e9-0dc6-439d-807e-64d903dcd4e4"
      },
      "execution_count": 9,
      "outputs": [
        {
          "output_type": "execute_result",
          "data": {
            "text/plain": [
              "   Gender  Age Membership Loyalty_Points Discount Gift Earlybird\n",
              "0    Male   45    Premium    501 to 1000      Yes  Yes       Yes\n",
              "1  Female   41     Normal      Below 500       No   No        No\n",
              "2  Female   25    Premium     Above 1000      Yes  Yes       Yes\n",
              "3    Male   38    Premium    501 to 1000      Yes  Yes       Yes\n",
              "4    Male   32     Normal     Above 1000      Yes  Yes        No"
            ],
            "text/html": [
              "\n",
              "  <div id=\"df-13436f79-685d-455f-ba55-f8b566cf12ce\">\n",
              "    <div class=\"colab-df-container\">\n",
              "      <div>\n",
              "<style scoped>\n",
              "    .dataframe tbody tr th:only-of-type {\n",
              "        vertical-align: middle;\n",
              "    }\n",
              "\n",
              "    .dataframe tbody tr th {\n",
              "        vertical-align: top;\n",
              "    }\n",
              "\n",
              "    .dataframe thead th {\n",
              "        text-align: right;\n",
              "    }\n",
              "</style>\n",
              "<table border=\"1\" class=\"dataframe\">\n",
              "  <thead>\n",
              "    <tr style=\"text-align: right;\">\n",
              "      <th></th>\n",
              "      <th>Gender</th>\n",
              "      <th>Age</th>\n",
              "      <th>Membership</th>\n",
              "      <th>Loyalty_Points</th>\n",
              "      <th>Discount</th>\n",
              "      <th>Gift</th>\n",
              "      <th>Earlybird</th>\n",
              "    </tr>\n",
              "  </thead>\n",
              "  <tbody>\n",
              "    <tr>\n",
              "      <th>0</th>\n",
              "      <td>Male</td>\n",
              "      <td>45</td>\n",
              "      <td>Premium</td>\n",
              "      <td>501 to 1000</td>\n",
              "      <td>Yes</td>\n",
              "      <td>Yes</td>\n",
              "      <td>Yes</td>\n",
              "    </tr>\n",
              "    <tr>\n",
              "      <th>1</th>\n",
              "      <td>Female</td>\n",
              "      <td>41</td>\n",
              "      <td>Normal</td>\n",
              "      <td>Below 500</td>\n",
              "      <td>No</td>\n",
              "      <td>No</td>\n",
              "      <td>No</td>\n",
              "    </tr>\n",
              "    <tr>\n",
              "      <th>2</th>\n",
              "      <td>Female</td>\n",
              "      <td>25</td>\n",
              "      <td>Premium</td>\n",
              "      <td>Above 1000</td>\n",
              "      <td>Yes</td>\n",
              "      <td>Yes</td>\n",
              "      <td>Yes</td>\n",
              "    </tr>\n",
              "    <tr>\n",
              "      <th>3</th>\n",
              "      <td>Male</td>\n",
              "      <td>38</td>\n",
              "      <td>Premium</td>\n",
              "      <td>501 to 1000</td>\n",
              "      <td>Yes</td>\n",
              "      <td>Yes</td>\n",
              "      <td>Yes</td>\n",
              "    </tr>\n",
              "    <tr>\n",
              "      <th>4</th>\n",
              "      <td>Male</td>\n",
              "      <td>32</td>\n",
              "      <td>Normal</td>\n",
              "      <td>Above 1000</td>\n",
              "      <td>Yes</td>\n",
              "      <td>Yes</td>\n",
              "      <td>No</td>\n",
              "    </tr>\n",
              "  </tbody>\n",
              "</table>\n",
              "</div>\n",
              "      <button class=\"colab-df-convert\" onclick=\"convertToInteractive('df-13436f79-685d-455f-ba55-f8b566cf12ce')\"\n",
              "              title=\"Convert this dataframe to an interactive table.\"\n",
              "              style=\"display:none;\">\n",
              "        \n",
              "  <svg xmlns=\"http://www.w3.org/2000/svg\" height=\"24px\"viewBox=\"0 0 24 24\"\n",
              "       width=\"24px\">\n",
              "    <path d=\"M0 0h24v24H0V0z\" fill=\"none\"/>\n",
              "    <path d=\"M18.56 5.44l.94 2.06.94-2.06 2.06-.94-2.06-.94-.94-2.06-.94 2.06-2.06.94zm-11 1L8.5 8.5l.94-2.06 2.06-.94-2.06-.94L8.5 2.5l-.94 2.06-2.06.94zm10 10l.94 2.06.94-2.06 2.06-.94-2.06-.94-.94-2.06-.94 2.06-2.06.94z\"/><path d=\"M17.41 7.96l-1.37-1.37c-.4-.4-.92-.59-1.43-.59-.52 0-1.04.2-1.43.59L10.3 9.45l-7.72 7.72c-.78.78-.78 2.05 0 2.83L4 21.41c.39.39.9.59 1.41.59.51 0 1.02-.2 1.41-.59l7.78-7.78 2.81-2.81c.8-.78.8-2.07 0-2.86zM5.41 20L4 18.59l7.72-7.72 1.47 1.35L5.41 20z\"/>\n",
              "  </svg>\n",
              "      </button>\n",
              "      \n",
              "  <style>\n",
              "    .colab-df-container {\n",
              "      display:flex;\n",
              "      flex-wrap:wrap;\n",
              "      gap: 12px;\n",
              "    }\n",
              "\n",
              "    .colab-df-convert {\n",
              "      background-color: #E8F0FE;\n",
              "      border: none;\n",
              "      border-radius: 50%;\n",
              "      cursor: pointer;\n",
              "      display: none;\n",
              "      fill: #1967D2;\n",
              "      height: 32px;\n",
              "      padding: 0 0 0 0;\n",
              "      width: 32px;\n",
              "    }\n",
              "\n",
              "    .colab-df-convert:hover {\n",
              "      background-color: #E2EBFA;\n",
              "      box-shadow: 0px 1px 2px rgba(60, 64, 67, 0.3), 0px 1px 3px 1px rgba(60, 64, 67, 0.15);\n",
              "      fill: #174EA6;\n",
              "    }\n",
              "\n",
              "    [theme=dark] .colab-df-convert {\n",
              "      background-color: #3B4455;\n",
              "      fill: #D2E3FC;\n",
              "    }\n",
              "\n",
              "    [theme=dark] .colab-df-convert:hover {\n",
              "      background-color: #434B5C;\n",
              "      box-shadow: 0px 1px 3px 1px rgba(0, 0, 0, 0.15);\n",
              "      filter: drop-shadow(0px 1px 2px rgba(0, 0, 0, 0.3));\n",
              "      fill: #FFFFFF;\n",
              "    }\n",
              "  </style>\n",
              "\n",
              "      <script>\n",
              "        const buttonEl =\n",
              "          document.querySelector('#df-13436f79-685d-455f-ba55-f8b566cf12ce button.colab-df-convert');\n",
              "        buttonEl.style.display =\n",
              "          google.colab.kernel.accessAllowed ? 'block' : 'none';\n",
              "\n",
              "        async function convertToInteractive(key) {\n",
              "          const element = document.querySelector('#df-13436f79-685d-455f-ba55-f8b566cf12ce');\n",
              "          const dataTable =\n",
              "            await google.colab.kernel.invokeFunction('convertToInteractive',\n",
              "                                                     [key], {});\n",
              "          if (!dataTable) return;\n",
              "\n",
              "          const docLinkHtml = 'Like what you see? Visit the ' +\n",
              "            '<a target=\"_blank\" href=https://colab.research.google.com/notebooks/data_table.ipynb>data table notebook</a>'\n",
              "            + ' to learn more about interactive tables.';\n",
              "          element.innerHTML = '';\n",
              "          dataTable['output_type'] = 'display_data';\n",
              "          await google.colab.output.renderOutput(dataTable, element);\n",
              "          const docLink = document.createElement('div');\n",
              "          docLink.innerHTML = docLinkHtml;\n",
              "          element.appendChild(docLink);\n",
              "        }\n",
              "      </script>\n",
              "    </div>\n",
              "  </div>\n",
              "  "
            ]
          },
          "metadata": {},
          "execution_count": 9
        }
      ]
    },
    {
      "cell_type": "code",
      "source": [
        "y.head()"
      ],
      "metadata": {
        "colab": {
          "base_uri": "https://localhost:8080/",
          "height": 206
        },
        "id": "49PgwrjyFmd-",
        "outputId": "55476551-6417-4a3b-8983-4847de52ee2f"
      },
      "execution_count": 10,
      "outputs": [
        {
          "output_type": "execute_result",
          "data": {
            "text/plain": [
              "               Reward\n",
              "0            Cashback\n",
              "1              Coupon\n",
              "2  Coupon or Cashback\n",
              "3            Cashback\n",
              "4  Coupon or Cashback"
            ],
            "text/html": [
              "\n",
              "  <div id=\"df-c42f4eb4-a2e0-4e8f-9d7d-a47d60ac5fc1\">\n",
              "    <div class=\"colab-df-container\">\n",
              "      <div>\n",
              "<style scoped>\n",
              "    .dataframe tbody tr th:only-of-type {\n",
              "        vertical-align: middle;\n",
              "    }\n",
              "\n",
              "    .dataframe tbody tr th {\n",
              "        vertical-align: top;\n",
              "    }\n",
              "\n",
              "    .dataframe thead th {\n",
              "        text-align: right;\n",
              "    }\n",
              "</style>\n",
              "<table border=\"1\" class=\"dataframe\">\n",
              "  <thead>\n",
              "    <tr style=\"text-align: right;\">\n",
              "      <th></th>\n",
              "      <th>Reward</th>\n",
              "    </tr>\n",
              "  </thead>\n",
              "  <tbody>\n",
              "    <tr>\n",
              "      <th>0</th>\n",
              "      <td>Cashback</td>\n",
              "    </tr>\n",
              "    <tr>\n",
              "      <th>1</th>\n",
              "      <td>Coupon</td>\n",
              "    </tr>\n",
              "    <tr>\n",
              "      <th>2</th>\n",
              "      <td>Coupon or Cashback</td>\n",
              "    </tr>\n",
              "    <tr>\n",
              "      <th>3</th>\n",
              "      <td>Cashback</td>\n",
              "    </tr>\n",
              "    <tr>\n",
              "      <th>4</th>\n",
              "      <td>Coupon or Cashback</td>\n",
              "    </tr>\n",
              "  </tbody>\n",
              "</table>\n",
              "</div>\n",
              "      <button class=\"colab-df-convert\" onclick=\"convertToInteractive('df-c42f4eb4-a2e0-4e8f-9d7d-a47d60ac5fc1')\"\n",
              "              title=\"Convert this dataframe to an interactive table.\"\n",
              "              style=\"display:none;\">\n",
              "        \n",
              "  <svg xmlns=\"http://www.w3.org/2000/svg\" height=\"24px\"viewBox=\"0 0 24 24\"\n",
              "       width=\"24px\">\n",
              "    <path d=\"M0 0h24v24H0V0z\" fill=\"none\"/>\n",
              "    <path d=\"M18.56 5.44l.94 2.06.94-2.06 2.06-.94-2.06-.94-.94-2.06-.94 2.06-2.06.94zm-11 1L8.5 8.5l.94-2.06 2.06-.94-2.06-.94L8.5 2.5l-.94 2.06-2.06.94zm10 10l.94 2.06.94-2.06 2.06-.94-2.06-.94-.94-2.06-.94 2.06-2.06.94z\"/><path d=\"M17.41 7.96l-1.37-1.37c-.4-.4-.92-.59-1.43-.59-.52 0-1.04.2-1.43.59L10.3 9.45l-7.72 7.72c-.78.78-.78 2.05 0 2.83L4 21.41c.39.39.9.59 1.41.59.51 0 1.02-.2 1.41-.59l7.78-7.78 2.81-2.81c.8-.78.8-2.07 0-2.86zM5.41 20L4 18.59l7.72-7.72 1.47 1.35L5.41 20z\"/>\n",
              "  </svg>\n",
              "      </button>\n",
              "      \n",
              "  <style>\n",
              "    .colab-df-container {\n",
              "      display:flex;\n",
              "      flex-wrap:wrap;\n",
              "      gap: 12px;\n",
              "    }\n",
              "\n",
              "    .colab-df-convert {\n",
              "      background-color: #E8F0FE;\n",
              "      border: none;\n",
              "      border-radius: 50%;\n",
              "      cursor: pointer;\n",
              "      display: none;\n",
              "      fill: #1967D2;\n",
              "      height: 32px;\n",
              "      padding: 0 0 0 0;\n",
              "      width: 32px;\n",
              "    }\n",
              "\n",
              "    .colab-df-convert:hover {\n",
              "      background-color: #E2EBFA;\n",
              "      box-shadow: 0px 1px 2px rgba(60, 64, 67, 0.3), 0px 1px 3px 1px rgba(60, 64, 67, 0.15);\n",
              "      fill: #174EA6;\n",
              "    }\n",
              "\n",
              "    [theme=dark] .colab-df-convert {\n",
              "      background-color: #3B4455;\n",
              "      fill: #D2E3FC;\n",
              "    }\n",
              "\n",
              "    [theme=dark] .colab-df-convert:hover {\n",
              "      background-color: #434B5C;\n",
              "      box-shadow: 0px 1px 3px 1px rgba(0, 0, 0, 0.15);\n",
              "      filter: drop-shadow(0px 1px 2px rgba(0, 0, 0, 0.3));\n",
              "      fill: #FFFFFF;\n",
              "    }\n",
              "  </style>\n",
              "\n",
              "      <script>\n",
              "        const buttonEl =\n",
              "          document.querySelector('#df-c42f4eb4-a2e0-4e8f-9d7d-a47d60ac5fc1 button.colab-df-convert');\n",
              "        buttonEl.style.display =\n",
              "          google.colab.kernel.accessAllowed ? 'block' : 'none';\n",
              "\n",
              "        async function convertToInteractive(key) {\n",
              "          const element = document.querySelector('#df-c42f4eb4-a2e0-4e8f-9d7d-a47d60ac5fc1');\n",
              "          const dataTable =\n",
              "            await google.colab.kernel.invokeFunction('convertToInteractive',\n",
              "                                                     [key], {});\n",
              "          if (!dataTable) return;\n",
              "\n",
              "          const docLinkHtml = 'Like what you see? Visit the ' +\n",
              "            '<a target=\"_blank\" href=https://colab.research.google.com/notebooks/data_table.ipynb>data table notebook</a>'\n",
              "            + ' to learn more about interactive tables.';\n",
              "          element.innerHTML = '';\n",
              "          dataTable['output_type'] = 'display_data';\n",
              "          await google.colab.output.renderOutput(dataTable, element);\n",
              "          const docLink = document.createElement('div');\n",
              "          docLink.innerHTML = docLinkHtml;\n",
              "          element.appendChild(docLink);\n",
              "        }\n",
              "      </script>\n",
              "    </div>\n",
              "  </div>\n",
              "  "
            ]
          },
          "metadata": {},
          "execution_count": 10
        }
      ]
    },
    {
      "cell_type": "code",
      "source": [
        "for i in X:\n",
        "  X[i].values\n",
        "  print(X[i].values)"
      ],
      "metadata": {
        "colab": {
          "base_uri": "https://localhost:8080/"
        },
        "id": "5To3fy0s1art",
        "outputId": "7799b967-80d1-4ac6-a54a-1fbefcc8aeb3"
      },
      "execution_count": 11,
      "outputs": [
        {
          "output_type": "stream",
          "name": "stdout",
          "text": [
            "['Male' 'Female' 'Female' 'Male' 'Male' 'Male' 'Female' 'Female' 'Female'\n",
            " 'Female' 'Female' 'Male' 'Female' 'Male' 'Female' 'Male' 'Female'\n",
            " 'Female' 'Male' 'Female' 'Male' 'Female' 'Female' 'Female' 'Female'\n",
            " 'Male' 'Female' 'Female' 'Male' 'Female' 'Male' 'Female' 'Female'\n",
            " 'Female' 'Male' 'Male' 'Male' 'Female' 'Female' 'Female' 'Female'\n",
            " 'Female' 'Male' 'Male' 'Female' 'Female' 'Male' 'Female' 'Female'\n",
            " 'Female' 'Female' 'Female' 'Male' 'Male' 'Female' 'Female' 'Male'\n",
            " 'Female' 'Female' 'Male' 'Female' 'Male' 'Male' 'Female' 'Female'\n",
            " 'Female' 'Female' 'Male' 'Female' 'Male' 'Male' 'Female' 'Female'\n",
            " 'Female' 'Male' 'Female' 'Male' 'Female' 'Male' 'Female' 'Female'\n",
            " 'Female' 'Female' 'Male' 'Female' 'Male' 'Female' 'Female' 'Female'\n",
            " 'Female' 'Female' 'Male' 'Female' 'Female' 'Male' 'Male' 'Male' 'Female'\n",
            " 'Female' 'Female' 'Male' 'Male' 'Female' 'Female' 'Female' 'Male'\n",
            " 'Female' 'Female' 'Male' 'Male' 'Female' 'Male' 'Female' 'Female'\n",
            " 'Female' 'Male' 'Female' 'Female' 'Female' 'Male' 'Female' 'Male'\n",
            " 'Female' 'Female' 'Male' 'Female' 'Female' 'Male' 'Female' 'Female'\n",
            " 'Male' 'Female' 'Male' 'Female' 'Male' 'Female' 'Male' 'Male' 'Female'\n",
            " 'Male' 'Female' 'Male' 'Female' 'Female' 'Male' 'Female' 'Male' 'Male'\n",
            " 'Female' 'Male']\n",
            "[45 41 25 38 32 28 41 39 24 34 42 34 39 39 43 47 35 26 39 25 29 25 40 41\n",
            " 47 47 50 50 42 42 47 37 42 37 29 28 26 40 30 36 33 30 38 38 24 34 33 27\n",
            " 50 45 38 44 43 39 42 40 40 24 30 46 49 41 40 46 38 36 37 49 41 27 50 34\n",
            " 48 30 40 24 45 42 47 48 25 33 44 38 33 31 40 27 41 34 33 44 34 26 34 38\n",
            " 30 49 34 37 31 39 35 46 39 29 35 39 35 37 47 44 42 47 31 44 44 32 31 29\n",
            " 43 37 28 35 50 46 24 50 31 42 27 32 42 48 43 35 40 44 48 45 45 29 29 28\n",
            " 46 39 31 24 42 43]\n",
            "['Premium' 'Normal' 'Premium' 'Premium' 'Normal' 'Premium' 'Normal'\n",
            " 'Normal' 'Premium' 'Premium' 'Normal' 'Normal' 'Premium' 'Normal'\n",
            " 'Premium' 'Premium' 'Normal' 'Premium' 'Normal' 'Normal' 'Normal'\n",
            " 'Normal' 'Premium' 'Premium' 'Premium' 'Normal' 'Premium' 'Premium'\n",
            " 'Normal' 'Premium' 'Normal' 'Premium' 'Normal' 'Normal' 'Normal'\n",
            " 'Premium' 'Normal' 'Premium' 'Premium' 'Normal' 'Premium' 'Normal'\n",
            " 'Normal' 'Normal' 'Normal' 'Premium' 'Normal' 'Normal' 'Premium' 'Normal'\n",
            " 'Normal' 'Premium' 'Premium' 'Normal' 'Normal' 'Premium' 'Normal'\n",
            " 'Normal' 'Premium' 'Normal' 'Normal' 'Normal' 'Premium' 'Normal'\n",
            " 'Premium' 'Normal' 'Normal' 'Premium' 'Normal' 'Normal' 'Normal'\n",
            " 'Premium' 'Premium' 'Normal' 'Premium' 'Normal' 'Normal' 'Normal'\n",
            " 'Premium' 'Normal' 'Premium' 'Normal' 'Normal' 'Premium' 'Normal'\n",
            " 'Premium' 'Normal' 'Premium' 'Normal' 'Normal' 'Normal' 'Premium'\n",
            " 'Premium' 'Normal' 'Normal' 'Normal' 'Premium' 'Normal' 'Normal' 'Normal'\n",
            " 'Normal' 'Premium' 'Normal' 'Normal' 'Premium' 'Normal' 'Normal' 'Normal'\n",
            " 'Premium' 'Premium' 'Normal' 'Normal' 'Normal' 'Premium' 'Normal'\n",
            " 'Premium' 'Normal' 'Premium' 'Normal' 'Normal' 'Normal' 'Normal'\n",
            " 'Premium' 'Normal' 'Premium' 'Normal' 'Normal' 'Normal' 'Premium'\n",
            " 'Normal' 'Premium' 'Normal' 'Normal' 'Normal' 'Normal' 'Normal' 'Premium'\n",
            " 'Normal' 'Normal' 'Normal' 'Premium' 'Normal' 'Premium' 'Normal' 'Normal'\n",
            " 'Premium' 'Normal' 'Premium' 'Normal' 'Normal']\n",
            "['501 to 1000' 'Below 500' 'Above 1000' '501 to 1000' 'Above 1000'\n",
            " '501 to 1000' '501 to 1000' 'Below 500' 'Above 1000' '501 to 1000'\n",
            " 'Above 1000' 'Below 500' '501 to 1000' 'Above 1000' 'Below 500'\n",
            " '501 to 1000' 'Above 1000' 'Below 500' 'Above 1000' 'Below 500'\n",
            " 'Above 1000' 'Above 1000' '501 to 1000' 'Above 1000' '501 to 1000'\n",
            " 'Below 500' 'Above 1000' '501 to 1000' 'Above 1000' '501 to 1000'\n",
            " 'Below 500' '501 to 1000' 'Above 1000' '501 to 1000' 'Above 1000'\n",
            " 'Above 1000' 'Below 500' '501 to 1000' 'Above 1000' 'Below 500'\n",
            " 'Above 1000' 'Below 500' '501 to 1000' 'Below 500' 'Below 500'\n",
            " '501 to 1000' 'Below 500' '501 to 1000' 'Above 1000' 'Above 1000'\n",
            " '501 to 1000' 'Above 1000' 'Below 500' 'Below 500' 'Below 500'\n",
            " 'Above 1000' '501 to 1000' 'Below 500' '501 to 1000' '501 to 1000'\n",
            " 'Below 500' '501 to 1000' 'Above 1000' 'Above 1000' '501 to 1000'\n",
            " 'Below 500' '501 to 1000' 'Above 1000' 'Above 1000' '501 to 1000'\n",
            " 'Below 500' '501 to 1000' 'Above 1000' 'Below 500' '501 to 1000'\n",
            " 'Above 1000' 'Above 1000' '501 to 1000' '501 to 1000' '501 to 1000'\n",
            " 'Above 1000' 'Above 1000' '501 to 1000' 'Below 500' '501 to 1000'\n",
            " 'Below 500' 'Below 500' 'Above 1000' '501 to 1000' 'Above 1000'\n",
            " '501 to 1000' 'Above 1000' 'Above 1000' 'Below 500' '501 to 1000'\n",
            " 'Below 500' 'Below 500' 'Above 1000' '501 to 1000' 'Above 1000'\n",
            " '501 to 1000' 'Below 500' 'Above 1000' 'Below 500' 'Above 1000'\n",
            " 'Below 500' '501 to 1000' '501 to 1000' 'Below 500' 'Above 1000'\n",
            " 'Below 500' '501 to 1000' '501 to 1000' 'Below 500' '501 to 1000'\n",
            " 'Below 500' 'Above 1000' '501 to 1000' 'Below 500' '501 to 1000'\n",
            " 'Above 1000' '501 to 1000' 'Above 1000' 'Below 500' '501 to 1000'\n",
            " 'Above 1000' 'Above 1000' '501 to 1000' 'Below 500' '501 to 1000'\n",
            " 'Below 500' 'Below 500' '501 to 1000' '501 to 1000' 'Below 500'\n",
            " 'Below 500' 'Below 500' 'Below 500' 'Above 1000' 'Above 1000'\n",
            " '501 to 1000' 'Above 1000' '501 to 1000' 'Below 500' '501 to 1000'\n",
            " 'Below 500' 'Above 1000' 'Above 1000' 'Below 500' 'Below 500']\n",
            "['Yes' 'No' 'Yes' 'Yes' 'Yes' 'Yes' 'Yes' 'No' 'Yes' 'Yes' 'Yes' 'No'\n",
            " 'Yes' 'Yes' 'Yes' 'Yes' 'Yes' 'Yes' 'Yes' 'No' 'Yes' 'Yes' 'Yes' 'Yes'\n",
            " 'Yes' 'No' 'Yes' 'Yes' 'Yes' 'Yes' 'No' 'Yes' 'Yes' 'Yes' 'Yes' 'Yes'\n",
            " 'No' 'Yes' 'Yes' 'No' 'Yes' 'No' 'Yes' 'No' 'No' 'Yes' 'No' 'Yes' 'Yes'\n",
            " 'Yes' 'Yes' 'Yes' 'Yes' 'No' 'No' 'Yes' 'Yes' 'No' 'Yes' 'Yes' 'No' 'Yes'\n",
            " 'Yes' 'Yes' 'Yes' 'No' 'Yes' 'Yes' 'Yes' 'Yes' 'No' 'Yes' 'Yes' 'No'\n",
            " 'Yes' 'Yes' 'Yes' 'Yes' 'Yes' 'Yes' 'Yes' 'Yes' 'Yes' 'Yes' 'Yes' 'Yes'\n",
            " 'No' 'Yes' 'Yes' 'Yes' 'Yes' 'Yes' 'Yes' 'No' 'Yes' 'No' 'Yes' 'Yes'\n",
            " 'Yes' 'Yes' 'Yes' 'Yes' 'Yes' 'No' 'Yes' 'No' 'Yes' 'Yes' 'Yes' 'Yes'\n",
            " 'No' 'Yes' 'Yes' 'Yes' 'Yes' 'Yes' 'Yes' 'Yes' 'No' 'Yes' 'Yes' 'Yes'\n",
            " 'Yes' 'No' 'Yes' 'Yes' 'Yes' 'Yes' 'Yes' 'Yes' 'Yes' 'No' 'Yes' 'Yes'\n",
            " 'No' 'No' 'Yes' 'No' 'Yes' 'Yes' 'Yes' 'Yes' 'Yes' 'No' 'Yes' 'Yes' 'Yes'\n",
            " 'Yes' 'No' 'No']\n",
            "['Yes' 'No' 'Yes' 'Yes' 'Yes' 'Yes' 'No' 'No' 'Yes' 'Yes' 'Yes' 'No' 'Yes'\n",
            " 'Yes' 'No' 'Yes' 'Yes' 'No' 'Yes' 'No' 'Yes' 'Yes' 'Yes' 'Yes' 'Yes' 'No'\n",
            " 'Yes' 'Yes' 'Yes' 'Yes' 'No' 'Yes' 'Yes' 'No' 'Yes' 'Yes' 'No' 'Yes'\n",
            " 'Yes' 'No' 'Yes' 'No' 'No' 'No' 'No' 'Yes' 'No' 'No' 'Yes' 'Yes' 'No'\n",
            " 'Yes' 'No' 'No' 'No' 'Yes' 'No' 'No' 'Yes' 'No' 'No' 'No' 'Yes' 'Yes'\n",
            " 'Yes' 'No' 'No' 'Yes' 'Yes' 'No' 'No' 'Yes' 'Yes' 'No' 'Yes' 'Yes' 'Yes'\n",
            " 'No' 'Yes' 'No' 'Yes' 'Yes' 'No' 'No' 'No' 'No' 'No' 'Yes' 'No' 'Yes'\n",
            " 'No' 'Yes' 'Yes' 'No' 'No' 'No' 'No' 'Yes' 'No' 'Yes' 'No' 'No' 'Yes'\n",
            " 'No' 'Yes' 'No' 'No' 'No' 'No' 'Yes' 'No' 'No' 'No' 'No' 'No' 'No' 'Yes'\n",
            " 'Yes' 'No' 'No' 'Yes' 'No' 'Yes' 'No' 'Yes' 'Yes' 'Yes' 'No' 'No' 'No'\n",
            " 'No' 'No' 'No' 'No' 'No' 'No' 'No' 'No' 'Yes' 'Yes' 'Yes' 'Yes' 'Yes'\n",
            " 'No' 'No' 'No' 'Yes' 'Yes' 'No' 'No']\n",
            "['Yes' 'No' 'Yes' 'Yes' 'No' 'Yes' 'No' 'No' 'Yes' 'Yes' 'No' 'No' 'Yes'\n",
            " 'No' 'Yes' 'Yes' 'No' 'Yes' 'No' 'No' 'No' 'No' 'Yes' 'Yes' 'Yes' 'No'\n",
            " 'Yes' 'Yes' 'No' 'Yes' 'No' 'Yes' 'No' 'No' 'No' 'Yes' 'No' 'Yes' 'Yes'\n",
            " 'No' 'Yes' 'No' 'No' 'No' 'No' 'Yes' 'No' 'No' 'Yes' 'No' 'No' 'Yes'\n",
            " 'Yes' 'No' 'No' 'Yes' 'No' 'No' 'Yes' 'No' 'No' 'No' 'Yes' 'No' 'Yes'\n",
            " 'No' 'No' 'Yes' 'No' 'No' 'No' 'Yes' 'Yes' 'No' 'Yes' 'No' 'No' 'No'\n",
            " 'Yes' 'No' 'Yes' 'No' 'No' 'Yes' 'No' 'Yes' 'No' 'Yes' 'No' 'No' 'No'\n",
            " 'Yes' 'Yes' 'No' 'No' 'No' 'Yes' 'No' 'No' 'No' 'No' 'Yes' 'No' 'No'\n",
            " 'Yes' 'No' 'No' 'No' 'Yes' 'Yes' 'No' 'No' 'No' 'Yes' 'No' 'Yes' 'No'\n",
            " 'Yes' 'No' 'No' 'No' 'No' 'Yes' 'No' 'Yes' 'No' 'No' 'No' 'Yes' 'No'\n",
            " 'Yes' 'No' 'No' 'No' 'No' 'No' 'Yes' 'No' 'No' 'No' 'Yes' 'No' 'Yes' 'No'\n",
            " 'No' 'Yes' 'No' 'Yes' 'No' 'No']\n"
          ]
        }
      ]
    },
    {
      "cell_type": "code",
      "source": [
        "for i in y:\n",
        "  y[i].values\n",
        "  print(y[i].values)"
      ],
      "metadata": {
        "colab": {
          "base_uri": "https://localhost:8080/"
        },
        "id": "eyB8w7hVING_",
        "outputId": "8121902e-99ea-446f-afec-9bf796363c89"
      },
      "execution_count": 12,
      "outputs": [
        {
          "output_type": "stream",
          "name": "stdout",
          "text": [
            "['Cashback' 'Coupon' 'Coupon or Cashback' 'Cashback' 'Coupon or Cashback'\n",
            " 'Cashback' 'Coupon' 'Coupon' 'Coupon or Cashback' 'Cashback'\n",
            " 'Coupon or Cashback' 'Coupon' 'Cashback' 'Coupon or Cashback' 'Coupon'\n",
            " 'Cashback' 'Coupon or Cashback' 'Coupon' 'Coupon or Cashback' 'Coupon'\n",
            " 'Coupon or Cashback' 'Coupon or Cashback' 'Cashback' 'Coupon or Cashback'\n",
            " 'Cashback' 'Coupon' 'Coupon or Cashback' 'Cashback' 'Coupon or Cashback'\n",
            " 'Cashback' 'Coupon' 'Cashback' 'Coupon or Cashback' 'Coupon'\n",
            " 'Coupon or Cashback' 'Coupon or Cashback' 'Coupon' 'Cashback'\n",
            " 'Coupon or Cashback' 'Coupon' 'Coupon or Cashback' 'Coupon' 'Coupon'\n",
            " 'Coupon' 'Coupon' 'Cashback' 'Coupon' 'Coupon' 'Coupon or Cashback'\n",
            " 'Coupon or Cashback' 'Coupon' 'Coupon or Cashback' 'Coupon' 'Coupon'\n",
            " 'Coupon' 'Coupon or Cashback' 'Coupon' 'Coupon' 'Cashback' 'Coupon'\n",
            " 'Coupon' 'Coupon' 'Coupon or Cashback' 'Coupon or Cashback' 'Cashback'\n",
            " 'Coupon' 'Coupon' 'Coupon or Cashback' 'Coupon or Cashback' 'Coupon'\n",
            " 'Coupon' 'Cashback' 'Coupon or Cashback' 'Coupon' 'Cashback'\n",
            " 'Coupon or Cashback' 'Coupon or Cashback' 'Coupon' 'Cashback' 'Coupon'\n",
            " 'Coupon or Cashback' 'Coupon or Cashback' 'Coupon' 'Coupon' 'Coupon'\n",
            " 'Coupon' 'Coupon' 'Coupon or Cashback' 'Coupon' 'Coupon or Cashback'\n",
            " 'Coupon' 'Coupon or Cashback' 'Coupon or Cashback' 'Coupon' 'Coupon'\n",
            " 'Coupon' 'Coupon' 'Coupon or Cashback' 'Coupon' 'Coupon or Cashback'\n",
            " 'Coupon' 'Coupon' 'Coupon or Cashback' 'Coupon' 'Coupon or Cashback'\n",
            " 'Coupon' 'Coupon' 'Coupon' 'Coupon' 'Coupon or Cashback' 'Coupon'\n",
            " 'Coupon' 'Coupon' 'Coupon' 'Coupon' 'Coupon' 'Coupon or Cashback'\n",
            " 'Cashback' 'Coupon' 'Coupon' 'Coupon or Cashback' 'Coupon'\n",
            " 'Coupon or Cashback' 'Coupon' 'Cashback' 'Coupon or Cashback'\n",
            " 'Coupon or Cashback' 'Coupon' 'Coupon' 'Coupon' 'Coupon' 'Coupon'\n",
            " 'Coupon' 'Coupon' 'Coupon' 'Coupon' 'Coupon' 'Coupon'\n",
            " 'Coupon or Cashback' 'Coupon or Cashback' 'Cashback' 'Coupon or Cashback'\n",
            " 'Cashback' 'Coupon' 'Coupon' 'Coupon' 'Coupon or Cashback'\n",
            " 'Coupon or Cashback' 'Coupon' 'Coupon']\n"
          ]
        }
      ]
    },
    {
      "cell_type": "code",
      "source": [
        "X.head()"
      ],
      "metadata": {
        "colab": {
          "base_uri": "https://localhost:8080/",
          "height": 206
        },
        "id": "ZIrqCWjO0PK-",
        "outputId": "cf3a56b0-4101-4a98-bea4-e49e79612e0b"
      },
      "execution_count": 13,
      "outputs": [
        {
          "output_type": "execute_result",
          "data": {
            "text/plain": [
              "   Gender  Age Membership Loyalty_Points Discount Gift Earlybird\n",
              "0    Male   45    Premium    501 to 1000      Yes  Yes       Yes\n",
              "1  Female   41     Normal      Below 500       No   No        No\n",
              "2  Female   25    Premium     Above 1000      Yes  Yes       Yes\n",
              "3    Male   38    Premium    501 to 1000      Yes  Yes       Yes\n",
              "4    Male   32     Normal     Above 1000      Yes  Yes        No"
            ],
            "text/html": [
              "\n",
              "  <div id=\"df-ff89ff03-0d60-4ce5-a3c1-5d8d0f89f6be\">\n",
              "    <div class=\"colab-df-container\">\n",
              "      <div>\n",
              "<style scoped>\n",
              "    .dataframe tbody tr th:only-of-type {\n",
              "        vertical-align: middle;\n",
              "    }\n",
              "\n",
              "    .dataframe tbody tr th {\n",
              "        vertical-align: top;\n",
              "    }\n",
              "\n",
              "    .dataframe thead th {\n",
              "        text-align: right;\n",
              "    }\n",
              "</style>\n",
              "<table border=\"1\" class=\"dataframe\">\n",
              "  <thead>\n",
              "    <tr style=\"text-align: right;\">\n",
              "      <th></th>\n",
              "      <th>Gender</th>\n",
              "      <th>Age</th>\n",
              "      <th>Membership</th>\n",
              "      <th>Loyalty_Points</th>\n",
              "      <th>Discount</th>\n",
              "      <th>Gift</th>\n",
              "      <th>Earlybird</th>\n",
              "    </tr>\n",
              "  </thead>\n",
              "  <tbody>\n",
              "    <tr>\n",
              "      <th>0</th>\n",
              "      <td>Male</td>\n",
              "      <td>45</td>\n",
              "      <td>Premium</td>\n",
              "      <td>501 to 1000</td>\n",
              "      <td>Yes</td>\n",
              "      <td>Yes</td>\n",
              "      <td>Yes</td>\n",
              "    </tr>\n",
              "    <tr>\n",
              "      <th>1</th>\n",
              "      <td>Female</td>\n",
              "      <td>41</td>\n",
              "      <td>Normal</td>\n",
              "      <td>Below 500</td>\n",
              "      <td>No</td>\n",
              "      <td>No</td>\n",
              "      <td>No</td>\n",
              "    </tr>\n",
              "    <tr>\n",
              "      <th>2</th>\n",
              "      <td>Female</td>\n",
              "      <td>25</td>\n",
              "      <td>Premium</td>\n",
              "      <td>Above 1000</td>\n",
              "      <td>Yes</td>\n",
              "      <td>Yes</td>\n",
              "      <td>Yes</td>\n",
              "    </tr>\n",
              "    <tr>\n",
              "      <th>3</th>\n",
              "      <td>Male</td>\n",
              "      <td>38</td>\n",
              "      <td>Premium</td>\n",
              "      <td>501 to 1000</td>\n",
              "      <td>Yes</td>\n",
              "      <td>Yes</td>\n",
              "      <td>Yes</td>\n",
              "    </tr>\n",
              "    <tr>\n",
              "      <th>4</th>\n",
              "      <td>Male</td>\n",
              "      <td>32</td>\n",
              "      <td>Normal</td>\n",
              "      <td>Above 1000</td>\n",
              "      <td>Yes</td>\n",
              "      <td>Yes</td>\n",
              "      <td>No</td>\n",
              "    </tr>\n",
              "  </tbody>\n",
              "</table>\n",
              "</div>\n",
              "      <button class=\"colab-df-convert\" onclick=\"convertToInteractive('df-ff89ff03-0d60-4ce5-a3c1-5d8d0f89f6be')\"\n",
              "              title=\"Convert this dataframe to an interactive table.\"\n",
              "              style=\"display:none;\">\n",
              "        \n",
              "  <svg xmlns=\"http://www.w3.org/2000/svg\" height=\"24px\"viewBox=\"0 0 24 24\"\n",
              "       width=\"24px\">\n",
              "    <path d=\"M0 0h24v24H0V0z\" fill=\"none\"/>\n",
              "    <path d=\"M18.56 5.44l.94 2.06.94-2.06 2.06-.94-2.06-.94-.94-2.06-.94 2.06-2.06.94zm-11 1L8.5 8.5l.94-2.06 2.06-.94-2.06-.94L8.5 2.5l-.94 2.06-2.06.94zm10 10l.94 2.06.94-2.06 2.06-.94-2.06-.94-.94-2.06-.94 2.06-2.06.94z\"/><path d=\"M17.41 7.96l-1.37-1.37c-.4-.4-.92-.59-1.43-.59-.52 0-1.04.2-1.43.59L10.3 9.45l-7.72 7.72c-.78.78-.78 2.05 0 2.83L4 21.41c.39.39.9.59 1.41.59.51 0 1.02-.2 1.41-.59l7.78-7.78 2.81-2.81c.8-.78.8-2.07 0-2.86zM5.41 20L4 18.59l7.72-7.72 1.47 1.35L5.41 20z\"/>\n",
              "  </svg>\n",
              "      </button>\n",
              "      \n",
              "  <style>\n",
              "    .colab-df-container {\n",
              "      display:flex;\n",
              "      flex-wrap:wrap;\n",
              "      gap: 12px;\n",
              "    }\n",
              "\n",
              "    .colab-df-convert {\n",
              "      background-color: #E8F0FE;\n",
              "      border: none;\n",
              "      border-radius: 50%;\n",
              "      cursor: pointer;\n",
              "      display: none;\n",
              "      fill: #1967D2;\n",
              "      height: 32px;\n",
              "      padding: 0 0 0 0;\n",
              "      width: 32px;\n",
              "    }\n",
              "\n",
              "    .colab-df-convert:hover {\n",
              "      background-color: #E2EBFA;\n",
              "      box-shadow: 0px 1px 2px rgba(60, 64, 67, 0.3), 0px 1px 3px 1px rgba(60, 64, 67, 0.15);\n",
              "      fill: #174EA6;\n",
              "    }\n",
              "\n",
              "    [theme=dark] .colab-df-convert {\n",
              "      background-color: #3B4455;\n",
              "      fill: #D2E3FC;\n",
              "    }\n",
              "\n",
              "    [theme=dark] .colab-df-convert:hover {\n",
              "      background-color: #434B5C;\n",
              "      box-shadow: 0px 1px 3px 1px rgba(0, 0, 0, 0.15);\n",
              "      filter: drop-shadow(0px 1px 2px rgba(0, 0, 0, 0.3));\n",
              "      fill: #FFFFFF;\n",
              "    }\n",
              "  </style>\n",
              "\n",
              "      <script>\n",
              "        const buttonEl =\n",
              "          document.querySelector('#df-ff89ff03-0d60-4ce5-a3c1-5d8d0f89f6be button.colab-df-convert');\n",
              "        buttonEl.style.display =\n",
              "          google.colab.kernel.accessAllowed ? 'block' : 'none';\n",
              "\n",
              "        async function convertToInteractive(key) {\n",
              "          const element = document.querySelector('#df-ff89ff03-0d60-4ce5-a3c1-5d8d0f89f6be');\n",
              "          const dataTable =\n",
              "            await google.colab.kernel.invokeFunction('convertToInteractive',\n",
              "                                                     [key], {});\n",
              "          if (!dataTable) return;\n",
              "\n",
              "          const docLinkHtml = 'Like what you see? Visit the ' +\n",
              "            '<a target=\"_blank\" href=https://colab.research.google.com/notebooks/data_table.ipynb>data table notebook</a>'\n",
              "            + ' to learn more about interactive tables.';\n",
              "          element.innerHTML = '';\n",
              "          dataTable['output_type'] = 'display_data';\n",
              "          await google.colab.output.renderOutput(dataTable, element);\n",
              "          const docLink = document.createElement('div');\n",
              "          docLink.innerHTML = docLinkHtml;\n",
              "          element.appendChild(docLink);\n",
              "        }\n",
              "      </script>\n",
              "    </div>\n",
              "  </div>\n",
              "  "
            ]
          },
          "metadata": {},
          "execution_count": 13
        }
      ]
    },
    {
      "cell_type": "code",
      "source": [
        "X.loc[X.Gender=='Male','Gender']=1\n",
        "X.loc[X.Gender=='Female','Gender']=0\n",
        "\n",
        "X.loc[X.Membership=='Premium','Membership']=1\n",
        "X.loc[X.Membership=='Normal','Membership']=0\n",
        "\n",
        "X.loc[X.Loyalty_Points=='501 to 1000','Loyalty_Points']=1\n",
        "X.loc[X.Loyalty_Points=='Below 500','Loyalty_Points']=0\n",
        "X.loc[X.Loyalty_Points=='Above 1000','Loyalty_Points']=2\n",
        "\n",
        "X.loc[X.Discount=='Yes','Discount']=1\n",
        "X.loc[X.Discount=='No','Discount']=0\n",
        "\n",
        "X.loc[X.Gift=='Yes','Gift']=1\n",
        "X.loc[X.Gift=='No','Gift']=0\n",
        "\n",
        "X.loc[X.Earlybird=='Yes','Earlybird']=0\n",
        "X.loc[X.Earlybird=='No','Earlybird']=0\n",
        "\n",
        "y.loc[y.Reward=='Cashback','Reward']=0\n",
        "y.loc[y.Reward=='Coupon','Reward']=1\n",
        "y.loc[y.Reward=='Coupon or Cashback','Reward']=1"
      ],
      "metadata": {
        "id": "e17tiWai0Rzc"
      },
      "execution_count": 14,
      "outputs": []
    },
    {
      "cell_type": "code",
      "source": [
        "X.head()"
      ],
      "metadata": {
        "colab": {
          "base_uri": "https://localhost:8080/",
          "height": 206
        },
        "id": "z_jx55Mv02Yt",
        "outputId": "61393ae2-0c3b-4773-b1e4-72de10e45463"
      },
      "execution_count": 15,
      "outputs": [
        {
          "output_type": "execute_result",
          "data": {
            "text/plain": [
              "  Gender  Age Membership Loyalty_Points Discount Gift Earlybird\n",
              "0      1   45          1              1        1    1         0\n",
              "1      0   41          0              0        0    0         0\n",
              "2      0   25          1              2        1    1         0\n",
              "3      1   38          1              1        1    1         0\n",
              "4      1   32          0              2        1    1         0"
            ],
            "text/html": [
              "\n",
              "  <div id=\"df-2f690880-2415-456b-9f2f-fe1b96f422b4\">\n",
              "    <div class=\"colab-df-container\">\n",
              "      <div>\n",
              "<style scoped>\n",
              "    .dataframe tbody tr th:only-of-type {\n",
              "        vertical-align: middle;\n",
              "    }\n",
              "\n",
              "    .dataframe tbody tr th {\n",
              "        vertical-align: top;\n",
              "    }\n",
              "\n",
              "    .dataframe thead th {\n",
              "        text-align: right;\n",
              "    }\n",
              "</style>\n",
              "<table border=\"1\" class=\"dataframe\">\n",
              "  <thead>\n",
              "    <tr style=\"text-align: right;\">\n",
              "      <th></th>\n",
              "      <th>Gender</th>\n",
              "      <th>Age</th>\n",
              "      <th>Membership</th>\n",
              "      <th>Loyalty_Points</th>\n",
              "      <th>Discount</th>\n",
              "      <th>Gift</th>\n",
              "      <th>Earlybird</th>\n",
              "    </tr>\n",
              "  </thead>\n",
              "  <tbody>\n",
              "    <tr>\n",
              "      <th>0</th>\n",
              "      <td>1</td>\n",
              "      <td>45</td>\n",
              "      <td>1</td>\n",
              "      <td>1</td>\n",
              "      <td>1</td>\n",
              "      <td>1</td>\n",
              "      <td>0</td>\n",
              "    </tr>\n",
              "    <tr>\n",
              "      <th>1</th>\n",
              "      <td>0</td>\n",
              "      <td>41</td>\n",
              "      <td>0</td>\n",
              "      <td>0</td>\n",
              "      <td>0</td>\n",
              "      <td>0</td>\n",
              "      <td>0</td>\n",
              "    </tr>\n",
              "    <tr>\n",
              "      <th>2</th>\n",
              "      <td>0</td>\n",
              "      <td>25</td>\n",
              "      <td>1</td>\n",
              "      <td>2</td>\n",
              "      <td>1</td>\n",
              "      <td>1</td>\n",
              "      <td>0</td>\n",
              "    </tr>\n",
              "    <tr>\n",
              "      <th>3</th>\n",
              "      <td>1</td>\n",
              "      <td>38</td>\n",
              "      <td>1</td>\n",
              "      <td>1</td>\n",
              "      <td>1</td>\n",
              "      <td>1</td>\n",
              "      <td>0</td>\n",
              "    </tr>\n",
              "    <tr>\n",
              "      <th>4</th>\n",
              "      <td>1</td>\n",
              "      <td>32</td>\n",
              "      <td>0</td>\n",
              "      <td>2</td>\n",
              "      <td>1</td>\n",
              "      <td>1</td>\n",
              "      <td>0</td>\n",
              "    </tr>\n",
              "  </tbody>\n",
              "</table>\n",
              "</div>\n",
              "      <button class=\"colab-df-convert\" onclick=\"convertToInteractive('df-2f690880-2415-456b-9f2f-fe1b96f422b4')\"\n",
              "              title=\"Convert this dataframe to an interactive table.\"\n",
              "              style=\"display:none;\">\n",
              "        \n",
              "  <svg xmlns=\"http://www.w3.org/2000/svg\" height=\"24px\"viewBox=\"0 0 24 24\"\n",
              "       width=\"24px\">\n",
              "    <path d=\"M0 0h24v24H0V0z\" fill=\"none\"/>\n",
              "    <path d=\"M18.56 5.44l.94 2.06.94-2.06 2.06-.94-2.06-.94-.94-2.06-.94 2.06-2.06.94zm-11 1L8.5 8.5l.94-2.06 2.06-.94-2.06-.94L8.5 2.5l-.94 2.06-2.06.94zm10 10l.94 2.06.94-2.06 2.06-.94-2.06-.94-.94-2.06-.94 2.06-2.06.94z\"/><path d=\"M17.41 7.96l-1.37-1.37c-.4-.4-.92-.59-1.43-.59-.52 0-1.04.2-1.43.59L10.3 9.45l-7.72 7.72c-.78.78-.78 2.05 0 2.83L4 21.41c.39.39.9.59 1.41.59.51 0 1.02-.2 1.41-.59l7.78-7.78 2.81-2.81c.8-.78.8-2.07 0-2.86zM5.41 20L4 18.59l7.72-7.72 1.47 1.35L5.41 20z\"/>\n",
              "  </svg>\n",
              "      </button>\n",
              "      \n",
              "  <style>\n",
              "    .colab-df-container {\n",
              "      display:flex;\n",
              "      flex-wrap:wrap;\n",
              "      gap: 12px;\n",
              "    }\n",
              "\n",
              "    .colab-df-convert {\n",
              "      background-color: #E8F0FE;\n",
              "      border: none;\n",
              "      border-radius: 50%;\n",
              "      cursor: pointer;\n",
              "      display: none;\n",
              "      fill: #1967D2;\n",
              "      height: 32px;\n",
              "      padding: 0 0 0 0;\n",
              "      width: 32px;\n",
              "    }\n",
              "\n",
              "    .colab-df-convert:hover {\n",
              "      background-color: #E2EBFA;\n",
              "      box-shadow: 0px 1px 2px rgba(60, 64, 67, 0.3), 0px 1px 3px 1px rgba(60, 64, 67, 0.15);\n",
              "      fill: #174EA6;\n",
              "    }\n",
              "\n",
              "    [theme=dark] .colab-df-convert {\n",
              "      background-color: #3B4455;\n",
              "      fill: #D2E3FC;\n",
              "    }\n",
              "\n",
              "    [theme=dark] .colab-df-convert:hover {\n",
              "      background-color: #434B5C;\n",
              "      box-shadow: 0px 1px 3px 1px rgba(0, 0, 0, 0.15);\n",
              "      filter: drop-shadow(0px 1px 2px rgba(0, 0, 0, 0.3));\n",
              "      fill: #FFFFFF;\n",
              "    }\n",
              "  </style>\n",
              "\n",
              "      <script>\n",
              "        const buttonEl =\n",
              "          document.querySelector('#df-2f690880-2415-456b-9f2f-fe1b96f422b4 button.colab-df-convert');\n",
              "        buttonEl.style.display =\n",
              "          google.colab.kernel.accessAllowed ? 'block' : 'none';\n",
              "\n",
              "        async function convertToInteractive(key) {\n",
              "          const element = document.querySelector('#df-2f690880-2415-456b-9f2f-fe1b96f422b4');\n",
              "          const dataTable =\n",
              "            await google.colab.kernel.invokeFunction('convertToInteractive',\n",
              "                                                     [key], {});\n",
              "          if (!dataTable) return;\n",
              "\n",
              "          const docLinkHtml = 'Like what you see? Visit the ' +\n",
              "            '<a target=\"_blank\" href=https://colab.research.google.com/notebooks/data_table.ipynb>data table notebook</a>'\n",
              "            + ' to learn more about interactive tables.';\n",
              "          element.innerHTML = '';\n",
              "          dataTable['output_type'] = 'display_data';\n",
              "          await google.colab.output.renderOutput(dataTable, element);\n",
              "          const docLink = document.createElement('div');\n",
              "          docLink.innerHTML = docLinkHtml;\n",
              "          element.appendChild(docLink);\n",
              "        }\n",
              "      </script>\n",
              "    </div>\n",
              "  </div>\n",
              "  "
            ]
          },
          "metadata": {},
          "execution_count": 15
        }
      ]
    },
    {
      "cell_type": "code",
      "source": [
        "y.head()"
      ],
      "metadata": {
        "colab": {
          "base_uri": "https://localhost:8080/",
          "height": 206
        },
        "id": "FXzEuUOw05NM",
        "outputId": "6f12fe9c-02bb-40e7-ca4d-8a847fd49af4"
      },
      "execution_count": 16,
      "outputs": [
        {
          "output_type": "execute_result",
          "data": {
            "text/plain": [
              "  Reward\n",
              "0      0\n",
              "1      1\n",
              "2      1\n",
              "3      0\n",
              "4      1"
            ],
            "text/html": [
              "\n",
              "  <div id=\"df-cbc47c5b-649e-4766-95b7-1d81447f91b8\">\n",
              "    <div class=\"colab-df-container\">\n",
              "      <div>\n",
              "<style scoped>\n",
              "    .dataframe tbody tr th:only-of-type {\n",
              "        vertical-align: middle;\n",
              "    }\n",
              "\n",
              "    .dataframe tbody tr th {\n",
              "        vertical-align: top;\n",
              "    }\n",
              "\n",
              "    .dataframe thead th {\n",
              "        text-align: right;\n",
              "    }\n",
              "</style>\n",
              "<table border=\"1\" class=\"dataframe\">\n",
              "  <thead>\n",
              "    <tr style=\"text-align: right;\">\n",
              "      <th></th>\n",
              "      <th>Reward</th>\n",
              "    </tr>\n",
              "  </thead>\n",
              "  <tbody>\n",
              "    <tr>\n",
              "      <th>0</th>\n",
              "      <td>0</td>\n",
              "    </tr>\n",
              "    <tr>\n",
              "      <th>1</th>\n",
              "      <td>1</td>\n",
              "    </tr>\n",
              "    <tr>\n",
              "      <th>2</th>\n",
              "      <td>1</td>\n",
              "    </tr>\n",
              "    <tr>\n",
              "      <th>3</th>\n",
              "      <td>0</td>\n",
              "    </tr>\n",
              "    <tr>\n",
              "      <th>4</th>\n",
              "      <td>1</td>\n",
              "    </tr>\n",
              "  </tbody>\n",
              "</table>\n",
              "</div>\n",
              "      <button class=\"colab-df-convert\" onclick=\"convertToInteractive('df-cbc47c5b-649e-4766-95b7-1d81447f91b8')\"\n",
              "              title=\"Convert this dataframe to an interactive table.\"\n",
              "              style=\"display:none;\">\n",
              "        \n",
              "  <svg xmlns=\"http://www.w3.org/2000/svg\" height=\"24px\"viewBox=\"0 0 24 24\"\n",
              "       width=\"24px\">\n",
              "    <path d=\"M0 0h24v24H0V0z\" fill=\"none\"/>\n",
              "    <path d=\"M18.56 5.44l.94 2.06.94-2.06 2.06-.94-2.06-.94-.94-2.06-.94 2.06-2.06.94zm-11 1L8.5 8.5l.94-2.06 2.06-.94-2.06-.94L8.5 2.5l-.94 2.06-2.06.94zm10 10l.94 2.06.94-2.06 2.06-.94-2.06-.94-.94-2.06-.94 2.06-2.06.94z\"/><path d=\"M17.41 7.96l-1.37-1.37c-.4-.4-.92-.59-1.43-.59-.52 0-1.04.2-1.43.59L10.3 9.45l-7.72 7.72c-.78.78-.78 2.05 0 2.83L4 21.41c.39.39.9.59 1.41.59.51 0 1.02-.2 1.41-.59l7.78-7.78 2.81-2.81c.8-.78.8-2.07 0-2.86zM5.41 20L4 18.59l7.72-7.72 1.47 1.35L5.41 20z\"/>\n",
              "  </svg>\n",
              "      </button>\n",
              "      \n",
              "  <style>\n",
              "    .colab-df-container {\n",
              "      display:flex;\n",
              "      flex-wrap:wrap;\n",
              "      gap: 12px;\n",
              "    }\n",
              "\n",
              "    .colab-df-convert {\n",
              "      background-color: #E8F0FE;\n",
              "      border: none;\n",
              "      border-radius: 50%;\n",
              "      cursor: pointer;\n",
              "      display: none;\n",
              "      fill: #1967D2;\n",
              "      height: 32px;\n",
              "      padding: 0 0 0 0;\n",
              "      width: 32px;\n",
              "    }\n",
              "\n",
              "    .colab-df-convert:hover {\n",
              "      background-color: #E2EBFA;\n",
              "      box-shadow: 0px 1px 2px rgba(60, 64, 67, 0.3), 0px 1px 3px 1px rgba(60, 64, 67, 0.15);\n",
              "      fill: #174EA6;\n",
              "    }\n",
              "\n",
              "    [theme=dark] .colab-df-convert {\n",
              "      background-color: #3B4455;\n",
              "      fill: #D2E3FC;\n",
              "    }\n",
              "\n",
              "    [theme=dark] .colab-df-convert:hover {\n",
              "      background-color: #434B5C;\n",
              "      box-shadow: 0px 1px 3px 1px rgba(0, 0, 0, 0.15);\n",
              "      filter: drop-shadow(0px 1px 2px rgba(0, 0, 0, 0.3));\n",
              "      fill: #FFFFFF;\n",
              "    }\n",
              "  </style>\n",
              "\n",
              "      <script>\n",
              "        const buttonEl =\n",
              "          document.querySelector('#df-cbc47c5b-649e-4766-95b7-1d81447f91b8 button.colab-df-convert');\n",
              "        buttonEl.style.display =\n",
              "          google.colab.kernel.accessAllowed ? 'block' : 'none';\n",
              "\n",
              "        async function convertToInteractive(key) {\n",
              "          const element = document.querySelector('#df-cbc47c5b-649e-4766-95b7-1d81447f91b8');\n",
              "          const dataTable =\n",
              "            await google.colab.kernel.invokeFunction('convertToInteractive',\n",
              "                                                     [key], {});\n",
              "          if (!dataTable) return;\n",
              "\n",
              "          const docLinkHtml = 'Like what you see? Visit the ' +\n",
              "            '<a target=\"_blank\" href=https://colab.research.google.com/notebooks/data_table.ipynb>data table notebook</a>'\n",
              "            + ' to learn more about interactive tables.';\n",
              "          element.innerHTML = '';\n",
              "          dataTable['output_type'] = 'display_data';\n",
              "          await google.colab.output.renderOutput(dataTable, element);\n",
              "          const docLink = document.createElement('div');\n",
              "          docLink.innerHTML = docLinkHtml;\n",
              "          element.appendChild(docLink);\n",
              "        }\n",
              "      </script>\n",
              "    </div>\n",
              "  </div>\n",
              "  "
            ]
          },
          "metadata": {},
          "execution_count": 16
        }
      ]
    },
    {
      "cell_type": "code",
      "source": [
        "from sklearn.model_selection import train_test_split\n",
        "from sklearn.linear_model import LogisticRegression\n"
      ],
      "metadata": {
        "id": "w5r2yUdrLknI"
      },
      "execution_count": 17,
      "outputs": []
    },
    {
      "cell_type": "code",
      "source": [
        "muestras = X.to_numpy()\n",
        "tipos = y.values.ravel()"
      ],
      "metadata": {
        "id": "uIL3fy_0QfIh"
      },
      "execution_count": 18,
      "outputs": []
    },
    {
      "cell_type": "code",
      "source": [
        "muestras"
      ],
      "metadata": {
        "colab": {
          "base_uri": "https://localhost:8080/"
        },
        "id": "BmGnqXjoRxH6",
        "outputId": "08a8cc87-9cd2-4361-df95-6ffaa3121308"
      },
      "execution_count": 19,
      "outputs": [
        {
          "output_type": "execute_result",
          "data": {
            "text/plain": [
              "array([[1, 45, 1, ..., 1, 1, 0],\n",
              "       [0, 41, 0, ..., 0, 0, 0],\n",
              "       [0, 25, 1, ..., 1, 1, 0],\n",
              "       ...,\n",
              "       [1, 24, 1, ..., 1, 1, 0],\n",
              "       [0, 42, 0, ..., 0, 0, 0],\n",
              "       [1, 43, 0, ..., 0, 0, 0]], dtype=object)"
            ]
          },
          "metadata": {},
          "execution_count": 19
        }
      ]
    },
    {
      "cell_type": "code",
      "source": [
        "tipos"
      ],
      "metadata": {
        "colab": {
          "base_uri": "https://localhost:8080/"
        },
        "id": "gkbS1I17Rh-N",
        "outputId": "97969dbc-b252-4754-c232-562b7074a6eb"
      },
      "execution_count": 20,
      "outputs": [
        {
          "output_type": "execute_result",
          "data": {
            "text/plain": [
              "array([0, 1, 1, 0, 1, 0, 1, 1, 1, 0, 1, 1, 0, 1, 1, 0, 1, 1, 1, 1, 1, 1,\n",
              "       0, 1, 0, 1, 1, 0, 1, 0, 1, 0, 1, 1, 1, 1, 1, 0, 1, 1, 1, 1, 1, 1,\n",
              "       1, 0, 1, 1, 1, 1, 1, 1, 1, 1, 1, 1, 1, 1, 0, 1, 1, 1, 1, 1, 0, 1,\n",
              "       1, 1, 1, 1, 1, 0, 1, 1, 0, 1, 1, 1, 0, 1, 1, 1, 1, 1, 1, 1, 1, 1,\n",
              "       1, 1, 1, 1, 1, 1, 1, 1, 1, 1, 1, 1, 1, 1, 1, 1, 1, 1, 1, 1, 1, 1,\n",
              "       1, 1, 1, 1, 1, 1, 1, 0, 1, 1, 1, 1, 1, 1, 0, 1, 1, 1, 1, 1, 1, 1,\n",
              "       1, 1, 1, 1, 1, 1, 1, 1, 0, 1, 0, 1, 1, 1, 1, 1, 1, 1], dtype=object)"
            ]
          },
          "metadata": {},
          "execution_count": 20
        }
      ]
    },
    {
      "cell_type": "code",
      "source": [
        "tipos=tipos.astype('int')"
      ],
      "metadata": {
        "id": "fw4sKI8fTF5p"
      },
      "execution_count": 21,
      "outputs": []
    },
    {
      "cell_type": "code",
      "source": [
        "tipos"
      ],
      "metadata": {
        "colab": {
          "base_uri": "https://localhost:8080/"
        },
        "id": "t1heFRWATM31",
        "outputId": "f6cae6e1-ec31-415e-d535-75fe77dac4e1"
      },
      "execution_count": 22,
      "outputs": [
        {
          "output_type": "execute_result",
          "data": {
            "text/plain": [
              "array([0, 1, 1, 0, 1, 0, 1, 1, 1, 0, 1, 1, 0, 1, 1, 0, 1, 1, 1, 1, 1, 1,\n",
              "       0, 1, 0, 1, 1, 0, 1, 0, 1, 0, 1, 1, 1, 1, 1, 0, 1, 1, 1, 1, 1, 1,\n",
              "       1, 0, 1, 1, 1, 1, 1, 1, 1, 1, 1, 1, 1, 1, 0, 1, 1, 1, 1, 1, 0, 1,\n",
              "       1, 1, 1, 1, 1, 0, 1, 1, 0, 1, 1, 1, 0, 1, 1, 1, 1, 1, 1, 1, 1, 1,\n",
              "       1, 1, 1, 1, 1, 1, 1, 1, 1, 1, 1, 1, 1, 1, 1, 1, 1, 1, 1, 1, 1, 1,\n",
              "       1, 1, 1, 1, 1, 1, 1, 0, 1, 1, 1, 1, 1, 1, 0, 1, 1, 1, 1, 1, 1, 1,\n",
              "       1, 1, 1, 1, 1, 1, 1, 1, 0, 1, 0, 1, 1, 1, 1, 1, 1, 1])"
            ]
          },
          "metadata": {},
          "execution_count": 22
        }
      ]
    },
    {
      "cell_type": "code",
      "source": [
        "X_train, X_test, y_train, y_test = train_test_split(muestras,tipos, train_size = 0.8 )"
      ],
      "metadata": {
        "id": "HQEr1Wi6L3j7"
      },
      "execution_count": 23,
      "outputs": []
    },
    {
      "cell_type": "code",
      "source": [
        "modelo_reglog = LogisticRegression()"
      ],
      "metadata": {
        "id": "Bp8h7fkFL406"
      },
      "execution_count": 24,
      "outputs": []
    },
    {
      "cell_type": "code",
      "source": [
        "modelo_entrenado = modelo_reglog.fit(X_train, y_train)"
      ],
      "metadata": {
        "id": "vOoxx_IcNU7v"
      },
      "execution_count": 25,
      "outputs": []
    },
    {
      "cell_type": "code",
      "source": [
        "#Preguntar para que sirve \n",
        "modelo_entrenado.coef_"
      ],
      "metadata": {
        "colab": {
          "base_uri": "https://localhost:8080/"
        },
        "id": "GiBsw26-Poge",
        "outputId": "75ad7a53-2c0d-4361-fa5a-fc67cd404c13"
      },
      "execution_count": 26,
      "outputs": [
        {
          "output_type": "execute_result",
          "data": {
            "text/plain": [
              "array([[ 0.56582927, -0.07889872, -1.96807066,  1.37895498, -0.55800286,\n",
              "        -3.09412624,  0.        ]])"
            ]
          },
          "metadata": {},
          "execution_count": 26
        }
      ]
    },
    {
      "cell_type": "markdown",
      "source": [
        "#Punto 2\n",
        "Investiga sobre las diferentes métricas que se utilizan para evaluar el desempeño de un modelo de aprendizaje automático y desarrolla una metodología que te permita extender ese análisis a cualquier tipo de solución elaborada. Aplica este procedimiento al modelo elaborado en la pregunta 1 y registra tus conclusiones en un documento electrónico de la actividad.\n",
        "\n",
        "[Fuente investigacion](https://www.datasource.ai/es/data-science-articles/metricas-de-evaluacion-de-modelos-en-el-aprendizaje-automatico)"
      ],
      "metadata": {
        "id": "M4c5iit8abnA"
      }
    },
    {
      "cell_type": "markdown",
      "source": [
        "**Métricas de evaluación del modelo**\n",
        "\n",
        "Definamos ahora las métricas de evaluación para valorar el rendimiento de un modelo de aprendizaje automático, que es un componente integral de cualquier proyecto de ciencia de los datos. Su objetivo es estimar la precisión de la generalización de un modelo sobre los datos futuros (no vistos/fuera de muestra)\n",
        "\n",
        "**Matriz de confusión**\n",
        "\n",
        "Una matriz de confusión es una representación matricial de los resultados de las predicciones de cualquier prueba binaria que se utiliza a menudo para describir el rendimiento del modelo de clasificación (o \"clasificador\") sobre un conjunto de datos de prueba cuyos valores reales se conocen.\n",
        "\n"
      ],
      "metadata": {
        "id": "mZ6HsRyDdCRn"
      }
    },
    {
      "cell_type": "markdown",
      "source": [
        "![image.png](data:image/png;base64,iVBORw0KGgoAAAANSUhEUgAAAsEAAAG/CAYAAAC5cQpYAAAgAElEQVR4nOzdeXxMZ///8VcklpDY14jaI+XbqKilVRr73thvGlujC6rcRS1FqdKiWu6iqCJVW2lqCU01mlqqqK24Yy8SxF5biMhyfn/kN+fOSBBEJmPez8fD4zFzrmvOfGbMybxz5TrXcTIMw0BERERExIFks3UBIiIiIiKZTSFYRERERByOQrCIiIiIOByFYBERERFxOArBIiIiIuJwFIJFRERExOEoBIuIiIiIw1EIFhERERGHoxAsIiIiIg5HIVhEREREHI5CsIiIiIg4HIVgEREREXE4CsEiIiIi4nAUgkVERETE4SgEi4iIiIjDUQgWEREREYejECwiIiIiDkchWEREREQcjkKwiIiIiDgchWARERERcTgKwSIiIiLicBSCRURERMThKASLiIiIiMNRCBYRERERh6MQLCIiIiIORyFYRERERByOQrCIiIiIOByFYBERERFxOArBIiIiIuJwFIJFRERExOEoBIuIiIiIw1EIFhERERGHoxAsIiIiIg5HIVhEREREHI6LrQsQEUlp7dq1LFmyBDc3N1uXIpJhYmJieO2112jRooWtSxGR/08hWESylMTERFq3bk2DBg1sXYpIhlm/fj2GYdi6DBFJQSFYRLIUJycnnJycyJZNs7Xk6eHk5GTrEkTkLvqWERERERGHoxAsIiIiIg5HIVhEREREHI5CsIiIiIg4HIVgEREREXE4CsEiIiIi4nAUgkVERETE4SgEi4iIiIjDUQgWEREREYejECwiIiIiDkchWEREREQcjkKwiIiIiDgchWARERERcTgKwSIiIiLicFxsXYCIyKOYNWsW4eHhVtuyZctG9uzZyZ07N2XKlKFXr14ULVo002u7c+cO3bt3JykpCVdXV7799lsAfvvtN2bOnAlAixYt6Nmz5yM/x5UrVzh37hzPPvtshtSc0qhRozh8+DAAkyZNokyZMqn6xMXF0aNHD5KSkgB4++23adiwYZr7GzhwIKdPnwagQ4cOdOrUKd219OnTh8uXLwMwZ84c8uXL91CvRUTkXhSCRcQuHTp0KFUIvtvs2bOZPn06rVq1yqSqkiUkJLB+/fpU28+dO2fWXKFChUfe96JFixg9ejSDBw9+IiF4x44d7Ny5E4AbN26k2SdnzpzExcWxefNmAFxdXdMMwadOnWLBggXm/cGDBz9ULb/99huXLl0Ckn+5EBHJKJoOISJPBTc3t1TbYmJi6NmzJ0eOHLFBRU/G9OnTGTRoEDExMbYuxWpEd+3atVy7di1Vn59//tm87eHhwQsvvJAptYmIPIhCsIjYveHDh3Py5EkuXbrE2bNn+c9//mPVvnLlShtVZq1jx46cPHmSkydPMmbMmEfaR3x8fAZX9eiaN29udf+XX35J1Sc4ONi83bVrV7Jl09eOiGQN+mkkIk+V7NmzExAQQNOmTc1tJ06cACAiIoJOnTrRqVMnli9fzqRJk/D29qZBgwZ89913Zv/ffvuNgIAAvL298fb2JiAggJCQkDSf7+DBg/Tq1cvs27dvX86cOZNm382bNxMYGEhgYCCLFi2yart27Rpjx46lWbNmFC5cGG9vbzp37kxYWJjZZ+TIkVZ1zp8/n06dOplTEiyvtW/fvlSvXp0yZcrg7+/PtGnT0gzPV65cYciQIdSqVYsyZcrQpUsXtm3bdr+310r+/Plp06aNef/HH3+0aj9z5ow5rQIw+8bExDB58mReeeUVypQpQ+HChfHx8eHtt98mMjLygc974sQJ8//xww8/tGoLCwsz2xYuXJjqcel5bxISEli2bBmtWrXC29vbrK9Hjx788ccf6XtzRCTL05xgEXkqpZwuULhwYSA59Fnm5P75559mn0uXLvHPP/8AMGXKFMaPH2+1r3Xr1rFu3TreeOMNJkyYYG7ftGkT7dq1s+q7bNkyli1blmZN95oTfOzYMVq1amXOfbXUtH79etavX8+4cePo3bs327dvJzo62uwTGRlJZGQkHTt2BJLDu+W2xZYtW9iyZQtr165l+fLluLu7m7X4+flZPWdYWJhV6E6Pjh07miPtYWFhXL58mUKFCgHWUyF8fHzw8vICYMyYMQQFBVntJzo6muDgYNatW8fGjRspXbr0PZ/zxo0b5vt48+bNVPuxtFWpUsXc/jDvzciRI/nmm29S7Tc6Opq1a9fyxx9/mK9FROyXRoJFxO5dvHiRY8eOceDAAbZu3cq///1vtmzZYrb7+vqmeowlAFvClr+/PxEREVYBuGXLlrz11lvm/W+++cYcKU1ISOD999+32mffvn2pVavWQ9f//vvvW4XRN954g8aNG5v3R44cydmzZ6lXr55VOCxfvjytW7fG09OT2NhYBgwYYLb5+PgwePBgPDw8ANi5cyezZ8822ydPnmz1nB07dqR9+/YPXbufn5/VfOyUwTflyHCXLl0A+P33380AXLhwYUaNGsXgwYPNX1RiYmL46aefHrqO+3mY9+bSpUtmAPbw8OCLL75gwYIFdO7c2Xx87969SUxMzNAaRSTzaSRYROzeN998k2rkzqJ06dLUr18/zbY5c+bQtm1bzp8/T7FixXj33XfNtt69ezNu3DgAatSowZtvvgnAtGnTqF27Njt27ODvv/82++/Zs4dSpUoBMHbsWL788st01b5//35zOoObmxu7du0yR1JbtmxJREQEVatW5eTJk4waNYpcuXIxceJEALp160a/fv0A+P77781R4kqVKpmjod27d8fHxweACRMmMGDAAAzDsBqJnTVrFh06dACSw3DKwPcgOXPmpGPHjsyfPx+AH374gYCAAKKjo9m+fbvZr3Xr1gAUK1aMzz//nIMHD9KuXTtq1qwJJK8u8fHHHwPJv9RkpNWrV6f7vTl79qzVYwsWLEidOnVo0qQJ1apVo3Tp0nh7e+Ps7JyhNYpI5lMIFpGnVqVKlfjuu+/Inz9/qjY3NzdzjmqxYsWA5GXXLO7cucPy5csB62XC9u/fD8DJkyfNbVWqVDEDMMC//vWvdIfgY8eOmbcbN25sBmBIPqksZ86cODk5PXA/KVfAKFmypFk7JL9Wy8j32bNnU41iplzarGHDhlb906N9+/ZmCN68eTPnz5+3GhFu0KABxYsXB6BixYpUrFiRGzdusH37dj777DO2b9/Ohg0bzP63b99O93PfzTCMVNse5r2pWLGi2RYdHW2u5VytWjVatGhBuXLl8PT0fOT6RCTrUAgWEbtXu3Zt/Pz8cHJyImfOnOTNmxcvLy9q1ap1zwBZsWLFVG1Hjx41b8+bN4958+alelx0dDRJSUlWI4YvvviiVZ8iRYqku/ZTp06Zt1MGYIBcuXKlez8pQ3l4ePg911BOOacYkqdUFChQwLzv5ORE6dKliYiISPdz16xZEw8PD3PfP/30k9VUiJRzcQ3DYNKkSXz22Wf33N/DjLLeHegTEhJS9XmY9+aZZ55h0aJFBAQEWLXt2bOHPXv2MH78eIYOHZpqKoyI2B+FYBGxe/Xr12fQoEEP9Zi01hXOmzevOSrYpk0bq1HBlBITE62uRHf3yOX169fTXYdlLixgNUcXkqcFxMTEUKpUKVxc7v/jOuWV1KpVq0ajRo3S7FewYEGrZcpiY2NT9Tl//ny6arfIli0br732GpMnTwZg4sSJVq+lWbNm5u1Zs2aZAdjNzY0333yTl156iRMnTjBkyBCAdI18W9x9AY27T5SDh3tvAJo2bcqRI0cIDg7m119/TXXhk4kTJ9KiRQurE+9ExP4oBIuIQ8qZM2eqbd7e3lZzRy2jfadOnSI4OJjy5ctTqVIlsmfPbnWC2s8//8zt27fNkduUUwEepFy5cubt9evXc+vWLXLnzg0kr39sWXnBskJESilHQVNe2jhnzpwMHToUSF5XePr06ZQsWZKKFStStmxZq8dFR0cTERFhBrq9e/emCuPp4e/vb4bglI9v3769ueoCwJo1a8zbKa/mt2/fPnN7WlMaUkq5v+joaAzDMINzyiXZLB7mvTl27Jg537tKlSosXbqUO3fusHXrVgYOHGgu4XbkyBGFYBE7pxAsIg4prdHGTp06mX8qnzFjBgULFuSFF15g/Pjx5vaAgAD+85//8MILL1C4cGEuXbrEpUuX6Nq1K3369OHkyZOMHDky3XVYTraKjIwkJiaGunXr0rt3b86fP291kY/atWsD1uE9LCyMggULUqVKFfz9/Rk7diwA27ZtY+zYsbRp04Yff/yR6dOnA8lTHzZs2ICrqyv+/v6sWrUKSF65Ydy4cTg7OzN8+PCHeRtNzz77LFWqVEk1jeLuZclSjjxv2bKFF198kZ07dzJlyhRz+9WrV+/7XCnnX1+6dIkJEybQrFkzQkJCCA0NTdX/Yd6b7du3W60k4ebmRtWqVcmePbvVKPP9lnATEfugJdJERP6/Nm3aULduXSB5qa6hQ4fSsGFDMwCXLl3aXELN1dWVTz/91Hzshg0b+Ne//mWOMqZXzpw5mTRpknk/MjKS4cOHM3XqVHNbQEAAzz//PGC9vvC2bdt47733+P333yldurQ5nQDgyy+/pEGDBmbIg+R5zq6urgBWQT06OprAwEB69OiRas7ww7h7VQk3Nzfq1atntS3lVebmzJlDpUqVCAgIsDoRz3Jxk3txcXGxWkLu888/p3Hjxvc8GfFh3pv27dtTrVo1c3uXLl2oXLkyr776qjnC3ahRI6pWrXrfGkUk61MIFhG7lHJea3rnkKZ8TFqX73VxcWHZsmW8++67VnOGCxcuTNeuXVm8eLHV9rZt2xIUFGS1rXTp0qxdu5ZKlSql+/kbNmzIL7/8kuaf14cOHWp1ElmDBg2sAiBAXFwcAEOGDGHmzJnm+rcWzZs3Z8mSJVb7L1u2LJs3b7ba5ubmxqRJk+jTp0+adT6Iv7+/1f3XXnuNHDlyWG0bMGCAueKCRfny5Vm9erX5Pm7bto3Lly+n2n/K/+evv/6aBg0aWLV37tyZFStWpNk/ve9Nrly5CA4Opm/fvmm+xgEDBvD1119riTSRp4CT8aDJVyIimSgkJITY2FirZbts5dy5c9y4cYMKFSrcN2gbhsHJkyfJnj37Yy+fFRMTQ2RkJHnz5qVEiRL3PCHu/PnzXLp0iXLlypmjuyldvXqVM2fOULFixVRB9G4XL17kypUrVKhQ4aFC7+O4fv06p06domjRog+1msbdYmJiiIqKokKFCg98nRbpfW/i4+M5f/48//zzD4UKFaJYsWIPPEHxXsLCwnB3d6dly5aP9HgRyXgKwSKSpWSlECySURSCRbIeTYcQEREREYejECwiIiIiDkchWEREREQcjkKwiIiIiDgchWARERERcTgKwSIiIiLicBSCRURERMThKASLiIiIiMNRCBYRERERh6MQLCIiIiIORyFYRERERByOQrCIiIiIOByFYBERERFxOC62LkBEJCXDMMx/Ik8LfZ5Fsh6FYBHJUrJly8bq1asJDw+3dSkiGebmzZt06dLF1mWISApOhn49FREREREHoznBIiIiIuJwFIJFRERExOEoBIuIiIiIw1EIFhERERGHoxAsIiIiIg5HIVhEREREHI5CsIiIiIg4HIVgEREREXE4CsEiIiIi4nAUgkVERETE4SgEi4iIiIjDUQgWEREREYejECwiIiIiDkchWEREREQcjkKwiIiIiDgchWARERERcTgKwSIiIiLicBSCRURERMThKASLiIiIiMNRCBYRERERh6MQLCIiIiIORyFYRERERByOQrCIiIiIOByFYBERERFxOArBIiIiIuJwFIJFRERExOEoBIuIiIiIw1EIFhERERGHoxAsIiIiIg5HIVhEREREHI5CsIiIiIg4HIVgEREREXE4CsEiIiIi4nAUgkVERETE4SgEi4iIiIjDUQgWEREREYejECwiIiIiDsfF1gWIyJNx5coVFi5cCECTJk2oVKmS2Xbs2DFCQ0NxcXGhT58+tiqRK1euUKBAAQD27NnD77//jru7Oz179rRZTSJPyty5c7l165Z5P1u2bLi6ulKhQgXq1av3RJ5z5syZJCQk0KhRI5599llze8pj78KFC3z//fcA9OjRg7x58z6RWkSyGifDMAxbFyEiGe/w4cN4e3sDUKNGDbZu3YqzszMAq1evxt/fHwBb/Ai4ePEiH374IadOnWLNmjUAzJgxg379+uHp6cmpU6cyvSaRJy1v3rzcuHEjzbbOnTsza9Ys8uXLl6HP6eTkBMDixYvp0qULcXFxzJgxgzFjxnD9+nUA9u7dy/PPPw9AZGQkzzzzTIbWIJJVaSRYxAHs2LGDefPm8eabb9q6FADGjh3LrFmzaN68ubmtTJky+Pv7U6JECRtWJvLk+fr6UrNmTW7fvs369es5ffo0S5cupUGDBhl+jL722mvcvHkTT09PAEJCQhg0aJBVn3z58pm/FOfJkydDn18kK1MIFnEQgwYNwt/fn6JFi96zz/Xr11m3bh3Hjh2jXLly1K9fP1X/v//+m/Xr1xMfH0/Dhg1xcnIiIiKCEiVK8NJLLwFw+/Zt/vrrL7Zu3Up8fDzlypWjVatW5MqViz179nD06FEgedQpODiYhg0b4uXlRbdu3cidOzcAP/74I4ZhULlyZas/44aHh3PlyhXKlStHtWrVANi1axdbt27FMAx8fX2pU6dOhr53IhmpXbt2jBgxAoDY2Fi8vLw4ffo0q1atsgrB0dHRbN26laNHj1KpUiXq169P/vz5rfa1c+dO/vzzTy5fvkzhwoVp1qwZZcuWNds7depEQkICzzzzDKdPn2br1q1mW3BwMFWrVqVQoUJ069YNAFdXVx174jgMEXkqHTp0yACs/vXs2dMwDMNYtWqVuc3iwIEDhqenp1V/d3d3Y9OmTWaflStXptpnjRo1DMBo27atYRiGcfXqVaNo0aKp+tWpU8e4deuW0b9//1Rtu3btMqZPn24Ahqenp2EYhtGyZUsDMBo0aGA+/+XLl83HfPfdd4ZhGMbQoUNT7a9r165GfHz8E3+PRR6Gu7u7ARjjxo2z2l67dm3zWLKYM2dOqs910aJFjY0bN5p9Jk+enKoPYKxfv97sY9m2ePFiIzg4OFXfqVOnGn/99Zd5PzIyUseeOAyFYJGnVMoQ3LNnT/P2xo0bU4XgpKQko06dOgZgeHl5GdOnTzcaN25sAEa5cuWM+Ph44/r16+aXeLly5YypU6cazZs3N/djCcGWkOvl5WUsXLjQeP/9962eOyQkxPD19TUD76hRo4zTp0+nCsEhISFWX8yGYRizZ882w/nNmzeNsLAws0/fvn2NTz75xKzR8kUtklVYPpudOnUyfvjhB2PBggVGt27dzM/we++9ZxiGYaxZs8bc5uvrawwdOtR8rLu7u3Hx4kXjn3/+MftMmTLF+O2334xOnTqZYdoSRFOG4P379xtt27Y1t40aNcr4/fffU4VgHXviKBSCRZ5SKUPwkSNHjHLlypnhdNmyZVYh+O+//zbvr1mzxjAMwzh37py5bcOGDUZ4eLh5PywszDAMw4iPjze/+Cwh+Pbt28bevXuNqKgo49y5c1bPtWLFCsMwDKNfv34GYDRv3tys9+4QHB8fb44oT5gwwTAMwxx17t+/v2EYhhEYGGgGBYv33nvPAAw/P78n+faKPDTLsZLWv6JFixpnzpwxDMMwXnvtNfOXzaSkJMMwDCMiIsLs+9VXXxkXL160CsoTJkwwNmzYYJw9e9bqOVOGYMMwjOXLl6f6K9DdIVjHnjgKrRMs4gBcXV2ZM2cOAEeOHGHcuHFW7cePHzdvt2rVCicnJ4oXL25ui46OJjIy0rxfu3ZtAFxcXGjSpInVvpKSkliyZAkvvfQSxYsXp1OnTmab8RArUbi4uNCvXz8A5s2bx8GDB9mxYwcAvXr1ApJXwADYvXs3Tk5OODk5MWXKFCB5GTiRrKhcuXI0b96ctm3b0qtXLyZNmsR///tfPDw8AFi/fj0Abdq0MVd3qFy5snly24EDByhcuLA5f3j37t0MGzYMPz8/qlatytKlSx+rPh174ih0YpyIg2jQoAHdunXju+++Y9++fVZtOXLkMG+/+eablCxZ0qq9bNmy3Llzx7x//PhxfHx8ANi/f79V38DAQJYuXUrRokUZPXo0DRs2NNdAzZbt4X7v7tmzJx9++CFHjhxh6NChQPJyb5bnzp49O5AcKrp37271WBcX/XiTrCkwMNA8MS4t5cqV48KFC5w7d87cFhcXx+nTpwHM9X1nzZpFhw4d+OGHHwgNDeX06dNcuHCBLl260KJFi8da71fHnjgCjQSLOJBJkybh7u6eanvFihXN297e3owePZqAgAB27dpFbGwsxYsXp1atWmafL7/8kgsXLhAUFMSRI0fM7UlJSeYo1JAhQxgzZozV6hLx8fHA/75AY2Nj71tvqVKlzKWbQkJCAOjbt6/ZbvlCvnjxIu+//z6jR48GICoqilKlSj3o7RDJkiwrLCxevJiIiAiSkpIICgoy22vUqMGePXsIDAxk7NixjB49mlOnTvHbb7+ZfbZt25bmvi3HHvzveEyLjj1xCLaejyEiT0bKOcGnTp0yt1tOcOGueYEpT56rW7euOSewdu3axp07d1L1ufufZU6wv7+/eQJNYGCg1UoRs2fPNgzDMMaOHWtuK1eunLFp06ZUc4ItfvrpJ6vnuXHjhtl28OBBc7u7u7t5Mh8p5jaLZBX3Wh3ibocOHbI6blLebty4sZGUlGTcunXL8PLyMo+Znj17GpUrVzaPqbi4OMMwUs8J3rBhg7nN09PT+PTTT1PNCbbQsSdPO4VgkafU0aNH0wzBCQkJ5pJMKUNwXFxcquXL/P39jePHj5t9bt++bfz73/82ihYtahQtWtT44IMPzGDctWtXwzAMY9euXYafn59VOLYsudSxY0fDMJK/QFN+sa9evdqYMWOG+QWeUnx8vLl0W79+/VK9zm3btplhgP9/4t+XX36Zoe+lSEZIbwg2jOTjN2WwtHz+UwbRffv2GZ06dbI64c7Hx8fYvn17qudcsmSJYRiGERsba57kBhhDhw419u7dm+bPCh178rTTZZNFxEpiYiKnTp3Cw8PDaq7wxYsXmTBhAmXKlOHll182F8tv1qwZ69atY9iwYXz66adm/3PnzpE7d+57zktMSEggKiqKEiVK4Orq+th1X7t2jZs3b5onF4k8DeLi4oiOjqZUqVL3nGubmJjIiRMnKFSokDlf+H4Mw+D06dO4ubmlq/+D6NgTe6UQLCLpcvv2bTOsuru707NnT6Kioli1ahUAK1euNOcQioiIZHUKwSKSbitXruTtt9/mwoULVtv79OnDjBkzzOWcREREsjqFYBF5KAkJCezbt49//vmHfPnyUbZsWQoXLmzrskRERB6KQrCIiIiIOBytEywiIiIiDkchWEREREQcjkKwiIiIiDgchWARERERcThpr7wtkgVdvZnEiQsJti5DREQkw5Ut6kL+PBqbzEwKwWIXlv4ew8JNMVy9mWTrUkRERDJc/jzZ6FrPjc4vu9m6FIehECx2YcuhONrVykPAyzke3FlEHtsnnzgD8MEHiTauRMQxLPr9DlsOxSkEZyKFYLEr6/fe5NNVt21dhshTb/esopANfk24bOtSRJ56w/1zAdltXYbDUQgWuxJ1KYnnnnEmoI5GhEWepNcWOZHNGSZ0cbV1KSJPtUVb7hB1KYmcOW1dieNRCBa75POMs61LEHmq5czuhLOzjjWRJ23RFltX4Lh0GqKIiIiIOByFYBERERFxOArBIiIiIuJwFIJFRERExOEoBIuIiIiIw1EIFhERERGHoxAsIiIiIg5HIVhEREREHI5CsIiIiIg4HIVgEREREXE4CsEiIiIi4nAUgkVERETE4SgEi4iIiIjDUQgWEREREYejECwiIiIiDkchWEREREQcjkKwiIiIiDgchWARERERcTgKwSIiIiLicBSCRURERMThKASLiIiIiMNRCBYRERERh6MQLCIiIiIORyFYRERERByOQrCIiIiIOByFYBERERFxOArBIiIiIuJwFIJFRERExOEoBIuIiIiIw1EIFhERERGHoxAsIiIiIg7HJTOfzDCMzHy6J8LJycnWJYiIiIjIY8q0EBweHs6CBQvImTNnZj1lhrp58ybt27enbdu2ti5FRERERB5Tpo4E+/n50bp168x8ygyzadMmEhMTbV2GiIiIiGSATA3BIiIijmrhwoXcvHkzzTYnJyfeeustrl69yvfff2/V5uLiQp48eahWrRqVKlXKjFJFHIJCsIiISCYYOnQoMTEx92x/6623iI6OZsiQIffsM2rUKAYPHvwkyhNxOArBIiIimahq1apUr17daluOHDlS9WvevDklSpTgxo0bLF++HICPP/6Y1q1ba0RYJAMoBIuIiGSili1bMnTo0Af269+/Py+99BIAgwcPplatWgCEhYUpBItkAK0TLCIiksV5enqaty9fvmzDSkSeHhoJFhERyURffvklQUFBVtu+//57fHx8rLZt3ryZCxcucP36dRYtWmRuv3sqhYg8GoVgERGRTBQTE5PqBLm4uLhU/T755JNU2xo3bkyzZs2eWG0ijkQhWEREJBMFBgbyxhtvWG0rV65cqn6+vr4UKlQINzc3ChYsSI0aNWjXrh0uLvrqFskIOpJEREQyUfHixalSpcoD+40fP948MU5EMp5OjBMRERERh6ORYBGxsmvXLnbu3HnfPhUrVsTX19e8slWDBg2oWLGi2X78+HHCwsJwcXGhV69eT7ReERGRR6EQLCJWNm/ezOjRo+/bp3v37pQqVcq8spWvry/r16/H2dkZgEOHDpltCsEiIpIVKQSLiJUqVaoQGBgIwLVr1wgODgaSz0ovVaoUAC+++KLVY3bv3s3ChQvp0aNH5hYrYkfOnDnzwD6VK1fm2rVrmVCNiCgEi4iVxo0b07hxYwBOnDhhhuC+ffvSoEEDs1fdFOwAACAASURBVN/Ro0etHvfBBx/QokULihQpknnFioiIPCKdGCciGSImJuaB0yhERESyCoVgEXlsAQEBACxatIgtW7bYuBoREZEHUwgWkcc2aNAgypQpA0D//v25c+eOjSsSERG5P4VgEXlsrq6uTJs2DYBjx44xadIkG1ckIiJyfwrBIpIh6tWrR+fOnQGIiIiwcTUiIiL3pxAsIhlm7NixuLm52boMERGRB1IIzoL279/PtGnTmDZtGjExMVZtGzduZNq0aYSEhNioumRXrlwxb69Zs4Zp06axfv16G1YkWUGxYsUYP368rcsQERF5IIXgLGjHjh3079+f/v37M27cOKu21atX079/f+bPn2+T2vbv30/Dhg355ptvzG3z5s2jf//+LF++3CY1yZOTLdu9f0RYrg53t27dulGjRo0nVZKIiEiGeCoulnH8+HEKFixI/vz5iY2NZfr06ezatQtPT08CAgKoVq2arUt8ZBMnTqRr16783//9n61LAaBDhw4cOXKEZs2amdtq1apFUlISzz//vA0rkyehdOnS97x6Vbly5dJsc3Z21l8FREQky7PrEGwYBgsWLGDQoEEsXbqURo0a0a9fP1atWmX2CQoKYvny5dSvX9+GlT6e3r17s2nTpvuOyu3atYutW7diGAa+vr7UqVPHqj0hIYHQ0FAiIiLw9vamadOmhIaGYhgGDRo0oECBAkDyNIcdO3awa9cucubMyfPPP29eJeyXX37h6tWrAPz111+sXr2aV199lbp161KhQgVKly7N4cOH+e9//4uTkxNt2rQxaz579ix//PEHAC1btiRXrlwkJiYSFhbGvn37KFy4MHXq1KFSpUoZ/v6JiIiI3M2uQ/DatWsZNGgQkHw2esmSJa0CsMWwYcPYsmULLi72+XK3bNnCggUL6NmzZ5rtw4YNY+LEiVbbunbtyvz583FxcSE2NpYWLVqwYcMGs71u3bps3rwZgN27d1OgQAF27NhBzZo1U+1/yJAhTJw4kXfffZcLFy4AsHjxYhYvXoxhGEyePJkVK1bw1ltv0atXLzp06ADA5s2befnllwGYNm0an376KZ6enrRt25aYmBjatWtHWFiY1XNNnz6dd9555xHfKREREZH0ses5wStXrjRvFy1a1CpQNWrUiL59+wLw999/ExUVlen1PS5PT09zFLZ///5cvnw5VZ/169ebAbhv37588sknuLu7s3DhQpYuXQrAV199ZQbgXr16MW7cOP766y+r/SQmJpoh29/fnyVLltC6dWsAJk2aRFxcHH379sXd3R0APz8/Pvroo1T11KxZEx8fHyD56mGQPAo9d+5cAPr160e2bNn47LPPCAsLw93dnfHjx9OvXz+z/dixY4/6lomIiIiki12H4NOnTwPQp08funTpwrp168y2Pn36MHDgwFR97UmOHDn46quvALhx4wYffPBBqj5LliwBwNfXlxkzZjB8+HDeeOMNADN4WkbH69SpwzfffMOIESP49NNPrfbj7OzMH3/8wbZt21iwYAEvvPCC1Rzf69evM2DAAEqUKAFAixYt+PDDD9Os+9133wVg1qxZ3Lp1i/DwcHMEuVu3bmYbJP8/ffDBB0ybNo3KlStbvSYRERGRJ8WuQ/CNGzcAKFOmDDdv3mT79u1mW82aNcmZM6d5Py4uLtPrywiVKlVizJgxAHz99depTjg6fPgwkDylwcnJCScnJ6ZMmQJgjqha+tStW9d8XMrbFlevXmXGjBl4enpSsWJFPv74Y7PNMIx019ypUyfz9tq1a/n2228BaN++PR4eHty6dcsMxZMmTTLrPnDgAGCfv7CIiIiIfbHPSbL/X6lSpTh8+DC7du0id+7c5va6deuSK1cu5s2bZ24rXry4LUrMEEOGDGHBggUcP36cffv2WbVlz54dSD5Tv3v37lZtljnQlStX5sKFCxw9etRsS3kb4M6dO9SsWZMLFy7g4+PDm2++SZ48eQgMDATuv1TW3fLmzUufPn2YOXMmc+bMMaepvPXWW1Z1ATRt2pQXX3zR6vFeXl7pfi4RERGRR2HXI8FVqlQBYNmyZeaf4AFeffVVvv76a4YOHQqAm5sbFSpUsEmNGcHV1ZWZM2em2WaZf3vx4kXef/99Ro8eDUBUVBSlSpUCkqcuQPLqDps2beLYsWP85z//sdrP/v37zdHZOXPm0K9fP6vR3/j4eOB/Afb27dv3rdkyJcMSgD09PWnYsCGQPM3DEnRz5MjBhx9+yPDhwzlw4ACXLl3C09Pzge+JiIiIyOOw6xD85ptvptpWuHBhOnToQKFChcxt//73v3F1dc3M0jJckyZN6Ny5c6rtffr0AZKnhhQvXpwmTZowZswY5s2bZ74HLVu2NPu88sorVKxY0VwZwqJy5crmSW+vv/46AQEB9OrVy2y3XCGuaNGiAHz44YcUK1bMDMd38/X1xdfX16rOlBdXGD58OAAhISF4e3vz4osvsmzZMr799lvKlCnzEO+MiIiIyMOz6xBcvHhxtmzZgr+/P+XLl6d9+/asW7cOd3d3ypUrBySvqjBgwAAbV/pw7jX14PPPPzeDqoW3tzfbtm3Dy8uLGzduEBYWhpeXF19++aUZfitXrsymTZvMecB169YlODjY3Efu3LlxdXXl66+/xsvLiwMHDrB48WJGjhxphl7L6hIply+7cOEC//zzjzk6fHfdlhUfgFRTNXr27MncuXNxd3fnyJEj7N69mzp16vDjjz+aI9giIiIiT4qT8TBnPD2G8PBwoqKizGW3nrQ7d+5w5coVihUrliH727RpE4mJieYauFnRtWvXuHnzJh4eHlbbFyxYQGRkJKVLl6ZLly5kz56dP/74w7ygxrVr18ibN6/ZPzIykhIlSpAjR440n+fWrVucO3eOZ555JkPWXj579iyurq7kz5//nn3e/eYy1crmIC4ujn2nEpnYxb5H9kWyuurV3XB2hj//jLF1KSJPtaFLYvEp5UzOnDnZc+IO094o9OAHSYaw6xPjLJKSkvjtt984ePAgUVFReHl50aNHD/bs2WN1ed+nXb58+ciXL1+q7WfPnjWXM1u6dCnly5c311iuXLmyVQCG5Evl3k/u3LnNkfaMYFl2TURERCSz2H0I3r9/PwMGDLBaNaFz5874+fnRtWtXevbsyccff2z3c4IfR79+/di+fTsrVqwgNDTU3O7p6UlQUJANKxMRERGxDbsOwVevXiUgIIDo6OhUbZYlwIKCgoiPj0+1GoIjyZMnDz/++CNnzpzhxIkT3Llzh5IlS1K+fHm7vZS0iIiIyOOw6xPjvvnmGzMAv/DCC1arJxQqVAg3Nzcg+YppSUlJNqkxKylZsiQvv/wyDRo0oFKlSgrAIiIi4rDsOgTv3bsXgPLly/PTTz/x2muvmW01a9Zk7dq1AMTExHDw4EGb1CgiIiIiWY9dh+CoqCgAnnvuuTSXFUu5uoHlQhAiIiIiInYdgr29vQFYuXIlf/zxB4mJiWbb+fPnmThxYqq+IiIiIiJ2PSnUz8/PvOjDq6++am5funQpS5cuNe97eHhoGS4RERERMdn1SHDnzp1p3LjxA/vNnz8/E6oREREREXth1yHYycmJ+fPnM2rUqDTbfXx8CA4Opnr16plcmYiIiIhkZXY9HQIgV65cDBgwgN69exMZGUlUVBS5cuXC09OT0qVL4+TkZOsSRURERCSLsfsQbJEzZ068vLzw8vKydSkiIiIiksXZdQj+7rvv2LhxY7r6Tp48mfz58z/hikRERETEHth1CN67dy8rV65MV99x48Y94WpERERExF7Y9YlxIiIiIiKPwq5HggMDA2natKnVtoSEBG7fvs3hw4eZPHkyAKtWraJo0aK2KFFEREREsiC7DsGVK1emcuXK92yvVKkSb775JkOGDGHLli2ZWJnIw/npp584derUffvUq1ePZ599NpMqgs2bN3PgwAHatGlDsWLFrNquXLnCsmXLePnll6lSpUqm1WQRExODm5sbACEhISQlJeHv75/pdUjWFx0dTUhIyD3ba9Soga+v7wP3c+fOHYKCgqhZsybPP/98RpaYqRITE5k3bx7PP/88NWrUAJIHjxISEsiVKxdnz55l9erVtG7dGg8PDxtXK/Jk2XUIfpCXXnoJgMOHD3Pq1ClKlSpl44pE0rZ48eL7flEDzJo1K1ND8LJly1iwYAEbN25k8eLFVm0XLlxgyJAhfPnll5kegqdOncqmTZv48ccfAZg+fTouLi4KwZKmI0eOMGTIkHu2f/TRR+kKwTdv3uT9999n3Lhxdh2C79y5w+DBgxkxYgQ1atQgKiqKjh07MnXqVF588UUOHz7MkCFDqFKlikKwPPWe2hAcHx/Pt99+a94/fPiwQrBkWfPmzSMxMREAwzAoUaIE7du3Z8aMGWaf7Nmz26S2tWvXsmzZMjp16mST57/bmjVrcHV1Ne+PGzdO64HLA3311Ve0a9cu1XYXl6f2azBNOXLkIDg4mHLlygFw/PhxDh06ZLY/99xzBAcH2+QvPCKZza6P/rFjx6YaoQK4ffs2MTExVtsqVaqUWWWJPLQcOXKYtw3DAJJDb8qwB7Bx40YKFCjAtWvX2L9/P40aNeLOnTucOnWK5s2bm/2io6PZuXMn9evXx93dHYDY2Fh+/fVXjh49SokSJfDz86N48eIPrM3Dw4P33nuPunXrUqJEifv2PXDgANu3bycmJoaqVatSr149q/Y7d+6wc+dO/vzzT8qXL8/LL7/M5s2bqVWrljnl4vz582zbto3jx4+TLVs2ateuTa1atczXf/HiRVxcXFi9ejUNGzbk9u3bZM+endjYWMLCwihfvrzVF7hl+7PPPkvFihXTVac8fXLlypXqeLrb/T57aTlw4ABbtmzh5s2blC9fnoYNG5I7d26z/WGPuYiICKKjo6latSphYWHcvHmTV155JdX3161bt/j55585efIkJUuWpF69elbHZlxcHL/88gtHjx6lUKFCvPDCC+YxYRgGt27dIjExkXPnzplTBTds2EDOnDnx9PTk1q1bODk58ddffxEVFUXz5s2tfgn/66+/OH36NK1atXqk1ymSVdh1CL5+/TqXLl16YL9atWppFFieCqNGjeLatWucPHkSSP4Szp8/P9OmTePatWtmvz179tCtWzc2btzI888/b/7J89ChQxQpUoSLFy/i5ubG4sWLeeWVV+77nDNnzsTf35/33nuPpUuX3rPf1KlTGT16NJAcnKOjo2ndujVBQUG4uLhw+/ZtWrVqxY4dO3BzcyMmJoYyZcpw8uRJVqxYQbFixVi/fj3t27cHMNsARo4cyfvvv8+MGTPMbQMHDiQ8PJxx48bh4uLCmjVrGDVqFAULFuS3334z6/rpp58IDAxkzZo1VKxY8YF1imN60GfvbiEhIXTt2hX43+eoTJkyhIeHU6hQoUc65lasWMFnn31mTkO4fv06MTExjB49moEDBwJw6NAhWrVqZe7PMj9+3rx5NG3alNu3b9O8eXN2795t1gUwadIk3n77beLj4+nWrRsjRozgxRdf5KuvvgKSpxXduHGDJk2a0K1bN9auXcu5c+fo1asXwcHBNGrUCEgO0T169MDDw4NWrVo91s8WEVt7qpdIK1y4MB07duT777+3dSkiGebkyZOMHz+eP/74I80v57QMGTKEQ4cOsWrVKo4cOUJkZCTly5enV69exMbG3vexfn5+BAYGEhoaes9jac+ePYwePZo2bdpw7NgxDh48yOzZswkJCSEoKAiATz/9lB07djB9+nQiIyMJDw/nzp07VvsZO3YsRYoU4e+//2bv3r0cPXoUDw8Ppk6dCiTPU65Rowb16tXj2LFjPPPMM+ZjnZyc6NmzJ7t37+bo0aPm9iVLluDh4UGdOnXSVac8nb7++mv69+9v9W/hwoVm+4M+e3ebPn063t7eXLx4kYMHD7Jo0SJOnjxpzu1/nGOuZs2a7N+/n0OHDtG5c2c++ugjdu7cCSSvinTx4kW+//57oqKiCA8Pp3jx4gQGBnLlyhW2bdvG7t27mTdvHgcPHuTChQv4+vry2WefmVOuLOrWrcuiRYsA+OGHH/jkk0+s2lu2bAnA8uXLzW07d+7k5MmTdO/e/bFfp4it2XUIHjNmDAcPHkzz38mTJzl06BAzZ840zyIXeRq4ubnRr18/qlSpQunSpR/Y/+rVq4SGhtK8eXNq1KhBbGws2bNnp1u3bly8eJFdu3Y9cB9jx47Fw8ODgQMHcvbs2VTtlovW9OvXj9y5c3Pz5k1atmxJkSJFCA4OBpLn8np4eNCtWzdcXFyoXr06nTt3NvdhGAZTp05l1apVFC5cmKSkJGJjY3n22WdTTW+6F8u8ZctJc2fPniUsLIzXX3+dbNmypatOeTr9/fffbNy40erfwYMHgUf77OXLl49Dhw4xd+5cjh8/TqtWrYiMjKRnz56Pfcy9/vrruLi44O7uzptvvgkkr9YSFRVFREQEbdq0oVmzZjg7O1O9enW6d+9OTEwMv//+uzn9acmSJWzYsIGkpCTWrFnDoUOHcHZ2fqj3zNXVlV69erF06VLzfbAE4tatW2fIzxYRW7LrEOzm5kaRIkXS/KfgK0+r//u//3uo/lFRUQCEhobi4eFh/hs8eDCA+Wff+3F3d2fmzJnExMQwYMAAc96yhWXktVGjRub+PT09uXjxIkePHiU2NpZjx47RrFkzq8c1bNjQvO3k5ETJkiVZtmwZ9erVo0CBAvj4+PDrr7+m+7WWLFmSxo0bs3jxYgzDYMWKFcD/wvGD6pSn18SJE9m7d6/Vv/HjxwOP9tkbPXo0Hh4eDBs2jGrVqlG9enXmzp1LfHz8Yx9zKechW1aiiIiI4Pjx4wA0aNDAqr9lqsKJEyeoVq0a7777LmFhYfj7+1O8eHHefvttDhw48DBvl6lLly4A/Pzzz8TFxbFo0SK6d++Om5tbhvxsEbElu5oAt2nTJvM394fVvXv3B54UIWIP8uTJk+b2pKQksmVL/r326tWr5nbLCS0dO3YkMDAw1ePKli2bruf18/OjV69ezJ07Fy8vL6s2y4l9P/zwQ6r6nJ2drU78u5eEhARatGjBsWPHeOONN3jnnXd47rnnmDVrltVKLw/StWtXevTowa5du1i4cCH16tWjTJky6apTHNOjfPaqVKnCvn372LlzJ2FhYaxatYqxY8dy5coVAgICgEc/5lJ+V1nmqRctWpS8efMCpDoXxvLZLV68ONmyZWPcuHG88847hIeH88svv7By5UpCQkI4cuSIuY/0euGFF6hQoQJLly4lT548xMTEmME4o362iNiKXYXg1atXP/K8PX9/f4VgeSpZzka/fPkyRYoUAWDv3r1A8p95LQFwx44dzJkzx1xO7IcffmDx4sV8/PHHD1z1weKjjz4iNDSUadOmWW2vXLkyK1as4MaNGzRu3BhIPmP89ddfx9vbm1q1alG7dm1CQkL45JNPzGNx7dq15j4OHDjAsWPHGDFihLmua0JCgjkXMjExEWdnZ5ydnUlKSrpnjU2bNsXNzY1JkyYRERHB119//VB1iuNJz2cvpYSEBHr16oWXl5d5gtkHH3xA6dKl2bJlCyNGjAAe/Zj766+/zBHgHTt2AFC1alUzVIaGhjJo0CCzv+VE0CpVqrBmzRqmTZvG3LlzCQgIICAggHnz5vHee++xb98+Xn755TSf8+7XaOHk5MTrr7/OiBEjSEpKokyZMtSuXRsgQ3+2iNiCXU+HEBHMpY/ee+89NmzYwOTJk5k9e7bZ7urqyqBBgzh58iQ9e/Zkw4YNLFmyxDxx5WEuwOHu7m61b4sePXrg5ubGkCFDmD59Olu2bKF3796EhoZSv359AIYPH87Fixfx9fVlypQptGvXzjwzHaBixYq4ubmxZs0aduzYwY4dO+jduzcRERFA8rJQkDwS/tdff7Fw4UKrFTFSvt6uXbuybt06IHnu4sPUKY4nvZ89CxcXF0qWLMmkSZOYM2cOu3btYvbs2cTExFCnTp3HPua6dOnCd999x/z58+nSpQsVKlSgadOmFChQgN69e7Njxw7eeOMNwsPDGTFiBMOGDeOll16iUqVK+Pr6sm3bNvr160d4eDjh4eHmCa1pXRTE8gvp4sWL73ll1Q4dOgDw66+/0r17d/MvThn5s0XEFuxqJLhRo0bmSNfDspwsIPK0adGiBT179iQoKIiQkBCKFCnChAkTGDZsmDkyM3ToUAzD4IsvvjBPDmvfvj0jR440v9DSq169erzxxht888035v6LFSvGmjVreOedd8xRsCpVqvDZZ5+ZyyT5+fnx/fffM3HiRMaMGYOvry8DBw7kiy++MNdw/eKLL5g0aZI5x7Fp06aMHz+eESNGsH37dho1akT37t359ddfeeedd+55RavXXnuNWbNm0bNnT6t1W9NTpzie9Hz2qlevbvWYgQMHcubMGXP+K0Dnzp0ZPnw48HjHXK1atejXrx8AtWvXZubMmeTPnx9IPiHc2dmZGTNmmCeptW/fni+//BIXFxc8PDyYNWsWkydPpm3btkDyEm4hISEUKlQo1YoNPj4+1KhRg0WLFnHkyBFGjhyZqp7ixYvTsmVL1q5dm+qiORn5s0UkszkZd5/h8oSEh4cTFRVlNSpjTzZt2kRiYqL5G7Fkrne/uUy1sjmIi4tj36lEJnbR1Ja7xcbGcunSpfuuiZ2QkMCZM2coUaJEuubpPoqrV68SGxub6s+gISEh5M+fn7p165rb5s6dy8CBA9m+fTve3t7m9tOnT1OoUKF7TmGKjY0lLi7ODAYZWackq17dDWdn+PPP9K3M8bR40GfvbrGxsURHR/PMM8+keVXHhznmxo0bx2effcbly5eJiYkhKSmJggULptk3Pj6eM2fO4Onpec/1rU+dOkWuXLnSNXh0+fJl3N3dH/nnQmb8bHlaDV0Si08pZ3LmzMmeE3eY9kYhW5fkMOxqJPhRHT58mLJly+rAlKeaq6vrAy8K4+Likq5l1R5H/vz50wynoaGhLFq0iEWLFlGjRg0OHjzIhx9+SJkyZVKdaOfp6Xnf53B1dX3sOf73qlMc24M+e3dzdXWlfPny92x/1GPuQZ/N7Nmzm3Ny7+VhLhJVqNDjBa/M+NkiktHsPgQfPXqUJUuWcObMGW7dukW2bNnIli0bSUlJXL9+naioKCIjI/nvf/+ryziK2NDw4cM5ceKEeeY8QIUKFVi5cqX+bCqSgmWakYg8WXYdgk+fPk3r1q3TdelkEbGtUqVKERoayrVr19i/fz/ly5fXVASRFAYMGEBgYKCW6xPJJHYdgmfPnp2uAFy6dGly5cqVCRWJyIPky5fvnss0iTgyd3d3ncQtkons+m+Qu3fvBpKvHDdt2jTzTPHPPvuMoKAgKlWqBMA777yjuX8iIiIiYrLrEGy5KlabNm3o0qULLVu2BJLnU7Vq1cq80s+QIUNSrfMoIiIiIo7LrkOwZf1PyypvlnUcLVfPSXmm6qNeN11EREREnj52PSf4mWeeYc+ePeaSS35+fkDypVinTJlCdHS02dcyaiwiIiIiYtcjwW3atDFvr1u3Dk9PT/MSsuPHj2f+/Plme4UKFTK9PhERERHJmuw6BLds2ZLPP/8cgOeeew7AvGRlSp06dXrgouIiIiIi4jjsajrEmDFjuHDhAu3bt6devXpkz56dHj160KhRI65fvw5As2bNWL58OatXr+bChQvUq1ePXr162bhyEREREclK7CoEx8TEsGzZMpYtW4abmxvdunWjbdu2VKtWjZIlS5r96tevT/369W1YqYiIiIhkZXY7HSImJoaZM2fSpEkTXnjhBb744gtOnDhh67JERERExA7YVQh+9dVXadq0aartkZGRfPLJJ9SoUYNmzZoRFBSkSymLiIiIyD3ZVQiuV68eixYt4tixY8ycOZPmzZun6rNz504GDx6Mt7c3AQEBrFq1ShfKEBERERErdjUn2CJ//vx07NiRjh07cu3aNX799VdWrFhBaGioVb9169axbt06AA4fPkyhQoVsUa6IiIiIZDF2NRKclnz58tGuXTu+++47jh8/zpw5c8y1glOKj4+3QXUiIiIikhXZ5UhwWi5dukRoaCg//PADERERti5HRERERLIwuw7BV69eJTQ0lBUrVhAeHn7PfrVq1SJ37tyZWJmIiIiIZGV2F4Jv3LjB+vXr+eGHH8z5vmkpX748Xbp0oW3btpQuXToTKxQRERGRrM6uQvDMmTMZNWrUPdsLFy5M586dadu2LVWrVs3EykRERETEnthVCP7777/T3N6lSxc6dOhAnTp1cHGxq5ckIiIiIjZgt4mxadOmdOrUiSZNmuDq6mrrckRERETEjthVCPbx8eHzzz+nVatWWvNXRERERB6ZXYXg7t2727oEEREREXkK2P3FMkREREREHpZCsIiIiIg4HIVgEREREXE4CsEiIiIi4nDs6sQ4kY/7FOB2vMGGqfr9TeRJiopKPsZq1XKzcSUiT7fz13KzKrsT4+bdsnUpDseuQvCmTZs4ePDgIz22e/fuWk/4KZCYCElJTiQk2LoSkaebYYCTEzrWRJ6wpCQnEhNtXYVjsqsQvHr1aoKCgh7psf7+/grBT4ExX19h36lEJnbR/6XIk1S9uhvOzvDnnzG2LkXkqTZ0SSw+pZyBnLYuxeHob8oiIiIi4nDsaiS4UaNGFClS5JEe6+7unsHViIiIiIi9sqsQ3KxZM5o1a2brMkRERETEzj3V0yESEhI4d+4cCxYs4ObNm7YuR0RERESyCLsaCU5LSEgIU6ZM4fjx48TE3PsEjiZNmpAnT55MrExEREREsiq7DsF//vknr7/+uq3LEBERERE7Y9fTIRYsWJCufp06dSJv3rxPuBoRERERsRd2HYKPHTsGQPny5dmxYwc+Pj4ArFmzhoMHD9K+fXsA8uTJQ+7cuW1Wp4iIiIhkLXYdgq9cxjIiIwAAIABJREFUuQJA48aNKVu2LI0bNwZg27ZtFClShE8++QSA+fPnc/nyZZvVKSIiIiJZi12H4MKFCwPw999/A+Dr6wtAWFgYAC4u/5vyHBERkcnViYiIiEhWZdch2MvLC0gOvcOGDaN27doAbN++nQ4dOtC2bVuzb7Zsdv1SRURERCQD2XUy7Nq1q3n7+vXr5MuXj7p16wKwYcMG9u3bZ7Z7e3tnen0iIiIikjXZdQiuXr06GzduxMfHhypVqgAwadIk3NzcrPpNmDDBnDohIiIiImLX6wQDVKlShV9++YXr168DULFiRf788082bdrEpUuXePHFF6lataqNqxQRERGRrMTuQzAknwBXsGBB837RokXp0KGDDSsSERERkazMrkPw1q1bOXz4cLr6/utf/8LV1fUJVyQiIiIi9sCuQ3BwcDBBQUHp6tusWTOFYBEREREB7PzEOBERERGRR2HXI8F+fn7kzZvXalt8fDyxsbH897//ZefOnQBMmTKFAgUK2KJEEREREcmC7DoEt2rVilatWt2zfcKECUyePJkNGzbQrVu3TKxMRERERLKyp3o6RPfu3QFYtWoVV65csXE1IiIiIpJVPNUheP/+/ebt/9fencdVUe9/HH+pwL0sJi6gIV5JRb1illsu16WrUmkSWG5lKEpuN7SfZi4ZVFip3TS30lzSm7ulaW4pLuGae5oQKqkoaoAGJrhAen5/HDlx4LCoyHbez8ejRzLzPTOfmfnOnM/5zne+89NPPxViJCIiIiJSlBTr7hBLly5l9+7dZtPu3LlDamoqV65cYefOnabplStXLujwRERERKSIKtZJ8KFDh1i2bFmu5SpVqkTdunULICIRERERKQ5KdHcIMCbAa9asoXTpEr+pIiIiIpJHxboluE+fPjz99NMW59nb21OzZk3c3d2xsSnWmykiIiIi+axYZ4f169fHy8sLwGJL7+3bt7ly5QoJCQmmciIiIiIixbqPwMiRI3F1daVDhw4W569Zs4Z69erRtm1bkpKSCjg6ERERESmqilVLcGpqqtl4v3/88QcAt27dIi4uzqyswWAwzQeIioqiefPmBROoiIiIiBRpxSoJjouLo2HDhlmmnzhxItfuDrdu3XpYYYmIiIhIMVOsukNUq1aNkSNH3tdn69evn8/RiIiIiEhxVaxaggFef/111qxZw5UrV7h8+bJpeqVKlbKUtbOzo3bt2rz++utUrFixIMMUERERkSKs2CXBjo6OprfEjRgxggULFtCgQQO2bdtWyJGJiIiISHFR7JLgjEaMGEFgYCAODg6kpaVha2trmhcbG4ubm5tekiEiIiIiWRTrDLFKlSpUrFiRCRMm0KlTJ7N5ffv2pWnTpqxZs6aQohMRERGRoqpYtwQnJSXRsWNHYmJiAEytwbdv3+bIkSMABAYGcvPmTXr06FGYoYqIiIhIEVKsW4IXLVpkSoABLly4ABiTYycnJ9P0d999V0OkiYiIiIhJsU6Cd+3aBYCTkxNhYWF4eHgAULFiRY4dO8ZLL70EwOXLl4mOji60OEVERESkaCnWSfD58+cBaN++fZaXaDzyyCO88sorpr/TW4lFRERERIp1Ely1alUAtm7dys2bN7PM//77703/rlChQoHFJSIiIiJFW7F+MM7Ly4tt27aRnJxMYGAgAQEBuLi48Mcff7B7927mzJljKlu7du1CjFREREREipJinQQHBAQwffp0ADZt2sSmTZssluvfvz+PPPJIQYYmIiIiIkVYse4OUb16debNm5djmdatWxMcHFxAEYmIiIhIcVCsW4IBfH19adasGbNnzyYyMpJTp05RoUIFPD09ee655/Dx8aFUqVKFHaaIiIiIFCHFPgkG45vjQkJCLM67ceMG69evp1OnTjg4OBRwZCIiIiJSFJWIJNiSX375hSVLlrBw4UKSk5M5fvy4kmCRPPrhhx84ceJEtvN9fX35+9//zvLlywFo164dnp6epvmnT58mLCwMGxsbAgMDH3q8IkXdxo0bOXfuXI5l2rZtS5UqVUznVTobGxscHR1p2LAhderUeZhhiliVEpUE37hxg3Xr1rFgwQL27dtX2OGIFFuLFi3i66+/znZ+48aNKVeuHCNHjgSgUaNGbNmyhTJlygAQFRVlmqckWATmzJnD1q1bcywze/Zs7ty5Yzp3LAkODmbEiBH5HZ6IVSoRSXBUVBSLFy82tfpaUrp0sX4GUKRQuLi44OPjk2V6lSpVuHHjhunvw4cPs2jRIvr06VOQ4YkUG97e3lSvXh2AkydPmt542rt3b2xsjF/FGe+mAHTs2JFHH32Ua9eumX6Ujhs3Dh8fH7UIi+SDYpsEp/f1nT9/fratvtWrVycgIICuXbvi6upawBGKFH+enp58+umnFuedOnXK7O+3336bTp064eLiUhChiRQrgwcPNv176dKlpiR4woQJODo6muZFRkaa/j106FBatmwJwIgRI2jWrBkAYWFhSoJF8kGxS4KjoqJYsmQJX331VbatvgB16tRh165dJWpkiHnz5nH9+nXT36VLl8be3p5atWrRpk2bfF9ffHy8qW9anz59zMZaTkxMpHz58gAcOXKEXbt2UbZsWQICAvI9DikekpOTeffdd/n8888LOxSREsfd3d307ytXrhRiJCIlR7FKgidOnMh///tfi/OaN29Or169eP/997l8+TJ/+9vfSlQCDDBs2DCuXbtmcV7Pnj2ZNWsW5cqVy7f1Xbp0iaFDhwLGB6EeeeQREhISCAkJ4fz586xbtw6APXv2MHToUNzd3ZUElzB79uzhn//8p9m0UaNGZTnOvXr1YvHixSxevJhevXoVZIgiJdbOnTuJj4/njz/+YPHixabpjRs3LsSoREqOYpUEJyQkmP1dqVIl+vfvz0svvYSHhwcAU6ZM4fLly4URXoFp1KgRTz31FDdv3mTLli3ExsaybNky2rVrR//+/fNtPeXKlcPX1xfAdLsuNDSUWbNm0bFjR1M5Dw8PfH19efTRR/Nt3VJ0XLx40ezvq1evZinz5ptvsnv3bs6ePcvQoUP1ghqRfPDRRx9lmebt7c1zzz1XCNGIlDzFKgnO7ObNm1y5coUrV65QvXr1Etfym50XX3yRsWPHAsa+0bVr1yY2NpY1a9aYJcEXL15k7969nDp1ijp16vDvf/8bZ2dn0/zbt2+zefNmoqKiSElJwcPDg+eff97UzaFcuXL4+/sDYG9vz5EjR0z9QGNiYli5ciXt27endu3a+Pv7m4agW7VqFQaDgXr16pm1Im7bto3ExERq1KhBw4YNATh06BB79+7FYDDQqFEj/vWvfz3EPSf36oknnmDmzJlm0yz1r7e3t2f69On4+PgQHR3Nxx9/XFAhipRYjRo1omLFijg5OVGhQgWaNm3Kiy++aHqQTkQeTLE6kzLflk1OTmb27NnMnj2b6tWr4+/vT1xcXCFFVzjs7e1xd3cnNjaW+Ph40/S5c+dmaRV2dXXl66+/NvUf9vX1Zf369WZlypYty8mTJ6lSpQrnzp2ja9eugDHpXbBgAZs2bQKMD2907drVlMQGBQXh7u7O+fPn+fLLL1m/fj3t2rUzDQn0+++/0759ewAWLlxIw4YNGT16NBMnTjRb/6uvvsr8+fN1kS8iHB0d8fLyylPZNm3a0LNnT5YtW0ZERMRDjkyk5Pvwww9ND8aJSP4rVuOGBQYGcvr0aT799FMaNGhgNi8mJoYPPvjA9LDc1atXLd62LQmOHTvGypUrWbhwIb179+bHH38EoFWrVgCsX7/elAA3atSIUaNGUbZsWeLj4+ncuTOXL19m+/btrF+/nrJly7J69Wo2btxIvXr1uHbtWrb9rr29vWnUqBFgfEgjODiYypUrZyk3aNAgwNjymz44/DfffAMYk+wXX3yRLVu2mBLg//znP3z00UeULVuWRYsWsWzZsvzaVVLAQkNDcXJyKuwwREREclWskmCARx55BH9/f7Zt20Z4eDiDBw+2+KUbExNDzZo1GThwIFu2bOH27duFEO3DsWLFCrp27Urv3r1ZuHAhYGzlTR9AfcmSJQDUqFGDgwcPMmHCBFOinD7eZPoDdteuXWP+/PnExMQwb948kpOTmTRpksX1du7c2dQq8fjjjxMaGkrVqlWzlHvuuedMt8yXLl0KGFumAfr27YuDg4NpeqNGjfjss88YM2YMr732GmAcBUOKp8qVK/Phhx8WdhgiIiK5KnZJcEZeXl6MGzeOqKgo5syZQ+vWrbOUWblyJT179szyUF1xVqNGDTp27EiXLl0IDAzk448/5vjx47i5uQGwZcsWAPz8/Ez9pOvVq2caYicyMpJ27dqZWtPXrFnDoEGDaNGiBW3atOHIkSMPFJ+NjQ1BQUEAfPnll/zyyy8cOHAA+OvtYemv5D18+DClSpWiVKlSpvFoo6OjH2j9UjDS3w6Xmb+/P02bNi3gaESKD728SaRoKBEdL//+97/TpUsXunTpwtmzZ1m+fDnz588vsaNE9OvXz/RgnCU1atQgPj6e3377zTTt1q1bxMbGAlC+fHmcnJzYu3cvq1atYvXq1WzevJlr165x+PBhhg8fzvbt2x8oxoCAAEJCQjh58iSjRo0CoGnTpqbE29bW1hRr7969zT6r/sCFb+7cuabW++zUqFHDYpejMmXKmH6IiUhWPXr0oEePHhbn1atXr8R25RMpakrcz1EPDw9GjRrF8ePHWbp0Kc8//3xhh1Tg0kdYWLJkCREREdy5c4cFCxaY5jdt2pSvv/6agIAAVq1axfLly0lMTDTdxv7hhx+yHY84PXnN+MpcS6pVq2YaXm3t2rWAse9vuvRkOCEhgbfeeot3330XgHPnzlGtWrV73mYRERGRe1Fim9xsbGzw9vbG29ub+Ph4KlSoUNghFZj+/fuzcOFC4uPjqV+/Pq6urqaRI7y9vencuTMnT56ke/fuALRo0QIvLy82bNgAGFtxy5Yta3HZ6cOn/fDDD9SsWdMsuc5s4MCBrFmzxvR3+kgTYHyF6LRp07h27RpVqlShefPmhIWFAcYh4EREREQephLXEmyJq6urVd1ir1OnDrt378bb2xvAlAAHBQWxatUqSpUqRZ06dVi9ejXe3t4cOHCABQsWEB8fj6+vL+PHjwcwG3c5vQ9bt27dTA+9nT59mqSkJFM5Ozs7szi8vb1N/ZCDgoLMHmCsW7cuP/74I7Vr1+batWuEhYVRu3Ztpk2bZpWt9yIiIlKwrCczLAH++OOPPJetVasWmzdv5tatW1y8eJFq1apl+SHg6+uLr68v169f5+LFi7i5uZleeAHGLgsGg8HsM3Xr1uXChQucO3eORx99FHt7e8C8q0M6Gxsbzp8/n22MzZo148SJE1y9epWUlBTTg30iIiIiD5uS4BLub3/7G4899liOZRwcHKhVq1ael2ljY0ONGjUeNDSTcuXKUa5cuXxbnoiIiEhurKI7hIiIiIhIRkqCRURERMTqKAkWEREREatToH2Cb9++TWpqakGuMt/8+eefJerVyyIiIiLWrECT4N27d/PTTz8V5CrzzbVr10zj6oqIiIhI8VZgSXC7du1o165dQa1ORERERCRb6hMsIiIiIlZHSbCIiIiIWB0lwSIiIiJidZQEi4iIiIjVURIsIiIiIlZHSbCIiIiIWB0lwSIiIiJidZQEi4iIiIjVURIsIiIiIlZHSbCIiIiIWB0lwSIiIiJidZQEi4iIiIjVURIsIiIiIlZHSbCIiIiIWB0lwSIiIiJidWwKOwARa3bw4EEOHTqU7fwXXniBRx99NNflnD9/ng0bNuDr60uVKlXyM0STnTt3EhkZiZ+fH5UrVzabl5iYyIoVK2jVqhVeXl4PZf05SU5OxsnJCYC1a9dy584dfH19CzwOKboiIiLYtWtXjmU8PT1p165dAUUEp0+fJiwszGyajY0Nzs7OtGnTBhcXl3xb16VLl/juu+/w8fHBzc0NMD9vDh06xMGDB+nfvz+lS6t9TKyDkmCRQrRp0yY+/vjjbOc3atQoT0nw8ePHGTlyJE2aNHloSfCKFSv46quvCA8PZ8mSJWbz4uPjGTlyJNOmTSvwJHjKlCns2LGDVatWATBjxgxsbGyUBIuZHTt2MHr06BzL9OrVq0CT4CNHjjBy5Mhs50+dOpWAgIB8WdeJEycYOXIkXl5euLm58cMPP9CrVy/OnTtHmTJl2LRpExMnTqRfv35KgsVqKAkWKQIOHjyIu7t7lul2dnaFEE3O1q9fz4oVK+jevXthhwLAunXrsLe3N/39wQcfUKpUqUKMSIqi/v37myWUXbt25aeffiI6Oto0rbCSv2XLlvH0008DcPPmTSIjI3nttdd44403eOaZZ0wttw/i8ccfZ+XKlaYfqbt37yY5Odk0v1u3bjz11FPY2CgtEOuh2i5SBDg6OpolcpZERUXx008/ce7cOcqXL0/79u2pUaOGxbIGg4GdO3dy9OhRbGxsqFevHm3atDFLDn/77TfCw8O5cOECnp6edOjQIdcYANzc3Bg2bBitW7fOtZU6PQZ7e3uaN2+epZU4NTWVgwcPsn//fmrWrEmrVq3YuXMnzZo1M3W5iIuL48cff+T06dOULl2a5s2b06xZMwDCw8NJSEjAxsaG7777jvbt23Pz5k1sbW25ceMGYWFh1KxZ02y96dP/+c9/4unpCUBkZCT79u0jOTmZJ554gjZt2uS6H6R4sbGxMUvwbG1tsbe3z1LnIyIiiIuLo1q1amzcuJHGjRtTo0YNDhw4wNNPP80jjzwCwK1bt9i0aROPP/44jz32mOnzudV5SzLGYW9vz7/+9S+GDRvGW2+9xaFDh0xJ8IULF9i+fTvx8fEWz9krV67w/fffc+nSJf7xj3/QqlUr02dv377N9evXKVWqFBEREfzyyy+AsftQw4YNSUtL4+bNmwCEhYVhZ2dH27ZtzeIMCwujbNmyNG/eHLj/a4hIUaEkWKQY+Pjjj/nwww8BcHFxISEhAYDvvvsuyxcVwNixY/nss89wcnLC3t6ehIQEfHx8WLRoEQDbtm3D39+f5ORkPDw8OHv2LHXr1mXVqlVUrVo1x1hmzpyJr68vw4YNY9myZRbLpKam0q9fP9auXWvqc5icnMy4ceMYOnQoYGzx6ty5MwcOHMDJyckslm+//ZbKlSuzZcsWXnrpJQDTPIB33nmHt956i88++8w0bfjw4Wzbto0PPvgAGxsb1q1bR3BwMBUqVGD79u2m2DZs2EC/fv1Yt24dnp6eTJkyhXfffRcwJvgXL17Ex8eHBQsWqFXMCq1YsYK5c+eazhs3NzcmTZqEv78/27Zto3HjxoCxPvv7+zN+/Hj+85//5KnO34uLFy8CxmQdYPXq1fTp0wfAdL7UqlWLr7/+mho1anD69Glat25tdh4BbN68mWbNmhEZGYm/vz/r169n//79rF27FoARI0bwySefEBkZycSJE7l8+TLr1q1jwYIFxMTE4OzsDEBsbCxdu3bl7bffpnnz5g90DREpKtTxR6QIGDNmDEOHDjX7b9++fQAkJCTw4Ycf8uyzz5KQkEB0dDRbt24FYOHChVmWlZKSwmeffUZgYCCxsbGcPHmSoKAg1q5dS1RUFMnJyQwYMIBKlSqxf/9+jh49yt69e4mKiuLtt9/ONdann36afv36sXHjRpYvX26xzJw5c1i7di3vvfce0dHRxMTEEBAQQHBwMBEREQCMHz+eAwcOMGPGDGJiYti2bRupqalmywkNDcXFxYVff/2Vo0ePcurUKdzc3JgyZQpgTFiaNm1KmzZtiI6O5h//+Ifps6VKlSIgIIDDhw9z6tQp0/SlS5fi5ubGv/71L44cOcK7776Ln58f0dHR/PLLL3zxxResXbuWBQsW5LovpGRKTk7m6aefZv/+/SxfvjxP3WvyUuezc+XKFeLj44mPj+fMmTOsXr2aOXPmANCkSRMuXbpEnz598PLyYufOncTExLBo0SKio6MZMmQIYOxSkZycTEREBEePHjWt84svvsiyvuHDh5v6Ip84cQI/Pz+z+a+88gqAKVEGWLlyJQDdu3d/4GuISFGhJFikCNi/fz/h4eFm/126dAkwtvp8//33TJ06FTs7O9LS0rC3t8fJyYmkpKQsy0pvOdq6dSvffvstiYmJhISE8Ntvv1G3bl12795NQkICgYGBuLu7k5KSQvXq1enSpQurV6/m1q1bucYbGhqKm5sbw4cPN8WZ0fLly3FyciIgIIA7d+5w69Yt+vfvDxj78Kb/383NDX9/f2xsbGjcuDE9e/Y0LcNgMDBlyhTWrFlDpUqVuHPnDjdu3OCf//ynWV/GnKT3W05/aO7SpUuEhYXRt29fSpcuzerVqwEICgrCwcGBlJQUnn/+eVxcXExf+mKdRo4cSZ06dWjQoEGeyuelzmenX79+eHp64unpyZNPPmlq8V26dCmVKlVix44dpnINGjTAxsYGHx8fvL292bVrFwkJCZQtWxaAzz//nCNHjvDoo49y7tw55s2bd8/b/tRTT+Hh4WH2AOxXX31Fq1ateOyxx/LlGiJSFOhen0gRsHXr1mwffrG3t8fR0ZHQ0FD2799v9iDPnTt3spS3s7Nj/vz59O3bl759+wLQvHlzBg8ejJ+fn+k2aXBwMMHBwVk+HxsbS82aNXOMt2zZsqZuEW+88QahoaFm848ePQoYuzBkdvr0aW7cuEF0dDT9+vUzm9e+fXsmT54MGFtyq1atyueff8727dtNy7wXVatWxdvbmyVLljBy5Ei+/fZb4K/kOL2FuEOHDve8bCnZMt5VyIvc6nxOgoKCqFevHmA836tWrYqXl5epW0X6OZ+5r/qzzz5LWFgYMTEx+Pv7s3nzZj777DNTV6ju3bszduxYKlWqdE/bUqpUKfr160dISAjnz5/nypUrREdHm1qP8+MaIlIUKAkWKeJ+/fVXWrdujYuLC71796Zhw4Y0btyY9u3bZ/uZF198kWeeeYYdO3YQFhbGihUr6NOnD8uWLTONOBEaGkrTpk2zfDYvQ7KBsVtEYGAg8+bNo3bt2mbznJycqFKlCtOnT8/yuQoVKuRp1Is///yTTp06ER0dzWuvvcbrr7/O448/zqxZs/jf//6XpxgBXn31Vfr06cOhQ4dYtGgRbdq0MSUq6XF88803ODo6mn2uTJkyeV6HlDx///vfs0z7888/Tf++evWq2bzc6nxOvL29TaNDWFKuXDnA2G0io/S7PpUrV8bZ2Zm1a9cSERHBtm3b2LBhA19++SX79u1jz549Oa7fkm7duhESEsK3335LfHw8AJ07dwbIt2uISGFTdwiRIi69/++CBQsICQnBx8eHMmXKcPHiRdLS0rKUP3XqFH5+foSHh9OpUyc+/fRT04D8+/btM42IEBMTQ8uWLU3/ff/998ycOfOehhd7//33cXNzy/LF/+STTxIdHY2Hh4dp+eXLl2f8+PFERERQpkwZmjdvztq1a7lx44bpc+vXrzf9OzIykujoaMaOHcukSZPo0aMHtWvX5uDBg4DxaXcwJquWWsTTPfvsszg5OfHxxx8TERHBq6++apqX3vp27do1U5wNGzZk2rRpbNy4Mc/7QUq29BEP0pNBMI7NDcZuO5B7nX8Q6eds+rUg3ebNm3FycsLd3Z2JEyfSs2dP6taty5AhQ9i4cSNdunQhIiKCa9euZVlm+nme3bnj5ubGs88+yzfffMOyZcvo3bu36Ydifl5DRAqTWoJFirhGjRoBsHjxYsqXL09cXBzvvPMOgMW+sTVq1CA+Pp63336bmzdv4u7ubhoVolmzZrRs2ZKmTZsyb9487O3t6dy5M+Hh4UydOpXRo0ff0xBHZcuW5YsvvsDHx8ds+ptvvsmuXbvo2bMnb7zxBk5OTrz//vvExMSY+iiOGTMGX19fGjVqxIABA9i5c6fZl7ynpydOTk6sW7eOf//734DxIZ/0hOL69euULVsWR0dH9u3bx6JFi7LEAcYE5tVXX2XWrFkAZmX69OnD1KlTGTlyJBcvXqRhw4bMnj2bjRs3Mnjw4DzvBynZ0u90vPfee9jZ2fH7778zYsQIszJ5qfP3q3379nh5efHf//6XtLQ02rZty//+9z/Wr1/PW2+9RalSpfDy8uKjjz5izJgxvPTSS8TGxrJr1y68vLxM/YUzcnBwAOCzzz7j+eeft7hef39/04/G9IflgHy9hogUJrUEixRxTZo04Y033uC7776jZcuWdOnShaeffprevXtz+PDhLA/HlSlThmnTpuHu7k6/fv145plnWLVqFaGhoTz33HOULl3alDDOmDGD5557jrlz5zJw4ECGDRt2z/G1adOG1157Dfirdaldu3bMmTOHX3/9lX79+tG9e3dcXV1ZvHgxrq6ugLE7xfLly6lSpQrvvfceiYmJDB8+HDDeira3t2fy5MmkpKTQoUMHOnTowB9//GEaKi599IzevXuTnJzM66+/nu0rqNO/wAMCAkxf/mC8jbxu3TpcXV0ZO3YsnTp14tSpU/z3v/+1OPSclBz38mIMNzc3pk6dSnR0NN27d2fQoEGMHTsWJyene6rz98vGxoYVK1bg7e3NlClT6NKlC7t372bMmDGMHTsWgOeff54hQ4awatUqnnnmGfr160fNmjWzHcYw/QHQd999N9tRXp555hmcnJzw8PAwjQ0M5Ps1RKSwlDKk38sRKcKGzL1Cw8fsuHXrFsfO32biy9bX0nD79m1iY2OpWrVqnsevvXLlCtevX8fd3d3iLcobN26QkJBAtWrVHtotzEuXLuHo6Gh6yUC6tWvX4uzsTOvWrU3T5s2bx/Dhw9m3bx9169Y1TY+NjaVixYrZtjDduHGDW7dumcY0vR9JSUncuHFD/RnvatzYiTJlYP/+vI3EYQ3+/PNPLly4kOs5mF2dzw/Xr1/nypUr2Z7Tt2/f5uzZs1SpUiVLP/fM/vzzT65evYqzs/PKZ9REAAAUvklEQVR994EviGtISTdq6Q0aVCvD3/72N46cSWX6axULOySroe4QIsVEmTJlqF69+j19pmLFilSsmP0F1d7e/p6fgr9X2SWVGzduZPHixSxevJimTZvyyy+/EBISgoeHR5YH7Sy9UjojS2/+ulfOzs4PlERLyWdjY5Onc/Bh/pBycHAwu5uRWZkyZfI8MoONjU2O14e8KIhriMjDoiRYRArFmDFjOHPmDL169TJNq1WrFqtXr76nW9UiIiL3Q0mwiBSKatWqsXHjRq5evcrPP/9MzZo11RVBREQKjJJgESlU5cqVo1WrVoUdhoiIWBndcxQRERERq6MkWERERESsjpJgEREREbE6SoJFRERExOooCRYRERERq6MkWERERESsjpJgEREREbE6SoJFRERExOooCRYRERERq6MkWERERESsjpJgEREREbE6SoJFRERExOooCRYRERERq6MkWERERESsjpJgEREREbE6SoJFRERExOooCRYRERERq6MkWERERESsjpJgEREREbE6SoJFRERExOooCRYRERERq6MkWERERESsjpJgEREREbE6SoJFRERExOrYFHYAIvfj2LnbhR2CSIl2K81A6Ts610Sk5FISLMXOz+duM/rcjcIOQ6REu3ytLJSG0Ut1rok8bA2qlSnsEKySkmApVvq1L0u/9oUdhUjJF0opAEJCKhZyJCLWYfGu1MIOweqUMhgMhsIOQiQ3y3Yls2hHMkkpdwo7FBERkXzn7FiaV9s40bOVU2GHYjWUBEuxkZRyhzPxfxZ2GCIiIvnuMVcbnB01XkFBUhIsIiIiIlZHPzlERERExOooCRYRERERq6MkWERERESsjpJgEREREbE6SoJFRERExOooCRYRERERq6MkWERERESsjpJgEREREbE6SoJFRERExOooCRYRERERq6MkWERERESsjpJga5KaQnJKaoGuMjk2koOHz/J7ga5VREREJGf5kgSf3zmX6bPWcDAxp1IXCJ81l+lrI0nOj5Vm49eVQ/DtPpODDyHXSz6+4aHH/3AksXfaEHx7BNL91TdZEZtfyz3LigH++E77Ccu7+xSLg8ezON6RCvm1yqIgPpIN00IJGDCEgHdmsuF40kNcWW772FqkcGztXFYfT3n4q4rdw/RZezj/8NckIiKFKF+S4MSILWzctJTZuy5kX+jEFmZs2sLGXRe4t6+xJMLGDyF0W94SDafybpSv6oDdPa0jb1Ji99xH/EXAiTVM3m6L3+Sv2PDtdLq759eCHSnv7kw1R8t7+/ed37DBtTejn3PJrxUWvvgwhgWNZ0VSLXoNepnujyWxInQIw75PyIeFW6rrOe/jgnFv5+DDcZ3YXVsIj73+8FeVFMnGTZHk+JteRESKPZv8XFjssi1E+fShbpY5qexdt+U+k8c00pISSExNy1Ppyu3GsKDdfa2o5EpLI4V6NH4svxMpF7xDpuOdzVynRkNZ3MwRp3xea+FJZe/CeZxu9iaL32xq3K5GLWlTfyq9Ji1hb7s3aPFAu9hSXc95HxeMezsHRUREioP8S4KfakGbI1tYve9lRjfLlAkk7mX1LmeaP+XAj5kbk+J/YsXC79hwIgFwoe6zL9D3pSepDJAYTuiob/g5CVJjQwlYBW3fnE7fOvD7tk8Yvq8p43rC1/O+4Vh8dXp9MILGx43TJ49pS4W7nz9tKd7WQ1ng75nDBiVwcOFcFuy8SLKjG239B9PJUrHESDYs/IYVxxPA0Y22L/amW+uquSZ+ybF7+PrLNcaWLdd6dO/5Mp3qO+dQphadXnyF7o3+alVN3wcTB5Vjw/SlhMdex8m9BQGDXqGJKxhb8IJZfNK40ycOOIotLRg9+xXqnlhCwCSM/zYt0Vh+b7NxhLRLjyWFX7d9xexlkcQBlet3ZUBgW2o6Zlc+6z5p4fMyvdp5/LVP0tf9aUvOz/uKxccTwLUevQJ74/2YYy57Lolj3y9l8apI4nCgWmtfBrzYkmqOOZRp1omAnukxA5xi/oBp8OYE2lxI3zYXGvTszYCMcWZxHVuPDvStU8+sjNNj9aiRFk5iEuCafeQ5HvNs67rlfZx8JpzZ877hWHz6MXFjx7BpcPf8IM/Hl5zrcA7nIEDc4TXMX7WFqHgs1lEA4n9i/ixj/eTuudS3kXldzyLDZ5zcWxAwxPLPgLycR1mlcH7nGmav2sv5FKhc/wV6+XvToHzO8WR7nbqH7by/eEVE5GHIvwfjyrfF71lbdqzdm+UhqPO71vBz1Y54N7Q1nxEfxrCgCaxJrEWvQYEE+Tchdd0EBkw6YOx361gPv0FdaeEM5Zt1JWhQIG3uJhlpqUnEn1nDuHc2QKuXCerZibqud6cnpZIGYOdCg0ZP0Djjf3UcSElIorxLTl88CWwYNZxxO23p4B9I0ItNSFwYyoTtV7PGP3A8K1Ka0HdQIEE+bhya/iYDZ+Xcbzj5+FwGDpnJoaqdCBoUSN9mKVluqWctk8aGCcPNyhj3QRgTQr8z7oNBXamTuJGQoKnsTQVwoIFPIEGdPQFPfAcFEjSopTFPS7tOfML1TP1MM7f4pXBs1nCGL0uhhX8gQYNepkXKEoaMWnO3v6SFFkIL++TnWaPN90nadeITIvli/Ex+rt2BoEEv4+f4E58OD2Z1jv2VE9gwagjBq9Lj6YT74ZkMDJrLsdQcyhyfy5CguRwz3YpIIzkhgWNfTuLT47XoNCiQvj4OHJo+muFrc+jSgzNNXnoNv/rmiXrymUhO23rgnlMCnNsxz7auZ93HycfnMnD4XE4/ZizXofweJo7/H8cSEkhOL5an40vudTiHczDu+3cYMG4DiXW6muromnHDmbAvxXz5QZNM2x3k48KhCUPMy2R29zPhtm3pOyiQbk9dZUHwVMIy9U/Iy3mUlbFOD5x+FHef9Dr9HcED32FDfE7x5HCdyuN23l+8IiLy0BjywdGZPQwdZ0YYDOfXG/r7DTN8ez7j3JOGWa/0MIzcmmj4beNYQ8eRmw2/3Z1zK+6IYf3GI4YrGYtHLTB09Zti2HMrfUK8Yf3IHob/2xhvts7fNo41dPQba/g2zpB1eoZ1mEs0/PD+q4YXsp1vdGXr+4aOr3xuOJCcdTv+WrZxWa/MjDBcy1js/GoL+yDTcgJ6GP7vO/PtubJjiqHPyPWG6Azr6v9NrFmZa4c+N3T1e9+w+fcM25p5HyTvNrzv18Mw/sdbf037eY6ho98cw9GMC7M0Lcu+jjBM8+thmPZzhiK3Thr2bD1z95hlLp9o2Dy2h+GFT/ab75O49Yb/8+trmBWVcd19DZMOZdzBZwxf9u9h6JNpm8330UeGFywcl+X/F2SY9KNx4pWt7xs6dpti2GNWJt7w7cgehq5zT5ptV9epR8zijP4qyNCx/2rDuWwjsCA5wjDNwvE0d9IwK+DVLHX42o9TDC90y62uZ55mrBtZ6s/W9w0dMx6rPB3fvNZhS3HdMvx2aLNh/aFEszX8MrevoeMn+w3pm2TpfPzt5x8MB86bHaAMjHUo87ExXhcy7Yc87dNMohYYXsly3Ug0/PBJkOH/vjtj/DPTvsvLdSr37bzPeEVE5KHJ3yHS3FvSzesiizedMk1K3beBDWkt8GuVteXVzvVJOj33pGnkgNSUFM7HJwEJxlvLufFoSYscWt8yi/v+Eyafacu4EG/z25hmUvh5VySO7TrQxKzBz5NOL2a4zZt6ir1HnPHtbH5rHPcmdHC5yKEz2bR0xUayN+kJ/NqZ3zKu0PoNFkzsRM30Mtdr4de6qlkZp0Yd6OAQyYZ9GXaOS1MaZ9wHjp40qQ1xiZlare+LA07O8OPaMKIS77Yp2nnSop2H5dEeUk9xKMKWDs82Nd8nrm3xa3idDdsjM0x8ghZmLaoeNG4E8QnZxZ3Kif1HsbNwXLp/Op3hzRyNZY5EYtvOmxZmZVzo0PkJUjaFcyzD1MbNzI9dzYZPQELCPTwQlcCG0PFscQ1ktE8OD//FRrI3qQndMx1zp4YtaZF2lGNn8rxCOLGHLdct1J9WHWlzD4sB7r8OA2BH5UbedDLd7k8lOeUCcUlAfJJpHzo6OmN7ZgsrDl8wtUpXrt+WJu7ZdHtJiWRHhAMdnn3SPKY6HeiWcZPvc5+eP36QxIad6GB23XCm7ZvT+dTHw/KW5uE6let25mcdEBGRfJGvD8aBM219WjBj0gb2+r9BC7skwtfuxe7ZcbSwg7gs5ZM4uHAmC7ZFcjopDbClfFVnoFzeVmdnm3uZu5KPz2X4Fwl0mvABDXLsdnqdlBRwr2ohaXfMEFdSEnEksGNITxZYWEqdlOuAhRUlJRCPC+VziiEpgXgs3V53ppo7RJHhdnb5hzMShpEHfScOJS50JsP7zQPbctSo3zZDn+PMcScRR3W8s8xzpLwrpGWadm8DHlwlMR7cvXLqxmIsU+PfWRNSp/IumQPA8YFGXDB2mfkitQMTP8jpRxV3j+dexvXYa3F2x3t53iwtjRRL9cfO0VJty9n91uF0iT8xf/pSthyPITENsC2HuzOQoW+tU+vBTDw7nuAJb7IxzRZHF09a5NT3OiWFZNyolqV/rh1OGafd5z5NTEgAV+d7fFgz9+tUrtuZn3VARETyRT4nwWDXrBOdbINZvasPLWrv4esIN3oNsvwAWtS84YTsqseANyfQoXZVnOy420cxPH+DStzDxNBwXAdOZmCd3AobE+tESy+VSEvLVKw6A76YiN89tEYbP5pCSirklL1mVya1oAeLdW3J6BktGZ2awvkzB9mycAkhQTGM+mIMbTMnKrYAV0m2EGNqLtubuxyOS17KpKaZ5j+4FI7NeocZ8W2ZMKMPdfOQfdrSluBvB9MkH9ZuuW4Y+8Hf0xY+QB2GU3wRNIEd9XszanJb6ro7Yoexn3Df7RnLOVLX/wO+9ofU+LMcO7yRBbNGM/DMOBYHWrgu5FaHzIrezz61hZQU7qU65u06lft25mcdEBGRB/cQ3hjnSaeebvy8KpwNm74h1suXNhbHpU3g9Mnr1OnRB7/6d79YAOJjLI/mcN8S2DBhJlGt3mRcnsardaZGbQfitx/NNFh+Esf2xfz1Z3kP6jrEsDfLixKSiIvNIVGr/QQtOEj4kUxlzoT/NUB/dmUSI9l71oG6j+XDuLuubtTgFKfNHgZK4rzZg2mpxJ25YHzQ0c6RanXa0veDwXRIO8oxS8+Pla9HC5cEthzJPPMUh/ZBY6/qDxCwM48/5WLxuBxcmf4ShezKQNSRA9CwHjUeIAKjFI7NGk3wvqaEzngtl7sKdz1WjwYc4NCJTNNTk4hLvMdfNY/Vo4GlunHiKGZtjHk5vvdbhwHizxJ1vRa9AjvR4G4CDBB3NsasWGrKBc7HG5dl5+pBk+cGE+xfncSTZy3cGUqPyUIdSoxk79kMf9/nPq3bsAns28OhTEV+3TaX6TstVeq8Xady3c78rAMiIpIvHsprk6u18uXxC0uZsS6NNj4tsnlbWDnKu9pyevsefr3b9TA1fg8TpmVuBXbA0RFObz/Ar3dbcPLubotd7BMM6OlpvNVq+i+HL0qfl6kTv5SJ8yLvjnSRRNTKaSy+4JChlCfdBj1B1KzxTD+ccDeuJKJWfsKA4ZMIz65jqV1T/Do7sGPWNDacuJt8JEbyxaSZ7MDZeFs9Q5mw9GQk8RQrJswlqvbL+OXamp0Hrp487hDD/ElLOBabQnJsJPPfmcaWjGUS9zJ5+GjGrU3v55hK3M5w9uJGNYu9EqrSwf8J4hZO44v0xCo1gfBJn7DGrgPdmt3zDXsz1dq9TOP4pUyc9RNxqcZ4zn8/k4mLzmLn6mhexnTsUonbOZVx62zp+GKTBx6zOO778QRvssVvdFfqkrE+5VA3HVvSq7MtayZ88tcxT00gfPoo+g5fSpSpYB7qumMTuj1rXjdS4/cwYdYe85bNvBzfPNdhC3E5O1PZNoawnWfvjpBg3M+Tt5mHe3pZMANHffXX2yQTT7FhVwy2rs5YHpHMEz//WuZ1KPEUKyZ9Q2zG0y/P+9ScXbNO+DruZcakMKLuxvT78f8xcfoeKG/px2XerlO5bmce441aOZxuA/6XYbQTERF5WPK9OwQA5Vvg12ouPx/ugF/mMYNN7GgxKAS/d0IZ8upSAGwdnmDgmy8TN25PhnKOtB00lPB3ZjLk1a9oM/qrrOMQZyuG8E1XgYN8OjCQTzPOqh3I/InZ9OV09WbcxDQmvjOeV9cZbzK7PjWYoBc3ELLrr2IVWo9hRtpUxk0Ygt/dnhK2DrXwGzc0a1eBDOoGTmaCXSjBowcxw/gpXJ8azORB9UyJjKnMkN5347bF9aneTB6aS//TPPOkV8gL/Bz8HaOHfAe2bnR4czC9VoVi+nov35ZRwWcJmfAmfl/enWZbHd/gEPyyeeuccZ98QnDoINak7xOPjoRO7kODB+28XL4l4yanERo6ib6b0hdenW7jQujkmrlM+rFLj3kiA+s/aACRrPgimjTg69GD+DrT3I7jljGkvuVPGo/neMYFD2JGelhVWzBqYsaXy1iq65mXZEeDQRMJTg1lQnrdsK1Ot3F9cBw9LUO5PBxf8lqHLcXVlKBxHRkdPJruiwBscWzYm1H+CWbnSN2eIQTFT2Jcv553u2Tb4vpUIJMHNc22O0Ll58YwOW0ao9PrkK0LzYcE0m3dBLPY87ZPM/Nk4IwQ7N4Zb+znTvryxzHEYv3I23UqL9uZe7ypJF9IICUpwdjHujBfEigiYgVKGQwGQ2EHkZqSQiq2OOX2oFJqKtgV7DdDakoKqbaOf90GzalcXrbB/FMkp6RBjsvPS5kHlIf9eu/b93Djzks893dMHrY87pe81PXUFJLTwM7RETsimd4lFCwl4nk8b/K0v7IsK6/bY4z13uqDcdnG7cu93D3XNbP9l5fiedk/ednOAjinRUQkV0UiCRaRB5VDEiwiIiJZPJQ+wSIiIiIiRZlagkVKiNSUFMjjrX0RERFrpyRYRERERKyOukOIiIiIiNVREiwiIiIiVkdJsIiIiIhYHSXBIiIiImJ1lASLiIiIiNVREiwiIiIiVkdJsIiIiIhYHSXBIiIiImJ1lASLiIiIiNVREiwiIiIiVuf/AfIPQCaoQwO8AAAAAElFTkSuQmCC)"
      ],
      "metadata": {
        "id": "Bfq3yaPyg_EH"
      }
    },
    {
      "cell_type": "markdown",
      "source": [
        "\n",
        "Cada predicción puede ser uno de cuatro resultados, basado en cómo coincide con el valor real:\n",
        "* Verdadero Positivo (TP): Predicho Verdadero y Verdadero en realidad.\n",
        "* Verdadero Negativo (TN): Predicho Falso y Falso en realidad.\n",
        "* Falso Positivo (FP): Predicción de verdadero y falso en la realidad.\n",
        "* Falso Negativo (FN): Predicción de falso y verdadero en la realidad.\n",
        "\n",
        "\n",
        "\n"
      ],
      "metadata": {
        "id": "dVqYLUwchBwT"
      }
    },
    {
      "cell_type": "markdown",
      "source": [
        "![image.png](data:image/png;base64,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)"
      ],
      "metadata": {
        "id": "lpQaF0mwn3wl"
      }
    },
    {
      "cell_type": "markdown",
      "source": [
        "**Exactitud**\n",
        "\n",
        "En general, ¿con qué frecuencia es correcto el clasificador?\n",
        "\n",
        "Exactitud = (TP+TN)/total\n",
        "\n",
        "Cuando nuestras clases son aproximadamente iguales en tamaño, podemos usar la precisión, que nos dará valores clasificados correctamente.\n",
        "\n",
        "**Precisión**\n",
        "Cuando predice sí, ¿con qué frecuencia es correcto?\n",
        "\n",
        "Precisión=TP/predicciones sí\n",
        "\n",
        "**Exhaustividad**\n",
        "\n",
        "Cuando en realidad es un sí, ¿con qué frecuencia predice un sí?\n",
        "\n",
        "Tasa positiva verdadera = TP/Si reales\n",
        "\n",
        "La Exhaustividad nos da la tasa positiva verdadera (TPR), que es la proporción de los verdaderos positivos a todo lo positivo."
      ],
      "metadata": {
        "id": "crho6ykuk7zK"
      }
    },
    {
      "cell_type": "code",
      "source": [
        "y_pred = modelo_entrenado.predict(X_test)"
      ],
      "metadata": {
        "id": "OvCE9YnOUhFQ"
      },
      "execution_count": 27,
      "outputs": []
    },
    {
      "cell_type": "code",
      "source": [
        "from sklearn import metrics\n",
        "cnf_matrix = metrics.confusion_matrix(y_test, y_pred)"
      ],
      "metadata": {
        "id": "mT67K2xPVBBp"
      },
      "execution_count": 28,
      "outputs": []
    },
    {
      "cell_type": "code",
      "source": [
        "cnf_matrix"
      ],
      "metadata": {
        "colab": {
          "base_uri": "https://localhost:8080/"
        },
        "id": "I7liju-6VC6a",
        "outputId": "6b774936-43d5-4845-857b-5b6ac72036bd"
      },
      "execution_count": 29,
      "outputs": [
        {
          "output_type": "execute_result",
          "data": {
            "text/plain": [
              "array([[ 1,  1],\n",
              "       [ 3, 25]])"
            ]
          },
          "metadata": {},
          "execution_count": 29
        }
      ]
    },
    {
      "cell_type": "code",
      "source": [
        "import seaborn as sns\n",
        "fig, ax = plt.subplots(figsize=(6, 4))\n",
        "sns.heatmap(pd.DataFrame(cnf_matrix), annot=True, cmap=\"YlGnBu\",fmt='g')\n",
        "ax.xaxis.set_label_position(\"top\")\n",
        "plt.tight_layout()\n",
        "plt.title('Matriz de Confusión', y=1.1)\n",
        "plt.ylabel('Valor real')\n",
        "plt.xlabel('Valor Predecido')"
      ],
      "metadata": {
        "colab": {
          "base_uri": "https://localhost:8080/",
          "height": 338
        },
        "id": "8nvVuruKv8QC",
        "outputId": "1e6e9a79-d34e-4f80-c31c-3d82b32f2b5c"
      },
      "execution_count": 30,
      "outputs": [
        {
          "output_type": "execute_result",
          "data": {
            "text/plain": [
              "Text(0.5, 257.44, 'Valor Predecido')"
            ]
          },
          "metadata": {},
          "execution_count": 30
        },
        {
          "output_type": "display_data",
          "data": {
            "text/plain": [
              "<Figure size 432x288 with 2 Axes>"
            ],
            "image/png": "[encoded data removed]"
          },
          "metadata": {
            "needs_background": "light"
          }
        }
      ]
    },
    {
      "cell_type": "code",
      "source": [
        "print(\"Accuracy:\",metrics.accuracy_score(y_test, y_pred))\n",
        "print(\"Precision:\",metrics.precision_score(y_test, y_pred))\n",
        "print(\"Recall:\",metrics.recall_score(y_test, y_pred))"
      ],
      "metadata": {
        "colab": {
          "base_uri": "https://localhost:8080/"
        },
        "id": "uSscwLnLVEna",
        "outputId": "d7f511a2-e135-40e8-e64a-915a1cf99ae1"
      },
      "execution_count": 31,
      "outputs": [
        {
          "output_type": "stream",
          "name": "stdout",
          "text": [
            "Accuracy: 0.8666666666666667\n",
            "Precision: 0.9615384615384616\n",
            "Recall: 0.8928571428571429\n"
          ]
        }
      ]
    },
    {
      "cell_type": "markdown",
      "source": [
        "#Punto 3\n",
        "\n",
        "Analiza nuevamente la problemática identificada en la pregunta 1 y responde estas preguntas:\n",
        "¿Se puede resolver mediante un modelo de árbol de decisión?\n",
        "¿Consideras posible extender el análisis inicial, a una situación donde pudieran estar involucradas nuevas variables de salida? ¿Cómo lo harías?\n",
        "Partiendo de las respuestas que obtuviste después de realizar el análisis, elabora un nuevo modelo en Python que solucione la problemática con las nuevas condiciones, pero en esta ocasión utiliza el modelo de árbol de decisión que mejor se adecúe a estas."
      ],
      "metadata": {
        "id": "NsrRnN0zWX17"
      }
    },
    {
      "cell_type": "markdown",
      "source": [
        "\n",
        "1.   El problema del punto numero si se puedo realizar con mediante un arbol de decision de tipo clasificatorio pues cumple con las condiciones \n",
        "\n",
        "2. es este caso de uso no es puede extender a mas variable de salida pero no dudo que en otro problemas no se pueda realziar \n",
        "\n"
      ],
      "metadata": {
        "id": "tu9B67R4Yi65"
      }
    },
    {
      "cell_type": "code",
      "source": [
        "from sklearn.tree import DecisionTreeClassifier\n",
        "from sklearn import tree"
      ],
      "metadata": {
        "id": "nOyH2EeLVKhJ"
      },
      "execution_count": 32,
      "outputs": []
    },
    {
      "cell_type": "code",
      "source": [
        "arbol_decision = DecisionTreeClassifier(random_state=0)"
      ],
      "metadata": {
        "id": "44rvDe18dA2d"
      },
      "execution_count": 33,
      "outputs": []
    },
    {
      "cell_type": "code",
      "source": [
        "# X1 = pd.DataFrame(df,columns=['Gender','Age','Membership','Loyalty Points','Discount','Gift','Earlybird'])\n",
        "# y1 = pd.DataFrame(df,columns=['Reward'])"
      ],
      "metadata": {
        "id": "3fZc_UNKdc1m"
      },
      "execution_count": 34,
      "outputs": []
    },
    {
      "cell_type": "code",
      "source": [
        "modelo=arbol_decision.fit(muestras, tipos)"
      ],
      "metadata": {
        "id": "kQ9xwIbxdOGe"
      },
      "execution_count": 35,
      "outputs": []
    },
    {
      "cell_type": "code",
      "source": [
        "muestra= [[1,0,1,0,1,1,1]]\n",
        "modelo.predict(muestra)"
      ],
      "metadata": {
        "colab": {
          "base_uri": "https://localhost:8080/"
        },
        "id": "GlxBySAcfpMm",
        "outputId": "de943787-f479-4897-c3ee-e841904ca3e2"
      },
      "execution_count": 36,
      "outputs": [
        {
          "output_type": "execute_result",
          "data": {
            "text/plain": [
              "array([1])"
            ]
          },
          "metadata": {},
          "execution_count": 36
        }
      ]
    },
    {
      "cell_type": "code",
      "source": [
        ""
      ],
      "metadata": {
        "id": "GXkWlIpPf1or"
      },
      "execution_count": 36,
      "outputs": []
    }
  ]
}